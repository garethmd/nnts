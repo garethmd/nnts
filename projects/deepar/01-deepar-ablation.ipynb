{
    "cells": [
        {
            "cell_type": "code",
            "execution_count": null,
            "metadata": {},
            "outputs": [],
            "source": [
                "import os\n",
                "import torch\n",
                "from typing import List\n",
                "import nnts\n",
                "import nnts.data\n",
                "from nnts import utils\n",
                "import nnts.torch.preprocessing\n",
                "import nnts.torch.models\n",
                "import trainers as project_trainers\n",
                "import nnts.metrics\n",
                "import nnts.torch.datasets\n",
                "import nnts.loggers\n",
                "import nnts\n",
                "import nnts.datasets\n",
                "import features\n",
                "import nnts.torch.utils\n",
                "import deepar\n",
                "\n",
                "import torch.nn.functional as F\n",
                "\n",
                "torch.set_printoptions(precision=8, sci_mode=False)\n",
                "%load_ext autoreload\n",
                "%autoreload 2"
            ]
        },
        {
            "cell_type": "code",
            "execution_count": null,
            "metadata": {},
            "outputs": [],
            "source": [
                "data_path = \"data\"\n",
                "model_name = \"bettter-deepar\"\n",
                "dataset_name = \"tourism_monthly\"\n",
                "results_path = \"ablation-results\"\n",
                "\n",
                "df_orig, metadata = nnts.datasets.load_dataset(dataset_name)\n",
                "PATH = os.path.join(results_path, model_name, metadata.dataset)\n",
                "\n",
                "params = utils.Hyperparams(\n",
                "    optimizer=torch.optim.Adam,\n",
                "    loss_fn=F.smooth_l1_loss,\n",
                "    batches_per_epoch=50,\n",
                "    batch_size=32,\n",
                "    training_method=utils.TrainingMethod.TEACHER_FORCING,\n",
                ")\n",
                "\n",
                "utils.makedirs_if_not_exists(PATH)"
            ]
        },
        {
            "cell_type": "code",
            "execution_count": null,
            "metadata": {},
            "outputs": [],
            "source": [
                "df_org = features.create_time_features(df_orig)"
            ]
        },
        {
            "cell_type": "code",
            "execution_count": null,
            "metadata": {},
            "outputs": [],
            "source": [
                "ax = df_orig[df_orig['unique_id'] == 'T1'].set_index('ds').tail(36)['month'].plot(figsize=(20, 5))\n",
                "fig = ax.get_figure()"
            ]
        },
        {
            "cell_type": "code",
            "execution_count": null,
            "metadata": {},
            "outputs": [],
            "source": [
                "import nnts.lags\n",
                "lag_seq = nnts.lags.get_lags_for_frequency(metadata.freq)\n",
                "lag_seq = [lag - 1 for lag in lag_seq if lag > 1]"
            ]
        },
        {
            "cell_type": "code",
            "execution_count": null,
            "metadata": {},
            "outputs": [],
            "source": [
                "scaled_covariates = [\"month\", \"unix_timestamp\", nnts.torch.models.deepar.FEAT_SCALE]\n",
                "scaled_covariate_selection_matrix = [\n",
                "    [0,0,1],\n",
                "    [0,1,0],\n",
                "    [0,1,1],\n",
                "    [1,0,0],\n",
                "    [1,0,1],\n",
                "    [1,1,0],\n",
                "    [1,1,1],\n",
                "]"
            ]
        },
        {
            "cell_type": "code",
            "execution_count": null,
            "metadata": {},
            "outputs": [],
            "source": [
                "scenario_list: List[features.LagScenario] = []\n",
                "\n",
                "for seed in [42, 43, 44, 45, 46]:\n",
                "    for row in scaled_covariate_selection_matrix:\n",
                "        selected_combination = [\n",
                "            covariate\n",
                "            for covariate, select in zip(scaled_covariates, row)\n",
                "            if select == 1\n",
                "        ]\n",
                "        scenario_list.append(\n",
                "            features.LagScenario(\n",
                "                metadata.prediction_length,\n",
                "                conts=[cov for cov in selected_combination if cov != nnts.torch.models.deepar.FEAT_SCALE],\n",
                "                scaled_covariates=selected_combination,\n",
                "                lag_seq=lag_seq,\n",
                "                seed=seed,\n",
                "                dataset=metadata.dataset,\n",
                "            )\n",
                "        )"
            ]
        },
        {
            "cell_type": "code",
            "execution_count": null,
            "metadata": {},
            "outputs": [],
            "source": [
                "# Add the baseline scenarios\n",
                "scenario_list: List[features.LagScenario] = []\n",
                "for seed in [42, 43, 44, 45, 46]:\n",
                "    scenario = features.LagScenario(\n",
                "        metadata.prediction_length,\n",
                "        conts=[],\n",
                "        scaled_covariates=[],\n",
                "        lag_seq=lag_seq,\n",
                "        seed=seed,\n",
                "        dataset=metadata.dataset,\n",
                "    )\n",
                "    scenario_list.append(scenario)"
            ]
        },
        {
            "cell_type": "code",
            "execution_count": null,
            "metadata": {},
            "outputs": [],
            "source": [
                "for scenario in scenario_list:\n",
                "    nnts.torch.utils.seed_everything(scenario.seed)\n",
                "    df = df_orig.copy()\n",
                "    context_length = metadata.context_length + max(scenario.lag_seq)\n",
                "    dataset_options = {\n",
                "        \"context_length\": metadata.context_length,\n",
                "        \"prediction_length\": metadata.prediction_length,\n",
                "        \"conts\": scenario.conts,\n",
                "        \"lag_seq\": scenario.lag_seq,\n",
                "    }\n",
                "    trn_dl, test_dl = nnts.torch.utils.create_dataloaders(\n",
                "        df,\n",
                "        nnts.datasets.split_test_train_last_horizon,\n",
                "        context_length,\n",
                "        metadata.prediction_length,\n",
                "        Dataset=nnts.torch.datasets.TimeseriesLagsDataset,\n",
                "        dataset_options=dataset_options,\n",
                "        Sampler=nnts.torch.datasets.TimeSeriesSampler,\n",
                "    )\n",
                "    logger = nnts.loggers.LocalFileRun(\n",
                "        project=f\"{model_name}-{metadata.dataset}\",\n",
                "        name=scenario.name,\n",
                "        config={\n",
                "            **params.__dict__,\n",
                "            **metadata.__dict__,\n",
                "            **scenario.__dict__,\n",
                "        },\n",
                "        path=PATH,\n",
                "    )\n",
                "    net = deepar.DeepARPoint(\n",
                "        nnts.torch.models.LinearModel,\n",
                "        params,\n",
                "        nnts.torch.preprocessing.masked_mean_abs_scaling,\n",
                "        1,\n",
                "        lag_seq=lag_seq,\n",
                "        scaled_features=scenario.scaled_covariates,\n",
                "    )\n",
                "    trner = project_trainers.TorchEpochTrainer(\n",
                "        nnts.trainers.TrainerState(),\n",
                "        net,\n",
                "        params,\n",
                "        metadata,\n",
                "        os.path.join(PATH, f\"{scenario.name}.pt\"),\n",
                "    )\n",
                "    logger.configure(trner.events)\n",
                "\n",
                "    evaluator = trner.train(trn_dl)\n",
                "    y_hat, y = evaluator.evaluate(\n",
                "        test_dl, scenario.prediction_length, metadata.context_length\n",
                "    )\n",
                "    test_metrics = nnts.metrics.calc_metrics(\n",
                "        y, y_hat, nnts.metrics.calculate_seasonal_error(trn_dl, metadata.seasonality)\n",
                "    )\n",
                "    logger.log(test_metrics)\n",
                "    print(test_metrics)\n",
                "    logger.finish()"
            ]
        },
        {
            "cell_type": "code",
            "execution_count": null,
            "metadata": {},
            "outputs": [],
            "source": [
                "csv_aggregator = nnts.utils.CSVFileAggregator(PATH, \"results\")\n",
                "results = csv_aggregator()"
            ]
        },
        {
            "cell_type": "code",
            "execution_count": null,
            "metadata": {},
            "outputs": [],
            "source": [
                "results = pd.read_csv(f\"{PATH}/results.csv\")\n",
                "results"
            ]
        },
        {
            "cell_type": "code",
            "execution_count": null,
            "metadata": {},
            "outputs": [],
            "source": []
        }
    ],
    "metadata": {
        "kernelspec": {
            "display_name": "venv",
            "language": "python",
            "name": "python3"
        },
        "language_info": {
            "codemirror_mode": {
                "name": "ipython",
                "version": 3
            },
            "file_extension": ".py",
            "mimetype": "text/x-python",
            "name": "python",
            "nbconvert_exporter": "python",
            "pygments_lexer": "ipython3",
            "version": "3.11.8"
        }
    },
    "nbformat": 4,
    "nbformat_minor": 2
}
