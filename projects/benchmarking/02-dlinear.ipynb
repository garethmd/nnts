{
    "cells": [
        {
            "cell_type": "code",
            "execution_count": 1,
            "metadata": {},
            "outputs": [],
            "source": [
                "import nnts\n",
                "import nnts.data\n",
                "import nnts.plotting\n",
                "import nnts.torch.preprocessing\n",
                "import nnts.torch.models\n",
                "import nnts.metrics\n",
                "import nnts.torch.datasets\n",
                "import nnts.loggers\n",
                "import nnts.datasets\n",
                "from nnts import utils\n",
                "import nnts.torch.utils\n",
                "import nnts.torch.trainers\n",
                "import nnts.metrics\n",
                "import nnts.torch\n",
                "import nnts.torch.models.dlinear\n",
                "import nnts.lags\n",
                "import torch\n",
                "torch.set_printoptions(precision=8, sci_mode=False)\n",
                "%load_ext autoreload\n",
                "%autoreload 2"
            ]
        },
        {
            "cell_type": "markdown",
            "metadata": {},
            "source": [
                "### Load the dataset \n",
                "You can easily load any of the Monash datasets using the `load_dataset` function."
            ]
        },
        {
            "cell_type": "code",
            "execution_count": 19,
            "metadata": {},
            "outputs": [],
            "source": [
                "df, metadata = nnts.datasets.load_dataset(\"us_births\")"
            ]
        },
        {
            "cell_type": "code",
            "execution_count": 20,
            "metadata": {},
            "outputs": [],
            "source": [
                "lag_seq = nnts.lags.get_lags_for_frequency(metadata.freq)\n",
                "lag_seq = [lag - 1 for lag in lag_seq if lag > 1]\n"
            ]
        },
        {
            "cell_type": "code",
            "execution_count": 21,
            "metadata": {},
            "outputs": [],
            "source": [
                "#metadata.context_length += max(lag_seq)\n",
                "metadata.context_length *= 2"
            ]
        },
        {
            "cell_type": "markdown",
            "metadata": {},
            "source": [
                "### Set the Hyperparamters \n",
                "You will need to provide an optimizer and a loss function. Other hyperparameters are optional."
            ]
        },
        {
            "cell_type": "code",
            "execution_count": 23,
            "metadata": {},
            "outputs": [],
            "source": [
                "params = utils.Hyperparams(\n",
                "    optimizer=torch.optim.Adam,\n",
                "    loss_fn=torch.nn.L1Loss(),\n",
                "    batch_size=32,\n",
                "    batches_per_epoch=50,\n",
                "    training_method=utils.TrainingMethod.DMS,\n",
                "    model_file_path=\"logs\",\n",
                "    epochs=300,\n",
                "    scheduler=utils.Scheduler.REDUCE_LR_ON_PLATEAU\n",
                ")"
            ]
        },
        {
            "cell_type": "markdown",
            "metadata": {},
            "source": [
                "### Data Processing\n",
                "We specify how we want to split the data, what transformations we want to apply and how we want to batch and sample the data during training.  "
            ]
        },
        {
            "cell_type": "markdown",
            "metadata": {},
            "source": [
                "### Create, Train and Evaluate the model\n",
                "Create a Pytorch model."
            ]
        },
        {
            "cell_type": "code",
            "execution_count": 24,
            "metadata": {},
            "outputs": [
                {
                    "name": "stdout",
                    "output_type": "stream",
                    "text": [
                        "DLinear(\n",
                        "  (decompsition): series_decomp(\n",
                        "    (moving_avg): moving_avg(\n",
                        "      (avg): AvgPool1d(kernel_size=(25,), stride=(1,), padding=(0,))\n",
                        "    )\n",
                        "  )\n",
                        "  (Linear_Seasonal): ModuleList(\n",
                        "    (0): Linear(in_features=18, out_features=30, bias=True)\n",
                        "  )\n",
                        "  (Linear_Trend): ModuleList(\n",
                        "    (0): Linear(in_features=18, out_features=30, bias=True)\n",
                        "  )\n",
                        "  (Linear_Decoder): ModuleList(\n",
                        "    (0): Linear(in_features=18, out_features=30, bias=True)\n",
                        "  )\n",
                        ")\n",
                        "saving model to logs/best_model.pt\n",
                        "Epoch 1 Train Loss: 639.5274047851562\n",
                        "saving model to logs/best_model.pt\n",
                        "Epoch 2 Train Loss: 482.97137451171875\n",
                        "saving model to logs/best_model.pt\n",
                        "Epoch 3 Train Loss: 403.20184326171875\n",
                        "saving model to logs/best_model.pt\n",
                        "Epoch 4 Train Loss: 367.7509460449219\n",
                        "saving model to logs/best_model.pt\n",
                        "Epoch 5 Train Loss: 350.3067626953125\n",
                        "saving model to logs/best_model.pt\n",
                        "Epoch 6 Train Loss: 349.29351806640625\n",
                        "saving model to logs/best_model.pt\n",
                        "Epoch 7 Train Loss: 336.4237976074219\n",
                        "Epoch 8 Train Loss: 343.2402038574219\n",
                        "Epoch 9 Train Loss: 341.169921875\n",
                        "Epoch 10 Train Loss: 341.3478088378906\n",
                        "Epoch 11 Train Loss: 337.058349609375\n",
                        "saving model to logs/best_model.pt\n",
                        "Epoch 12 Train Loss: 330.1429748535156\n",
                        "Epoch 13 Train Loss: 330.95526123046875\n",
                        "saving model to logs/best_model.pt\n",
                        "Epoch 14 Train Loss: 328.9429016113281\n",
                        "Epoch 15 Train Loss: 334.5174865722656\n",
                        "saving model to logs/best_model.pt\n",
                        "Epoch 16 Train Loss: 326.317138671875\n",
                        "saving model to logs/best_model.pt\n",
                        "Epoch 17 Train Loss: 314.3929443359375\n",
                        "Epoch 18 Train Loss: 321.34906005859375\n",
                        "Epoch 19 Train Loss: 324.383544921875\n",
                        "Epoch 20 Train Loss: 321.6147155761719\n",
                        "Epoch 21 Train Loss: 327.67425537109375\n",
                        "Epoch 22 Train Loss: 321.9215087890625\n",
                        "Epoch 23 Train Loss: 323.236572265625\n",
                        "Epoch 24 Train Loss: 325.628662109375\n",
                        "Epoch 25 Train Loss: 320.6685485839844\n",
                        "Epoch 26 Train Loss: 320.98956298828125\n",
                        "Epoch 27 Train Loss: 318.1799621582031\n",
                        "Epoch 28 Train Loss: 330.14825439453125\n",
                        "saving model to logs/best_model.pt\n",
                        "Epoch 29 Train Loss: 314.24505615234375\n",
                        "Epoch 30 Train Loss: 315.8853759765625\n",
                        "saving model to logs/best_model.pt\n",
                        "Epoch 31 Train Loss: 313.9985046386719\n",
                        "Epoch 32 Train Loss: 317.50469970703125\n",
                        "Epoch 33 Train Loss: 315.21142578125\n",
                        "Epoch 34 Train Loss: 314.53643798828125\n",
                        "Epoch 35 Train Loss: 319.7405090332031\n",
                        "Epoch 36 Train Loss: 316.0208435058594\n",
                        "saving model to logs/best_model.pt\n",
                        "Epoch 37 Train Loss: 312.9161071777344\n",
                        "Epoch 38 Train Loss: 319.8914794921875\n",
                        "Epoch 39 Train Loss: 320.2500305175781\n",
                        "Epoch 40 Train Loss: 320.5604553222656\n",
                        "saving model to logs/best_model.pt\n",
                        "Epoch 41 Train Loss: 311.201904296875\n",
                        "Epoch 42 Train Loss: 320.4507751464844\n",
                        "Epoch 43 Train Loss: 312.89996337890625\n",
                        "Epoch 44 Train Loss: 312.46588134765625\n",
                        "saving model to logs/best_model.pt\n",
                        "Epoch 45 Train Loss: 310.6981201171875\n",
                        "Epoch 46 Train Loss: 317.34063720703125\n",
                        "Epoch 47 Train Loss: 316.3190002441406\n",
                        "Epoch 48 Train Loss: 311.1868896484375\n",
                        "Epoch 49 Train Loss: 313.8745422363281\n",
                        "Epoch 50 Train Loss: 315.2364501953125\n",
                        "Epoch 51 Train Loss: 320.06756591796875\n",
                        "Epoch 52 Train Loss: 316.28448486328125\n",
                        "Epoch 53 Train Loss: 320.07501220703125\n",
                        "Epoch 54 Train Loss: 318.4774169921875\n",
                        "Epoch 55 Train Loss: 315.64068603515625\n",
                        "Epoch 56 Train Loss: 311.1971435546875\n",
                        "Epoch 57 Train Loss: 320.7352600097656\n",
                        "saving model to logs/best_model.pt\n",
                        "Epoch 58 Train Loss: 309.6893310546875\n",
                        "Epoch 59 Train Loss: 312.97943115234375\n",
                        "Epoch 60 Train Loss: 313.5653381347656\n",
                        "Epoch 61 Train Loss: 321.455322265625\n",
                        "Epoch 62 Train Loss: 317.22735595703125\n",
                        "Epoch 63 Train Loss: 314.0253601074219\n",
                        "Epoch 64 Train Loss: 316.6678466796875\n",
                        "saving model to logs/best_model.pt\n",
                        "Epoch 65 Train Loss: 307.85650634765625\n",
                        "Epoch 66 Train Loss: 312.2482604980469\n",
                        "Epoch 67 Train Loss: 312.5472106933594\n",
                        "Epoch 68 Train Loss: 314.09197998046875\n",
                        "Epoch 69 Train Loss: 310.52398681640625\n",
                        "saving model to logs/best_model.pt\n",
                        "Epoch 70 Train Loss: 307.2901306152344\n",
                        "saving model to logs/best_model.pt\n",
                        "Epoch 71 Train Loss: 304.52825927734375\n",
                        "Epoch 72 Train Loss: 311.37017822265625\n",
                        "Epoch 73 Train Loss: 309.5645446777344\n",
                        "Epoch 74 Train Loss: 312.8184509277344\n",
                        "Epoch 75 Train Loss: 309.03875732421875\n",
                        "Epoch 76 Train Loss: 317.5455017089844\n",
                        "Epoch 77 Train Loss: 318.85931396484375\n",
                        "Epoch 78 Train Loss: 306.8078918457031\n",
                        "Epoch 79 Train Loss: 309.4896545410156\n",
                        "Epoch 80 Train Loss: 312.27520751953125\n",
                        "Epoch 81 Train Loss: 316.98016357421875\n",
                        "Epoch 82 Train Loss: 312.46026611328125\n",
                        "Epoch 83 Train Loss: 311.0227355957031\n",
                        "Epoch 84 Train Loss: 316.0111999511719\n",
                        "saving model to logs/best_model.pt\n",
                        "Epoch 85 Train Loss: 304.48797607421875\n",
                        "Epoch 86 Train Loss: 309.85699462890625\n",
                        "Epoch 87 Train Loss: 310.4838562011719\n",
                        "Epoch 88 Train Loss: 314.12005615234375\n",
                        "Epoch 89 Train Loss: 308.6349182128906\n",
                        "Epoch 90 Train Loss: 309.7247314453125\n",
                        "Epoch 91 Train Loss: 315.3963623046875\n",
                        "Epoch 92 Train Loss: 306.2411804199219\n",
                        "Epoch 93 Train Loss: 307.6978454589844\n",
                        "Epoch 94 Train Loss: 305.5652770996094\n",
                        "Epoch 95 Train Loss: 311.8929443359375\n",
                        "Epoch 96 Train Loss: 311.9565124511719\n",
                        "saving model to logs/best_model.pt\n",
                        "Epoch 97 Train Loss: 303.4462585449219\n",
                        "Epoch 98 Train Loss: 309.595458984375\n",
                        "Epoch 99 Train Loss: 310.3789367675781\n",
                        "Epoch 100 Train Loss: 312.4291076660156\n",
                        "Epoch 101 Train Loss: 309.57501220703125\n",
                        "Epoch 102 Train Loss: 307.202880859375\n",
                        "Epoch 103 Train Loss: 306.72247314453125\n",
                        "Epoch 104 Train Loss: 317.36932373046875\n",
                        "Epoch 105 Train Loss: 306.0614013671875\n",
                        "Epoch 106 Train Loss: 309.9360046386719\n",
                        "Epoch 107 Train Loss: 305.11328125\n",
                        "Epoch 108 Train Loss: 309.5456237792969\n",
                        "Epoch 109 Train Loss: 306.8514709472656\n",
                        "Epoch 110 Train Loss: 315.108642578125\n",
                        "Epoch 111 Train Loss: 308.222412109375\n",
                        "Epoch 112 Train Loss: 308.1187744140625\n",
                        "Epoch 113 Train Loss: 309.6455383300781\n",
                        "Epoch 114 Train Loss: 309.1650390625\n",
                        "Epoch 115 Train Loss: 311.2210998535156\n",
                        "Epoch 116 Train Loss: 308.904541015625\n",
                        "Epoch 117 Train Loss: 312.8000183105469\n",
                        "Epoch 118 Train Loss: 307.6150207519531\n",
                        "Epoch 119 Train Loss: 314.40948486328125\n",
                        "Epoch 120 Train Loss: 308.2456970214844\n",
                        "Epoch 121 Train Loss: 304.0474548339844\n",
                        "Epoch 122 Train Loss: 307.3050842285156\n",
                        "Epoch 123 Train Loss: 308.4024353027344\n",
                        "Epoch 124 Train Loss: 313.9296569824219\n",
                        "Epoch 125 Train Loss: 305.94134521484375\n",
                        "Epoch 126 Train Loss: 303.941650390625\n",
                        "saving model to logs/best_model.pt\n",
                        "Epoch 127 Train Loss: 303.3116149902344\n",
                        "Epoch 128 Train Loss: 314.8030090332031\n",
                        "Epoch 129 Train Loss: 307.57000732421875\n",
                        "Epoch 130 Train Loss: 310.60809326171875\n",
                        "Epoch 131 Train Loss: 309.8249206542969\n",
                        "Epoch 132 Train Loss: 309.2073974609375\n",
                        "Epoch 133 Train Loss: 308.3636474609375\n",
                        "Epoch 134 Train Loss: 309.2992858886719\n",
                        "Epoch 135 Train Loss: 310.8737487792969\n",
                        "saving model to logs/best_model.pt\n",
                        "Epoch 136 Train Loss: 301.2727966308594\n",
                        "Epoch 137 Train Loss: 306.92071533203125\n",
                        "Epoch 138 Train Loss: 317.7008972167969\n",
                        "Epoch 139 Train Loss: 308.3103332519531\n",
                        "Epoch 140 Train Loss: 308.3216552734375\n",
                        "Epoch 141 Train Loss: 304.3303527832031\n",
                        "Epoch 142 Train Loss: 313.1678771972656\n",
                        "Epoch 143 Train Loss: 314.4565124511719\n",
                        "Epoch 144 Train Loss: 307.7298583984375\n",
                        "Epoch 145 Train Loss: 315.2904968261719\n",
                        "Epoch 146 Train Loss: 305.432373046875\n",
                        "Epoch 147 Train Loss: 306.4819030761719\n",
                        "Epoch 148 Train Loss: 310.7555847167969\n",
                        "Epoch 149 Train Loss: 310.0632629394531\n",
                        "Epoch 150 Train Loss: 310.5871887207031\n",
                        "Epoch 151 Train Loss: 309.58819580078125\n",
                        "Epoch 152 Train Loss: 308.2123718261719\n",
                        "Epoch 153 Train Loss: 307.818115234375\n",
                        "Epoch 154 Train Loss: 315.73583984375\n",
                        "Epoch 155 Train Loss: 312.584228515625\n",
                        "Epoch 156 Train Loss: 305.1693115234375\n",
                        "Epoch 157 Train Loss: 312.6528625488281\n",
                        "Epoch 158 Train Loss: 303.4720458984375\n",
                        "Epoch 159 Train Loss: 305.4853210449219\n",
                        "Epoch 160 Train Loss: 304.613037109375\n",
                        "Epoch 161 Train Loss: 312.3259582519531\n",
                        "Epoch 162 Train Loss: 314.2930603027344\n",
                        "Epoch 163 Train Loss: 309.5496826171875\n",
                        "Epoch 164 Train Loss: 310.285400390625\n",
                        "Epoch 165 Train Loss: 302.5030517578125\n",
                        "Epoch 166 Train Loss: 308.1392517089844\n",
                        "Epoch 167 Train Loss: 306.3800048828125\n",
                        "Epoch 168 Train Loss: 308.8636474609375\n",
                        "Epoch 169 Train Loss: 309.4459228515625\n",
                        "Epoch 170 Train Loss: 305.710205078125\n",
                        "Epoch 171 Train Loss: 311.54425048828125\n",
                        "Epoch 172 Train Loss: 308.17315673828125\n",
                        "Epoch 173 Train Loss: 310.36285400390625\n",
                        "Epoch 174 Train Loss: 305.0959777832031\n",
                        "Epoch 175 Train Loss: 310.507568359375\n",
                        "Epoch 176 Train Loss: 308.5246887207031\n",
                        "Epoch 177 Train Loss: 312.58612060546875\n",
                        "Epoch 178 Train Loss: 309.25946044921875\n",
                        "Epoch 179 Train Loss: 305.7449645996094\n",
                        "Epoch 180 Train Loss: 312.27813720703125\n",
                        "Epoch 181 Train Loss: 309.47705078125\n",
                        "Epoch 182 Train Loss: 313.13836669921875\n",
                        "Epoch 183 Train Loss: 303.9890441894531\n",
                        "Epoch 184 Train Loss: 308.3074035644531\n",
                        "Epoch 185 Train Loss: 312.8042297363281\n",
                        "Epoch 186 Train Loss: 316.2506103515625\n",
                        "Epoch 187 Train Loss: 309.7579345703125\n",
                        "Epoch 188 Train Loss: 306.9732666015625\n",
                        "Epoch 189 Train Loss: 316.5304870605469\n",
                        "Epoch 190 Train Loss: 309.76239013671875\n",
                        "Epoch 191 Train Loss: 318.2428283691406\n",
                        "Epoch 192 Train Loss: 301.6080627441406\n",
                        "Epoch 193 Train Loss: 313.1642761230469\n",
                        "Epoch 194 Train Loss: 309.1275634765625\n",
                        "Epoch 195 Train Loss: 307.6625061035156\n",
                        "Epoch 196 Train Loss: 314.1570739746094\n",
                        "Epoch 197 Train Loss: 305.7867126464844\n",
                        "Epoch 198 Train Loss: 303.3406982421875\n",
                        "Epoch 199 Train Loss: 307.82574462890625\n",
                        "Epoch 200 Train Loss: 316.10491943359375\n",
                        "Epoch 201 Train Loss: 305.0122375488281\n",
                        "Epoch 202 Train Loss: 303.36077880859375\n",
                        "Epoch 203 Train Loss: 305.9217529296875\n",
                        "Epoch 204 Train Loss: 311.31463623046875\n",
                        "Epoch 205 Train Loss: 310.9026794433594\n",
                        "Epoch 206 Train Loss: 311.7807922363281\n",
                        "Epoch 207 Train Loss: 316.0975341796875\n",
                        "Epoch 208 Train Loss: 315.6321716308594\n",
                        "Epoch 209 Train Loss: 311.733642578125\n",
                        "Epoch 210 Train Loss: 307.9623718261719\n",
                        "Epoch 211 Train Loss: 304.5079345703125\n",
                        "Epoch 212 Train Loss: 301.54486083984375\n",
                        "Epoch 213 Train Loss: 307.171142578125\n",
                        "Epoch 214 Train Loss: 305.1460266113281\n",
                        "Epoch 215 Train Loss: 305.279541015625\n",
                        "Epoch 216 Train Loss: 304.7117004394531\n",
                        "Epoch 217 Train Loss: 310.43402099609375\n",
                        "Epoch 218 Train Loss: 309.7866516113281\n",
                        "Epoch 219 Train Loss: 312.054931640625\n",
                        "Epoch 220 Train Loss: 308.0177001953125\n",
                        "Epoch 221 Train Loss: 314.7477722167969\n",
                        "Epoch 222 Train Loss: 305.7447204589844\n",
                        "Epoch 223 Train Loss: 311.75750732421875\n",
                        "Epoch 224 Train Loss: 312.33172607421875\n",
                        "Epoch 225 Train Loss: 305.7769470214844\n",
                        "Epoch 226 Train Loss: 304.6425476074219\n",
                        "Epoch 227 Train Loss: 307.338623046875\n",
                        "Epoch 228 Train Loss: 315.8595886230469\n",
                        "Epoch 229 Train Loss: 302.9377746582031\n",
                        "Epoch 230 Train Loss: 303.7911376953125\n",
                        "Epoch 231 Train Loss: 304.8914489746094\n",
                        "Epoch 232 Train Loss: 307.5644226074219\n",
                        "Epoch 233 Train Loss: 317.8637390136719\n",
                        "Epoch 234 Train Loss: 305.5866394042969\n",
                        "Epoch 235 Train Loss: 316.5018005371094\n",
                        "Epoch 236 Train Loss: 307.1399230957031\n",
                        "Epoch 237 Train Loss: 308.0503845214844\n",
                        "Epoch 238 Train Loss: 311.99005126953125\n",
                        "Epoch 239 Train Loss: 308.5528564453125\n",
                        "Epoch 240 Train Loss: 306.05181884765625\n",
                        "Epoch 241 Train Loss: 309.3424377441406\n",
                        "Epoch 242 Train Loss: 311.5185241699219\n",
                        "Epoch 243 Train Loss: 309.6554870605469\n",
                        "Epoch 244 Train Loss: 313.4896545410156\n",
                        "Epoch 245 Train Loss: 308.98394775390625\n",
                        "Epoch 246 Train Loss: 308.22772216796875\n",
                        "Epoch 247 Train Loss: 312.1990966796875\n",
                        "Epoch 248 Train Loss: 312.5106201171875\n",
                        "Epoch 249 Train Loss: 301.721435546875\n",
                        "Epoch 250 Train Loss: 309.7970275878906\n",
                        "Epoch 251 Train Loss: 312.6883239746094\n",
                        "Epoch 252 Train Loss: 314.0896301269531\n",
                        "Epoch 253 Train Loss: 308.9698181152344\n",
                        "Epoch 254 Train Loss: 313.2469177246094\n",
                        "Epoch 255 Train Loss: 308.124755859375\n",
                        "Epoch 256 Train Loss: 316.8177795410156\n",
                        "Epoch 257 Train Loss: 318.08734130859375\n",
                        "Epoch 258 Train Loss: 308.2081298828125\n",
                        "Epoch 259 Train Loss: 310.7064514160156\n",
                        "Epoch 260 Train Loss: 312.54412841796875\n",
                        "Epoch 261 Train Loss: 312.955810546875\n",
                        "Epoch 262 Train Loss: 304.2698974609375\n",
                        "Epoch 263 Train Loss: 319.38055419921875\n",
                        "Epoch 264 Train Loss: 305.67462158203125\n",
                        "Epoch 265 Train Loss: 317.1243896484375\n",
                        "Epoch 266 Train Loss: 309.6431579589844\n",
                        "Epoch 267 Train Loss: 308.3208312988281\n",
                        "Epoch 268 Train Loss: 312.4849548339844\n",
                        "Epoch 269 Train Loss: 308.4915771484375\n",
                        "Epoch 270 Train Loss: 304.5301208496094\n",
                        "Epoch 271 Train Loss: 313.146728515625\n",
                        "Epoch 272 Train Loss: 315.2999572753906\n",
                        "Epoch 273 Train Loss: 313.3992919921875\n",
                        "Epoch 274 Train Loss: 307.0108337402344\n",
                        "Epoch 275 Train Loss: 310.8544006347656\n",
                        "Epoch 276 Train Loss: 316.2124938964844\n",
                        "Epoch 277 Train Loss: 312.8403015136719\n",
                        "Epoch 278 Train Loss: 306.48699951171875\n",
                        "Epoch 279 Train Loss: 309.45574951171875\n",
                        "Epoch 280 Train Loss: 314.2593994140625\n",
                        "Epoch 281 Train Loss: 311.228515625\n",
                        "Epoch 282 Train Loss: 308.3563537597656\n",
                        "saving model to logs/best_model.pt\n",
                        "Epoch 283 Train Loss: 300.06817626953125\n",
                        "Epoch 284 Train Loss: 304.41259765625\n",
                        "Epoch 285 Train Loss: 310.9324951171875\n",
                        "Epoch 286 Train Loss: 305.4483642578125\n",
                        "Epoch 287 Train Loss: 315.03643798828125\n",
                        "Epoch 288 Train Loss: 313.7573547363281\n",
                        "Epoch 289 Train Loss: 312.4042053222656\n",
                        "Epoch 290 Train Loss: 311.74658203125\n",
                        "Epoch 291 Train Loss: 304.7472229003906\n",
                        "Epoch 292 Train Loss: 309.48516845703125\n",
                        "Epoch 293 Train Loss: 309.22784423828125\n",
                        "Epoch 294 Train Loss: 311.2304382324219\n",
                        "Epoch 295 Train Loss: 307.90057373046875\n",
                        "Epoch 296 Train Loss: 304.8069152832031\n",
                        "Epoch 297 Train Loss: 307.97711181640625\n",
                        "Epoch 298 Train Loss: 307.3094787597656\n",
                        "saving model to logs/best_model.pt\n",
                        "Epoch 299 Train Loss: 299.7666015625\n",
                        "Epoch 300 Train Loss: 312.783447265625\n",
                        "Best model loaded from logs/best_model.pt\n"
                    ]
                },
                {
                    "data": {
                        "text/plain": [
                            "{'mse': 478404.15625,\n",
                            " 'abs_error': 14423.8583984375,\n",
                            " 'abs_target_sum': 311100.0,\n",
                            " 'abs_target_mean': 10370.0,\n",
                            " 'seasonal_error': 274.5412902832031,\n",
                            " 'mean_mase': 1.751267671585083,\n",
                            " 'mean_mape': 0.04670554772019386,\n",
                            " 'mean_smape': 0.046015992760658264,\n",
                            " 'mean_msmape': 0.046015772968530655,\n",
                            " 'mean_mae': 480.7952880859375,\n",
                            " 'mean_rmse': 691.6676635742188,\n",
                            " 'median_mase': 1.751267671585083,\n",
                            " 'median_smape': 0.046015992760658264,\n",
                            " 'median_msmape': 0.046015772968530655,\n",
                            " 'median_mae': 480.7952880859375,\n",
                            " 'median_rmse': 691.6676635742188}"
                        ]
                    },
                    "execution_count": 24,
                    "metadata": {},
                    "output_type": "execute_result"
                }
            ],
            "source": [
                "\n",
                "nnts.torch.utils.seed_everything(42)\n",
                "dataset_options = {\n",
                "    \"context_length\": metadata.context_length,\n",
                "    \"prediction_length\": metadata.prediction_length,\n",
                "    \"conts\": [],\n",
                "}\n",
                "\n",
                "trn_dl, test_dl = nnts.torch.utils.create_dataloaders(\n",
                "    df,\n",
                "    nnts.datasets.split_test_train_last_horizon,\n",
                "    metadata.context_length,\n",
                "    metadata.prediction_length,\n",
                "    Dataset=nnts.torch.datasets.TimeseriesDataset,\n",
                "    dataset_options=dataset_options,\n",
                "    Sampler=nnts.torch.datasets.TimeSeriesSampler,\n",
                ")\n",
                "\n",
                "net = nnts.torch.models.DLinear(metadata)\n",
                "\n",
                "trner = nnts.torch.trainers.TorchEpochTrainer(net, params, metadata)\n",
                "evaluator = trner.train(trn_dl)\n",
                "y_hat, y = evaluator.evaluate(\n",
                "    test_dl, metadata.prediction_length, metadata.context_length\n",
                ")\n",
                "\n",
                "test_metrics = nnts.metrics.calc_metrics(\n",
                "    y_hat, y, nnts.metrics.calculate_seasonal_error(trn_dl, metadata.seasonality)\n",
                ")\n",
                "test_metrics"
            ]
        },
        {
            "cell_type": "markdown",
            "metadata": {},
            "source": [
                "### Evaluate"
            ]
        },
        {
            "cell_type": "markdown",
            "metadata": {},
            "source": [
                "### Evaluate"
            ]
        },
        {
            "cell_type": "code",
            "execution_count": 5,
            "metadata": {},
            "outputs": [
                {
                    "data": {
                        "application/vnd.plotly.v1+json": {
                            "config": {
                                "plotlyServerURL": "https://plot.ly"
                            },
                            "data": [
                                {
                                    "line": {
                                        "color": "blue"
                                    },
                                    "mode": "lines",
                                    "name": "Actual 1",
                                    "type": "scatter",
                                    "x": [
                                        0,
                                        1,
                                        2,
                                        3,
                                        4,
                                        5,
                                        6,
                                        7,
                                        8,
                                        9,
                                        10,
                                        11,
                                        12,
                                        13,
                                        14,
                                        15,
                                        16,
                                        17,
                                        18,
                                        19,
                                        20,
                                        21,
                                        22,
                                        23
                                    ],
                                    "xaxis": "x",
                                    "y": [
                                        6611.115234375,
                                        4150.2392578125,
                                        2841,
                                        1813.43994140625,
                                        2261.080078125,
                                        1873.60498046875,
                                        1772.8399658203125,
                                        2049.56494140625,
                                        2932.264892578125,
                                        3113.2548828125,
                                        3461.5048828125,
                                        6265.740234375,
                                        6857.7998046875,
                                        4346.08984375,
                                        3154.72998046875,
                                        2142.2099609375,
                                        2375.72509765625,
                                        1981.1099853515625,
                                        1959.864990234375,
                                        2466.31005859375,
                                        2851.715087890625,
                                        3671.804931640625,
                                        3806.780029296875,
                                        6995.0498046875
                                    ],
                                    "yaxis": "y"
                                },
                                {
                                    "line": {
                                        "color": "orange",
                                        "dash": "dash"
                                    },
                                    "mode": "lines",
                                    "name": "Forecast 1",
                                    "type": "scatter",
                                    "x": [
                                        0,
                                        1,
                                        2,
                                        3,
                                        4,
                                        5,
                                        6,
                                        7,
                                        8,
                                        9,
                                        10,
                                        11,
                                        12,
                                        13,
                                        14,
                                        15,
                                        16,
                                        17,
                                        18,
                                        19,
                                        20,
                                        21,
                                        22,
                                        23
                                    ],
                                    "xaxis": "x",
                                    "y": [
                                        6743.6787109375,
                                        4233.56591796875,
                                        3005.689697265625,
                                        1925.017333984375,
                                        2273.74169921875,
                                        1737.037353515625,
                                        1606.9298095703125,
                                        1990.092041015625,
                                        2783.287353515625,
                                        3206.05859375,
                                        3722.482421875,
                                        6641.90576171875,
                                        7209.482421875,
                                        4684.291015625,
                                        3207.67333984375,
                                        2103.73681640625,
                                        2419.7578125,
                                        1801.49072265625,
                                        1745.089111328125,
                                        2227.25,
                                        2802.01171875,
                                        3465.63330078125,
                                        3856.58984375,
                                        6956.724609375
                                    ],
                                    "yaxis": "y"
                                },
                                {
                                    "line": {
                                        "color": "blue"
                                    },
                                    "mode": "lines",
                                    "name": "Actual 2",
                                    "type": "scatter",
                                    "x": [
                                        0,
                                        1,
                                        2,
                                        3,
                                        4,
                                        5,
                                        6,
                                        7,
                                        8,
                                        9,
                                        10,
                                        11,
                                        12,
                                        13,
                                        14,
                                        15,
                                        16,
                                        17,
                                        18,
                                        19,
                                        20,
                                        21,
                                        22,
                                        23
                                    ],
                                    "xaxis": "x2",
                                    "y": [
                                        176215.203125,
                                        160025.703125,
                                        150995.5,
                                        112002.6015625,
                                        85668.59375,
                                        107283.1015625,
                                        86953.7734375,
                                        95141.9609375,
                                        104902.6015625,
                                        117794.5,
                                        139187.5,
                                        183571.90625,
                                        185953,
                                        171384.59375,
                                        169834.5,
                                        125275.3984375,
                                        90986.6015625,
                                        100422.453125,
                                        94333.9375,
                                        109861.6953125,
                                        116636.7421875,
                                        139426.515625,
                                        161014.921875,
                                        199405.109375
                                    ],
                                    "yaxis": "y2"
                                },
                                {
                                    "line": {
                                        "color": "orange",
                                        "dash": "dash"
                                    },
                                    "mode": "lines",
                                    "name": "Forecast 2",
                                    "type": "scatter",
                                    "x": [
                                        0,
                                        1,
                                        2,
                                        3,
                                        4,
                                        5,
                                        6,
                                        7,
                                        8,
                                        9,
                                        10,
                                        11,
                                        12,
                                        13,
                                        14,
                                        15,
                                        16,
                                        17,
                                        18,
                                        19,
                                        20,
                                        21,
                                        22,
                                        23
                                    ],
                                    "xaxis": "x2",
                                    "y": [
                                        195667.515625,
                                        170178.203125,
                                        158012.328125,
                                        105348.203125,
                                        95634.125,
                                        105659.5078125,
                                        83942.71875,
                                        91706.625,
                                        106127.734375,
                                        124387.6484375,
                                        137123.84375,
                                        183095.703125,
                                        207855.0625,
                                        176644.796875,
                                        154861.828125,
                                        114550.65625,
                                        96510.046875,
                                        109203.265625,
                                        92349.140625,
                                        98317.0625,
                                        112650.59375,
                                        132594.6875,
                                        145614.828125,
                                        192293.03125
                                    ],
                                    "yaxis": "y2"
                                },
                                {
                                    "line": {
                                        "color": "blue"
                                    },
                                    "mode": "lines",
                                    "name": "Actual 3",
                                    "type": "scatter",
                                    "x": [
                                        0,
                                        1,
                                        2,
                                        3,
                                        4,
                                        5,
                                        6,
                                        7,
                                        8,
                                        9,
                                        10,
                                        11,
                                        12,
                                        13,
                                        14,
                                        15,
                                        16,
                                        17,
                                        18,
                                        19,
                                        20,
                                        21,
                                        22,
                                        23
                                    ],
                                    "xaxis": "x3",
                                    "y": [
                                        89162,
                                        66728,
                                        104864,
                                        102253,
                                        91564,
                                        99782,
                                        100335,
                                        87455,
                                        87126,
                                        113382,
                                        109339,
                                        91099,
                                        84685,
                                        72779,
                                        106548,
                                        105057,
                                        92703,
                                        102484,
                                        101753,
                                        86872,
                                        87775,
                                        116104,
                                        108333,
                                        93932
                                    ],
                                    "yaxis": "y3"
                                },
                                {
                                    "line": {
                                        "color": "orange",
                                        "dash": "dash"
                                    },
                                    "mode": "lines",
                                    "name": "Forecast 3",
                                    "type": "scatter",
                                    "x": [
                                        0,
                                        1,
                                        2,
                                        3,
                                        4,
                                        5,
                                        6,
                                        7,
                                        8,
                                        9,
                                        10,
                                        11,
                                        12,
                                        13,
                                        14,
                                        15,
                                        16,
                                        17,
                                        18,
                                        19,
                                        20,
                                        21,
                                        22,
                                        23
                                    ],
                                    "xaxis": "x3",
                                    "y": [
                                        85244.3359375,
                                        75413.9765625,
                                        93788.59375,
                                        78474.71875,
                                        71536.78125,
                                        84209.328125,
                                        94458.0859375,
                                        91601.921875,
                                        93275.2265625,
                                        120216.4375,
                                        110797.5859375,
                                        97962.671875,
                                        92845.953125,
                                        88890.7109375,
                                        105133.625,
                                        89725.046875,
                                        79153.6953125,
                                        90781.71875,
                                        101244.09375,
                                        100307.1328125,
                                        98316.25,
                                        131425.9375,
                                        116691.3203125,
                                        102686.703125
                                    ],
                                    "yaxis": "y3"
                                },
                                {
                                    "line": {
                                        "color": "blue"
                                    },
                                    "mode": "lines",
                                    "name": "Actual 4",
                                    "type": "scatter",
                                    "x": [
                                        0,
                                        1,
                                        2,
                                        3,
                                        4,
                                        5,
                                        6,
                                        7,
                                        8,
                                        9,
                                        10,
                                        11,
                                        12,
                                        13,
                                        14,
                                        15,
                                        16,
                                        17,
                                        18,
                                        19,
                                        20,
                                        21,
                                        22,
                                        23
                                    ],
                                    "xaxis": "x4",
                                    "y": [
                                        25621,
                                        19333,
                                        29124,
                                        26206,
                                        24662,
                                        20063,
                                        24784,
                                        23189,
                                        20031,
                                        31092,
                                        33325,
                                        31412,
                                        26049,
                                        22309,
                                        31849,
                                        28788,
                                        26268,
                                        21046,
                                        28506,
                                        25586,
                                        21037,
                                        33134,
                                        36748,
                                        34377
                                    ],
                                    "yaxis": "y4"
                                },
                                {
                                    "line": {
                                        "color": "orange",
                                        "dash": "dash"
                                    },
                                    "mode": "lines",
                                    "name": "Forecast 4",
                                    "type": "scatter",
                                    "x": [
                                        0,
                                        1,
                                        2,
                                        3,
                                        4,
                                        5,
                                        6,
                                        7,
                                        8,
                                        9,
                                        10,
                                        11,
                                        12,
                                        13,
                                        14,
                                        15,
                                        16,
                                        17,
                                        18,
                                        19,
                                        20,
                                        21,
                                        22,
                                        23
                                    ],
                                    "xaxis": "x4",
                                    "y": [
                                        25464.029296875,
                                        22281.09765625,
                                        27119.67578125,
                                        20944.94140625,
                                        19737.447265625,
                                        18934.447265625,
                                        23645.521484375,
                                        23503.49609375,
                                        21369.9375,
                                        30019.556640625,
                                        32298.40234375,
                                        30901.64453125,
                                        26527.884765625,
                                        25580.78125,
                                        29870.263671875,
                                        23798.283203125,
                                        22135.908203125,
                                        21000.88671875,
                                        25578.068359375,
                                        25526.36328125,
                                        22845.716796875,
                                        32844.953125,
                                        33681.9609375,
                                        32767.21484375
                                    ],
                                    "yaxis": "y4"
                                }
                            ],
                            "layout": {
                                "annotations": [
                                    {
                                        "font": {
                                            "size": 16
                                        },
                                        "showarrow": false,
                                        "text": "Time Series 1",
                                        "x": 0.5,
                                        "xanchor": "center",
                                        "xref": "paper",
                                        "y": 1,
                                        "yanchor": "bottom",
                                        "yref": "paper"
                                    },
                                    {
                                        "font": {
                                            "size": 16
                                        },
                                        "showarrow": false,
                                        "text": "Time Series 2",
                                        "x": 0.5,
                                        "xanchor": "center",
                                        "xref": "paper",
                                        "y": 0.71875,
                                        "yanchor": "bottom",
                                        "yref": "paper"
                                    },
                                    {
                                        "font": {
                                            "size": 16
                                        },
                                        "showarrow": false,
                                        "text": "Time Series 3",
                                        "x": 0.5,
                                        "xanchor": "center",
                                        "xref": "paper",
                                        "y": 0.4375,
                                        "yanchor": "bottom",
                                        "yref": "paper"
                                    },
                                    {
                                        "font": {
                                            "size": 16
                                        },
                                        "showarrow": false,
                                        "text": "Time Series 4",
                                        "x": 0.5,
                                        "xanchor": "center",
                                        "xref": "paper",
                                        "y": 0.15625,
                                        "yanchor": "bottom",
                                        "yref": "paper"
                                    }
                                ],
                                "height": 1000,
                                "showlegend": true,
                                "template": {
                                    "data": {
                                        "bar": [
                                            {
                                                "error_x": {
                                                    "color": "#2a3f5f"
                                                },
                                                "error_y": {
                                                    "color": "#2a3f5f"
                                                },
                                                "marker": {
                                                    "line": {
                                                        "color": "#E5ECF6",
                                                        "width": 0.5
                                                    },
                                                    "pattern": {
                                                        "fillmode": "overlay",
                                                        "size": 10,
                                                        "solidity": 0.2
                                                    }
                                                },
                                                "type": "bar"
                                            }
                                        ],
                                        "barpolar": [
                                            {
                                                "marker": {
                                                    "line": {
                                                        "color": "#E5ECF6",
                                                        "width": 0.5
                                                    },
                                                    "pattern": {
                                                        "fillmode": "overlay",
                                                        "size": 10,
                                                        "solidity": 0.2
                                                    }
                                                },
                                                "type": "barpolar"
                                            }
                                        ],
                                        "carpet": [
                                            {
                                                "aaxis": {
                                                    "endlinecolor": "#2a3f5f",
                                                    "gridcolor": "white",
                                                    "linecolor": "white",
                                                    "minorgridcolor": "white",
                                                    "startlinecolor": "#2a3f5f"
                                                },
                                                "baxis": {
                                                    "endlinecolor": "#2a3f5f",
                                                    "gridcolor": "white",
                                                    "linecolor": "white",
                                                    "minorgridcolor": "white",
                                                    "startlinecolor": "#2a3f5f"
                                                },
                                                "type": "carpet"
                                            }
                                        ],
                                        "choropleth": [
                                            {
                                                "colorbar": {
                                                    "outlinewidth": 0,
                                                    "ticks": ""
                                                },
                                                "type": "choropleth"
                                            }
                                        ],
                                        "contour": [
                                            {
                                                "colorbar": {
                                                    "outlinewidth": 0,
                                                    "ticks": ""
                                                },
                                                "colorscale": [
                                                    [
                                                        0,
                                                        "#0d0887"
                                                    ],
                                                    [
                                                        0.1111111111111111,
                                                        "#46039f"
                                                    ],
                                                    [
                                                        0.2222222222222222,
                                                        "#7201a8"
                                                    ],
                                                    [
                                                        0.3333333333333333,
                                                        "#9c179e"
                                                    ],
                                                    [
                                                        0.4444444444444444,
                                                        "#bd3786"
                                                    ],
                                                    [
                                                        0.5555555555555556,
                                                        "#d8576b"
                                                    ],
                                                    [
                                                        0.6666666666666666,
                                                        "#ed7953"
                                                    ],
                                                    [
                                                        0.7777777777777778,
                                                        "#fb9f3a"
                                                    ],
                                                    [
                                                        0.8888888888888888,
                                                        "#fdca26"
                                                    ],
                                                    [
                                                        1,
                                                        "#f0f921"
                                                    ]
                                                ],
                                                "type": "contour"
                                            }
                                        ],
                                        "contourcarpet": [
                                            {
                                                "colorbar": {
                                                    "outlinewidth": 0,
                                                    "ticks": ""
                                                },
                                                "type": "contourcarpet"
                                            }
                                        ],
                                        "heatmap": [
                                            {
                                                "colorbar": {
                                                    "outlinewidth": 0,
                                                    "ticks": ""
                                                },
                                                "colorscale": [
                                                    [
                                                        0,
                                                        "#0d0887"
                                                    ],
                                                    [
                                                        0.1111111111111111,
                                                        "#46039f"
                                                    ],
                                                    [
                                                        0.2222222222222222,
                                                        "#7201a8"
                                                    ],
                                                    [
                                                        0.3333333333333333,
                                                        "#9c179e"
                                                    ],
                                                    [
                                                        0.4444444444444444,
                                                        "#bd3786"
                                                    ],
                                                    [
                                                        0.5555555555555556,
                                                        "#d8576b"
                                                    ],
                                                    [
                                                        0.6666666666666666,
                                                        "#ed7953"
                                                    ],
                                                    [
                                                        0.7777777777777778,
                                                        "#fb9f3a"
                                                    ],
                                                    [
                                                        0.8888888888888888,
                                                        "#fdca26"
                                                    ],
                                                    [
                                                        1,
                                                        "#f0f921"
                                                    ]
                                                ],
                                                "type": "heatmap"
                                            }
                                        ],
                                        "heatmapgl": [
                                            {
                                                "colorbar": {
                                                    "outlinewidth": 0,
                                                    "ticks": ""
                                                },
                                                "colorscale": [
                                                    [
                                                        0,
                                                        "#0d0887"
                                                    ],
                                                    [
                                                        0.1111111111111111,
                                                        "#46039f"
                                                    ],
                                                    [
                                                        0.2222222222222222,
                                                        "#7201a8"
                                                    ],
                                                    [
                                                        0.3333333333333333,
                                                        "#9c179e"
                                                    ],
                                                    [
                                                        0.4444444444444444,
                                                        "#bd3786"
                                                    ],
                                                    [
                                                        0.5555555555555556,
                                                        "#d8576b"
                                                    ],
                                                    [
                                                        0.6666666666666666,
                                                        "#ed7953"
                                                    ],
                                                    [
                                                        0.7777777777777778,
                                                        "#fb9f3a"
                                                    ],
                                                    [
                                                        0.8888888888888888,
                                                        "#fdca26"
                                                    ],
                                                    [
                                                        1,
                                                        "#f0f921"
                                                    ]
                                                ],
                                                "type": "heatmapgl"
                                            }
                                        ],
                                        "histogram": [
                                            {
                                                "marker": {
                                                    "pattern": {
                                                        "fillmode": "overlay",
                                                        "size": 10,
                                                        "solidity": 0.2
                                                    }
                                                },
                                                "type": "histogram"
                                            }
                                        ],
                                        "histogram2d": [
                                            {
                                                "colorbar": {
                                                    "outlinewidth": 0,
                                                    "ticks": ""
                                                },
                                                "colorscale": [
                                                    [
                                                        0,
                                                        "#0d0887"
                                                    ],
                                                    [
                                                        0.1111111111111111,
                                                        "#46039f"
                                                    ],
                                                    [
                                                        0.2222222222222222,
                                                        "#7201a8"
                                                    ],
                                                    [
                                                        0.3333333333333333,
                                                        "#9c179e"
                                                    ],
                                                    [
                                                        0.4444444444444444,
                                                        "#bd3786"
                                                    ],
                                                    [
                                                        0.5555555555555556,
                                                        "#d8576b"
                                                    ],
                                                    [
                                                        0.6666666666666666,
                                                        "#ed7953"
                                                    ],
                                                    [
                                                        0.7777777777777778,
                                                        "#fb9f3a"
                                                    ],
                                                    [
                                                        0.8888888888888888,
                                                        "#fdca26"
                                                    ],
                                                    [
                                                        1,
                                                        "#f0f921"
                                                    ]
                                                ],
                                                "type": "histogram2d"
                                            }
                                        ],
                                        "histogram2dcontour": [
                                            {
                                                "colorbar": {
                                                    "outlinewidth": 0,
                                                    "ticks": ""
                                                },
                                                "colorscale": [
                                                    [
                                                        0,
                                                        "#0d0887"
                                                    ],
                                                    [
                                                        0.1111111111111111,
                                                        "#46039f"
                                                    ],
                                                    [
                                                        0.2222222222222222,
                                                        "#7201a8"
                                                    ],
                                                    [
                                                        0.3333333333333333,
                                                        "#9c179e"
                                                    ],
                                                    [
                                                        0.4444444444444444,
                                                        "#bd3786"
                                                    ],
                                                    [
                                                        0.5555555555555556,
                                                        "#d8576b"
                                                    ],
                                                    [
                                                        0.6666666666666666,
                                                        "#ed7953"
                                                    ],
                                                    [
                                                        0.7777777777777778,
                                                        "#fb9f3a"
                                                    ],
                                                    [
                                                        0.8888888888888888,
                                                        "#fdca26"
                                                    ],
                                                    [
                                                        1,
                                                        "#f0f921"
                                                    ]
                                                ],
                                                "type": "histogram2dcontour"
                                            }
                                        ],
                                        "mesh3d": [
                                            {
                                                "colorbar": {
                                                    "outlinewidth": 0,
                                                    "ticks": ""
                                                },
                                                "type": "mesh3d"
                                            }
                                        ],
                                        "parcoords": [
                                            {
                                                "line": {
                                                    "colorbar": {
                                                        "outlinewidth": 0,
                                                        "ticks": ""
                                                    }
                                                },
                                                "type": "parcoords"
                                            }
                                        ],
                                        "pie": [
                                            {
                                                "automargin": true,
                                                "type": "pie"
                                            }
                                        ],
                                        "scatter": [
                                            {
                                                "fillpattern": {
                                                    "fillmode": "overlay",
                                                    "size": 10,
                                                    "solidity": 0.2
                                                },
                                                "type": "scatter"
                                            }
                                        ],
                                        "scatter3d": [
                                            {
                                                "line": {
                                                    "colorbar": {
                                                        "outlinewidth": 0,
                                                        "ticks": ""
                                                    }
                                                },
                                                "marker": {
                                                    "colorbar": {
                                                        "outlinewidth": 0,
                                                        "ticks": ""
                                                    }
                                                },
                                                "type": "scatter3d"
                                            }
                                        ],
                                        "scattercarpet": [
                                            {
                                                "marker": {
                                                    "colorbar": {
                                                        "outlinewidth": 0,
                                                        "ticks": ""
                                                    }
                                                },
                                                "type": "scattercarpet"
                                            }
                                        ],
                                        "scattergeo": [
                                            {
                                                "marker": {
                                                    "colorbar": {
                                                        "outlinewidth": 0,
                                                        "ticks": ""
                                                    }
                                                },
                                                "type": "scattergeo"
                                            }
                                        ],
                                        "scattergl": [
                                            {
                                                "marker": {
                                                    "colorbar": {
                                                        "outlinewidth": 0,
                                                        "ticks": ""
                                                    }
                                                },
                                                "type": "scattergl"
                                            }
                                        ],
                                        "scattermapbox": [
                                            {
                                                "marker": {
                                                    "colorbar": {
                                                        "outlinewidth": 0,
                                                        "ticks": ""
                                                    }
                                                },
                                                "type": "scattermapbox"
                                            }
                                        ],
                                        "scatterpolar": [
                                            {
                                                "marker": {
                                                    "colorbar": {
                                                        "outlinewidth": 0,
                                                        "ticks": ""
                                                    }
                                                },
                                                "type": "scatterpolar"
                                            }
                                        ],
                                        "scatterpolargl": [
                                            {
                                                "marker": {
                                                    "colorbar": {
                                                        "outlinewidth": 0,
                                                        "ticks": ""
                                                    }
                                                },
                                                "type": "scatterpolargl"
                                            }
                                        ],
                                        "scatterternary": [
                                            {
                                                "marker": {
                                                    "colorbar": {
                                                        "outlinewidth": 0,
                                                        "ticks": ""
                                                    }
                                                },
                                                "type": "scatterternary"
                                            }
                                        ],
                                        "surface": [
                                            {
                                                "colorbar": {
                                                    "outlinewidth": 0,
                                                    "ticks": ""
                                                },
                                                "colorscale": [
                                                    [
                                                        0,
                                                        "#0d0887"
                                                    ],
                                                    [
                                                        0.1111111111111111,
                                                        "#46039f"
                                                    ],
                                                    [
                                                        0.2222222222222222,
                                                        "#7201a8"
                                                    ],
                                                    [
                                                        0.3333333333333333,
                                                        "#9c179e"
                                                    ],
                                                    [
                                                        0.4444444444444444,
                                                        "#bd3786"
                                                    ],
                                                    [
                                                        0.5555555555555556,
                                                        "#d8576b"
                                                    ],
                                                    [
                                                        0.6666666666666666,
                                                        "#ed7953"
                                                    ],
                                                    [
                                                        0.7777777777777778,
                                                        "#fb9f3a"
                                                    ],
                                                    [
                                                        0.8888888888888888,
                                                        "#fdca26"
                                                    ],
                                                    [
                                                        1,
                                                        "#f0f921"
                                                    ]
                                                ],
                                                "type": "surface"
                                            }
                                        ],
                                        "table": [
                                            {
                                                "cells": {
                                                    "fill": {
                                                        "color": "#EBF0F8"
                                                    },
                                                    "line": {
                                                        "color": "white"
                                                    }
                                                },
                                                "header": {
                                                    "fill": {
                                                        "color": "#C8D4E3"
                                                    },
                                                    "line": {
                                                        "color": "white"
                                                    }
                                                },
                                                "type": "table"
                                            }
                                        ]
                                    },
                                    "layout": {
                                        "annotationdefaults": {
                                            "arrowcolor": "#2a3f5f",
                                            "arrowhead": 0,
                                            "arrowwidth": 1
                                        },
                                        "autotypenumbers": "strict",
                                        "coloraxis": {
                                            "colorbar": {
                                                "outlinewidth": 0,
                                                "ticks": ""
                                            }
                                        },
                                        "colorscale": {
                                            "diverging": [
                                                [
                                                    0,
                                                    "#8e0152"
                                                ],
                                                [
                                                    0.1,
                                                    "#c51b7d"
                                                ],
                                                [
                                                    0.2,
                                                    "#de77ae"
                                                ],
                                                [
                                                    0.3,
                                                    "#f1b6da"
                                                ],
                                                [
                                                    0.4,
                                                    "#fde0ef"
                                                ],
                                                [
                                                    0.5,
                                                    "#f7f7f7"
                                                ],
                                                [
                                                    0.6,
                                                    "#e6f5d0"
                                                ],
                                                [
                                                    0.7,
                                                    "#b8e186"
                                                ],
                                                [
                                                    0.8,
                                                    "#7fbc41"
                                                ],
                                                [
                                                    0.9,
                                                    "#4d9221"
                                                ],
                                                [
                                                    1,
                                                    "#276419"
                                                ]
                                            ],
                                            "sequential": [
                                                [
                                                    0,
                                                    "#0d0887"
                                                ],
                                                [
                                                    0.1111111111111111,
                                                    "#46039f"
                                                ],
                                                [
                                                    0.2222222222222222,
                                                    "#7201a8"
                                                ],
                                                [
                                                    0.3333333333333333,
                                                    "#9c179e"
                                                ],
                                                [
                                                    0.4444444444444444,
                                                    "#bd3786"
                                                ],
                                                [
                                                    0.5555555555555556,
                                                    "#d8576b"
                                                ],
                                                [
                                                    0.6666666666666666,
                                                    "#ed7953"
                                                ],
                                                [
                                                    0.7777777777777778,
                                                    "#fb9f3a"
                                                ],
                                                [
                                                    0.8888888888888888,
                                                    "#fdca26"
                                                ],
                                                [
                                                    1,
                                                    "#f0f921"
                                                ]
                                            ],
                                            "sequentialminus": [
                                                [
                                                    0,
                                                    "#0d0887"
                                                ],
                                                [
                                                    0.1111111111111111,
                                                    "#46039f"
                                                ],
                                                [
                                                    0.2222222222222222,
                                                    "#7201a8"
                                                ],
                                                [
                                                    0.3333333333333333,
                                                    "#9c179e"
                                                ],
                                                [
                                                    0.4444444444444444,
                                                    "#bd3786"
                                                ],
                                                [
                                                    0.5555555555555556,
                                                    "#d8576b"
                                                ],
                                                [
                                                    0.6666666666666666,
                                                    "#ed7953"
                                                ],
                                                [
                                                    0.7777777777777778,
                                                    "#fb9f3a"
                                                ],
                                                [
                                                    0.8888888888888888,
                                                    "#fdca26"
                                                ],
                                                [
                                                    1,
                                                    "#f0f921"
                                                ]
                                            ]
                                        },
                                        "colorway": [
                                            "#636efa",
                                            "#EF553B",
                                            "#00cc96",
                                            "#ab63fa",
                                            "#FFA15A",
                                            "#19d3f3",
                                            "#FF6692",
                                            "#B6E880",
                                            "#FF97FF",
                                            "#FECB52"
                                        ],
                                        "font": {
                                            "color": "#2a3f5f"
                                        },
                                        "geo": {
                                            "bgcolor": "white",
                                            "lakecolor": "white",
                                            "landcolor": "#E5ECF6",
                                            "showlakes": true,
                                            "showland": true,
                                            "subunitcolor": "white"
                                        },
                                        "hoverlabel": {
                                            "align": "left"
                                        },
                                        "hovermode": "closest",
                                        "mapbox": {
                                            "style": "light"
                                        },
                                        "paper_bgcolor": "white",
                                        "plot_bgcolor": "#E5ECF6",
                                        "polar": {
                                            "angularaxis": {
                                                "gridcolor": "white",
                                                "linecolor": "white",
                                                "ticks": ""
                                            },
                                            "bgcolor": "#E5ECF6",
                                            "radialaxis": {
                                                "gridcolor": "white",
                                                "linecolor": "white",
                                                "ticks": ""
                                            }
                                        },
                                        "scene": {
                                            "xaxis": {
                                                "backgroundcolor": "#E5ECF6",
                                                "gridcolor": "white",
                                                "gridwidth": 2,
                                                "linecolor": "white",
                                                "showbackground": true,
                                                "ticks": "",
                                                "zerolinecolor": "white"
                                            },
                                            "yaxis": {
                                                "backgroundcolor": "#E5ECF6",
                                                "gridcolor": "white",
                                                "gridwidth": 2,
                                                "linecolor": "white",
                                                "showbackground": true,
                                                "ticks": "",
                                                "zerolinecolor": "white"
                                            },
                                            "zaxis": {
                                                "backgroundcolor": "#E5ECF6",
                                                "gridcolor": "white",
                                                "gridwidth": 2,
                                                "linecolor": "white",
                                                "showbackground": true,
                                                "ticks": "",
                                                "zerolinecolor": "white"
                                            }
                                        },
                                        "shapedefaults": {
                                            "line": {
                                                "color": "#2a3f5f"
                                            }
                                        },
                                        "ternary": {
                                            "aaxis": {
                                                "gridcolor": "white",
                                                "linecolor": "white",
                                                "ticks": ""
                                            },
                                            "baxis": {
                                                "gridcolor": "white",
                                                "linecolor": "white",
                                                "ticks": ""
                                            },
                                            "bgcolor": "#E5ECF6",
                                            "caxis": {
                                                "gridcolor": "white",
                                                "linecolor": "white",
                                                "ticks": ""
                                            }
                                        },
                                        "title": {
                                            "x": 0.05
                                        },
                                        "xaxis": {
                                            "automargin": true,
                                            "gridcolor": "white",
                                            "linecolor": "white",
                                            "ticks": "",
                                            "title": {
                                                "standoff": 15
                                            },
                                            "zerolinecolor": "white",
                                            "zerolinewidth": 2
                                        },
                                        "yaxis": {
                                            "automargin": true,
                                            "gridcolor": "white",
                                            "linecolor": "white",
                                            "ticks": "",
                                            "title": {
                                                "standoff": 15
                                            },
                                            "zerolinecolor": "white",
                                            "zerolinewidth": 2
                                        }
                                    }
                                },
                                "title": {
                                    "text": "Forecasts vs Actuals for First 4 Time Series"
                                },
                                "width": 800,
                                "xaxis": {
                                    "anchor": "y",
                                    "domain": [
                                        0,
                                        1
                                    ],
                                    "matches": "x4",
                                    "showticklabels": false
                                },
                                "xaxis2": {
                                    "anchor": "y2",
                                    "domain": [
                                        0,
                                        1
                                    ],
                                    "matches": "x4",
                                    "showticklabels": false
                                },
                                "xaxis3": {
                                    "anchor": "y3",
                                    "domain": [
                                        0,
                                        1
                                    ],
                                    "matches": "x4",
                                    "showticklabels": false
                                },
                                "xaxis4": {
                                    "anchor": "y4",
                                    "domain": [
                                        0,
                                        1
                                    ],
                                    "title": {
                                        "text": "Timesteps"
                                    }
                                },
                                "yaxis": {
                                    "anchor": "x",
                                    "domain": [
                                        0.84375,
                                        1
                                    ]
                                },
                                "yaxis2": {
                                    "anchor": "x2",
                                    "domain": [
                                        0.5625,
                                        0.71875
                                    ]
                                },
                                "yaxis3": {
                                    "anchor": "x3",
                                    "domain": [
                                        0.28125,
                                        0.4375
                                    ]
                                },
                                "yaxis4": {
                                    "anchor": "x4",
                                    "domain": [
                                        0,
                                        0.15625
                                    ]
                                }
                            }
                        }
                    },
                    "metadata": {},
                    "output_type": "display_data"
                }
            ],
            "source": [
                "nnts.plotting.plotly_forecasts_vs_actuals(y, y_hat)"
            ]
        },
        {
            "cell_type": "markdown",
            "metadata": {},
            "source": [
                "### Forecast"
            ]
        },
        {
            "cell_type": "code",
            "execution_count": 28,
            "metadata": {},
            "outputs": [],
            "source": [
                "net = evaluator.net\n",
                "\n",
                "forecaster = nnts.torch.trainers.TorchForecaster(net)"
            ]
        },
        {
            "cell_type": "code",
            "execution_count": 29,
            "metadata": {},
            "outputs": [],
            "source": [
                "forecast = forecaster.forecast(test_dl, metadata.prediction_length, metadata.context_length)"
            ]
        },
        {
            "cell_type": "code",
            "execution_count": 30,
            "metadata": {},
            "outputs": [
                {
                    "data": {
                        "text/plain": [
                            "tensor([[[  6641.45605469],\n",
                            "         [  4133.40673828],\n",
                            "         [  3067.53247070],\n",
                            "         ...,\n",
                            "         [  3548.06396484],\n",
                            "         [  4189.00341797],\n",
                            "         [  6918.93017578]],\n",
                            "\n",
                            "        [[194433.23437500],\n",
                            "         [159917.76562500],\n",
                            "         [152778.92187500],\n",
                            "         ...,\n",
                            "         [134823.09375000],\n",
                            "         [146866.96875000],\n",
                            "         [201028.07812500]],\n",
                            "\n",
                            "        [[ 95321.10937500],\n",
                            "         [ 86995.16406250],\n",
                            "         [103553.07812500],\n",
                            "         ...,\n",
                            "         [133744.62500000],\n",
                            "         [125787.48437500],\n",
                            "         [103492.85937500]],\n",
                            "\n",
                            "        ...,\n",
                            "\n",
                            "        [[  7711.12939453],\n",
                            "         [ 14208.24902344],\n",
                            "         [ 10858.39062500],\n",
                            "         ...,\n",
                            "         [  7101.75195312],\n",
                            "         [  6812.04296875],\n",
                            "         [  8448.37890625]],\n",
                            "\n",
                            "        [[  7796.66650391],\n",
                            "         [  7452.81250000],\n",
                            "         [ 11486.20019531],\n",
                            "         ...,\n",
                            "         [ 14187.00683594],\n",
                            "         [ 10841.85546875],\n",
                            "         [ 10177.20507812]],\n",
                            "\n",
                            "        [[  2008.92102051],\n",
                            "         [  1647.43176270],\n",
                            "         [  2423.51904297],\n",
                            "         ...,\n",
                            "         [  2893.02734375],\n",
                            "         [  1677.34619141],\n",
                            "         [  1458.23291016]]])"
                        ]
                    },
                    "execution_count": 30,
                    "metadata": {},
                    "output_type": "execute_result"
                }
            ],
            "source": [
                "forecast"
            ]
        },
        {
            "cell_type": "code",
            "execution_count": null,
            "metadata": {},
            "outputs": [],
            "source": []
        }
    ],
    "metadata": {
        "kernelspec": {
            "display_name": "venv",
            "language": "python",
            "name": "python3"
        },
        "language_info": {
            "codemirror_mode": {
                "name": "ipython",
                "version": 3
            },
            "file_extension": ".py",
            "mimetype": "text/x-python",
            "name": "python",
            "nbconvert_exporter": "python",
            "pygments_lexer": "ipython3",
            "version": "3.11.8"
        }
    },
    "nbformat": 4,
    "nbformat_minor": 2
}
