{
    "cells": [
        {
            "cell_type": "code",
            "execution_count": 1,
            "metadata": {},
            "outputs": [
                {
                    "name": "stderr",
                    "output_type": "stream",
                    "text": [
                        "/Users/garethdavies/Development/workspaces/nnts/venv/lib/python3.11/site-packages/gluonts/json.py:101: UserWarning: Using `json`-module for json-handling. Consider installing one of `orjson`, `ujson` to speed up serialization and deserialization.\n",
                        "  warnings.warn(\n"
                    ]
                }
            ],
            "source": [
                "from typing import List\n",
                "import seaborn as sns\n",
                "import os\n",
                "\n",
                "import nnts\n",
                "import nnts.data\n",
                "import nnts.experiments\n",
                "from nnts import utils, datasets\n",
                "import nnts.torch.preprocessing as preprocessing\n",
                "import trainers\n",
                "import nnts.torch.models\n",
                "import nnts.metrics\n",
                "import nnts.torch.datasets\n",
                "import nnts.loggers\n",
                "import nnts.datasets\n",
                "import nnts.trainers\n",
                "import nnts.torch.utils\n",
                "import covs \n",
                "import torch.nn.functional as F\n",
                "import torch.optim\n",
                "sns.set()"
            ]
        },
        {
            "cell_type": "code",
            "execution_count": 2,
            "metadata": {},
            "outputs": [],
            "source": [
                "data_path = \"data\"\n",
                "model_name = \"base-lstm\"\n",
                "dataset_name = \"hospital\"\n",
                "results_path = \"nb-results\"\n",
                "metadata_path = os.path.join(data_path, f\"{model_name}-monash.json\")\n",
                "metadata = datasets.load_metadata(dataset_name, path=metadata_path)\n",
                "datafile_path = os.path.join(data_path, metadata.filename)\n",
                "PATH = os.path.join(results_path, model_name, metadata.dataset)\n",
                "\n",
                "df_orig, *_ = nnts.datasets.read_tsf(datafile_path)\n",
                "params = utils.Hyperparams(optimizer=torch.optim.AdamW, loss_fn=F.smooth_l1_loss)\n",
                "\n",
                "utils.makedirs_if_not_exists(PATH)"
            ]
        },
        {
            "cell_type": "code",
            "execution_count": 3,
            "metadata": {},
            "outputs": [],
            "source": [
                "scenario_list: List[nnts.experiments.CovariateScenario] = []\n",
                "\n",
                "# Add the baseline scenarios\n",
                "for seed in [42, 43, 44, 45, 46]:\n",
                "    scenario_list.append(\n",
                "        nnts.experiments.CovariateScenario(metadata.prediction_length, error=0.0, covariates=0, seed=seed)\n",
                "    )\n",
                "## Models for full forecast horizon with covariates\n",
                "for covariates in [1, 2, 3]:\n",
                "    for error in covs.errors[metadata.dataset]:\n",
                "        scenario_list.append( \n",
                "            nnts.experiments.CovariateScenario(\n",
                "                metadata.prediction_length, error, covariates=covariates\n",
                "            )\n",
                "        )\n",
                "\n",
                "scenario_list.append( \n",
                "    nnts.experiments.CovariateScenario(\n",
                "        metadata.prediction_length, 0, covariates=3, skip=1\n",
                "    )\n",
                ")"
            ]
        },
        {
            "cell_type": "code",
            "execution_count": 4,
            "metadata": {},
            "outputs": [
                {
                    "name": "stderr",
                    "output_type": "stream",
                    "text": [
                        "Failed to detect the name of this notebook, you can set it manually with the WANDB_NOTEBOOK_NAME environment variable to enable code saving.\n",
                        "\u001b[34m\u001b[1mwandb\u001b[0m: Currently logged in as: \u001b[33mgarethmd\u001b[0m. Use \u001b[1m`wandb login --relogin`\u001b[0m to force relogin\n"
                    ]
                },
                {
                    "data": {
                        "text/html": [
                            "wandb version 0.17.4 is available!  To upgrade, please run:\n",
                            " $ pip install wandb --upgrade"
                        ],
                        "text/plain": [
                            "<IPython.core.display.HTML object>"
                        ]
                    },
                    "metadata": {},
                    "output_type": "display_data"
                },
                {
                    "data": {
                        "text/html": [
                            "Tracking run with wandb version 0.16.4"
                        ],
                        "text/plain": [
                            "<IPython.core.display.HTML object>"
                        ]
                    },
                    "metadata": {},
                    "output_type": "display_data"
                },
                {
                    "data": {
                        "text/html": [
                            "Run data is saved locally in <code>/Users/garethdavies/Development/workspaces/nnts/projects/rnn-covariates/wandb/run-20240711_190707-f5rylig9</code>"
                        ],
                        "text/plain": [
                            "<IPython.core.display.HTML object>"
                        ]
                    },
                    "metadata": {},
                    "output_type": "display_data"
                },
                {
                    "data": {
                        "text/html": [
                            "Syncing run <strong><a href='https://wandb.ai/garethmd/base-lstm-hospital/runs/f5rylig9' target=\"_blank\">cov-0-pearsn-0-pl-12-seed-42</a></strong> to <a href='https://wandb.ai/garethmd/base-lstm-hospital' target=\"_blank\">Weights & Biases</a> (<a href='https://wandb.me/run' target=\"_blank\">docs</a>)<br/>"
                        ],
                        "text/plain": [
                            "<IPython.core.display.HTML object>"
                        ]
                    },
                    "metadata": {},
                    "output_type": "display_data"
                },
                {
                    "data": {
                        "text/html": [
                            " View project at <a href='https://wandb.ai/garethmd/base-lstm-hospital' target=\"_blank\">https://wandb.ai/garethmd/base-lstm-hospital</a>"
                        ],
                        "text/plain": [
                            "<IPython.core.display.HTML object>"
                        ]
                    },
                    "metadata": {},
                    "output_type": "display_data"
                },
                {
                    "data": {
                        "text/html": [
                            " View run at <a href='https://wandb.ai/garethmd/base-lstm-hospital/runs/f5rylig9' target=\"_blank\">https://wandb.ai/garethmd/base-lstm-hospital/runs/f5rylig9</a>"
                        ],
                        "text/plain": [
                            "<IPython.core.display.HTML object>"
                        ]
                    },
                    "metadata": {},
                    "output_type": "display_data"
                },
                {
                    "name": "stdout",
                    "output_type": "stream",
                    "text": [
                        "BaseLSTM(\n",
                        "  (decoder): BaseLSTMDecoder(\n",
                        "    (rnn): LSTM(2, 40, num_layers=2, batch_first=True, dropout=0.1)\n",
                        "  )\n",
                        "  (distribution): LinearModel(\n",
                        "    (main): Sequential(\n",
                        "      (0): Linear(in_features=40, out_features=40, bias=True)\n",
                        "      (1): ReLU()\n",
                        "      (2): Linear(in_features=40, out_features=1, bias=True)\n",
                        "    )\n",
                        "  )\n",
                        ")\n",
                        "early stopping\n",
                        "Run cov-0-pearsn-0-pl-12-seed-42 finished\n"
                    ]
                },
                {
                    "name": "stderr",
                    "output_type": "stream",
                    "text": [
                        "wandb: WARNING Source type is set to 'repo' but some required information is missing from the environment. A job will not be created from this run. See https://docs.wandb.ai/guides/launch/create-job\n"
                    ]
                },
                {
                    "data": {
                        "application/vnd.jupyter.widget-view+json": {
                            "model_id": "ce13dee6426b49f985001a3d4e7df6ac",
                            "version_major": 2,
                            "version_minor": 0
                        },
                        "text/plain": [
                            "VBox(children=(Label(value='1.511 MB of 1.511 MB uploaded\\r'), FloatProgress(value=1.0, max=1.0)))"
                        ]
                    },
                    "metadata": {},
                    "output_type": "display_data"
                },
                {
                    "data": {
                        "text/html": [
                            "<style>\n",
                            "    table.wandb td:nth-child(1) { padding: 0 10px; text-align: left ; width: auto;} td:nth-child(2) {text-align: left ; width: 100%}\n",
                            "    .wandb-row { display: flex; flex-direction: row; flex-wrap: wrap; justify-content: flex-start; width: 100% }\n",
                            "    .wandb-col { display: flex; flex-direction: column; flex-basis: 100%; flex: 1; padding: 10px; }\n",
                            "    </style>\n",
                            "<div class=\"wandb-row\"><div class=\"wandb-col\"><h3>Run history:</h3><br/><table class=\"wandb\"><tr><td>abs_error</td><td>▁</td></tr><tr><td>abs_target_mean</td><td>▁</td></tr><tr><td>abs_target_sum</td><td>▁</td></tr><tr><td>mae</td><td>▁</td></tr><tr><td>mape</td><td>▁</td></tr><tr><td>mase</td><td>▁</td></tr><tr><td>mse</td><td>▁</td></tr><tr><td>nd</td><td>▁</td></tr><tr><td>rmse</td><td>▁</td></tr><tr><td>seasonal_error</td><td>▁</td></tr><tr><td>smape</td><td>▁</td></tr></table><br/></div><div class=\"wandb-col\"><h3>Run summary:</h3><br/><table class=\"wandb\"><tr><td>abs_error</td><td>165788.35938</td></tr><tr><td>abs_target_mean</td><td>273.96695</td></tr><tr><td>abs_target_sum</td><td>2521591.5</td></tr><tr><td>mae</td><td>18.01264</td></tr><tr><td>mape</td><td>0.17581</td></tr><tr><td>mase</td><td>0.78523</td></tr><tr><td>mse</td><td>2428.30225</td></tr><tr><td>nd</td><td>0.1758</td></tr><tr><td>rmse</td><td>21.96653</td></tr><tr><td>seasonal_error</td><td>29.75578</td></tr><tr><td>smape</td><td>0.17664</td></tr></table><br/></div></div>"
                        ],
                        "text/plain": [
                            "<IPython.core.display.HTML object>"
                        ]
                    },
                    "metadata": {},
                    "output_type": "display_data"
                },
                {
                    "data": {
                        "text/html": [
                            " View run <strong style=\"color:#cdcd00\">cov-0-pearsn-0-pl-12-seed-42</strong> at: <a href='https://wandb.ai/garethmd/base-lstm-hospital/runs/f5rylig9' target=\"_blank\">https://wandb.ai/garethmd/base-lstm-hospital/runs/f5rylig9</a><br/>Synced 5 W&B file(s), 1 media file(s), 17 artifact file(s) and 0 other file(s)"
                        ],
                        "text/plain": [
                            "<IPython.core.display.HTML object>"
                        ]
                    },
                    "metadata": {},
                    "output_type": "display_data"
                },
                {
                    "data": {
                        "text/html": [
                            "Find logs at: <code>./wandb/run-20240711_190707-f5rylig9/logs</code>"
                        ],
                        "text/plain": [
                            "<IPython.core.display.HTML object>"
                        ]
                    },
                    "metadata": {},
                    "output_type": "display_data"
                },
                {
                    "data": {
                        "image/png": "[encoded data removed]",
                        "text/plain": [
                            "<Figure size 1000x600 with 2 Axes>"
                        ]
                    },
                    "metadata": {},
                    "output_type": "display_data"
                }
            ],
            "source": [
                "for scenario in scenario_list[:1]:\n",
                "    nnts.torch.utils.seed_everything(scenario.seed)\n",
                "    df, scenario = covs.prepare(df_orig.copy(), scenario)\n",
                "    trn_dl, val_dl, test_dl = nnts.torch.utils.create_dataloaders(\n",
                "        df,\n",
                "        nnts.datasets.split_test_val_train_last_horizon,\n",
                "        metadata.context_length,\n",
                "        metadata.prediction_length,\n",
                "        Dataset=nnts.torch.datasets.TimeseriesDataset,\n",
                "        dataset_options={\n",
                "            \"context_length\": metadata.context_length,\n",
                "            \"prediction_length\": metadata.prediction_length,\n",
                "            \"conts\": scenario.conts,\n",
                "        },\n",
                "        batch_size=params.batch_size,\n",
                "    )\n",
                "\n",
                "    net = nnts.torch.models.BaseLSTM(\n",
                "        nnts.torch.models.LinearModel,\n",
                "        params,\n",
                "        preprocessing.masked_mean_abs_scaling,\n",
                "        scenario.covariates + 1,\n",
                "    )\n",
                "    logger = nnts.loggers.WandbRun(\n",
                "        project=f\"{model_name}-{metadata.dataset}\",\n",
                "        name=scenario.name,\n",
                "        config={\n",
                "            **params.__dict__,\n",
                "            **metadata.__dict__,\n",
                "            **scenario.__dict__,\n",
                "        },\n",
                "        path=PATH\n",
                "    )\n",
                "    trner = trainers.ValidationTorchEpochTrainer(\n",
                "        nnts.trainers.TrainerState(),\n",
                "        net,\n",
                "        params,\n",
                "        metadata,\n",
                "        os.path.join(PATH, f\"{scenario.name}.pt\"),\n",
                "        loss_fn=F.smooth_l1_loss,\n",
                "    )\n",
                "    logger.configure(trner.events)\n",
                "    evaluator = trner.train(trn_dl, val_dl)\n",
                "    handle = net.decoder.register_forward_hook(logger.log_activations)\n",
                "    y_hat, y = evaluator.evaluate(\n",
                "        test_dl, scenario.prediction_length, metadata.context_length, hooks=handle\n",
                "    )\n",
                "    handle.remove()\n",
                "    test_metrics = nnts.metrics.calc_metrics(\n",
                "        y, y_hat, nnts.metrics.calculate_seasonal_error(trn_dl, metadata)\n",
                "    )\n",
                "    logger.log(test_metrics)\n",
                "    logger.finish()"
            ]
        },
        {
            "cell_type": "code",
            "execution_count": null,
            "metadata": {},
            "outputs": [],
            "source": [
                "scenario = scenario_list[0]\n",
                "import torch\n",
                "import nnts.torch.trainers"
            ]
        },
        {
            "cell_type": "code",
            "execution_count": null,
            "metadata": {},
            "outputs": [],
            "source": [
                "nnts.torch.utils.seed_everything(scenario.seed)\n",
                "df, scenario = covs.prepare(df_orig.copy(), scenario)\n",
                "splitter = nnts.pandas.LastHorizonSplitter()\n",
                "split_data = splitter(df, metadata.context_length, metadata.prediction_length)\n",
                "_, _, test_dl = nnts.data.create_trn_val_test_dataloaders(\n",
                "    split_data,\n",
                "    metadata,\n",
                "    scenario,\n",
                "    params,\n",
                "    nnts.torch.data.TorchTimeseriesDataLoaderFactory(),\n",
                ")\n",
                "net = covs.model_factory(model_name, params, scenario, metadata)\n",
                "best_state_dict = torch.load(f\"{PATH}/{scenario.name}.pt\")\n",
                "net.load_state_dict(best_state_dict)\n",
                "\n",
                "class ActivationVisualizer:\n",
                "    def __init__(self):\n",
                "        self.activations = []\n",
                "\n",
                "    def hook_handler(self, module, input, output):\n",
                "        input_0 = output[0][0]\n",
                "        self.activations.append(input_0[:, -1].detach().cpu().numpy())\n",
                "\n",
                "visualiser = ActivationVisualizer()\n",
                "handle = net.decoder.register_forward_hook(visualiser.hook_handler)\n",
                "net.eval()"
            ]
        },
        {
            "cell_type": "code",
            "execution_count": null,
            "metadata": {},
            "outputs": [],
            "source": [
                "batch = next(iter(test_dl))"
            ]
        },
        {
            "cell_type": "code",
            "execution_count": null,
            "metadata": {},
            "outputs": [],
            "source": [
                "with torch.no_grad():\n",
                "    output = nnts.torch.models.trainers.validate(net, batch, scenario.prediction_length, metadata.context_length)"
            ]
        },
        {
            "cell_type": "code",
            "execution_count": null,
            "metadata": {},
            "outputs": [],
            "source": [
                "handle.remove()"
            ]
        },
        {
            "cell_type": "code",
            "execution_count": null,
            "metadata": {},
            "outputs": [],
            "source": [
                "import matplotlib.pyplot as plt\n",
                "import seaborn as sns"
            ]
        },
        {
            "cell_type": "code",
            "execution_count": null,
            "metadata": {},
            "outputs": [],
            "source": [
                "plt.figure(figsize=(10, 6))\n",
                "sns.heatmap(visualiser.activations, cmap=\"coolwarm\", linewidths=0.5)\n",
                "plt.show()"
            ]
        },
        {
            "cell_type": "code",
            "execution_count": null,
            "metadata": {},
            "outputs": [],
            "source": [
                "batch[\"X\"][0, : metadata.context_length, ...].cpu().numpy(), batch[\"X\"][\n",
                "    0, - scenario.prediction_length:, ...\n",
                "].cpu().numpy()"
            ]
        },
        {
            "cell_type": "code",
            "execution_count": null,
            "metadata": {},
            "outputs": [],
            "source": [
                "output[0][0]"
            ]
        },
        {
            "cell_type": "code",
            "execution_count": null,
            "metadata": {},
            "outputs": [],
            "source": [
                "plt.figure(figsize=(10, 6))\n",
                "sns.heatmap(output[0][0], cmap=\"coolwarm\", linewidths=0.5)\n",
                "plt.show()"
            ]
        },
        {
            "cell_type": "code",
            "execution_count": null,
            "metadata": {},
            "outputs": [],
            "source": [
                "plt.figure(figsize=(10, 6))\n",
                "sns.heatmap([ v[-1:] for v in visualiser.activations], cmap=\"coolwarm\", linewidths=0.5)\n",
                "plt.show()"
            ]
        },
        {
            "cell_type": "code",
            "execution_count": null,
            "metadata": {},
            "outputs": [],
            "source": [
                "plt.figure(figsize=(10, 6))\n",
                "sns.heatmap([v[-2:] for v in visualiser.activations], cmap=\"coolwarm\", linewidths=0.5)\n",
                "plt.show()"
            ]
        },
        {
            "cell_type": "code",
            "execution_count": null,
            "metadata": {},
            "outputs": [],
            "source": [
                "import nnts.datasets\n",
                "\n",
                "\n",
                "csv_aggregator = nnts.datasets.CSVFileAggregator(PATH, \"results\")\n",
                "results = csv_aggregator()"
            ]
        },
        {
            "cell_type": "code",
            "execution_count": null,
            "metadata": {},
            "outputs": [],
            "source": [
                "import nnts.experiments\n",
                "import nnts.experiments.plotting\n",
                "\n",
                "\n",
                "df_list = covs.add_y_hat(df, y_hat, scenario.prediction_length)\n",
                "sample_preds = nnts.experiments.plotting.plot(df_list, scenario.prediction_length)"
            ]
        },
        {
            "cell_type": "code",
            "execution_count": null,
            "metadata": {},
            "outputs": [],
            "source": [
                "univariate_results = results.loc[\n",
                "    (results[\"covariates\"] == 0)\n",
                "    & (results[\"prediction_length\"] == metadata.prediction_length),\n",
                "    [\"smape\", \"mape\", \"rmse\", \"mae\"],\n",
                "]\n",
                "\n",
                "univariate_results.mean(), univariate_results.std(), univariate_results.count()"
            ]
        },
        {
            "cell_type": "code",
            "execution_count": null,
            "metadata": {},
            "outputs": [],
            "source": [
                "cols = [\"dataset\", \"error\", \"pearson\", \"covariates\", \"prediction_length\", \"smape\"]"
            ]
        },
        {
            "cell_type": "code",
            "execution_count": null,
            "metadata": {},
            "outputs": [],
            "source": [
                "results.loc[\n",
                "    (results[\"covariates\"] > 0)\n",
                "    & (results[\"error\"].isin([0.000000, 0.4714285714285714, 1.65])),\n",
                "    cols,\n",
                "].sort_values(by=[\"covariates\", \"error\"])"
            ]
        },
        {
            "cell_type": "code",
            "execution_count": null,
            "metadata": {},
            "outputs": [],
            "source": [
                "sorted(results[\"error\"].unique().tolist())"
            ]
        }
    ],
    "metadata": {
        "kernelspec": {
            "display_name": "venv",
            "language": "python",
            "name": "python3"
        },
        "language_info": {
            "codemirror_mode": {
                "name": "ipython",
                "version": 3
            },
            "file_extension": ".py",
            "mimetype": "text/x-python",
            "name": "python",
            "nbconvert_exporter": "python",
            "pygments_lexer": "ipython3",
            "version": "3.11.8"
        }
    },
    "nbformat": 4,
    "nbformat_minor": 2
}