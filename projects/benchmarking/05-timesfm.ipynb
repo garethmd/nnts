{
 "cells": [
  {
   "cell_type": "code",
   "execution_count": 4,
   "metadata": {},
   "outputs": [
    {
     "name": "stderr",
     "output_type": "stream",
     "text": [
      "Python(98463) MallocStackLogging: can't turn off malloc stack logging because it was not enabled.\n",
      "Python(98481) MallocStackLogging: can't turn off malloc stack logging because it was not enabled.\n",
      "Python(98482) MallocStackLogging: can't turn off malloc stack logging because it was not enabled.\n"
     ]
    }
   ],
   "source": [
    "import nnts\n",
    "import nnts.data\n",
    "import nnts.plotting\n",
    "import nnts.torch.preprocessing\n",
    "import nnts.torch.models\n",
    "import nnts.metrics\n",
    "import nnts.torch.datasets\n",
    "import nnts.loggers\n",
    "import nnts.datasets\n",
    "from nnts import utils\n",
    "import nnts.torch.utils\n",
    "import nnts.torch.trainers\n",
    "import nnts.metrics\n",
    "import nnts.torch\n",
    "\n",
    "import torch\n",
    "torch.set_printoptions(precision=8, sci_mode=False)\n",
    "%load_ext autoreload\n",
    "%autoreload 2"
   ]
  },
  {
   "cell_type": "code",
   "execution_count": 5,
   "metadata": {},
   "outputs": [],
   "source": [
    "df, metadata = nnts.datasets.load_dataset(\"tourism_monthly\")"
   ]
  },
  {
   "cell_type": "code",
   "execution_count": 6,
   "metadata": {},
   "outputs": [
    {
     "data": {
      "text/html": [
       "<div>\n",
       "<style scoped>\n",
       "    .dataframe tbody tr th:only-of-type {\n",
       "        vertical-align: middle;\n",
       "    }\n",
       "\n",
       "    .dataframe tbody tr th {\n",
       "        vertical-align: top;\n",
       "    }\n",
       "\n",
       "    .dataframe thead th {\n",
       "        text-align: right;\n",
       "    }\n",
       "</style>\n",
       "<table border=\"1\" class=\"dataframe\">\n",
       "  <thead>\n",
       "    <tr style=\"text-align: right;\">\n",
       "      <th></th>\n",
       "      <th>y</th>\n",
       "      <th>ds</th>\n",
       "      <th>unique_id</th>\n",
       "    </tr>\n",
       "  </thead>\n",
       "  <tbody>\n",
       "    <tr>\n",
       "      <th>0</th>\n",
       "      <td>1149.8700</td>\n",
       "      <td>1979-01-31</td>\n",
       "      <td>T1</td>\n",
       "    </tr>\n",
       "    <tr>\n",
       "      <th>1</th>\n",
       "      <td>1053.8002</td>\n",
       "      <td>1979-02-28</td>\n",
       "      <td>T1</td>\n",
       "    </tr>\n",
       "    <tr>\n",
       "      <th>2</th>\n",
       "      <td>1388.8798</td>\n",
       "      <td>1979-03-31</td>\n",
       "      <td>T1</td>\n",
       "    </tr>\n",
       "    <tr>\n",
       "      <th>3</th>\n",
       "      <td>1783.3702</td>\n",
       "      <td>1979-04-30</td>\n",
       "      <td>T1</td>\n",
       "    </tr>\n",
       "    <tr>\n",
       "      <th>4</th>\n",
       "      <td>1921.0252</td>\n",
       "      <td>1979-05-31</td>\n",
       "      <td>T1</td>\n",
       "    </tr>\n",
       "    <tr>\n",
       "      <th>...</th>\n",
       "      <td>...</td>\n",
       "      <td>...</td>\n",
       "      <td>...</td>\n",
       "    </tr>\n",
       "    <tr>\n",
       "      <th>235</th>\n",
       "      <td>7778.0000</td>\n",
       "      <td>2000-08-31</td>\n",
       "      <td>T366</td>\n",
       "    </tr>\n",
       "    <tr>\n",
       "      <th>236</th>\n",
       "      <td>7859.0000</td>\n",
       "      <td>2000-09-30</td>\n",
       "      <td>T366</td>\n",
       "    </tr>\n",
       "    <tr>\n",
       "      <th>237</th>\n",
       "      <td>4802.0000</td>\n",
       "      <td>2000-10-31</td>\n",
       "      <td>T366</td>\n",
       "    </tr>\n",
       "    <tr>\n",
       "      <th>238</th>\n",
       "      <td>2426.0000</td>\n",
       "      <td>2000-11-30</td>\n",
       "      <td>T366</td>\n",
       "    </tr>\n",
       "    <tr>\n",
       "      <th>239</th>\n",
       "      <td>637.0000</td>\n",
       "      <td>2000-12-31</td>\n",
       "      <td>T366</td>\n",
       "    </tr>\n",
       "  </tbody>\n",
       "</table>\n",
       "<p>109280 rows × 3 columns</p>\n",
       "</div>"
      ],
      "text/plain": [
       "             y          ds unique_id\n",
       "0    1149.8700  1979-01-31        T1\n",
       "1    1053.8002  1979-02-28        T1\n",
       "2    1388.8798  1979-03-31        T1\n",
       "3    1783.3702  1979-04-30        T1\n",
       "4    1921.0252  1979-05-31        T1\n",
       "..         ...         ...       ...\n",
       "235  7778.0000  2000-08-31      T366\n",
       "236  7859.0000  2000-09-30      T366\n",
       "237  4802.0000  2000-10-31      T366\n",
       "238  2426.0000  2000-11-30      T366\n",
       "239   637.0000  2000-12-31      T366\n",
       "\n",
       "[109280 rows x 3 columns]"
      ]
     },
     "execution_count": 6,
     "metadata": {},
     "output_type": "execute_result"
    }
   ],
   "source": [
    "df"
   ]
  },
  {
   "cell_type": "code",
   "execution_count": 17,
   "metadata": {},
   "outputs": [],
   "source": [
    "metadata.context_length = 32"
   ]
  },
  {
   "cell_type": "code",
   "execution_count": 18,
   "metadata": {},
   "outputs": [],
   "source": [
    "test_df = df.groupby(\"unique_id\").tail(metadata.context_length+metadata.prediction_length)\n",
    "test_df.to_csv(\"test.csv\", index=False)"
   ]
  },
  {
   "cell_type": "code",
   "execution_count": 19,
   "metadata": {},
   "outputs": [],
   "source": [
    "ctx_df = test_df.groupby(\"unique_id\").head(metadata.context_length)\n",
    "ctx_df.to_csv(\"context.csv\", index=False)"
   ]
  },
  {
   "cell_type": "code",
   "execution_count": null,
   "metadata": {},
   "outputs": [],
   "source": []
  }
 ],
 "metadata": {
  "kernelspec": {
   "display_name": "venv",
   "language": "python",
   "name": "python3"
  },
  "language_info": {
   "codemirror_mode": {
    "name": "ipython",
    "version": 3
   },
   "file_extension": ".py",
   "mimetype": "text/x-python",
   "name": "python",
   "nbconvert_exporter": "python",
   "pygments_lexer": "ipython3",
   "version": "3.11.8"
  }
 },
 "nbformat": 4,
 "nbformat_minor": 2
}
