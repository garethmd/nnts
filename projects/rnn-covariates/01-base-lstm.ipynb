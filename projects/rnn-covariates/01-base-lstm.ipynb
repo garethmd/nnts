{
 "cells": [
  {
   "cell_type": "code",
   "execution_count": null,
   "metadata": {},
   "outputs": [],
   "source": [
    "import matplotlib.pyplot as plt\n",
    "from typing import List\n",
    "import seaborn as sns\n",
    "\n",
    "import nnts\n",
    "import nnts.data\n",
    "import nnts.experiments\n",
    "import nnts.models\n",
    "import nnts.torch.data.preprocessing as preprocessing\n",
    "import nnts.torch.models\n",
    "import nnts.torch.models.trainers as trainers\n",
    "import nnts.metrics\n",
    "import nnts.torch.data\n",
    "import nnts.torch.data.datasets\n",
    "import nnts.loggers\n",
    "import nnts.pandas\n",
    "import covs \n",
    "\n",
    "sns.set()"
   ]
  },
  {
   "cell_type": "code",
   "execution_count": null,
   "metadata": {},
   "outputs": [],
   "source": [
    "data_path = \"data/hospital_dataset.tsf\"\n",
    "model_name = \"base-lstm\"\n",
    "dataset_name = \"hospital\"\n",
    "results_path = \"nb-results\"\n",
    "metadata = nnts.data.metadata.load(dataset_name, path=f\"{model_name}-monash.json\")\n",
    "PATH = f\"{results_path}/{model_name}/{metadata.dataset}\"\n",
    "df_orig, *_ = nnts.pandas.read_tsf(data_path)\n",
    "params = nnts.models.Hyperparams()\n",
    "splitter = nnts.data.PandasSplitter()\n",
    "\n",
    "nnts.loggers.makedirs_if_not_exists(PATH)"
   ]
  },
  {
   "cell_type": "code",
   "execution_count": null,
   "metadata": {},
   "outputs": [],
   "source": [
    "scenario_list: List[nnts.experiments.CovariateScenario] = []\n",
    "\n",
    "# Add the baseline scenarios\n",
    "for seed in [42, 43, 44, 45, 46]:\n",
    "    scenario_list.append(\n",
    "        nnts.experiments.CovariateScenario(metadata.prediction_length, error=0.0, covariates=0, seed=seed)\n",
    "    )\n",
    "## Models for full forecast horizon with covariates\n",
    "for covariates in [1, 2, 3]:\n",
    "    for error in covs.errors[metadata.dataset]:\n",
    "        scenario_list.append( \n",
    "            nnts.experiments.CovariateScenario(\n",
    "                metadata.prediction_length, error, covariates=covariates\n",
    "            )\n",
    "        )\n",
    "\n",
    "scenario_list.append( \n",
    "    nnts.experiments.CovariateScenario(\n",
    "        metadata.prediction_length, 0, covariates=3, skip=1\n",
    "    )\n",
    ")"
   ]
  },
  {
   "cell_type": "code",
   "execution_count": null,
   "metadata": {},
   "outputs": [],
   "source": [
    "for scenario in scenario_list:\n",
    "    nnts.torch.data.datasets.seed_everything(scenario.seed)\n",
    "    df, scenario = covs.prepare(df_orig.copy(), scenario)\n",
    "    split_data = splitter.split(df, metadata)\n",
    "    trn_dl, val_dl, test_dl = nnts.data.map_to_dataloaders(\n",
    "        split_data,\n",
    "        metadata,\n",
    "        scenario,\n",
    "        params,\n",
    "        nnts.torch.data.TorchTimeseriesDataLoaderFactory(),\n",
    "    )\n",
    "    logger = nnts.loggers.ProjectRun(\n",
    "        nnts.loggers.JsonFileHandler(\n",
    "            path=PATH, filename=f\"{scenario.name}.json\"\n",
    "        ),\n",
    "        project=f\"{model_name}-{metadata.dataset}\",\n",
    "        run=scenario.name,\n",
    "        config={\n",
    "            **params.__dict__,\n",
    "            **metadata.__dict__,\n",
    "            **scenario.__dict__,\n",
    "        },\n",
    "    )\n",
    "\n",
    "    net = nnts.torch.models.BaseLSTM(\n",
    "        nnts.torch.models.LinearModel,\n",
    "        params,\n",
    "        preprocessing.masked_mean_abs_scaling,\n",
    "        scenario.covariates + 1,\n",
    "    )\n",
    "    trner = trainers.TorchEpochTrainer(\n",
    "        nnts.models.TrainerState(), \n",
    "        net, \n",
    "        params, \n",
    "        metadata, \n",
    "        f\"{PATH}/{scenario.name}.pt\",\n",
    "        logger=logger\n",
    "    )\n",
    "    evaluator = trner.train(trn_dl, val_dl)\n",
    "    y_hat, y  = evaluator.evaluate(\n",
    "        test_dl, scenario.prediction_length, metadata.context_length\n",
    "    )\n",
    "    test_metrics = nnts.metrics.calc_metrics(\n",
    "        y, y_hat, metadata.freq, metadata.seasonality\n",
    "    )\n",
    "    logger.log(test_metrics)\n",
    "    logger.finish()"
   ]
  },
  {
   "cell_type": "code",
   "execution_count": null,
   "metadata": {},
   "outputs": [],
   "source": [
    "csv_aggregator = covs.CSVFileAggregator(PATH, \"results\")\n",
    "results = csv_aggregator()"
   ]
  },
  {
   "cell_type": "code",
   "execution_count": null,
   "metadata": {},
   "outputs": [],
   "source": [
    "df_list = covs.add_y_hat(df, y_hat, scenario.prediction_length)\n",
    "sample_preds = covs.plot(df_list, scenario.prediction_length)"
   ]
  },
  {
   "cell_type": "code",
   "execution_count": null,
   "metadata": {},
   "outputs": [],
   "source": [
    "univariate_results = results.loc[\n",
    "    (results[\"covariates\"] == 0)\n",
    "    & (results[\"prediction_length\"] == metadata.prediction_length),\n",
    "    [\"smape\", \"mape\", \"rmse\", \"mae\"],\n",
    "]\n",
    "\n",
    "univariate_results.mean(), univariate_results.std(), univariate_results.count()"
   ]
  },
  {
   "cell_type": "code",
   "execution_count": null,
   "metadata": {},
   "outputs": [],
   "source": [
    "cols = [\"dataset\", \"error\", \"pearson\", \"covariates\", \"prediction_length\", \"smape\"]"
   ]
  },
  {
   "cell_type": "code",
   "execution_count": null,
   "metadata": {},
   "outputs": [],
   "source": [
    "results.loc[\n",
    "    (results[\"covariates\"] > 0)\n",
    "    & (results[\"error\"].isin([0.000000, 0.4714285714285714, 1.65])),\n",
    "    cols,\n",
    "].sort_values(by=[\"covariates\", \"error\"])"
   ]
  },
  {
   "cell_type": "code",
   "execution_count": null,
   "metadata": {},
   "outputs": [],
   "source": [
    "sorted(results[\"error\"].unique().tolist())"
   ]
  },
  {
   "cell_type": "code",
   "execution_count": null,
   "metadata": {},
   "outputs": [],
   "source": []
  }
 ],
 "metadata": {
  "kernelspec": {
   "display_name": "venv",
   "language": "python",
   "name": "python3"
  },
  "language_info": {
   "codemirror_mode": {
    "name": "ipython",
    "version": 3
   },
   "file_extension": ".py",
   "mimetype": "text/x-python",
   "name": "python",
   "nbconvert_exporter": "python",
   "pygments_lexer": "ipython3",
   "version": "3.11.8"
  }
 },
 "nbformat": 4,
 "nbformat_minor": 2
}
