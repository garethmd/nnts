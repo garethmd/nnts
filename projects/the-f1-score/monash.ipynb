{
 "cells": [
  {
   "cell_type": "code",
   "execution_count": 15,
   "metadata": {},
   "outputs": [],
   "source": [
    "import pandas as pd\n",
    "import numpy as np"
   ]
  },
  {
   "cell_type": "code",
   "execution_count": 16,
   "metadata": {},
   "outputs": [],
   "source": [
    "df = pd.read_csv('monash-deepar.csv')"
   ]
  },
  {
   "cell_type": "code",
   "execution_count": 19,
   "metadata": {},
   "outputs": [
    {
     "name": "stderr",
     "output_type": "stream",
     "text": [
      "/var/folders/8w/2dpk8lsx6hl861tqrs31bxb80000gn/T/ipykernel_96785/1030152571.py:1: FutureWarning: The provided callable <function mean at 0x10accbe20> is currently using SeriesGroupBy.mean. In a future version of pandas, the provided callable will be used directly. To keep current behavior pass the string \"mean\" instead.\n",
      "  df.groupby('dataset')[['sMAPE', 'MASE']].agg([np.mean, np.std]).to_csv('gluonts-deepar.csv')\n",
      "/var/folders/8w/2dpk8lsx6hl861tqrs31bxb80000gn/T/ipykernel_96785/1030152571.py:1: FutureWarning: The provided callable <function std at 0x10accbf60> is currently using SeriesGroupBy.std. In a future version of pandas, the provided callable will be used directly. To keep current behavior pass the string \"std\" instead.\n",
      "  df.groupby('dataset')[['sMAPE', 'MASE']].agg([np.mean, np.std]).to_csv('gluonts-deepar.csv')\n",
      "/var/folders/8w/2dpk8lsx6hl861tqrs31bxb80000gn/T/ipykernel_96785/1030152571.py:1: FutureWarning: The provided callable <function mean at 0x10accbe20> is currently using SeriesGroupBy.mean. In a future version of pandas, the provided callable will be used directly. To keep current behavior pass the string \"mean\" instead.\n",
      "  df.groupby('dataset')[['sMAPE', 'MASE']].agg([np.mean, np.std]).to_csv('gluonts-deepar.csv')\n"
     ]
    }
   ],
   "source": [
    "df.groupby('dataset')[['sMAPE', 'MASE']].agg([np.mean, np.std]).to_csv('gluonts-deepar.csv')"
   ]
  },
  {
   "cell_type": "code",
   "execution_count": 21,
   "metadata": {},
   "outputs": [],
   "source": [
    "import torch"
   ]
  },
  {
   "cell_type": "code",
   "execution_count": 22,
   "metadata": {},
   "outputs": [],
   "source": [
    "past_data = torch.load('past_data.pt')"
   ]
  },
  {
   "cell_type": "code",
   "execution_count": 35,
   "metadata": {},
   "outputs": [],
   "source": [
    "past_data.shape\n",
    "forecast_freq = 7"
   ]
  },
  {
   "cell_type": "code",
   "execution_count": 36,
   "metadata": {},
   "outputs": [],
   "source": [
    "y_t = past_data[:-forecast_freq]\n",
    "y_tm = past_data[forecast_freq:]"
   ]
  },
  {
   "cell_type": "code",
   "execution_count": 37,
   "metadata": {},
   "outputs": [
    {
     "data": {
      "text/plain": [
       "tensor(15.0758)"
      ]
     },
     "execution_count": 37,
     "metadata": {},
     "output_type": "execute_result"
    }
   ],
   "source": [
    "(y_t - y_tm).abs().mean()"
   ]
  },
  {
   "cell_type": "code",
   "execution_count": 34,
   "metadata": {},
   "outputs": [
    {
     "data": {
      "text/plain": [
       "tensor(4.5176)"
      ]
     },
     "execution_count": 34,
     "metadata": {},
     "output_type": "execute_result"
    }
   ],
   "source": [
    "#freq = 1\n",
    "(y_t - y_tm).abs().mean()"
   ]
  },
  {
   "cell_type": "code",
   "execution_count": 29,
   "metadata": {},
   "outputs": [
    {
     "data": {
      "text/plain": [
       "tensor([17.0000, 17.0000, 16.1000,  ..., 61.1000, 51.9000, 40.4000])"
      ]
     },
     "execution_count": 29,
     "metadata": {},
     "output_type": "execute_result"
    }
   ],
   "source": [
    "y_tm"
   ]
  },
  {
   "cell_type": "code",
   "execution_count": 38,
   "metadata": {},
   "outputs": [],
   "source": [
    "keys = [\n",
    "    \"us_births\",\n",
    "    \"tourism_monthly\",\n",
    "    \"hospital\",\n",
    "    \"solar\",\n",
    "    \"electricity_hourly\",\n",
    "    \"traffic_weekly\",\n",
    "    \"traffic_hourly\",\n",
    "    \"weather\",\n",
    "    \"m4_hourly\",\n",
    "    \"fred_md\",\n",
    "    \"m1_monthly\",\n",
    "    \"m1_quarterly\",\n",
    "    \"m1_yearly\",\n",
    "    \"m3_monthly\",\n",
    "    \"m3_quarterly\",\n",
    "    \"m3_yearly\",\n",
    "    \"m4_daily\",\n",
    "    \"m4_monthly\",\n",
    "    \"m4_weekly\",\n",
    "    \"m4_quarterly\",\n",
    "    \"m4_yearly\",\n",
    "    \"tourism_quarterly\",\n",
    "    \"tourism_yearly\",\n",
    "    \"cif_2016\",\n",
    "    \"australian_electricity_demand\",\n",
    "    \"dominick\",\n",
    "    \"bitcoin\",\n",
    "    \"pedestrian_counts\",\n",
    "    \"vehicle_trips\",\n",
    "    \"kdd_cup\",\n",
    "    \"nn5_daily\",\n",
    "    \"nn5_weekly\",\n",
    "    \"kaggle_web_traffic\",\n",
    "    \"solar_10_minutes\",\n",
    "    \"solar_weekly\",\n",
    "    \"electricity_weekly\",\n",
    "    \"car_parts\",\n",
    "    \"traffic_weekly\",\n",
    "    \"rideshare\",\n",
    "    \"covid_deaths\",\n",
    "    \"temperature_rain\",\n",
    "    \"sunspot\",\n",
    "    \"saugeen_river_flow\",\n",
    "]"
   ]
  },
  {
   "cell_type": "code",
   "execution_count": 39,
   "metadata": {},
   "outputs": [
    {
     "data": {
      "text/plain": [
       "['australian_electricity_demand',\n",
       " 'bitcoin',\n",
       " 'car_parts',\n",
       " 'cif_2016',\n",
       " 'covid_deaths',\n",
       " 'dominick',\n",
       " 'electricity_daily',\n",
       " 'electricity_weekly',\n",
       " 'fred_md',\n",
       " 'hospital',\n",
       " 'kaggle_web_traffic',\n",
       " 'kdd_cup',\n",
       " 'm1_monthly',\n",
       " 'm1_quarterly',\n",
       " 'm1_yearly',\n",
       " 'm3_monthly',\n",
       " 'm3_quarterly',\n",
       " 'm3_yearly',\n",
       " 'm4_daily',\n",
       " 'm4_hourly',\n",
       " 'm4_monthly',\n",
       " 'm4_quarterly',\n",
       " 'm4_weekly',\n",
       " 'm4_yearly',\n",
       " 'nn5_daily',\n",
       " 'nn5_weekly',\n",
       " 'pedestrian_counts',\n",
       " 'rideshare',\n",
       " 'saugeen_river_flow',\n",
       " 'solar',\n",
       " 'solar_10_minutes',\n",
       " 'solar_weekly',\n",
       " 'sunspot',\n",
       " 'temperature_rain',\n",
       " 'tourism_monthly',\n",
       " 'tourism_quarterly',\n",
       " 'tourism_yearly',\n",
       " 'traffic_hourly',\n",
       " 'traffic_weekly',\n",
       " 'traffic_weekly',\n",
       " 'us_births',\n",
       " 'vehicle_trips',\n",
       " 'weather']"
      ]
     },
     "execution_count": 39,
     "metadata": {},
     "output_type": "execute_result"
    }
   ],
   "source": [
    "sorted(keys)"
   ]
  },
  {
   "cell_type": "code",
   "execution_count": null,
   "metadata": {},
   "outputs": [],
   "source": []
  }
 ],
 "metadata": {
  "kernelspec": {
   "display_name": "venv",
   "language": "python",
   "name": "python3"
  },
  "language_info": {
   "codemirror_mode": {
    "name": "ipython",
    "version": 3
   },
   "file_extension": ".py",
   "mimetype": "text/x-python",
   "name": "python",
   "nbconvert_exporter": "python",
   "pygments_lexer": "ipython3",
   "version": "3.11.8"
  }
 },
 "nbformat": 4,
 "nbformat_minor": 2
}
