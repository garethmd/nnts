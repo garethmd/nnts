{
    "cells": [
        {
            "cell_type": "code",
            "execution_count": 1,
            "metadata": {},
            "outputs": [
                {
                    "name": "stderr",
                    "output_type": "stream",
                    "text": [
                        "/Users/garethdavies/Development/workspaces/nnts/venv/lib/python3.11/site-packages/gluonts/json.py:101: UserWarning: Using `json`-module for json-handling. Consider installing one of `orjson`, `ujson` to speed up serialization and deserialization.\n",
                        "  warnings.warn(\n"
                    ]
                }
            ],
            "source": [
                "from typing import List\n",
                "import seaborn as sns\n",
                "import os\n",
                "\n",
                "import nnts\n",
                "import nnts.data\n",
                "import nnts.experiments\n",
                "from nnts import utils\n",
                "import nnts.torch.preprocessing as preprocessing\n",
                "import nnts.torch.trainers\n",
                "import nnts.torch.models\n",
                "import nnts.metrics\n",
                "import nnts.torch.datasets\n",
                "import nnts.loggers\n",
                "import nnts.pandas\n",
                "import nnts.trainers\n",
                "import nnts.torch.utils\n",
                "import covs \n",
                "import torch.nn.functional as F\n",
                "\n",
                "sns.set()"
            ]
        },
        {
            "cell_type": "code",
            "execution_count": 2,
            "metadata": {},
            "outputs": [],
            "source": [
                "data_path = \"data\"\n",
                "model_name = \"base-lstm\"\n",
                "dataset_name = \"hospital\"\n",
                "results_path = \"nb-results\"\n",
                "metadata_path = os.path.join(data_path, f\"{model_name}-monash.json\")\n",
                "metadata = utils.load(dataset_name, path=metadata_path)\n",
                "datafile_path = os.path.join(data_path, metadata.filename)\n",
                "PATH = os.path.join(results_path, model_name, metadata.dataset)\n",
                "\n",
                "df_orig, *_ = nnts.pandas.read_tsf(datafile_path)\n",
                "params = utils.Hyperparams()\n",
                "\n",
                "nnts.loggers.makedirs_if_not_exists(PATH)"
            ]
        },
        {
            "cell_type": "code",
            "execution_count": 3,
            "metadata": {},
            "outputs": [
                {
                    "data": {
                        "text/plain": [
                            "Hyperparams(input_dim=1, hidden_dim=40, n_layers=2, dropout=0.1, output_dim=1, batch_size=128, lr=0.001, epochs=100, patience=10, rnn_type='lstm', early_stopper_patience=30, batches_per_epoch=200, weight_decay=1e-08, training_method=<TrainingMethod.TEACHER_FORCING: 1>, optimizer=None, scheduler=<Scheduler.ONE_CYCLE: 1>)"
                        ]
                    },
                    "execution_count": 3,
                    "metadata": {},
                    "output_type": "execute_result"
                }
            ],
            "source": [
                "params"
            ]
        },
        {
            "cell_type": "code",
            "execution_count": 7,
            "metadata": {},
            "outputs": [],
            "source": [
                "scenario_list: List[nnts.experiments.CovariateScenario] = []\n",
                "\n",
                "# Add the baseline scenarios\n",
                "for seed in [42, 43, 44, 45, 46]:\n",
                "    scenario_list.append(\n",
                "        nnts.experiments.CovariateScenario(metadata.prediction_length, error=0.0, covariates=0, seed=seed)\n",
                "    )\n",
                "## Models for full forecast horizon with covariates\n",
                "for covariates in [1, 2, 3]:\n",
                "    for error in covs.errors[metadata.dataset]:\n",
                "        scenario_list.append( \n",
                "            nnts.experiments.CovariateScenario(\n",
                "                metadata.prediction_length, error, covariates=covariates\n",
                "            )\n",
                "        )\n",
                "\n",
                "scenario_list.append( \n",
                "    nnts.experiments.CovariateScenario(\n",
                "        metadata.prediction_length, 0, covariates=3, skip=1\n",
                "    )\n",
                ")"
            ]
        },
        {
            "cell_type": "code",
            "execution_count": 6,
            "metadata": {},
            "outputs": [
                {
                    "name": "stderr",
                    "output_type": "stream",
                    "text": [
                        "Failed to detect the name of this notebook, you can set it manually with the WANDB_NOTEBOOK_NAME environment variable to enable code saving.\n",
                        "\u001b[34m\u001b[1mwandb\u001b[0m: Currently logged in as: \u001b[33mgarethmd\u001b[0m. Use \u001b[1m`wandb login --relogin`\u001b[0m to force relogin\n"
                    ]
                },
                {
                    "data": {
                        "text/html": [
                            "wandb version 0.17.4 is available!  To upgrade, please run:\n",
                            " $ pip install wandb --upgrade"
                        ],
                        "text/plain": [
                            "<IPython.core.display.HTML object>"
                        ]
                    },
                    "metadata": {},
                    "output_type": "display_data"
                },
                {
                    "data": {
                        "text/html": [
                            "Tracking run with wandb version 0.16.4"
                        ],
                        "text/plain": [
                            "<IPython.core.display.HTML object>"
                        ]
                    },
                    "metadata": {},
                    "output_type": "display_data"
                },
                {
                    "data": {
                        "text/html": [
                            "Run data is saved locally in <code>/Users/garethdavies/Development/workspaces/nnts/projects/rnn-covariates/wandb/run-20240707_122326-d9bv7f53</code>"
                        ],
                        "text/plain": [
                            "<IPython.core.display.HTML object>"
                        ]
                    },
                    "metadata": {},
                    "output_type": "display_data"
                },
                {
                    "data": {
                        "text/html": [
                            "Syncing run <strong><a href='https://wandb.ai/garethmd/base-lstm-hospital/runs/d9bv7f53' target=\"_blank\">cov-0-pearsn-0-pl-12-seed-42</a></strong> to <a href='https://wandb.ai/garethmd/base-lstm-hospital' target=\"_blank\">Weights & Biases</a> (<a href='https://wandb.me/run' target=\"_blank\">docs</a>)<br/>"
                        ],
                        "text/plain": [
                            "<IPython.core.display.HTML object>"
                        ]
                    },
                    "metadata": {},
                    "output_type": "display_data"
                },
                {
                    "data": {
                        "text/html": [
                            " View project at <a href='https://wandb.ai/garethmd/base-lstm-hospital' target=\"_blank\">https://wandb.ai/garethmd/base-lstm-hospital</a>"
                        ],
                        "text/plain": [
                            "<IPython.core.display.HTML object>"
                        ]
                    },
                    "metadata": {},
                    "output_type": "display_data"
                },
                {
                    "data": {
                        "text/html": [
                            " View run at <a href='https://wandb.ai/garethmd/base-lstm-hospital/runs/d9bv7f53' target=\"_blank\">https://wandb.ai/garethmd/base-lstm-hospital/runs/d9bv7f53</a>"
                        ],
                        "text/plain": [
                            "<IPython.core.display.HTML object>"
                        ]
                    },
                    "metadata": {},
                    "output_type": "display_data"
                },
                {
                    "name": "stdout",
                    "output_type": "stream",
                    "text": [
                        "BaseLSTM(\n",
                        "  (decoder): BaseLSTMDecoder(\n",
                        "    (rnn): LSTM(2, 40, num_layers=2, batch_first=True, dropout=0.1)\n",
                        "  )\n",
                        "  (distribution): LinearModel(\n",
                        "    (main): Sequential(\n",
                        "      (0): Linear(in_features=40, out_features=40, bias=True)\n",
                        "      (1): ReLU()\n",
                        "      (2): Linear(in_features=40, out_features=1, bias=True)\n",
                        "    )\n",
                        "  )\n",
                        ")\n",
                        "Epoch 1 Train Loss: 149.5746307373047\n",
                        "Epoch 1 train loss: 149.5746307373047, valid loss: 20.862897872924805\n",
                        "Epoch 2 Train Loss: 38.09552001953125\n",
                        "Epoch 2 train loss: 38.09552001953125, valid loss: 22.999542236328125\n",
                        "Epoch 3 Train Loss: 31.499155044555664\n",
                        "Epoch 3 train loss: 31.499155044555664, valid loss: 21.596559524536133\n",
                        "Epoch 4 Train Loss: 27.973142623901367\n",
                        "Epoch 4 train loss: 27.973142623901367, valid loss: 19.644330978393555\n",
                        "Epoch 5 Train Loss: 24.655540466308594\n",
                        "Epoch 5 train loss: 24.655540466308594, valid loss: 21.359304428100586\n",
                        "Epoch 6 Train Loss: 25.593416213989258\n",
                        "Epoch 6 train loss: 25.593416213989258, valid loss: 20.231035232543945\n",
                        "Epoch 7 Train Loss: 22.837129592895508\n",
                        "Epoch 7 train loss: 22.837129592895508, valid loss: 22.20810890197754\n",
                        "Epoch 8 Train Loss: 22.201393127441406\n",
                        "Epoch 8 train loss: 22.201393127441406, valid loss: 23.2808780670166\n",
                        "Epoch 9 Train Loss: 22.2464599609375\n",
                        "Epoch 9 train loss: 22.2464599609375, valid loss: 23.954147338867188\n",
                        "Epoch 10 Train Loss: 22.692968368530273\n",
                        "Epoch 10 train loss: 22.692968368530273, valid loss: 22.413856506347656\n",
                        "Epoch 11 Train Loss: 21.166156768798828\n",
                        "Epoch 11 train loss: 21.166156768798828, valid loss: 19.959651947021484\n",
                        "Epoch 12 Train Loss: 20.515352249145508\n",
                        "Epoch 12 train loss: 20.515352249145508, valid loss: 20.340856552124023\n",
                        "Epoch 13 Train Loss: 20.614713668823242\n",
                        "Epoch 13 train loss: 20.614713668823242, valid loss: 31.84798240661621\n",
                        "Epoch 14 Train Loss: 20.985820770263672\n",
                        "Epoch 14 train loss: 20.985820770263672, valid loss: 21.643518447875977\n",
                        "Epoch 15 Train Loss: 21.087976455688477\n",
                        "Epoch 15 train loss: 21.087976455688477, valid loss: 23.43566131591797\n",
                        "Epoch 16 Train Loss: 20.903244018554688\n",
                        "Epoch 16 train loss: 20.903244018554688, valid loss: 21.667985916137695\n",
                        "Epoch 17 Train Loss: 19.847654342651367\n",
                        "Epoch 17 train loss: 19.847654342651367, valid loss: 19.701303482055664\n",
                        "Epoch 18 Train Loss: 20.343290328979492\n",
                        "Epoch 18 train loss: 20.343290328979492, valid loss: 30.454917907714844\n",
                        "Epoch 19 Train Loss: 19.41443634033203\n",
                        "Epoch 19 train loss: 19.41443634033203, valid loss: 20.392852783203125\n",
                        "Epoch 20 Train Loss: 21.011526107788086\n",
                        "Epoch 20 train loss: 21.011526107788086, valid loss: 30.227231979370117\n",
                        "Epoch 21 Train Loss: 20.720247268676758\n",
                        "Epoch 21 train loss: 20.720247268676758, valid loss: 25.21918296813965\n",
                        "Epoch 22 Train Loss: 19.994993209838867\n",
                        "Epoch 22 train loss: 19.994993209838867, valid loss: 21.42634391784668\n",
                        "Epoch 23 Train Loss: 19.000595092773438\n",
                        "Epoch 23 train loss: 19.000595092773438, valid loss: 22.410972595214844\n",
                        "Epoch 24 Train Loss: 20.544448852539062\n",
                        "Epoch 24 train loss: 20.544448852539062, valid loss: 29.325759887695312\n",
                        "Epoch 25 Train Loss: 20.569110870361328\n",
                        "Epoch 25 train loss: 20.569110870361328, valid loss: 21.283260345458984\n",
                        "Epoch 26 Train Loss: 20.17180633544922\n",
                        "Epoch 26 train loss: 20.17180633544922, valid loss: 22.947309494018555\n",
                        "Epoch 27 Train Loss: 19.963178634643555\n",
                        "Epoch 27 train loss: 19.963178634643555, valid loss: 21.767484664916992\n",
                        "Epoch 28 Train Loss: 20.41602325439453\n",
                        "Epoch 28 train loss: 20.41602325439453, valid loss: 19.909700393676758\n",
                        "Epoch 29 Train Loss: 20.67426300048828\n",
                        "Epoch 29 train loss: 20.67426300048828, valid loss: 24.632949829101562\n",
                        "Epoch 30 Train Loss: 22.792585372924805\n",
                        "Epoch 30 train loss: 22.792585372924805, valid loss: 30.695053100585938\n",
                        "Epoch 31 Train Loss: 21.210521697998047\n",
                        "Epoch 31 train loss: 21.210521697998047, valid loss: 22.010910034179688\n",
                        "Epoch 32 Train Loss: 21.129016876220703\n",
                        "Epoch 32 train loss: 21.129016876220703, valid loss: 19.932069778442383\n",
                        "Epoch 33 Train Loss: 21.401865005493164\n",
                        "Epoch 33 train loss: 21.401865005493164, valid loss: 21.090595245361328\n",
                        "Epoch 34 Train Loss: 19.230796813964844\n",
                        "Epoch 34 train loss: 19.230796813964844, valid loss: 19.068456649780273\n",
                        "Epoch 35 Train Loss: 19.04461097717285\n",
                        "Epoch 35 train loss: 19.04461097717285, valid loss: 30.655784606933594\n",
                        "Epoch 36 Train Loss: 19.937698364257812\n",
                        "Epoch 36 train loss: 19.937698364257812, valid loss: 24.439804077148438\n",
                        "Epoch 37 Train Loss: 19.316604614257812\n",
                        "Epoch 37 train loss: 19.316604614257812, valid loss: 21.770601272583008\n",
                        "Epoch 38 Train Loss: 17.495569229125977\n",
                        "Epoch 38 train loss: 17.495569229125977, valid loss: 20.849262237548828\n",
                        "Epoch 39 Train Loss: 18.542098999023438\n",
                        "Epoch 39 train loss: 18.542098999023438, valid loss: 21.088088989257812\n",
                        "Epoch 40 Train Loss: 18.979257583618164\n",
                        "Epoch 40 train loss: 18.979257583618164, valid loss: 19.862472534179688\n",
                        "Epoch 41 Train Loss: 18.41499137878418\n",
                        "Epoch 41 train loss: 18.41499137878418, valid loss: 18.458974838256836\n",
                        "Epoch 42 Train Loss: 17.462554931640625\n",
                        "Epoch 42 train loss: 17.462554931640625, valid loss: 29.373519897460938\n",
                        "Epoch 43 Train Loss: 17.383668899536133\n",
                        "Epoch 43 train loss: 17.383668899536133, valid loss: 22.67915916442871\n",
                        "Epoch 44 Train Loss: 17.847576141357422\n",
                        "Epoch 44 train loss: 17.847576141357422, valid loss: 19.527801513671875\n",
                        "Epoch 45 Train Loss: 18.062746047973633\n",
                        "Epoch 45 train loss: 18.062746047973633, valid loss: 21.239200592041016\n",
                        "Epoch 46 Train Loss: 17.607763290405273\n",
                        "Epoch 46 train loss: 17.607763290405273, valid loss: 33.72343063354492\n",
                        "Epoch 47 Train Loss: 16.94721794128418\n",
                        "Epoch 47 train loss: 16.94721794128418, valid loss: 22.153112411499023\n",
                        "Epoch 48 Train Loss: 18.015331268310547\n",
                        "Epoch 48 train loss: 18.015331268310547, valid loss: 31.29020118713379\n",
                        "Epoch 49 Train Loss: 17.959266662597656\n",
                        "Epoch 49 train loss: 17.959266662597656, valid loss: 24.37384796142578\n",
                        "Epoch 50 Train Loss: 17.395360946655273\n",
                        "Epoch 50 train loss: 17.395360946655273, valid loss: 24.66777992248535\n",
                        "Epoch 51 Train Loss: 16.940128326416016\n",
                        "Epoch 51 train loss: 16.940128326416016, valid loss: 19.034879684448242\n",
                        "Epoch 52 Train Loss: 16.85986328125\n",
                        "Epoch 52 train loss: 16.85986328125, valid loss: 19.453577041625977\n",
                        "Epoch 53 Train Loss: 17.670106887817383\n",
                        "Epoch 53 train loss: 17.670106887817383, valid loss: 20.968475341796875\n",
                        "Epoch 54 Train Loss: 17.758556365966797\n",
                        "Epoch 54 train loss: 17.758556365966797, valid loss: 18.764530181884766\n",
                        "Epoch 55 Train Loss: 16.7865047454834\n",
                        "Epoch 55 train loss: 16.7865047454834, valid loss: 20.012371063232422\n",
                        "Epoch 56 Train Loss: 17.285131454467773\n",
                        "Epoch 56 train loss: 17.285131454467773, valid loss: 19.75642204284668\n",
                        "Epoch 57 Train Loss: 16.930749893188477\n",
                        "Epoch 57 train loss: 16.930749893188477, valid loss: 19.084829330444336\n",
                        "Epoch 58 Train Loss: 16.981586456298828\n",
                        "Epoch 58 train loss: 16.981586456298828, valid loss: 19.927392959594727\n",
                        "Epoch 59 Train Loss: 16.701732635498047\n",
                        "Epoch 59 train loss: 16.701732635498047, valid loss: 19.106355667114258\n",
                        "Epoch 60 Train Loss: 17.50592613220215\n",
                        "Epoch 60 train loss: 17.50592613220215, valid loss: 19.58017921447754\n",
                        "Epoch 61 Train Loss: 16.59333038330078\n",
                        "Epoch 61 train loss: 16.59333038330078, valid loss: 19.541744232177734\n",
                        "Epoch 62 Train Loss: 16.624324798583984\n",
                        "Epoch 62 train loss: 16.624324798583984, valid loss: 18.88172149658203\n",
                        "Epoch 63 Train Loss: 17.120986938476562\n",
                        "Epoch 63 train loss: 17.120986938476562, valid loss: 23.92259407043457\n",
                        "Epoch 64 Train Loss: 16.431007385253906\n",
                        "Epoch 64 train loss: 16.431007385253906, valid loss: 18.864154815673828\n",
                        "Epoch 65 Train Loss: 16.528539657592773\n",
                        "Epoch 65 train loss: 16.528539657592773, valid loss: 18.83498191833496\n",
                        "Epoch 66 Train Loss: 16.643617630004883\n",
                        "Epoch 66 train loss: 16.643617630004883, valid loss: 20.53532600402832\n",
                        "Epoch 67 Train Loss: 16.982288360595703\n",
                        "Epoch 67 train loss: 16.982288360595703, valid loss: 18.417455673217773\n",
                        "Epoch 68 Train Loss: 16.193016052246094\n",
                        "Epoch 68 train loss: 16.193016052246094, valid loss: 18.555505752563477\n",
                        "Epoch 69 Train Loss: 16.47995376586914\n",
                        "Epoch 69 train loss: 16.47995376586914, valid loss: 18.874845504760742\n",
                        "Epoch 70 Train Loss: 16.436357498168945\n",
                        "Epoch 70 train loss: 16.436357498168945, valid loss: 19.661821365356445\n",
                        "Epoch 71 Train Loss: 16.205524444580078\n",
                        "Epoch 71 train loss: 16.205524444580078, valid loss: 18.605506896972656\n",
                        "Epoch 72 Train Loss: 16.65842628479004\n",
                        "Epoch 72 train loss: 16.65842628479004, valid loss: 19.798477172851562\n",
                        "Epoch 73 Train Loss: 16.2800235748291\n",
                        "Epoch 73 train loss: 16.2800235748291, valid loss: 21.574495315551758\n",
                        "Epoch 74 Train Loss: 15.894847869873047\n",
                        "Epoch 74 train loss: 15.894847869873047, valid loss: 21.024635314941406\n",
                        "Epoch 75 Train Loss: 15.735112190246582\n",
                        "Epoch 75 train loss: 15.735112190246582, valid loss: 19.30727195739746\n",
                        "Epoch 76 Train Loss: 16.03614044189453\n",
                        "Epoch 76 train loss: 16.03614044189453, valid loss: 18.660152435302734\n",
                        "Epoch 77 Train Loss: 15.402124404907227\n",
                        "Epoch 77 train loss: 15.402124404907227, valid loss: 18.866592407226562\n",
                        "Epoch 78 Train Loss: 15.595073699951172\n",
                        "Epoch 78 train loss: 15.595073699951172, valid loss: 18.250347137451172\n",
                        "Epoch 79 Train Loss: 16.15715217590332\n",
                        "Epoch 79 train loss: 16.15715217590332, valid loss: 19.49518394470215\n",
                        "Epoch 80 Train Loss: 15.920890808105469\n",
                        "Epoch 80 train loss: 15.920890808105469, valid loss: 19.050798416137695\n",
                        "Epoch 81 Train Loss: 16.08894157409668\n",
                        "Epoch 81 train loss: 16.08894157409668, valid loss: 18.628442764282227\n",
                        "Epoch 82 Train Loss: 16.042375564575195\n",
                        "Epoch 82 train loss: 16.042375564575195, valid loss: 18.77763557434082\n",
                        "Epoch 83 Train Loss: 16.50902557373047\n",
                        "Epoch 83 train loss: 16.50902557373047, valid loss: 18.874160766601562\n",
                        "Epoch 84 Train Loss: 15.694467544555664\n",
                        "Epoch 84 train loss: 15.694467544555664, valid loss: 19.651201248168945\n",
                        "Epoch 85 Train Loss: 16.046276092529297\n",
                        "Epoch 85 train loss: 16.046276092529297, valid loss: 18.718568801879883\n",
                        "Epoch 86 Train Loss: 15.457568168640137\n",
                        "Epoch 86 train loss: 15.457568168640137, valid loss: 18.84491729736328\n",
                        "Epoch 87 Train Loss: 15.569129943847656\n",
                        "Epoch 87 train loss: 15.569129943847656, valid loss: 18.65256118774414\n",
                        "Epoch 88 Train Loss: 15.549184799194336\n",
                        "Epoch 88 train loss: 15.549184799194336, valid loss: 18.138364791870117\n",
                        "Epoch 89 Train Loss: 15.58169174194336\n",
                        "Epoch 89 train loss: 15.58169174194336, valid loss: 18.284948348999023\n",
                        "Epoch 90 Train Loss: 15.650230407714844\n",
                        "Epoch 90 train loss: 15.650230407714844, valid loss: 18.608436584472656\n",
                        "Epoch 91 Train Loss: 15.74878215789795\n",
                        "Epoch 91 train loss: 15.74878215789795, valid loss: 18.208078384399414\n",
                        "Epoch 92 Train Loss: 15.860326766967773\n",
                        "Epoch 92 train loss: 15.860326766967773, valid loss: 18.443790435791016\n",
                        "Epoch 93 Train Loss: 15.351401329040527\n",
                        "Epoch 93 train loss: 15.351401329040527, valid loss: 18.120622634887695\n",
                        "Epoch 94 Train Loss: 15.66882038116455\n",
                        "Epoch 94 train loss: 15.66882038116455, valid loss: 18.725046157836914\n",
                        "Epoch 95 Train Loss: 15.318211555480957\n",
                        "Epoch 95 train loss: 15.318211555480957, valid loss: 18.42254066467285\n",
                        "Epoch 96 Train Loss: 15.678204536437988\n",
                        "Epoch 96 train loss: 15.678204536437988, valid loss: 18.241397857666016\n",
                        "Epoch 97 Train Loss: 15.265829086303711\n",
                        "Epoch 97 train loss: 15.265829086303711, valid loss: 18.338701248168945\n",
                        "Epoch 98 Train Loss: 15.819571495056152\n",
                        "Epoch 98 train loss: 15.819571495056152, valid loss: 18.4462833404541\n",
                        "Epoch 99 Train Loss: 15.554415702819824\n",
                        "Epoch 99 train loss: 15.554415702819824, valid loss: 18.367311477661133\n",
                        "Epoch 100 Train Loss: 15.595863342285156\n",
                        "Epoch 100 train loss: 15.595863342285156, valid loss: 18.312442779541016\n",
                        "Best model loaded from nb-results/base-lstm/hospital/cov-0-pearsn-0-pl-12-seed-42.pt\n",
                        "Run cov-0-pearsn-0-pl-12-seed-42 finished\n"
                    ]
                },
                {
                    "name": "stderr",
                    "output_type": "stream",
                    "text": [
                        "wandb: WARNING Source type is set to 'repo' but some required information is missing from the environment. A job will not be created from this run. See https://docs.wandb.ai/guides/launch/create-job\n"
                    ]
                },
                {
                    "data": {
                        "application/vnd.jupyter.widget-view+json": {
                            "model_id": "d4e4050dfab94ea6af2a58e0ed3d81e9",
                            "version_major": 2,
                            "version_minor": 0
                        },
                        "text/plain": [
                            "VBox(children=(Label(value='1.858 MB of 1.858 MB uploaded\\r'), FloatProgress(value=1.0, max=1.0)))"
                        ]
                    },
                    "metadata": {},
                    "output_type": "display_data"
                },
                {
                    "data": {
                        "text/html": [
                            "<style>\n",
                            "    table.wandb td:nth-child(1) { padding: 0 10px; text-align: left ; width: auto;} td:nth-child(2) {text-align: left ; width: 100%}\n",
                            "    .wandb-row { display: flex; flex-direction: row; flex-wrap: wrap; justify-content: flex-start; width: 100% }\n",
                            "    .wandb-col { display: flex; flex-direction: column; flex-basis: 100%; flex: 1; padding: 10px; }\n",
                            "    </style>\n",
                            "<div class=\"wandb-row\"><div class=\"wandb-col\"><h3>Run history:</h3><br/><table class=\"wandb\"><tr><td>abs_error</td><td>▁</td></tr><tr><td>abs_target_mean</td><td>▁</td></tr><tr><td>abs_target_sum</td><td>▁</td></tr><tr><td>epoch</td><td>▁▁▁▁▂▂▂▂▂▃▃▃▃▃▃▄▄▄▄▄▅▅▅▅▅▅▆▆▆▆▆▇▇▇▇▇▇███</td></tr><tr><td>mae</td><td>▁</td></tr><tr><td>mape</td><td>▁</td></tr><tr><td>mase</td><td>▁</td></tr><tr><td>mse</td><td>▁</td></tr><tr><td>nd</td><td>▁</td></tr><tr><td>rmse</td><td>▁</td></tr><tr><td>seasonal_error</td><td>▁</td></tr><tr><td>smape</td><td>▁</td></tr><tr><td>train_loss</td><td>█▂▂▁▁▁▁▁▁▁▁▁▁▁▁▁▁▁▁▁▁▁▁▁▁▁▁▁▁▁▁▁▁▁▁▁▁▁▁▁</td></tr><tr><td>valid_loss</td><td>▂▃▂▃▂▇▃▇▄▃▃▂▃▁▄▂▁▂█▄▁▁▂▁▂▁▁▁▂▂▁▂▁▂▁▁▁▁▁▁</td></tr></table><br/></div><div class=\"wandb-col\"><h3>Run summary:</h3><br/><table class=\"wandb\"><tr><td>abs_error</td><td>163521.5</td></tr><tr><td>abs_target_mean</td><td>273.71152</td></tr><tr><td>abs_target_sum</td><td>2519240.75</td></tr><tr><td>epoch</td><td>100</td></tr><tr><td>mae</td><td>17.76635</td></tr><tr><td>mape</td><td>0.17539</td></tr><tr><td>mase</td><td>0.76843</td></tr><tr><td>mse</td><td>2545.78418</td></tr><tr><td>nd</td><td>0.17503</td></tr><tr><td>rmse</td><td>21.64685</td></tr><tr><td>seasonal_error</td><td>29.75578</td></tr><tr><td>smape</td><td>0.17459</td></tr><tr><td>train_loss</td><td>15.59586</td></tr><tr><td>valid_loss</td><td>18.31244</td></tr></table><br/></div></div>"
                        ],
                        "text/plain": [
                            "<IPython.core.display.HTML object>"
                        ]
                    },
                    "metadata": {},
                    "output_type": "display_data"
                },
                {
                    "data": {
                        "text/html": [
                            " View run <strong style=\"color:#cdcd00\">cov-0-pearsn-0-pl-12-seed-42</strong> at: <a href='https://wandb.ai/garethmd/base-lstm-hospital/runs/d9bv7f53' target=\"_blank\">https://wandb.ai/garethmd/base-lstm-hospital/runs/d9bv7f53</a><br/>Synced 5 W&B file(s), 1 media file(s), 21 artifact file(s) and 0 other file(s)"
                        ],
                        "text/plain": [
                            "<IPython.core.display.HTML object>"
                        ]
                    },
                    "metadata": {},
                    "output_type": "display_data"
                },
                {
                    "data": {
                        "text/html": [
                            "Find logs at: <code>./wandb/run-20240707_122326-d9bv7f53/logs</code>"
                        ],
                        "text/plain": [
                            "<IPython.core.display.HTML object>"
                        ]
                    },
                    "metadata": {},
                    "output_type": "display_data"
                },
                {
                    "data": {
                        "image/png": "[encoded data removed]",
                        "text/plain": [
                            "<Figure size 1000x600 with 2 Axes>"
                        ]
                    },
                    "metadata": {},
                    "output_type": "display_data"
                }
            ],
            "source": [
                "for scenario in scenario_list[:1]:\n",
                "    nnts.torch.datasets.seed_everything(scenario.seed)\n",
                "    df, scenario = covs.prepare(df_orig.copy(), scenario)\n",
                "    trn_dl, val_dl, test_dl = nnts.torch.utils.create_dataloaders(\n",
                "        df,\n",
                "        nnts.pandas.split_test_val_train_last_horizon,\n",
                "        metadata.context_length,\n",
                "        metadata.prediction_length,\n",
                "        Dataset=nnts.torch.datasets.TimeseriesDataset,\n",
                "        dataset_options={\n",
                "            \"context_length\": metadata.context_length,\n",
                "            \"prediction_length\": metadata.prediction_length,\n",
                "            \"conts\": scenario.conts,\n",
                "        },\n",
                "        batch_size=params.batch_size,\n",
                "    )\n",
                "\n",
                "    net = nnts.torch.models.BaseLSTM(\n",
                "        nnts.torch.models.LinearModel,\n",
                "        params,\n",
                "        preprocessing.masked_mean_abs_scaling,\n",
                "        scenario.covariates + 1,\n",
                "    )\n",
                "    logger = nnts.loggers.WandbRun(\n",
                "        project=f\"{model_name}-{metadata.dataset}\",\n",
                "        name=scenario.name,\n",
                "        config={\n",
                "            **params.__dict__,\n",
                "            **metadata.__dict__,\n",
                "            **scenario.__dict__,\n",
                "        },\n",
                "        path=PATH\n",
                "    )\n",
                "    trner = nnts.torch.trainers.ValidationTorchEpochTrainer(\n",
                "        nnts.trainers.TrainerState(),\n",
                "        net,\n",
                "        params,\n",
                "        metadata,\n",
                "        os.path.join(PATH, f\"{scenario.name}.pt\"),\n",
                "        loss_fn=F.smooth_l1_loss,\n",
                "    )\n",
                "    logger.configure(trner.events)\n",
                "    evaluator = trner.train(trn_dl, val_dl)\n",
                "    handle = net.decoder.register_forward_hook(logger.log_activations)\n",
                "    y_hat, y = evaluator.evaluate(\n",
                "        test_dl, scenario.prediction_length, metadata.context_length, hooks=handle\n",
                "    )\n",
                "    handle.remove()\n",
                "    test_metrics = nnts.metrics.calc_metrics(\n",
                "        y, y_hat, nnts.metrics.calculate_seasonal_error(trn_dl, metadata)\n",
                "    )\n",
                "    logger.log(test_metrics)\n",
                "    logger.finish()"
            ]
        },
        {
            "cell_type": "code",
            "execution_count": null,
            "metadata": {},
            "outputs": [],
            "source": [
                "scenario = scenario_list[0]\n",
                "import torch\n",
                "import nnts.torch.trainers"
            ]
        },
        {
            "cell_type": "code",
            "execution_count": null,
            "metadata": {},
            "outputs": [],
            "source": [
                "nnts.torch.datasets.seed_everything(scenario.seed)\n",
                "df, scenario = covs.prepare(df_orig.copy(), scenario)\n",
                "splitter = nnts.pandas.LastHorizonSplitter()\n",
                "split_data = splitter(df, metadata.context_length, metadata.prediction_length)\n",
                "_, _, test_dl = nnts.data.create_trn_val_test_dataloaders(\n",
                "    split_data,\n",
                "    metadata,\n",
                "    scenario,\n",
                "    params,\n",
                "    nnts.torch.data.TorchTimeseriesDataLoaderFactory(),\n",
                ")\n",
                "net = covs.model_factory(model_name, params, scenario, metadata)\n",
                "best_state_dict = torch.load(f\"{PATH}/{scenario.name}.pt\")\n",
                "net.load_state_dict(best_state_dict)\n",
                "\n",
                "class ActivationVisualizer:\n",
                "    def __init__(self):\n",
                "        self.activations = []\n",
                "\n",
                "    def hook_handler(self, module, input, output):\n",
                "        input_0 = output[0][0]\n",
                "        self.activations.append(input_0[:, -1].detach().cpu().numpy())\n",
                "\n",
                "visualiser = ActivationVisualizer()\n",
                "handle = net.decoder.register_forward_hook(visualiser.hook_handler)\n",
                "net.eval()"
            ]
        },
        {
            "cell_type": "code",
            "execution_count": null,
            "metadata": {},
            "outputs": [],
            "source": [
                "batch = next(iter(test_dl))"
            ]
        },
        {
            "cell_type": "code",
            "execution_count": null,
            "metadata": {},
            "outputs": [],
            "source": [
                "with torch.no_grad():\n",
                "    output = nnts.torch.models.trainers.validate(net, batch, scenario.prediction_length, metadata.context_length)"
            ]
        },
        {
            "cell_type": "code",
            "execution_count": null,
            "metadata": {},
            "outputs": [],
            "source": [
                "handle.remove()"
            ]
        },
        {
            "cell_type": "code",
            "execution_count": null,
            "metadata": {},
            "outputs": [],
            "source": [
                "import matplotlib.pyplot as plt\n",
                "import seaborn as sns"
            ]
        },
        {
            "cell_type": "code",
            "execution_count": null,
            "metadata": {},
            "outputs": [],
            "source": [
                "plt.figure(figsize=(10, 6))\n",
                "sns.heatmap(visualiser.activations, cmap=\"coolwarm\", linewidths=0.5)\n",
                "plt.show()"
            ]
        },
        {
            "cell_type": "code",
            "execution_count": null,
            "metadata": {},
            "outputs": [],
            "source": [
                "batch[\"X\"][0, : metadata.context_length, ...].cpu().numpy(), batch[\"X\"][\n",
                "    0, - scenario.prediction_length:, ...\n",
                "].cpu().numpy()"
            ]
        },
        {
            "cell_type": "code",
            "execution_count": null,
            "metadata": {},
            "outputs": [],
            "source": [
                "output[0][0]"
            ]
        },
        {
            "cell_type": "code",
            "execution_count": null,
            "metadata": {},
            "outputs": [],
            "source": [
                "plt.figure(figsize=(10, 6))\n",
                "sns.heatmap(output[0][0], cmap=\"coolwarm\", linewidths=0.5)\n",
                "plt.show()"
            ]
        },
        {
            "cell_type": "code",
            "execution_count": null,
            "metadata": {},
            "outputs": [],
            "source": [
                "plt.figure(figsize=(10, 6))\n",
                "sns.heatmap([ v[-1:] for v in visualiser.activations], cmap=\"coolwarm\", linewidths=0.5)\n",
                "plt.show()"
            ]
        },
        {
            "cell_type": "code",
            "execution_count": null,
            "metadata": {},
            "outputs": [],
            "source": [
                "plt.figure(figsize=(10, 6))\n",
                "sns.heatmap([v[-2:] for v in visualiser.activations], cmap=\"coolwarm\", linewidths=0.5)\n",
                "plt.show()"
            ]
        },
        {
            "cell_type": "code",
            "execution_count": null,
            "metadata": {},
            "outputs": [],
            "source": [
                "import nnts.pandas\n",
                "\n",
                "\n",
                "csv_aggregator = nnts.pandas.CSVFileAggregator(PATH, \"results\")\n",
                "results = csv_aggregator()"
            ]
        },
        {
            "cell_type": "code",
            "execution_count": null,
            "metadata": {},
            "outputs": [],
            "source": [
                "import nnts.experiments\n",
                "import nnts.experiments.plotting\n",
                "\n",
                "\n",
                "df_list = covs.add_y_hat(df, y_hat, scenario.prediction_length)\n",
                "sample_preds = nnts.experiments.plotting.plot(df_list, scenario.prediction_length)"
            ]
        },
        {
            "cell_type": "code",
            "execution_count": null,
            "metadata": {},
            "outputs": [],
            "source": [
                "univariate_results = results.loc[\n",
                "    (results[\"covariates\"] == 0)\n",
                "    & (results[\"prediction_length\"] == metadata.prediction_length),\n",
                "    [\"smape\", \"mape\", \"rmse\", \"mae\"],\n",
                "]\n",
                "\n",
                "univariate_results.mean(), univariate_results.std(), univariate_results.count()"
            ]
        },
        {
            "cell_type": "code",
            "execution_count": null,
            "metadata": {},
            "outputs": [],
            "source": [
                "cols = [\"dataset\", \"error\", \"pearson\", \"covariates\", \"prediction_length\", \"smape\"]"
            ]
        },
        {
            "cell_type": "code",
            "execution_count": null,
            "metadata": {},
            "outputs": [],
            "source": [
                "results.loc[\n",
                "    (results[\"covariates\"] > 0)\n",
                "    & (results[\"error\"].isin([0.000000, 0.4714285714285714, 1.65])),\n",
                "    cols,\n",
                "].sort_values(by=[\"covariates\", \"error\"])"
            ]
        },
        {
            "cell_type": "code",
            "execution_count": null,
            "metadata": {},
            "outputs": [],
            "source": [
                "sorted(results[\"error\"].unique().tolist())"
            ]
        }
    ],
    "metadata": {
        "kernelspec": {
            "display_name": "venv",
            "language": "python",
            "name": "python3"
        },
        "language_info": {
            "codemirror_mode": {
                "name": "ipython",
                "version": 3
            },
            "file_extension": ".py",
            "mimetype": "text/x-python",
            "name": "python",
            "nbconvert_exporter": "python",
            "pygments_lexer": "ipython3",
            "version": "3.11.8"
        }
    },
    "nbformat": 4,
    "nbformat_minor": 2
}
