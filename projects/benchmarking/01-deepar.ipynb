{
    "cells": [
        {
            "cell_type": "code",
            "execution_count": 2,
            "metadata": {},
            "outputs": [],
            "source": [
                "import nnts\n",
                "import nnts.data\n",
                "import nnts.plotting\n",
                "import nnts.torch.preprocessing\n",
                "import nnts.torch.models\n",
                "import nnts.metrics\n",
                "import nnts.torch.datasets\n",
                "import nnts.loggers\n",
                "import nnts.datasets\n",
                "from nnts import utils\n",
                "import nnts.torch.utils\n",
                "import nnts.torch.trainers\n",
                "import nnts.metrics\n",
                "import nnts.torch\n",
                "\n",
                "import torch\n",
                "torch.set_printoptions(precision=8, sci_mode=False)\n",
                "%load_ext autoreload\n",
                "%autoreload 2"
            ]
        },
        {
            "cell_type": "markdown",
            "metadata": {},
            "source": [
                "### Load the dataset \n",
                "You can easily load any of the Monash datasets using the `load_dataset` function."
            ]
        },
        {
            "cell_type": "code",
            "execution_count": 3,
            "metadata": {},
            "outputs": [],
            "source": [
                "df, metadata = nnts.datasets.load_dataset(\"tourism_monthly\")"
            ]
        },
        {
            "cell_type": "markdown",
            "metadata": {},
            "source": [
                "### Set the Hyperparamters \n",
                "You will need to provide an optimizer and a loss function. Other hyperparameters are optional."
            ]
        },
        {
            "cell_type": "code",
            "execution_count": 4,
            "metadata": {},
            "outputs": [],
            "source": [
                "params = utils.Hyperparams(\n",
                "    optimizer=torch.optim.Adam,\n",
                "    loss_fn=nnts.torch.models.deepar.distr_nll,\n",
                "    batch_size=32,\n",
                "    batches_per_epoch=50,\n",
                "    training_method=utils.TrainingMethod.TEACHER_FORCING,\n",
                "    model_file_path=\"logs\"\n",
                ")"
            ]
        },
        {
            "cell_type": "markdown",
            "metadata": {},
            "source": [
                "### Create covariate features\n",
                "When using a DeepAR model we recommend using lag features as covariates."
            ]
        },
        {
            "cell_type": "code",
            "execution_count": 5,
            "metadata": {},
            "outputs": [],
            "source": [
                "import nnts.lags\n",
                "lag_seq = nnts.lags.get_lags_for_frequency(metadata.freq)\n",
                "lag_seq = [lag - 1 for lag in lag_seq if lag > 1]\n",
                "lag_processor = nnts.torch.preprocessing.LagProcessor(lag_seq)"
            ]
        },
        {
            "cell_type": "markdown",
            "metadata": {},
            "source": [
                "### Data Processing\n",
                "We specify how we want to split the data, what transformations we want to apply and how we want to batch and sample the data during training.  "
            ]
        },
        {
            "cell_type": "code",
            "execution_count": 5,
            "metadata": {},
            "outputs": [],
            "source": [
                "nnts.torch.utils.seed_everything(43)\n",
                "context_length = metadata.context_length + max(lag_seq)\n",
                "dataset_options = {\n",
                "    \"context_length\": metadata.context_length,\n",
                "    \"prediction_length\": metadata.prediction_length,\n",
                "    \"conts\": [],\n",
                "    \"lag_seq\": lag_seq,\n",
                "}\n",
                "\n",
                "trn_dl, test_dl = nnts.torch.utils.create_dataloaders(\n",
                "    df,\n",
                "    nnts.datasets.split_test_train_last_horizon,\n",
                "    context_length,\n",
                "    metadata.prediction_length,\n",
                "    Dataset=nnts.torch.datasets.TimeseriesDataset,\n",
                "    dataset_options=dataset_options,\n",
                "    Sampler=nnts.torch.datasets.TimeSeriesSampler,\n",
                ")"
            ]
        },
        {
            "cell_type": "markdown",
            "metadata": {},
            "source": [
                "### Create the model\n",
                "Create a Pytorch model."
            ]
        },
        {
            "cell_type": "code",
            "execution_count": 6,
            "metadata": {},
            "outputs": [],
            "source": [
                "\n",
                "net = nnts.torch.models.DistrDeepAR(\n",
                "    nnts.torch.models.deepar.StudentTHead,\n",
                "    params,\n",
                "    nnts.torch.preprocessing.masked_mean_abs_scaling,\n",
                "    1,\n",
                "    lag_processor=lag_processor,\n",
                "    scaled_features=[],\n",
                "    context_length=metadata.context_length,\n",
                "    cat_idx=None,\n",
                "    seq_cat_idx=None,\n",
                ")\n"
            ]
        },
        {
            "cell_type": "markdown",
            "metadata": {},
            "source": [
                "### Train the model"
            ]
        },
        {
            "cell_type": "code",
            "execution_count": 7,
            "metadata": {},
            "outputs": [
                {
                    "name": "stdout",
                    "output_type": "stream",
                    "text": [
                        "DistrDeepAR(\n",
                        "  (decoder): UnrolledLSTMDecoder(\n",
                        "    (rnn): LSTM(16, 40, num_layers=2, batch_first=True, dropout=0.1)\n",
                        "  )\n",
                        "  (distribution): StudentTHead(\n",
                        "    (main): ModuleList(\n",
                        "      (0-2): 3 x Linear(in_features=40, out_features=1, bias=True)\n",
                        "    )\n",
                        "  )\n",
                        ")\n",
                        "saving model\n",
                        "Epoch 1 Train Loss: 9.228141784667969\n",
                        "saving model\n",
                        "Epoch 2 Train Loss: 8.781664848327637\n",
                        "saving model\n",
                        "Epoch 3 Train Loss: 8.496898651123047\n",
                        "saving model\n",
                        "Epoch 4 Train Loss: 8.413810729980469\n",
                        "saving model\n",
                        "Epoch 5 Train Loss: 8.355382919311523\n",
                        "saving model\n",
                        "Epoch 6 Train Loss: 8.250452041625977\n",
                        "saving model\n",
                        "Epoch 7 Train Loss: 8.136412620544434\n",
                        "saving model\n",
                        "Epoch 8 Train Loss: 8.072505950927734\n",
                        "saving model\n",
                        "Epoch 9 Train Loss: 7.952291965484619\n",
                        "saving model\n",
                        "Epoch 10 Train Loss: 7.919492721557617\n",
                        "saving model\n",
                        "Epoch 11 Train Loss: 7.8912200927734375\n",
                        "saving model\n",
                        "Epoch 12 Train Loss: 7.842233180999756\n",
                        "saving model\n",
                        "Epoch 13 Train Loss: 7.819083213806152\n",
                        "Epoch 14 Train Loss: 7.83964729309082\n",
                        "saving model\n",
                        "Epoch 15 Train Loss: 7.797945976257324\n",
                        "Epoch 16 Train Loss: 7.8116230964660645\n",
                        "saving model\n",
                        "Epoch 17 Train Loss: 7.7849931716918945\n",
                        "saving model\n",
                        "Epoch 18 Train Loss: 7.784471035003662\n",
                        "saving model\n",
                        "Epoch 19 Train Loss: 7.764101505279541\n",
                        "saving model\n",
                        "Epoch 20 Train Loss: 7.75229549407959\n",
                        "Epoch 21 Train Loss: 7.765664577484131\n",
                        "saving model\n",
                        "Epoch 22 Train Loss: 7.737249851226807\n",
                        "saving model\n",
                        "Epoch 23 Train Loss: 7.714673042297363\n",
                        "Epoch 24 Train Loss: 7.732895374298096\n",
                        "saving model\n",
                        "Epoch 25 Train Loss: 7.679925441741943\n",
                        "Epoch 26 Train Loss: 7.683847427368164\n",
                        "saving model\n",
                        "Epoch 27 Train Loss: 7.6688947677612305\n",
                        "Epoch 28 Train Loss: 7.671851634979248\n",
                        "Epoch 29 Train Loss: 7.675477981567383\n",
                        "Epoch 30 Train Loss: 7.6728715896606445\n",
                        "saving model\n",
                        "Epoch 31 Train Loss: 7.65615177154541\n",
                        "saving model\n",
                        "Epoch 32 Train Loss: 7.652316093444824\n",
                        "saving model\n",
                        "Epoch 33 Train Loss: 7.648974418640137\n",
                        "saving model\n",
                        "Epoch 34 Train Loss: 7.627908706665039\n",
                        "saving model\n",
                        "Epoch 35 Train Loss: 7.616124153137207\n",
                        "saving model\n",
                        "Epoch 36 Train Loss: 7.611842632293701\n",
                        "Epoch 37 Train Loss: 7.634385585784912\n",
                        "saving model\n",
                        "Epoch 38 Train Loss: 7.607549667358398\n",
                        "saving model\n",
                        "Epoch 39 Train Loss: 7.585146903991699\n",
                        "Epoch 40 Train Loss: 7.602105140686035\n",
                        "Epoch 41 Train Loss: 7.617709159851074\n",
                        "Epoch 42 Train Loss: 7.59514045715332\n",
                        "Epoch 43 Train Loss: 7.618725776672363\n",
                        "Epoch 44 Train Loss: 7.606329441070557\n",
                        "Epoch 45 Train Loss: 7.588935375213623\n",
                        "Epoch 46 Train Loss: 7.5936431884765625\n",
                        "Epoch 47 Train Loss: 7.5855865478515625\n",
                        "Epoch 48 Train Loss: 7.596542835235596\n",
                        "Epoch 49 Train Loss: 7.6118059158325195\n",
                        "saving model\n",
                        "Epoch 50 Train Loss: 7.577844619750977\n",
                        "Epoch 51 Train Loss: 7.608153820037842\n",
                        "saving model\n",
                        "Epoch 52 Train Loss: 7.576638698577881\n",
                        "Epoch 53 Train Loss: 7.582790374755859\n",
                        "Epoch 54 Train Loss: 7.578365325927734\n",
                        "Epoch 55 Train Loss: 7.593908786773682\n",
                        "saving model\n",
                        "Epoch 56 Train Loss: 7.554131507873535\n",
                        "Epoch 57 Train Loss: 7.570005893707275\n",
                        "saving model\n",
                        "Epoch 58 Train Loss: 7.552548408508301\n",
                        "Epoch 59 Train Loss: 7.573325157165527\n",
                        "Epoch 60 Train Loss: 7.571349620819092\n",
                        "saving model\n",
                        "Epoch 61 Train Loss: 7.548917293548584\n",
                        "Epoch 62 Train Loss: 7.562087535858154\n",
                        "Epoch 63 Train Loss: 7.569122791290283\n",
                        "Epoch 64 Train Loss: 7.558591842651367\n",
                        "saving model\n",
                        "Epoch 65 Train Loss: 7.541962146759033\n",
                        "Epoch 66 Train Loss: 7.55911922454834\n",
                        "Epoch 67 Train Loss: 7.546626091003418\n",
                        "saving model\n",
                        "Epoch 68 Train Loss: 7.541660308837891\n",
                        "Epoch 69 Train Loss: 7.5742669105529785\n",
                        "saving model\n",
                        "Epoch 70 Train Loss: 7.532346725463867\n",
                        "Epoch 71 Train Loss: 7.557727813720703\n",
                        "saving model\n",
                        "Epoch 72 Train Loss: 7.518388271331787\n",
                        "Epoch 73 Train Loss: 7.553817272186279\n",
                        "Epoch 74 Train Loss: 7.556748867034912\n",
                        "Epoch 75 Train Loss: 7.535996913909912\n",
                        "Epoch 76 Train Loss: 7.546260833740234\n",
                        "Epoch 77 Train Loss: 7.575977802276611\n",
                        "Epoch 78 Train Loss: 7.562929153442383\n",
                        "Epoch 79 Train Loss: 7.527662754058838\n",
                        "Epoch 80 Train Loss: 7.548336982727051\n",
                        "Epoch 81 Train Loss: 7.530930042266846\n",
                        "Epoch 82 Train Loss: 7.541046619415283\n",
                        "saving model\n",
                        "Epoch 83 Train Loss: 7.511655330657959\n",
                        "Epoch 84 Train Loss: 7.523942470550537\n",
                        "Epoch 85 Train Loss: 7.541287422180176\n",
                        "Epoch 86 Train Loss: 7.5247602462768555\n",
                        "Epoch 87 Train Loss: 7.535970687866211\n",
                        "Epoch 88 Train Loss: 7.546900749206543\n",
                        "saving model\n",
                        "Epoch 89 Train Loss: 7.5095038414001465\n",
                        "Epoch 90 Train Loss: 7.535376071929932\n",
                        "Epoch 91 Train Loss: 7.516294956207275\n",
                        "Epoch 92 Train Loss: 7.5310235023498535\n",
                        "Epoch 93 Train Loss: 7.518115997314453\n",
                        "Epoch 94 Train Loss: 7.5281782150268555\n",
                        "Epoch 95 Train Loss: 7.5380048751831055\n",
                        "saving model\n",
                        "Epoch 96 Train Loss: 7.501205921173096\n",
                        "Epoch 97 Train Loss: 7.536451816558838\n",
                        "Epoch 98 Train Loss: 7.526070594787598\n",
                        "Epoch 99 Train Loss: 7.536523342132568\n",
                        "Epoch 100 Train Loss: 7.542263031005859\n",
                        "Best model loaded from logs/best_model.pt\n"
                    ]
                }
            ],
            "source": [
                "\n",
                "trner = nnts.torch.trainers.TorchEpochTrainer(\n",
                "    net,\n",
                "    params,\n",
                "    metadata\n",
                ")\n",
                "evaluator = trner.train(trn_dl)"
            ]
        },
        {
            "cell_type": "markdown",
            "metadata": {},
            "source": [
                "### Evaluate"
            ]
        },
        {
            "cell_type": "code",
            "execution_count": 8,
            "metadata": {},
            "outputs": [
                {
                    "data": {
                        "text/plain": [
                            "{'mse': 66948348.0,\n",
                            " 'abs_error': 16814716.0,\n",
                            " 'abs_target_sum': 166958480.0,\n",
                            " 'abs_target_mean': 19007.11328125,\n",
                            " 'mase': 1.4237722158432007,\n",
                            " 'mape': 0.21586866676807404,\n",
                            " 'smape': 0.18364249169826508,\n",
                            " 'msmape': 0.18362514674663544,\n",
                            " 'nd': 0.17543545365333557,\n",
                            " 'mae': 1914.243896484375,\n",
                            " 'rmse': 2402.15087890625,\n",
                            " 'seasonal_error': 1543.2191162109375}"
                        ]
                    },
                    "execution_count": 8,
                    "metadata": {},
                    "output_type": "execute_result"
                }
            ],
            "source": [
                "y_hat, y = evaluator.evaluate(\n",
                "    test_dl, metadata.prediction_length, metadata.context_length\n",
                ")\n",
                "\n",
                "test_metrics = nnts.metrics.calc_metrics(\n",
                "    y_hat, y, nnts.metrics.calculate_seasonal_error(trn_dl, metadata.seasonality)\n",
                ")\n",
                "test_metrics"
            ]
        },
        {
            "cell_type": "code",
            "execution_count": 56,
            "metadata": {},
            "outputs": [
                {
                    "data": {
                        "application/vnd.plotly.v1+json": {
                            "config": {
                                "plotlyServerURL": "https://plot.ly"
                            },
                            "data": [
                                {
                                    "line": {
                                        "color": "blue"
                                    },
                                    "mode": "lines",
                                    "name": "Actual 1",
                                    "type": "scatter",
                                    "x": [
                                        0,
                                        1,
                                        2,
                                        3,
                                        4,
                                        5,
                                        6,
                                        7,
                                        8,
                                        9,
                                        10,
                                        11,
                                        12,
                                        13,
                                        14,
                                        15,
                                        16,
                                        17,
                                        18,
                                        19,
                                        20,
                                        21,
                                        22,
                                        23
                                    ],
                                    "xaxis": "x",
                                    "y": [
                                        6611.115234375,
                                        4150.2392578125,
                                        2841,
                                        1813.43994140625,
                                        2261.080078125,
                                        1873.60498046875,
                                        1772.8399658203125,
                                        2049.56494140625,
                                        2932.264892578125,
                                        3113.2548828125,
                                        3461.5048828125,
                                        6265.740234375,
                                        6857.7998046875,
                                        4346.08984375,
                                        3154.72998046875,
                                        2142.2099609375,
                                        2375.72509765625,
                                        1981.1099853515625,
                                        1959.864990234375,
                                        2466.31005859375,
                                        2851.715087890625,
                                        3671.804931640625,
                                        3806.780029296875,
                                        6995.0498046875
                                    ],
                                    "yaxis": "y"
                                },
                                {
                                    "line": {
                                        "color": "orange",
                                        "dash": "dash"
                                    },
                                    "mode": "lines",
                                    "name": "Forecast 1",
                                    "type": "scatter",
                                    "x": [
                                        0,
                                        1,
                                        2,
                                        3,
                                        4,
                                        5,
                                        6,
                                        7,
                                        8,
                                        9,
                                        10,
                                        11,
                                        12,
                                        13,
                                        14,
                                        15,
                                        16,
                                        17,
                                        18,
                                        19,
                                        20,
                                        21,
                                        22,
                                        23
                                    ],
                                    "xaxis": "x",
                                    "y": [
                                        6391.6923828125,
                                        4084.177490234375,
                                        3007.4794921875,
                                        2018.419189453125,
                                        2300.20849609375,
                                        1836.6160888671875,
                                        1698.8865966796875,
                                        2186.553466796875,
                                        2950.581298828125,
                                        3291.02978515625,
                                        3970.118896484375,
                                        6575.3134765625,
                                        6929.57470703125,
                                        4393.01220703125,
                                        3249.1865234375,
                                        2219.42138671875,
                                        2456.48876953125,
                                        1917.9593505859375,
                                        1767.3238525390625,
                                        2307.145263671875,
                                        3081.069580078125,
                                        3539.8017578125,
                                        4120.4228515625,
                                        6848.1123046875
                                    ],
                                    "yaxis": "y"
                                },
                                {
                                    "line": {
                                        "color": "blue"
                                    },
                                    "mode": "lines",
                                    "name": "Actual 2",
                                    "type": "scatter",
                                    "x": [
                                        0,
                                        1,
                                        2,
                                        3,
                                        4,
                                        5,
                                        6,
                                        7,
                                        8,
                                        9,
                                        10,
                                        11,
                                        12,
                                        13,
                                        14,
                                        15,
                                        16,
                                        17,
                                        18,
                                        19,
                                        20,
                                        21,
                                        22,
                                        23
                                    ],
                                    "xaxis": "x2",
                                    "y": [
                                        176215.203125,
                                        160025.703125,
                                        150995.5,
                                        112002.6015625,
                                        85668.59375,
                                        107283.1015625,
                                        86953.7734375,
                                        95141.9609375,
                                        104902.6015625,
                                        117794.5,
                                        139187.5,
                                        183571.90625,
                                        185953,
                                        171384.59375,
                                        169834.5,
                                        125275.3984375,
                                        90986.6015625,
                                        100422.453125,
                                        94333.9375,
                                        109861.6953125,
                                        116636.7421875,
                                        139426.515625,
                                        161014.921875,
                                        199405.109375
                                    ],
                                    "yaxis": "y2"
                                },
                                {
                                    "line": {
                                        "color": "orange",
                                        "dash": "dash"
                                    },
                                    "mode": "lines",
                                    "name": "Forecast 2",
                                    "type": "scatter",
                                    "x": [
                                        0,
                                        1,
                                        2,
                                        3,
                                        4,
                                        5,
                                        6,
                                        7,
                                        8,
                                        9,
                                        10,
                                        11,
                                        12,
                                        13,
                                        14,
                                        15,
                                        16,
                                        17,
                                        18,
                                        19,
                                        20,
                                        21,
                                        22,
                                        23
                                    ],
                                    "xaxis": "x2",
                                    "y": [
                                        191468.484375,
                                        157199.5625,
                                        152960.125,
                                        101992.8671875,
                                        90803.7265625,
                                        110898.4140625,
                                        89874.0546875,
                                        88335.6015625,
                                        108525,
                                        124741.9921875,
                                        130175.703125,
                                        184377.625,
                                        199008.765625,
                                        164838.328125,
                                        157020.421875,
                                        110705.375,
                                        97263.84375,
                                        114630.296875,
                                        91313.546875,
                                        91407.3515625,
                                        113128.328125,
                                        129429.078125,
                                        137508.8125,
                                        191064.34375
                                    ],
                                    "yaxis": "y2"
                                },
                                {
                                    "line": {
                                        "color": "blue"
                                    },
                                    "mode": "lines",
                                    "name": "Actual 3",
                                    "type": "scatter",
                                    "x": [
                                        0,
                                        1,
                                        2,
                                        3,
                                        4,
                                        5,
                                        6,
                                        7,
                                        8,
                                        9,
                                        10,
                                        11,
                                        12,
                                        13,
                                        14,
                                        15,
                                        16,
                                        17,
                                        18,
                                        19,
                                        20,
                                        21,
                                        22,
                                        23
                                    ],
                                    "xaxis": "x3",
                                    "y": [
                                        89162,
                                        66728,
                                        104864,
                                        102253,
                                        91564,
                                        99782,
                                        100335,
                                        87455,
                                        87126,
                                        113382,
                                        109339,
                                        91099,
                                        84685,
                                        72779,
                                        106548,
                                        105057,
                                        92703,
                                        102484,
                                        101753,
                                        86872,
                                        87775,
                                        116104,
                                        108333,
                                        93932
                                    ],
                                    "yaxis": "y3"
                                },
                                {
                                    "line": {
                                        "color": "orange",
                                        "dash": "dash"
                                    },
                                    "mode": "lines",
                                    "name": "Forecast 3",
                                    "type": "scatter",
                                    "x": [
                                        0,
                                        1,
                                        2,
                                        3,
                                        4,
                                        5,
                                        6,
                                        7,
                                        8,
                                        9,
                                        10,
                                        11,
                                        12,
                                        13,
                                        14,
                                        15,
                                        16,
                                        17,
                                        18,
                                        19,
                                        20,
                                        21,
                                        22,
                                        23
                                    ],
                                    "xaxis": "x3",
                                    "y": [
                                        95621.640625,
                                        86206.4375,
                                        105824.140625,
                                        91253.5,
                                        78835.25,
                                        90041.5859375,
                                        105826.1328125,
                                        102867.7109375,
                                        97841.6484375,
                                        127178.28125,
                                        117351.5,
                                        103086.1171875,
                                        103910.109375,
                                        94353.1484375,
                                        116105.4140625,
                                        87951.0703125,
                                        80290.9609375,
                                        88958.703125,
                                        99928.1953125,
                                        103988.9375,
                                        106820.125,
                                        126795.6328125,
                                        128438.03125,
                                        103757.109375
                                    ],
                                    "yaxis": "y3"
                                },
                                {
                                    "line": {
                                        "color": "blue"
                                    },
                                    "mode": "lines",
                                    "name": "Actual 4",
                                    "type": "scatter",
                                    "x": [
                                        0,
                                        1,
                                        2,
                                        3,
                                        4,
                                        5,
                                        6,
                                        7,
                                        8,
                                        9,
                                        10,
                                        11,
                                        12,
                                        13,
                                        14,
                                        15,
                                        16,
                                        17,
                                        18,
                                        19,
                                        20,
                                        21,
                                        22,
                                        23
                                    ],
                                    "xaxis": "x4",
                                    "y": [
                                        25621,
                                        19333,
                                        29124,
                                        26206,
                                        24662,
                                        20063,
                                        24784,
                                        23189,
                                        20031,
                                        31092,
                                        33325,
                                        31412,
                                        26049,
                                        22309,
                                        31849,
                                        28788,
                                        26268,
                                        21046,
                                        28506,
                                        25586,
                                        21037,
                                        33134,
                                        36748,
                                        34377
                                    ],
                                    "yaxis": "y4"
                                },
                                {
                                    "line": {
                                        "color": "orange",
                                        "dash": "dash"
                                    },
                                    "mode": "lines",
                                    "name": "Forecast 4",
                                    "type": "scatter",
                                    "x": [
                                        0,
                                        1,
                                        2,
                                        3,
                                        4,
                                        5,
                                        6,
                                        7,
                                        8,
                                        9,
                                        10,
                                        11,
                                        12,
                                        13,
                                        14,
                                        15,
                                        16,
                                        17,
                                        18,
                                        19,
                                        20,
                                        21,
                                        22,
                                        23
                                    ],
                                    "xaxis": "x4",
                                    "y": [
                                        27154.056640625,
                                        23977.876953125,
                                        28069.95703125,
                                        22869.525390625,
                                        20125.8359375,
                                        20503.61328125,
                                        26249.12109375,
                                        24868.068359375,
                                        22873.404296875,
                                        31275.93359375,
                                        32832.82421875,
                                        31834.83203125,
                                        29462.44140625,
                                        26923.255859375,
                                        30173.484375,
                                        23698.9765625,
                                        21151.060546875,
                                        21440.66015625,
                                        26893.515625,
                                        25260.287109375,
                                        24094.9921875,
                                        32898.64453125,
                                        34481.7109375,
                                        32550.12890625
                                    ],
                                    "yaxis": "y4"
                                }
                            ],
                            "layout": {
                                "annotations": [
                                    {
                                        "font": {
                                            "size": 16
                                        },
                                        "showarrow": false,
                                        "text": "Time Series 1",
                                        "x": 0.5,
                                        "xanchor": "center",
                                        "xref": "paper",
                                        "y": 1,
                                        "yanchor": "bottom",
                                        "yref": "paper"
                                    },
                                    {
                                        "font": {
                                            "size": 16
                                        },
                                        "showarrow": false,
                                        "text": "Time Series 2",
                                        "x": 0.5,
                                        "xanchor": "center",
                                        "xref": "paper",
                                        "y": 0.71875,
                                        "yanchor": "bottom",
                                        "yref": "paper"
                                    },
                                    {
                                        "font": {
                                            "size": 16
                                        },
                                        "showarrow": false,
                                        "text": "Time Series 3",
                                        "x": 0.5,
                                        "xanchor": "center",
                                        "xref": "paper",
                                        "y": 0.4375,
                                        "yanchor": "bottom",
                                        "yref": "paper"
                                    },
                                    {
                                        "font": {
                                            "size": 16
                                        },
                                        "showarrow": false,
                                        "text": "Time Series 4",
                                        "x": 0.5,
                                        "xanchor": "center",
                                        "xref": "paper",
                                        "y": 0.15625,
                                        "yanchor": "bottom",
                                        "yref": "paper"
                                    }
                                ],
                                "height": 1000,
                                "showlegend": true,
                                "template": {
                                    "data": {
                                        "bar": [
                                            {
                                                "error_x": {
                                                    "color": "#2a3f5f"
                                                },
                                                "error_y": {
                                                    "color": "#2a3f5f"
                                                },
                                                "marker": {
                                                    "line": {
                                                        "color": "#E5ECF6",
                                                        "width": 0.5
                                                    },
                                                    "pattern": {
                                                        "fillmode": "overlay",
                                                        "size": 10,
                                                        "solidity": 0.2
                                                    }
                                                },
                                                "type": "bar"
                                            }
                                        ],
                                        "barpolar": [
                                            {
                                                "marker": {
                                                    "line": {
                                                        "color": "#E5ECF6",
                                                        "width": 0.5
                                                    },
                                                    "pattern": {
                                                        "fillmode": "overlay",
                                                        "size": 10,
                                                        "solidity": 0.2
                                                    }
                                                },
                                                "type": "barpolar"
                                            }
                                        ],
                                        "carpet": [
                                            {
                                                "aaxis": {
                                                    "endlinecolor": "#2a3f5f",
                                                    "gridcolor": "white",
                                                    "linecolor": "white",
                                                    "minorgridcolor": "white",
                                                    "startlinecolor": "#2a3f5f"
                                                },
                                                "baxis": {
                                                    "endlinecolor": "#2a3f5f",
                                                    "gridcolor": "white",
                                                    "linecolor": "white",
                                                    "minorgridcolor": "white",
                                                    "startlinecolor": "#2a3f5f"
                                                },
                                                "type": "carpet"
                                            }
                                        ],
                                        "choropleth": [
                                            {
                                                "colorbar": {
                                                    "outlinewidth": 0,
                                                    "ticks": ""
                                                },
                                                "type": "choropleth"
                                            }
                                        ],
                                        "contour": [
                                            {
                                                "colorbar": {
                                                    "outlinewidth": 0,
                                                    "ticks": ""
                                                },
                                                "colorscale": [
                                                    [
                                                        0,
                                                        "#0d0887"
                                                    ],
                                                    [
                                                        0.1111111111111111,
                                                        "#46039f"
                                                    ],
                                                    [
                                                        0.2222222222222222,
                                                        "#7201a8"
                                                    ],
                                                    [
                                                        0.3333333333333333,
                                                        "#9c179e"
                                                    ],
                                                    [
                                                        0.4444444444444444,
                                                        "#bd3786"
                                                    ],
                                                    [
                                                        0.5555555555555556,
                                                        "#d8576b"
                                                    ],
                                                    [
                                                        0.6666666666666666,
                                                        "#ed7953"
                                                    ],
                                                    [
                                                        0.7777777777777778,
                                                        "#fb9f3a"
                                                    ],
                                                    [
                                                        0.8888888888888888,
                                                        "#fdca26"
                                                    ],
                                                    [
                                                        1,
                                                        "#f0f921"
                                                    ]
                                                ],
                                                "type": "contour"
                                            }
                                        ],
                                        "contourcarpet": [
                                            {
                                                "colorbar": {
                                                    "outlinewidth": 0,
                                                    "ticks": ""
                                                },
                                                "type": "contourcarpet"
                                            }
                                        ],
                                        "heatmap": [
                                            {
                                                "colorbar": {
                                                    "outlinewidth": 0,
                                                    "ticks": ""
                                                },
                                                "colorscale": [
                                                    [
                                                        0,
                                                        "#0d0887"
                                                    ],
                                                    [
                                                        0.1111111111111111,
                                                        "#46039f"
                                                    ],
                                                    [
                                                        0.2222222222222222,
                                                        "#7201a8"
                                                    ],
                                                    [
                                                        0.3333333333333333,
                                                        "#9c179e"
                                                    ],
                                                    [
                                                        0.4444444444444444,
                                                        "#bd3786"
                                                    ],
                                                    [
                                                        0.5555555555555556,
                                                        "#d8576b"
                                                    ],
                                                    [
                                                        0.6666666666666666,
                                                        "#ed7953"
                                                    ],
                                                    [
                                                        0.7777777777777778,
                                                        "#fb9f3a"
                                                    ],
                                                    [
                                                        0.8888888888888888,
                                                        "#fdca26"
                                                    ],
                                                    [
                                                        1,
                                                        "#f0f921"
                                                    ]
                                                ],
                                                "type": "heatmap"
                                            }
                                        ],
                                        "heatmapgl": [
                                            {
                                                "colorbar": {
                                                    "outlinewidth": 0,
                                                    "ticks": ""
                                                },
                                                "colorscale": [
                                                    [
                                                        0,
                                                        "#0d0887"
                                                    ],
                                                    [
                                                        0.1111111111111111,
                                                        "#46039f"
                                                    ],
                                                    [
                                                        0.2222222222222222,
                                                        "#7201a8"
                                                    ],
                                                    [
                                                        0.3333333333333333,
                                                        "#9c179e"
                                                    ],
                                                    [
                                                        0.4444444444444444,
                                                        "#bd3786"
                                                    ],
                                                    [
                                                        0.5555555555555556,
                                                        "#d8576b"
                                                    ],
                                                    [
                                                        0.6666666666666666,
                                                        "#ed7953"
                                                    ],
                                                    [
                                                        0.7777777777777778,
                                                        "#fb9f3a"
                                                    ],
                                                    [
                                                        0.8888888888888888,
                                                        "#fdca26"
                                                    ],
                                                    [
                                                        1,
                                                        "#f0f921"
                                                    ]
                                                ],
                                                "type": "heatmapgl"
                                            }
                                        ],
                                        "histogram": [
                                            {
                                                "marker": {
                                                    "pattern": {
                                                        "fillmode": "overlay",
                                                        "size": 10,
                                                        "solidity": 0.2
                                                    }
                                                },
                                                "type": "histogram"
                                            }
                                        ],
                                        "histogram2d": [
                                            {
                                                "colorbar": {
                                                    "outlinewidth": 0,
                                                    "ticks": ""
                                                },
                                                "colorscale": [
                                                    [
                                                        0,
                                                        "#0d0887"
                                                    ],
                                                    [
                                                        0.1111111111111111,
                                                        "#46039f"
                                                    ],
                                                    [
                                                        0.2222222222222222,
                                                        "#7201a8"
                                                    ],
                                                    [
                                                        0.3333333333333333,
                                                        "#9c179e"
                                                    ],
                                                    [
                                                        0.4444444444444444,
                                                        "#bd3786"
                                                    ],
                                                    [
                                                        0.5555555555555556,
                                                        "#d8576b"
                                                    ],
                                                    [
                                                        0.6666666666666666,
                                                        "#ed7953"
                                                    ],
                                                    [
                                                        0.7777777777777778,
                                                        "#fb9f3a"
                                                    ],
                                                    [
                                                        0.8888888888888888,
                                                        "#fdca26"
                                                    ],
                                                    [
                                                        1,
                                                        "#f0f921"
                                                    ]
                                                ],
                                                "type": "histogram2d"
                                            }
                                        ],
                                        "histogram2dcontour": [
                                            {
                                                "colorbar": {
                                                    "outlinewidth": 0,
                                                    "ticks": ""
                                                },
                                                "colorscale": [
                                                    [
                                                        0,
                                                        "#0d0887"
                                                    ],
                                                    [
                                                        0.1111111111111111,
                                                        "#46039f"
                                                    ],
                                                    [
                                                        0.2222222222222222,
                                                        "#7201a8"
                                                    ],
                                                    [
                                                        0.3333333333333333,
                                                        "#9c179e"
                                                    ],
                                                    [
                                                        0.4444444444444444,
                                                        "#bd3786"
                                                    ],
                                                    [
                                                        0.5555555555555556,
                                                        "#d8576b"
                                                    ],
                                                    [
                                                        0.6666666666666666,
                                                        "#ed7953"
                                                    ],
                                                    [
                                                        0.7777777777777778,
                                                        "#fb9f3a"
                                                    ],
                                                    [
                                                        0.8888888888888888,
                                                        "#fdca26"
                                                    ],
                                                    [
                                                        1,
                                                        "#f0f921"
                                                    ]
                                                ],
                                                "type": "histogram2dcontour"
                                            }
                                        ],
                                        "mesh3d": [
                                            {
                                                "colorbar": {
                                                    "outlinewidth": 0,
                                                    "ticks": ""
                                                },
                                                "type": "mesh3d"
                                            }
                                        ],
                                        "parcoords": [
                                            {
                                                "line": {
                                                    "colorbar": {
                                                        "outlinewidth": 0,
                                                        "ticks": ""
                                                    }
                                                },
                                                "type": "parcoords"
                                            }
                                        ],
                                        "pie": [
                                            {
                                                "automargin": true,
                                                "type": "pie"
                                            }
                                        ],
                                        "scatter": [
                                            {
                                                "fillpattern": {
                                                    "fillmode": "overlay",
                                                    "size": 10,
                                                    "solidity": 0.2
                                                },
                                                "type": "scatter"
                                            }
                                        ],
                                        "scatter3d": [
                                            {
                                                "line": {
                                                    "colorbar": {
                                                        "outlinewidth": 0,
                                                        "ticks": ""
                                                    }
                                                },
                                                "marker": {
                                                    "colorbar": {
                                                        "outlinewidth": 0,
                                                        "ticks": ""
                                                    }
                                                },
                                                "type": "scatter3d"
                                            }
                                        ],
                                        "scattercarpet": [
                                            {
                                                "marker": {
                                                    "colorbar": {
                                                        "outlinewidth": 0,
                                                        "ticks": ""
                                                    }
                                                },
                                                "type": "scattercarpet"
                                            }
                                        ],
                                        "scattergeo": [
                                            {
                                                "marker": {
                                                    "colorbar": {
                                                        "outlinewidth": 0,
                                                        "ticks": ""
                                                    }
                                                },
                                                "type": "scattergeo"
                                            }
                                        ],
                                        "scattergl": [
                                            {
                                                "marker": {
                                                    "colorbar": {
                                                        "outlinewidth": 0,
                                                        "ticks": ""
                                                    }
                                                },
                                                "type": "scattergl"
                                            }
                                        ],
                                        "scattermapbox": [
                                            {
                                                "marker": {
                                                    "colorbar": {
                                                        "outlinewidth": 0,
                                                        "ticks": ""
                                                    }
                                                },
                                                "type": "scattermapbox"
                                            }
                                        ],
                                        "scatterpolar": [
                                            {
                                                "marker": {
                                                    "colorbar": {
                                                        "outlinewidth": 0,
                                                        "ticks": ""
                                                    }
                                                },
                                                "type": "scatterpolar"
                                            }
                                        ],
                                        "scatterpolargl": [
                                            {
                                                "marker": {
                                                    "colorbar": {
                                                        "outlinewidth": 0,
                                                        "ticks": ""
                                                    }
                                                },
                                                "type": "scatterpolargl"
                                            }
                                        ],
                                        "scatterternary": [
                                            {
                                                "marker": {
                                                    "colorbar": {
                                                        "outlinewidth": 0,
                                                        "ticks": ""
                                                    }
                                                },
                                                "type": "scatterternary"
                                            }
                                        ],
                                        "surface": [
                                            {
                                                "colorbar": {
                                                    "outlinewidth": 0,
                                                    "ticks": ""
                                                },
                                                "colorscale": [
                                                    [
                                                        0,
                                                        "#0d0887"
                                                    ],
                                                    [
                                                        0.1111111111111111,
                                                        "#46039f"
                                                    ],
                                                    [
                                                        0.2222222222222222,
                                                        "#7201a8"
                                                    ],
                                                    [
                                                        0.3333333333333333,
                                                        "#9c179e"
                                                    ],
                                                    [
                                                        0.4444444444444444,
                                                        "#bd3786"
                                                    ],
                                                    [
                                                        0.5555555555555556,
                                                        "#d8576b"
                                                    ],
                                                    [
                                                        0.6666666666666666,
                                                        "#ed7953"
                                                    ],
                                                    [
                                                        0.7777777777777778,
                                                        "#fb9f3a"
                                                    ],
                                                    [
                                                        0.8888888888888888,
                                                        "#fdca26"
                                                    ],
                                                    [
                                                        1,
                                                        "#f0f921"
                                                    ]
                                                ],
                                                "type": "surface"
                                            }
                                        ],
                                        "table": [
                                            {
                                                "cells": {
                                                    "fill": {
                                                        "color": "#EBF0F8"
                                                    },
                                                    "line": {
                                                        "color": "white"
                                                    }
                                                },
                                                "header": {
                                                    "fill": {
                                                        "color": "#C8D4E3"
                                                    },
                                                    "line": {
                                                        "color": "white"
                                                    }
                                                },
                                                "type": "table"
                                            }
                                        ]
                                    },
                                    "layout": {
                                        "annotationdefaults": {
                                            "arrowcolor": "#2a3f5f",
                                            "arrowhead": 0,
                                            "arrowwidth": 1
                                        },
                                        "autotypenumbers": "strict",
                                        "coloraxis": {
                                            "colorbar": {
                                                "outlinewidth": 0,
                                                "ticks": ""
                                            }
                                        },
                                        "colorscale": {
                                            "diverging": [
                                                [
                                                    0,
                                                    "#8e0152"
                                                ],
                                                [
                                                    0.1,
                                                    "#c51b7d"
                                                ],
                                                [
                                                    0.2,
                                                    "#de77ae"
                                                ],
                                                [
                                                    0.3,
                                                    "#f1b6da"
                                                ],
                                                [
                                                    0.4,
                                                    "#fde0ef"
                                                ],
                                                [
                                                    0.5,
                                                    "#f7f7f7"
                                                ],
                                                [
                                                    0.6,
                                                    "#e6f5d0"
                                                ],
                                                [
                                                    0.7,
                                                    "#b8e186"
                                                ],
                                                [
                                                    0.8,
                                                    "#7fbc41"
                                                ],
                                                [
                                                    0.9,
                                                    "#4d9221"
                                                ],
                                                [
                                                    1,
                                                    "#276419"
                                                ]
                                            ],
                                            "sequential": [
                                                [
                                                    0,
                                                    "#0d0887"
                                                ],
                                                [
                                                    0.1111111111111111,
                                                    "#46039f"
                                                ],
                                                [
                                                    0.2222222222222222,
                                                    "#7201a8"
                                                ],
                                                [
                                                    0.3333333333333333,
                                                    "#9c179e"
                                                ],
                                                [
                                                    0.4444444444444444,
                                                    "#bd3786"
                                                ],
                                                [
                                                    0.5555555555555556,
                                                    "#d8576b"
                                                ],
                                                [
                                                    0.6666666666666666,
                                                    "#ed7953"
                                                ],
                                                [
                                                    0.7777777777777778,
                                                    "#fb9f3a"
                                                ],
                                                [
                                                    0.8888888888888888,
                                                    "#fdca26"
                                                ],
                                                [
                                                    1,
                                                    "#f0f921"
                                                ]
                                            ],
                                            "sequentialminus": [
                                                [
                                                    0,
                                                    "#0d0887"
                                                ],
                                                [
                                                    0.1111111111111111,
                                                    "#46039f"
                                                ],
                                                [
                                                    0.2222222222222222,
                                                    "#7201a8"
                                                ],
                                                [
                                                    0.3333333333333333,
                                                    "#9c179e"
                                                ],
                                                [
                                                    0.4444444444444444,
                                                    "#bd3786"
                                                ],
                                                [
                                                    0.5555555555555556,
                                                    "#d8576b"
                                                ],
                                                [
                                                    0.6666666666666666,
                                                    "#ed7953"
                                                ],
                                                [
                                                    0.7777777777777778,
                                                    "#fb9f3a"
                                                ],
                                                [
                                                    0.8888888888888888,
                                                    "#fdca26"
                                                ],
                                                [
                                                    1,
                                                    "#f0f921"
                                                ]
                                            ]
                                        },
                                        "colorway": [
                                            "#636efa",
                                            "#EF553B",
                                            "#00cc96",
                                            "#ab63fa",
                                            "#FFA15A",
                                            "#19d3f3",
                                            "#FF6692",
                                            "#B6E880",
                                            "#FF97FF",
                                            "#FECB52"
                                        ],
                                        "font": {
                                            "color": "#2a3f5f"
                                        },
                                        "geo": {
                                            "bgcolor": "white",
                                            "lakecolor": "white",
                                            "landcolor": "#E5ECF6",
                                            "showlakes": true,
                                            "showland": true,
                                            "subunitcolor": "white"
                                        },
                                        "hoverlabel": {
                                            "align": "left"
                                        },
                                        "hovermode": "closest",
                                        "mapbox": {
                                            "style": "light"
                                        },
                                        "paper_bgcolor": "white",
                                        "plot_bgcolor": "#E5ECF6",
                                        "polar": {
                                            "angularaxis": {
                                                "gridcolor": "white",
                                                "linecolor": "white",
                                                "ticks": ""
                                            },
                                            "bgcolor": "#E5ECF6",
                                            "radialaxis": {
                                                "gridcolor": "white",
                                                "linecolor": "white",
                                                "ticks": ""
                                            }
                                        },
                                        "scene": {
                                            "xaxis": {
                                                "backgroundcolor": "#E5ECF6",
                                                "gridcolor": "white",
                                                "gridwidth": 2,
                                                "linecolor": "white",
                                                "showbackground": true,
                                                "ticks": "",
                                                "zerolinecolor": "white"
                                            },
                                            "yaxis": {
                                                "backgroundcolor": "#E5ECF6",
                                                "gridcolor": "white",
                                                "gridwidth": 2,
                                                "linecolor": "white",
                                                "showbackground": true,
                                                "ticks": "",
                                                "zerolinecolor": "white"
                                            },
                                            "zaxis": {
                                                "backgroundcolor": "#E5ECF6",
                                                "gridcolor": "white",
                                                "gridwidth": 2,
                                                "linecolor": "white",
                                                "showbackground": true,
                                                "ticks": "",
                                                "zerolinecolor": "white"
                                            }
                                        },
                                        "shapedefaults": {
                                            "line": {
                                                "color": "#2a3f5f"
                                            }
                                        },
                                        "ternary": {
                                            "aaxis": {
                                                "gridcolor": "white",
                                                "linecolor": "white",
                                                "ticks": ""
                                            },
                                            "baxis": {
                                                "gridcolor": "white",
                                                "linecolor": "white",
                                                "ticks": ""
                                            },
                                            "bgcolor": "#E5ECF6",
                                            "caxis": {
                                                "gridcolor": "white",
                                                "linecolor": "white",
                                                "ticks": ""
                                            }
                                        },
                                        "title": {
                                            "x": 0.05
                                        },
                                        "xaxis": {
                                            "automargin": true,
                                            "gridcolor": "white",
                                            "linecolor": "white",
                                            "ticks": "",
                                            "title": {
                                                "standoff": 15
                                            },
                                            "zerolinecolor": "white",
                                            "zerolinewidth": 2
                                        },
                                        "yaxis": {
                                            "automargin": true,
                                            "gridcolor": "white",
                                            "linecolor": "white",
                                            "ticks": "",
                                            "title": {
                                                "standoff": 15
                                            },
                                            "zerolinecolor": "white",
                                            "zerolinewidth": 2
                                        }
                                    }
                                },
                                "title": {
                                    "text": "Forecasts vs Actuals for First 4 Time Series"
                                },
                                "width": 800,
                                "xaxis": {
                                    "anchor": "y",
                                    "domain": [
                                        0,
                                        1
                                    ],
                                    "matches": "x4",
                                    "showticklabels": false
                                },
                                "xaxis2": {
                                    "anchor": "y2",
                                    "domain": [
                                        0,
                                        1
                                    ],
                                    "matches": "x4",
                                    "showticklabels": false
                                },
                                "xaxis3": {
                                    "anchor": "y3",
                                    "domain": [
                                        0,
                                        1
                                    ],
                                    "matches": "x4",
                                    "showticklabels": false
                                },
                                "xaxis4": {
                                    "anchor": "y4",
                                    "domain": [
                                        0,
                                        1
                                    ],
                                    "title": {
                                        "text": "Timesteps"
                                    }
                                },
                                "yaxis": {
                                    "anchor": "x",
                                    "domain": [
                                        0.84375,
                                        1
                                    ]
                                },
                                "yaxis2": {
                                    "anchor": "x2",
                                    "domain": [
                                        0.5625,
                                        0.71875
                                    ]
                                },
                                "yaxis3": {
                                    "anchor": "x3",
                                    "domain": [
                                        0.28125,
                                        0.4375
                                    ]
                                },
                                "yaxis4": {
                                    "anchor": "x4",
                                    "domain": [
                                        0,
                                        0.15625
                                    ]
                                }
                            }
                        }
                    },
                    "metadata": {},
                    "output_type": "display_data"
                }
            ],
            "source": [
                "nnts.plotting.plotly_forecasts_vs_actuals(y, y_hat)"
            ]
        },
        {
            "cell_type": "markdown",
            "metadata": {},
            "source": [
                "### Forecast"
            ]
        },
        {
            "cell_type": "code",
            "execution_count": 28,
            "metadata": {},
            "outputs": [],
            "source": [
                "net = evaluator.net\n",
                "\n",
                "forecaster = nnts.torch.trainers.TorchForecaster(net)"
            ]
        },
        {
            "cell_type": "code",
            "execution_count": 29,
            "metadata": {},
            "outputs": [],
            "source": [
                "forecast = forecaster.forecast(test_dl, metadata.prediction_length, metadata.context_length)"
            ]
        },
        {
            "cell_type": "code",
            "execution_count": 30,
            "metadata": {},
            "outputs": [
                {
                    "data": {
                        "text/plain": [
                            "tensor([[[  6641.45605469],\n",
                            "         [  4133.40673828],\n",
                            "         [  3067.53247070],\n",
                            "         ...,\n",
                            "         [  3548.06396484],\n",
                            "         [  4189.00341797],\n",
                            "         [  6918.93017578]],\n",
                            "\n",
                            "        [[194433.23437500],\n",
                            "         [159917.76562500],\n",
                            "         [152778.92187500],\n",
                            "         ...,\n",
                            "         [134823.09375000],\n",
                            "         [146866.96875000],\n",
                            "         [201028.07812500]],\n",
                            "\n",
                            "        [[ 95321.10937500],\n",
                            "         [ 86995.16406250],\n",
                            "         [103553.07812500],\n",
                            "         ...,\n",
                            "         [133744.62500000],\n",
                            "         [125787.48437500],\n",
                            "         [103492.85937500]],\n",
                            "\n",
                            "        ...,\n",
                            "\n",
                            "        [[  7711.12939453],\n",
                            "         [ 14208.24902344],\n",
                            "         [ 10858.39062500],\n",
                            "         ...,\n",
                            "         [  7101.75195312],\n",
                            "         [  6812.04296875],\n",
                            "         [  8448.37890625]],\n",
                            "\n",
                            "        [[  7796.66650391],\n",
                            "         [  7452.81250000],\n",
                            "         [ 11486.20019531],\n",
                            "         ...,\n",
                            "         [ 14187.00683594],\n",
                            "         [ 10841.85546875],\n",
                            "         [ 10177.20507812]],\n",
                            "\n",
                            "        [[  2008.92102051],\n",
                            "         [  1647.43176270],\n",
                            "         [  2423.51904297],\n",
                            "         ...,\n",
                            "         [  2893.02734375],\n",
                            "         [  1677.34619141],\n",
                            "         [  1458.23291016]]])"
                        ]
                    },
                    "execution_count": 30,
                    "metadata": {},
                    "output_type": "execute_result"
                }
            ],
            "source": [
                "forecast"
            ]
        },
        {
            "cell_type": "code",
            "execution_count": null,
            "metadata": {},
            "outputs": [],
            "source": []
        }
    ],
    "metadata": {
        "kernelspec": {
            "display_name": "venv",
            "language": "python",
            "name": "python3"
        },
        "language_info": {
            "codemirror_mode": {
                "name": "ipython",
                "version": 3
            },
            "file_extension": ".py",
            "mimetype": "text/x-python",
            "name": "python",
            "nbconvert_exporter": "python",
            "pygments_lexer": "ipython3",
            "version": "3.11.8"
        }
    },
    "nbformat": 4,
    "nbformat_minor": 2
}
