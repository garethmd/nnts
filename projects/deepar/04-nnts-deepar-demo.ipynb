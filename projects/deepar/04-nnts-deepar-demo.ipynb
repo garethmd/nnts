{
    "cells": [
        {
            "cell_type": "code",
            "execution_count": 1,
            "metadata": {},
            "outputs": [],
            "source": [
                "import nnts\n",
                "import nnts.data\n",
                "import nnts.plotting\n",
                "import nnts.torch.preprocessing\n",
                "import nnts.torch.models\n",
                "import nnts.metrics\n",
                "import nnts.torch.datasets\n",
                "import nnts.loggers\n",
                "import nnts.datasets\n",
                "from nnts import utils\n",
                "import nnts.torch.utils\n",
                "import nnts.torch.trainers\n",
                "import nnts.metrics\n",
                "\n",
                "import torch\n",
                "torch.set_printoptions(precision=8, sci_mode=False)\n",
                "%load_ext autoreload\n",
                "%autoreload 2"
            ]
        },
        {
            "cell_type": "markdown",
            "metadata": {},
            "source": [
                "### Load the dataset \n",
                "You can easily load any of the Monash datasets using the `load_dataset` function."
            ]
        },
        {
            "cell_type": "code",
            "execution_count": 2,
            "metadata": {},
            "outputs": [],
            "source": [
                "df, metadata = nnts.datasets.load_dataset(\"tourism_monthly\")"
            ]
        },
        {
            "cell_type": "markdown",
            "metadata": {},
            "source": [
                "### Set the Hyperparamters \n",
                "You will need to provide an optimizer and a loss function. Other hyperparameters are optional."
            ]
        },
        {
            "cell_type": "code",
            "execution_count": 3,
            "metadata": {},
            "outputs": [],
            "source": [
                "params = utils.Hyperparams(\n",
                "    optimizer=torch.optim.Adam,\n",
                "    loss_fn=nnts.torch.models.deepar.distr_nll,\n",
                "    batch_size=32,\n",
                "    batches_per_epoch=50,\n",
                "    training_method=utils.TrainingMethod.TEACHER_FORCING,\n",
                "    model_file_path=\"logs\"\n",
                ")"
            ]
        },
        {
            "cell_type": "markdown",
            "metadata": {},
            "source": [
                "### Create covariate features\n",
                "When using a DeepAR model we recommend using lag features as covariates."
            ]
        },
        {
            "cell_type": "code",
            "execution_count": 4,
            "metadata": {},
            "outputs": [],
            "source": [
                "import nnts.lags\n",
                "lag_seq = nnts.lags.get_lags_for_frequency(metadata.freq)\n",
                "lag_seq = [lag - 1 for lag in lag_seq if lag > 1]\n",
                "lag_processor = nnts.torch.preprocessing.LagProcessor(lag_seq)"
            ]
        },
        {
            "cell_type": "markdown",
            "metadata": {},
            "source": [
                "### Data Processing\n",
                "We specify how we want to split the data, what transformations we want to apply and how we want to batch and sample the data during training.  "
            ]
        },
        {
            "cell_type": "code",
            "execution_count": 5,
            "metadata": {},
            "outputs": [],
            "source": [
                "context_length = metadata.context_length + max(lag_seq)\n",
                "dataset_options = {\n",
                "    \"context_length\": metadata.context_length,\n",
                "    \"prediction_length\": metadata.prediction_length,\n",
                "    \"conts\": [],\n",
                "    \"lag_seq\": lag_seq,\n",
                "}\n",
                "\n",
                "trn_dl, test_dl = nnts.torch.utils.create_dataloaders(\n",
                "    df,\n",
                "    nnts.datasets.split_test_train_last_horizon,\n",
                "    context_length,\n",
                "    metadata.prediction_length,\n",
                "    Dataset=nnts.torch.datasets.TimeseriesDataset,\n",
                "    dataset_options=dataset_options,\n",
                "    Sampler=nnts.torch.datasets.TimeSeriesSampler,\n",
                ")"
            ]
        },
        {
            "cell_type": "markdown",
            "metadata": {},
            "source": [
                "### Create the model\n",
                "Create a Pytorch model."
            ]
        },
        {
            "cell_type": "code",
            "execution_count": 6,
            "metadata": {},
            "outputs": [],
            "source": [
                "\n",
                "net = nnts.torch.models.DistrDeepAR(\n",
                "    nnts.torch.models.deepar.StudentTHead,\n",
                "    params,\n",
                "    nnts.torch.preprocessing.masked_mean_abs_scaling,\n",
                "    1,\n",
                "    lag_processor=lag_processor,\n",
                "    scaled_features=[],\n",
                "    context_length=metadata.context_length,\n",
                "    cat_idx=None,\n",
                "    seq_cat_idx=None,\n",
                ")\n"
            ]
        },
        {
            "cell_type": "markdown",
            "metadata": {},
            "source": [
                "### Train the model"
            ]
        },
        {
            "cell_type": "code",
            "execution_count": 7,
            "metadata": {},
            "outputs": [
                {
                    "name": "stdout",
                    "output_type": "stream",
                    "text": [
                        "DistrDeepAR(\n",
                        "  (decoder): UnrolledLSTMDecoder(\n",
                        "    (rnn): LSTM(16, 40, num_layers=2, batch_first=True, dropout=0.1)\n",
                        "  )\n",
                        "  (distribution): StudentTHead(\n",
                        "    (main): ModuleList(\n",
                        "      (0-2): 3 x Linear(in_features=40, out_features=1, bias=True)\n",
                        "    )\n",
                        "  )\n",
                        ")\n",
                        "saving model\n",
                        "Epoch 1 Train Loss: 9.474244117736816\n",
                        "saving model\n",
                        "Epoch 2 Train Loss: 9.108116149902344\n",
                        "saving model\n",
                        "Epoch 3 Train Loss: 8.635644912719727\n",
                        "saving model\n",
                        "Epoch 4 Train Loss: 8.43875503540039\n",
                        "saving model\n",
                        "Epoch 5 Train Loss: 8.384746551513672\n",
                        "saving model\n",
                        "Epoch 6 Train Loss: 8.308905601501465\n",
                        "saving model\n",
                        "Epoch 7 Train Loss: 8.168272972106934\n",
                        "saving model\n",
                        "Epoch 8 Train Loss: 8.04916763305664\n",
                        "saving model\n",
                        "Epoch 9 Train Loss: 7.945784091949463\n",
                        "saving model\n",
                        "Epoch 10 Train Loss: 7.897384166717529\n",
                        "saving model\n",
                        "Epoch 11 Train Loss: 7.868238925933838\n",
                        "saving model\n",
                        "Epoch 12 Train Loss: 7.805572032928467\n",
                        "Epoch 13 Train Loss: 7.834261894226074\n",
                        "saving model\n",
                        "Epoch 14 Train Loss: 7.803522109985352\n",
                        "saving model\n",
                        "Epoch 15 Train Loss: 7.7964982986450195\n",
                        "Epoch 16 Train Loss: 7.805232524871826\n",
                        "saving model\n",
                        "Epoch 17 Train Loss: 7.781724452972412\n",
                        "Epoch 18 Train Loss: 7.783806800842285\n",
                        "saving model\n",
                        "Epoch 19 Train Loss: 7.769671440124512\n",
                        "Epoch 20 Train Loss: 7.795953273773193\n",
                        "saving model\n",
                        "Epoch 21 Train Loss: 7.744107723236084\n",
                        "Epoch 22 Train Loss: 7.7596049308776855\n",
                        "saving model\n",
                        "Epoch 23 Train Loss: 7.736790180206299\n",
                        "Epoch 24 Train Loss: 7.751258373260498\n",
                        "Epoch 25 Train Loss: 7.7413740158081055\n",
                        "saving model\n",
                        "Epoch 26 Train Loss: 7.707232475280762\n",
                        "Epoch 27 Train Loss: 7.71060037612915\n",
                        "Epoch 28 Train Loss: 7.728589057922363\n",
                        "saving model\n",
                        "Epoch 29 Train Loss: 7.6970534324646\n",
                        "saving model\n",
                        "Epoch 30 Train Loss: 7.662630558013916\n",
                        "Epoch 31 Train Loss: 7.676172256469727\n",
                        "Epoch 32 Train Loss: 7.677627086639404\n",
                        "saving model\n",
                        "Epoch 33 Train Loss: 7.628219127655029\n",
                        "Epoch 34 Train Loss: 7.646778106689453\n",
                        "saving model\n",
                        "Epoch 35 Train Loss: 7.624680042266846\n",
                        "saving model\n",
                        "Epoch 36 Train Loss: 7.614629745483398\n",
                        "saving model\n",
                        "Epoch 37 Train Loss: 7.606571197509766\n",
                        "Epoch 38 Train Loss: 7.607783317565918\n",
                        "Epoch 39 Train Loss: 7.6235480308532715\n",
                        "Epoch 40 Train Loss: 7.628625392913818\n",
                        "Epoch 41 Train Loss: 7.637697696685791\n",
                        "Epoch 42 Train Loss: 7.6256794929504395\n",
                        "saving model\n",
                        "Epoch 43 Train Loss: 7.585346221923828\n",
                        "Epoch 44 Train Loss: 7.602090358734131\n",
                        "Epoch 45 Train Loss: 7.598017692565918\n",
                        "Epoch 46 Train Loss: 7.601860523223877\n",
                        "saving model\n",
                        "Epoch 47 Train Loss: 7.570260524749756\n",
                        "Epoch 48 Train Loss: 7.594863414764404\n",
                        "Epoch 49 Train Loss: 7.5724196434021\n",
                        "Epoch 50 Train Loss: 7.596110820770264\n",
                        "Epoch 51 Train Loss: 7.574743747711182\n",
                        "Epoch 52 Train Loss: 7.5756354331970215\n",
                        "Epoch 53 Train Loss: 7.571110248565674\n",
                        "saving model\n",
                        "Epoch 54 Train Loss: 7.555452346801758\n",
                        "Epoch 55 Train Loss: 7.566558361053467\n",
                        "Epoch 56 Train Loss: 7.568753719329834\n",
                        "Epoch 57 Train Loss: 7.607731342315674\n",
                        "saving model\n",
                        "Epoch 58 Train Loss: 7.547160625457764\n",
                        "Epoch 59 Train Loss: 7.552860736846924\n",
                        "Epoch 60 Train Loss: 7.550814628601074\n",
                        "Epoch 61 Train Loss: 7.580606460571289\n",
                        "Epoch 62 Train Loss: 7.569571018218994\n",
                        "Epoch 63 Train Loss: 7.564435958862305\n",
                        "saving model\n",
                        "Epoch 64 Train Loss: 7.541093349456787\n",
                        "Epoch 65 Train Loss: 7.575297832489014\n",
                        "Epoch 66 Train Loss: 7.577007293701172\n",
                        "Epoch 67 Train Loss: 7.565649509429932\n",
                        "Epoch 68 Train Loss: 7.56640625\n",
                        "Epoch 69 Train Loss: 7.579530239105225\n",
                        "Epoch 70 Train Loss: 7.545257568359375\n",
                        "Epoch 71 Train Loss: 7.551147937774658\n",
                        "Epoch 72 Train Loss: 7.557968616485596\n",
                        "Epoch 73 Train Loss: 7.563706874847412\n",
                        "Epoch 74 Train Loss: 7.556472301483154\n",
                        "Epoch 75 Train Loss: 7.544424057006836\n",
                        "saving model\n",
                        "Epoch 76 Train Loss: 7.5243072509765625\n",
                        "Epoch 77 Train Loss: 7.547356128692627\n",
                        "Epoch 78 Train Loss: 7.550763130187988\n",
                        "saving model\n",
                        "Epoch 79 Train Loss: 7.516161918640137\n",
                        "Epoch 80 Train Loss: 7.521015644073486\n",
                        "Epoch 81 Train Loss: 7.527548313140869\n",
                        "Epoch 82 Train Loss: 7.532341480255127\n",
                        "Epoch 83 Train Loss: 7.537860870361328\n",
                        "Epoch 84 Train Loss: 7.5247111320495605\n",
                        "Epoch 85 Train Loss: 7.548058986663818\n",
                        "Epoch 86 Train Loss: 7.536171913146973\n",
                        "Epoch 87 Train Loss: 7.5316596031188965\n",
                        "Epoch 88 Train Loss: 7.535161972045898\n",
                        "Epoch 89 Train Loss: 7.540362358093262\n",
                        "Epoch 90 Train Loss: 7.544134616851807\n",
                        "Epoch 91 Train Loss: 7.545698165893555\n",
                        "Epoch 92 Train Loss: 7.516414642333984\n",
                        "Epoch 93 Train Loss: 7.533832550048828\n",
                        "Epoch 94 Train Loss: 7.536447525024414\n",
                        "Epoch 95 Train Loss: 7.519932746887207\n",
                        "Epoch 96 Train Loss: 7.5373053550720215\n",
                        "Epoch 97 Train Loss: 7.522571563720703\n",
                        "Epoch 98 Train Loss: 7.534940242767334\n",
                        "Epoch 99 Train Loss: 7.550607204437256\n",
                        "Epoch 100 Train Loss: 7.52214241027832\n",
                        "Best model loaded from logs/best_model.pt\n"
                    ]
                }
            ],
            "source": [
                "\n",
                "trner = nnts.torch.trainers.TorchEpochTrainer(\n",
                "    net,\n",
                "    params,\n",
                "    metadata\n",
                ")\n",
                "evaluator = trner.train(trn_dl)"
            ]
        },
        {
            "cell_type": "markdown",
            "metadata": {},
            "source": [
                "### Evaluate"
            ]
        },
        {
            "cell_type": "code",
            "execution_count": 8,
            "metadata": {},
            "outputs": [
                {
                    "data": {
                        "text/plain": [
                            "{'mse': 108923408.0,\n",
                            " 'abs_error': 22129120.0,\n",
                            " 'abs_target_sum': 166958480.0,\n",
                            " 'abs_target_mean': 19007.11328125,\n",
                            " 'mase': 1.6643701791763306,\n",
                            " 'mape': 0.2491537630558014,\n",
                            " 'smape': 0.20001694560050964,\n",
                            " 'msmape': 0.19999928772449493,\n",
                            " 'nd': 0.1964215189218521,\n",
                            " 'mae': 2519.253173828125,\n",
                            " 'rmse': 3050.3251953125,\n",
                            " 'seasonal_error': 1543.2191162109375}"
                        ]
                    },
                    "execution_count": 8,
                    "metadata": {},
                    "output_type": "execute_result"
                }
            ],
            "source": [
                "y_hat, y = evaluator.evaluate(\n",
                "    test_dl, metadata.prediction_length, metadata.context_length\n",
                ")\n",
                "\n",
                "test_metrics = nnts.metrics.calc_metrics(\n",
                "    y_hat, y, nnts.metrics.calculate_seasonal_error(trn_dl, metadata.seasonality)\n",
                ")\n",
                "test_metrics"
            ]
        },
        {
            "cell_type": "code",
            "execution_count": 9,
            "metadata": {},
            "outputs": [
                {
                    "data": {
                        "application/vnd.plotly.v1+json": {
                            "config": {
                                "plotlyServerURL": "https://plot.ly"
                            },
                            "data": [
                                {
                                    "line": {
                                        "color": "blue"
                                    },
                                    "mode": "lines",
                                    "name": "Actual 1",
                                    "type": "scatter",
                                    "x": [
                                        0,
                                        1,
                                        2,
                                        3,
                                        4,
                                        5,
                                        6,
                                        7,
                                        8,
                                        9,
                                        10,
                                        11,
                                        12,
                                        13,
                                        14,
                                        15,
                                        16,
                                        17,
                                        18,
                                        19,
                                        20,
                                        21,
                                        22,
                                        23
                                    ],
                                    "xaxis": "x",
                                    "y": [
                                        6611.115234375,
                                        4150.2392578125,
                                        2841,
                                        1813.43994140625,
                                        2261.080078125,
                                        1873.60498046875,
                                        1772.8399658203125,
                                        2049.56494140625,
                                        2932.264892578125,
                                        3113.2548828125,
                                        3461.5048828125,
                                        6265.740234375,
                                        6857.7998046875,
                                        4346.08984375,
                                        3154.72998046875,
                                        2142.2099609375,
                                        2375.72509765625,
                                        1981.1099853515625,
                                        1959.864990234375,
                                        2466.31005859375,
                                        2851.715087890625,
                                        3671.804931640625,
                                        3806.780029296875,
                                        6995.0498046875
                                    ],
                                    "yaxis": "y"
                                },
                                {
                                    "line": {
                                        "color": "orange",
                                        "dash": "dash"
                                    },
                                    "mode": "lines",
                                    "name": "Forecast 1",
                                    "type": "scatter",
                                    "x": [
                                        0,
                                        1,
                                        2,
                                        3,
                                        4,
                                        5,
                                        6,
                                        7,
                                        8,
                                        9,
                                        10,
                                        11,
                                        12,
                                        13,
                                        14,
                                        15,
                                        16,
                                        17,
                                        18,
                                        19,
                                        20,
                                        21,
                                        22,
                                        23
                                    ],
                                    "xaxis": "x",
                                    "y": [
                                        6681.46533203125,
                                        4232.93994140625,
                                        3139.682373046875,
                                        2123.69140625,
                                        2431.531982421875,
                                        2073.85205078125,
                                        1903.171875,
                                        2367.6640625,
                                        3176.732177734375,
                                        3562.14208984375,
                                        4216.5234375,
                                        7216.765625,
                                        7894.59765625,
                                        5000.35791015625,
                                        3938.689208984375,
                                        2609.01123046875,
                                        2937.457275390625,
                                        2449.216552734375,
                                        2286.4453125,
                                        2851.5390625,
                                        3625.62939453125,
                                        4252.86865234375,
                                        4967.39208984375,
                                        8165.904296875
                                    ],
                                    "yaxis": "y"
                                },
                                {
                                    "line": {
                                        "color": "blue"
                                    },
                                    "mode": "lines",
                                    "name": "Actual 2",
                                    "type": "scatter",
                                    "x": [
                                        0,
                                        1,
                                        2,
                                        3,
                                        4,
                                        5,
                                        6,
                                        7,
                                        8,
                                        9,
                                        10,
                                        11,
                                        12,
                                        13,
                                        14,
                                        15,
                                        16,
                                        17,
                                        18,
                                        19,
                                        20,
                                        21,
                                        22,
                                        23
                                    ],
                                    "xaxis": "x2",
                                    "y": [
                                        176215.203125,
                                        160025.703125,
                                        150995.5,
                                        112002.6015625,
                                        85668.59375,
                                        107283.1015625,
                                        86953.7734375,
                                        95141.9609375,
                                        104902.6015625,
                                        117794.5,
                                        139187.5,
                                        183571.90625,
                                        185953,
                                        171384.59375,
                                        169834.5,
                                        125275.3984375,
                                        90986.6015625,
                                        100422.453125,
                                        94333.9375,
                                        109861.6953125,
                                        116636.7421875,
                                        139426.515625,
                                        161014.921875,
                                        199405.109375
                                    ],
                                    "yaxis": "y2"
                                },
                                {
                                    "line": {
                                        "color": "orange",
                                        "dash": "dash"
                                    },
                                    "mode": "lines",
                                    "name": "Forecast 2",
                                    "type": "scatter",
                                    "x": [
                                        0,
                                        1,
                                        2,
                                        3,
                                        4,
                                        5,
                                        6,
                                        7,
                                        8,
                                        9,
                                        10,
                                        11,
                                        12,
                                        13,
                                        14,
                                        15,
                                        16,
                                        17,
                                        18,
                                        19,
                                        20,
                                        21,
                                        22,
                                        23
                                    ],
                                    "xaxis": "x2",
                                    "y": [
                                        190248.90625,
                                        162223.328125,
                                        154789.1875,
                                        104662.4609375,
                                        92648.671875,
                                        113708.6875,
                                        92555.859375,
                                        94045.015625,
                                        117315.5390625,
                                        130502.3828125,
                                        138334.375,
                                        194508.34375,
                                        216821.25,
                                        183925.9375,
                                        177050.796875,
                                        127680.9921875,
                                        108214.8515625,
                                        129807.390625,
                                        108207.2578125,
                                        106796.5546875,
                                        132940.71875,
                                        144607.59375,
                                        156922.78125,
                                        218250.5
                                    ],
                                    "yaxis": "y2"
                                },
                                {
                                    "line": {
                                        "color": "blue"
                                    },
                                    "mode": "lines",
                                    "name": "Actual 3",
                                    "type": "scatter",
                                    "x": [
                                        0,
                                        1,
                                        2,
                                        3,
                                        4,
                                        5,
                                        6,
                                        7,
                                        8,
                                        9,
                                        10,
                                        11,
                                        12,
                                        13,
                                        14,
                                        15,
                                        16,
                                        17,
                                        18,
                                        19,
                                        20,
                                        21,
                                        22,
                                        23
                                    ],
                                    "xaxis": "x3",
                                    "y": [
                                        89162,
                                        66728,
                                        104864,
                                        102253,
                                        91564,
                                        99782,
                                        100335,
                                        87455,
                                        87126,
                                        113382,
                                        109339,
                                        91099,
                                        84685,
                                        72779,
                                        106548,
                                        105057,
                                        92703,
                                        102484,
                                        101753,
                                        86872,
                                        87775,
                                        116104,
                                        108333,
                                        93932
                                    ],
                                    "yaxis": "y3"
                                },
                                {
                                    "line": {
                                        "color": "orange",
                                        "dash": "dash"
                                    },
                                    "mode": "lines",
                                    "name": "Forecast 3",
                                    "type": "scatter",
                                    "x": [
                                        0,
                                        1,
                                        2,
                                        3,
                                        4,
                                        5,
                                        6,
                                        7,
                                        8,
                                        9,
                                        10,
                                        11,
                                        12,
                                        13,
                                        14,
                                        15,
                                        16,
                                        17,
                                        18,
                                        19,
                                        20,
                                        21,
                                        22,
                                        23
                                    ],
                                    "xaxis": "x3",
                                    "y": [
                                        95137.015625,
                                        86915.3828125,
                                        99437.1640625,
                                        85778.0859375,
                                        72653.8359375,
                                        85887.8984375,
                                        98882.5,
                                        98361.3828125,
                                        99973.0234375,
                                        131122,
                                        118607.59375,
                                        105567.859375,
                                        108519.71875,
                                        100422.2265625,
                                        113636.078125,
                                        90019.6171875,
                                        77689.3203125,
                                        92667.4140625,
                                        105336.6015625,
                                        106721.875,
                                        113504.453125,
                                        141125.984375,
                                        125115.859375,
                                        115639.9609375
                                    ],
                                    "yaxis": "y3"
                                },
                                {
                                    "line": {
                                        "color": "blue"
                                    },
                                    "mode": "lines",
                                    "name": "Actual 4",
                                    "type": "scatter",
                                    "x": [
                                        0,
                                        1,
                                        2,
                                        3,
                                        4,
                                        5,
                                        6,
                                        7,
                                        8,
                                        9,
                                        10,
                                        11,
                                        12,
                                        13,
                                        14,
                                        15,
                                        16,
                                        17,
                                        18,
                                        19,
                                        20,
                                        21,
                                        22,
                                        23
                                    ],
                                    "xaxis": "x4",
                                    "y": [
                                        25621,
                                        19333,
                                        29124,
                                        26206,
                                        24662,
                                        20063,
                                        24784,
                                        23189,
                                        20031,
                                        31092,
                                        33325,
                                        31412,
                                        26049,
                                        22309,
                                        31849,
                                        28788,
                                        26268,
                                        21046,
                                        28506,
                                        25586,
                                        21037,
                                        33134,
                                        36748,
                                        34377
                                    ],
                                    "yaxis": "y4"
                                },
                                {
                                    "line": {
                                        "color": "orange",
                                        "dash": "dash"
                                    },
                                    "mode": "lines",
                                    "name": "Forecast 4",
                                    "type": "scatter",
                                    "x": [
                                        0,
                                        1,
                                        2,
                                        3,
                                        4,
                                        5,
                                        6,
                                        7,
                                        8,
                                        9,
                                        10,
                                        11,
                                        12,
                                        13,
                                        14,
                                        15,
                                        16,
                                        17,
                                        18,
                                        19,
                                        20,
                                        21,
                                        22,
                                        23
                                    ],
                                    "xaxis": "x4",
                                    "y": [
                                        27704.833984375,
                                        23903.029296875,
                                        28442.39453125,
                                        23786.798828125,
                                        20558.11328125,
                                        20813.3515625,
                                        24026.876953125,
                                        24799.3671875,
                                        23119.498046875,
                                        31680.125,
                                        35448.61328125,
                                        34382.1015625,
                                        31369.724609375,
                                        28946.21484375,
                                        30949.287109375,
                                        25846.29296875,
                                        22720.51953125,
                                        23055.501953125,
                                        27742.4140625,
                                        27033.79296875,
                                        25094.91796875,
                                        33727.58203125,
                                        35995.01953125,
                                        35559.99609375
                                    ],
                                    "yaxis": "y4"
                                }
                            ],
                            "layout": {
                                "annotations": [
                                    {
                                        "font": {
                                            "size": 16
                                        },
                                        "showarrow": false,
                                        "text": "Time Series 1",
                                        "x": 0.5,
                                        "xanchor": "center",
                                        "xref": "paper",
                                        "y": 1,
                                        "yanchor": "bottom",
                                        "yref": "paper"
                                    },
                                    {
                                        "font": {
                                            "size": 16
                                        },
                                        "showarrow": false,
                                        "text": "Time Series 2",
                                        "x": 0.5,
                                        "xanchor": "center",
                                        "xref": "paper",
                                        "y": 0.71875,
                                        "yanchor": "bottom",
                                        "yref": "paper"
                                    },
                                    {
                                        "font": {
                                            "size": 16
                                        },
                                        "showarrow": false,
                                        "text": "Time Series 3",
                                        "x": 0.5,
                                        "xanchor": "center",
                                        "xref": "paper",
                                        "y": 0.4375,
                                        "yanchor": "bottom",
                                        "yref": "paper"
                                    },
                                    {
                                        "font": {
                                            "size": 16
                                        },
                                        "showarrow": false,
                                        "text": "Time Series 4",
                                        "x": 0.5,
                                        "xanchor": "center",
                                        "xref": "paper",
                                        "y": 0.15625,
                                        "yanchor": "bottom",
                                        "yref": "paper"
                                    }
                                ],
                                "height": 1000,
                                "showlegend": true,
                                "template": {
                                    "data": {
                                        "bar": [
                                            {
                                                "error_x": {
                                                    "color": "#2a3f5f"
                                                },
                                                "error_y": {
                                                    "color": "#2a3f5f"
                                                },
                                                "marker": {
                                                    "line": {
                                                        "color": "#E5ECF6",
                                                        "width": 0.5
                                                    },
                                                    "pattern": {
                                                        "fillmode": "overlay",
                                                        "size": 10,
                                                        "solidity": 0.2
                                                    }
                                                },
                                                "type": "bar"
                                            }
                                        ],
                                        "barpolar": [
                                            {
                                                "marker": {
                                                    "line": {
                                                        "color": "#E5ECF6",
                                                        "width": 0.5
                                                    },
                                                    "pattern": {
                                                        "fillmode": "overlay",
                                                        "size": 10,
                                                        "solidity": 0.2
                                                    }
                                                },
                                                "type": "barpolar"
                                            }
                                        ],
                                        "carpet": [
                                            {
                                                "aaxis": {
                                                    "endlinecolor": "#2a3f5f",
                                                    "gridcolor": "white",
                                                    "linecolor": "white",
                                                    "minorgridcolor": "white",
                                                    "startlinecolor": "#2a3f5f"
                                                },
                                                "baxis": {
                                                    "endlinecolor": "#2a3f5f",
                                                    "gridcolor": "white",
                                                    "linecolor": "white",
                                                    "minorgridcolor": "white",
                                                    "startlinecolor": "#2a3f5f"
                                                },
                                                "type": "carpet"
                                            }
                                        ],
                                        "choropleth": [
                                            {
                                                "colorbar": {
                                                    "outlinewidth": 0,
                                                    "ticks": ""
                                                },
                                                "type": "choropleth"
                                            }
                                        ],
                                        "contour": [
                                            {
                                                "colorbar": {
                                                    "outlinewidth": 0,
                                                    "ticks": ""
                                                },
                                                "colorscale": [
                                                    [
                                                        0,
                                                        "#0d0887"
                                                    ],
                                                    [
                                                        0.1111111111111111,
                                                        "#46039f"
                                                    ],
                                                    [
                                                        0.2222222222222222,
                                                        "#7201a8"
                                                    ],
                                                    [
                                                        0.3333333333333333,
                                                        "#9c179e"
                                                    ],
                                                    [
                                                        0.4444444444444444,
                                                        "#bd3786"
                                                    ],
                                                    [
                                                        0.5555555555555556,
                                                        "#d8576b"
                                                    ],
                                                    [
                                                        0.6666666666666666,
                                                        "#ed7953"
                                                    ],
                                                    [
                                                        0.7777777777777778,
                                                        "#fb9f3a"
                                                    ],
                                                    [
                                                        0.8888888888888888,
                                                        "#fdca26"
                                                    ],
                                                    [
                                                        1,
                                                        "#f0f921"
                                                    ]
                                                ],
                                                "type": "contour"
                                            }
                                        ],
                                        "contourcarpet": [
                                            {
                                                "colorbar": {
                                                    "outlinewidth": 0,
                                                    "ticks": ""
                                                },
                                                "type": "contourcarpet"
                                            }
                                        ],
                                        "heatmap": [
                                            {
                                                "colorbar": {
                                                    "outlinewidth": 0,
                                                    "ticks": ""
                                                },
                                                "colorscale": [
                                                    [
                                                        0,
                                                        "#0d0887"
                                                    ],
                                                    [
                                                        0.1111111111111111,
                                                        "#46039f"
                                                    ],
                                                    [
                                                        0.2222222222222222,
                                                        "#7201a8"
                                                    ],
                                                    [
                                                        0.3333333333333333,
                                                        "#9c179e"
                                                    ],
                                                    [
                                                        0.4444444444444444,
                                                        "#bd3786"
                                                    ],
                                                    [
                                                        0.5555555555555556,
                                                        "#d8576b"
                                                    ],
                                                    [
                                                        0.6666666666666666,
                                                        "#ed7953"
                                                    ],
                                                    [
                                                        0.7777777777777778,
                                                        "#fb9f3a"
                                                    ],
                                                    [
                                                        0.8888888888888888,
                                                        "#fdca26"
                                                    ],
                                                    [
                                                        1,
                                                        "#f0f921"
                                                    ]
                                                ],
                                                "type": "heatmap"
                                            }
                                        ],
                                        "heatmapgl": [
                                            {
                                                "colorbar": {
                                                    "outlinewidth": 0,
                                                    "ticks": ""
                                                },
                                                "colorscale": [
                                                    [
                                                        0,
                                                        "#0d0887"
                                                    ],
                                                    [
                                                        0.1111111111111111,
                                                        "#46039f"
                                                    ],
                                                    [
                                                        0.2222222222222222,
                                                        "#7201a8"
                                                    ],
                                                    [
                                                        0.3333333333333333,
                                                        "#9c179e"
                                                    ],
                                                    [
                                                        0.4444444444444444,
                                                        "#bd3786"
                                                    ],
                                                    [
                                                        0.5555555555555556,
                                                        "#d8576b"
                                                    ],
                                                    [
                                                        0.6666666666666666,
                                                        "#ed7953"
                                                    ],
                                                    [
                                                        0.7777777777777778,
                                                        "#fb9f3a"
                                                    ],
                                                    [
                                                        0.8888888888888888,
                                                        "#fdca26"
                                                    ],
                                                    [
                                                        1,
                                                        "#f0f921"
                                                    ]
                                                ],
                                                "type": "heatmapgl"
                                            }
                                        ],
                                        "histogram": [
                                            {
                                                "marker": {
                                                    "pattern": {
                                                        "fillmode": "overlay",
                                                        "size": 10,
                                                        "solidity": 0.2
                                                    }
                                                },
                                                "type": "histogram"
                                            }
                                        ],
                                        "histogram2d": [
                                            {
                                                "colorbar": {
                                                    "outlinewidth": 0,
                                                    "ticks": ""
                                                },
                                                "colorscale": [
                                                    [
                                                        0,
                                                        "#0d0887"
                                                    ],
                                                    [
                                                        0.1111111111111111,
                                                        "#46039f"
                                                    ],
                                                    [
                                                        0.2222222222222222,
                                                        "#7201a8"
                                                    ],
                                                    [
                                                        0.3333333333333333,
                                                        "#9c179e"
                                                    ],
                                                    [
                                                        0.4444444444444444,
                                                        "#bd3786"
                                                    ],
                                                    [
                                                        0.5555555555555556,
                                                        "#d8576b"
                                                    ],
                                                    [
                                                        0.6666666666666666,
                                                        "#ed7953"
                                                    ],
                                                    [
                                                        0.7777777777777778,
                                                        "#fb9f3a"
                                                    ],
                                                    [
                                                        0.8888888888888888,
                                                        "#fdca26"
                                                    ],
                                                    [
                                                        1,
                                                        "#f0f921"
                                                    ]
                                                ],
                                                "type": "histogram2d"
                                            }
                                        ],
                                        "histogram2dcontour": [
                                            {
                                                "colorbar": {
                                                    "outlinewidth": 0,
                                                    "ticks": ""
                                                },
                                                "colorscale": [
                                                    [
                                                        0,
                                                        "#0d0887"
                                                    ],
                                                    [
                                                        0.1111111111111111,
                                                        "#46039f"
                                                    ],
                                                    [
                                                        0.2222222222222222,
                                                        "#7201a8"
                                                    ],
                                                    [
                                                        0.3333333333333333,
                                                        "#9c179e"
                                                    ],
                                                    [
                                                        0.4444444444444444,
                                                        "#bd3786"
                                                    ],
                                                    [
                                                        0.5555555555555556,
                                                        "#d8576b"
                                                    ],
                                                    [
                                                        0.6666666666666666,
                                                        "#ed7953"
                                                    ],
                                                    [
                                                        0.7777777777777778,
                                                        "#fb9f3a"
                                                    ],
                                                    [
                                                        0.8888888888888888,
                                                        "#fdca26"
                                                    ],
                                                    [
                                                        1,
                                                        "#f0f921"
                                                    ]
                                                ],
                                                "type": "histogram2dcontour"
                                            }
                                        ],
                                        "mesh3d": [
                                            {
                                                "colorbar": {
                                                    "outlinewidth": 0,
                                                    "ticks": ""
                                                },
                                                "type": "mesh3d"
                                            }
                                        ],
                                        "parcoords": [
                                            {
                                                "line": {
                                                    "colorbar": {
                                                        "outlinewidth": 0,
                                                        "ticks": ""
                                                    }
                                                },
                                                "type": "parcoords"
                                            }
                                        ],
                                        "pie": [
                                            {
                                                "automargin": true,
                                                "type": "pie"
                                            }
                                        ],
                                        "scatter": [
                                            {
                                                "fillpattern": {
                                                    "fillmode": "overlay",
                                                    "size": 10,
                                                    "solidity": 0.2
                                                },
                                                "type": "scatter"
                                            }
                                        ],
                                        "scatter3d": [
                                            {
                                                "line": {
                                                    "colorbar": {
                                                        "outlinewidth": 0,
                                                        "ticks": ""
                                                    }
                                                },
                                                "marker": {
                                                    "colorbar": {
                                                        "outlinewidth": 0,
                                                        "ticks": ""
                                                    }
                                                },
                                                "type": "scatter3d"
                                            }
                                        ],
                                        "scattercarpet": [
                                            {
                                                "marker": {
                                                    "colorbar": {
                                                        "outlinewidth": 0,
                                                        "ticks": ""
                                                    }
                                                },
                                                "type": "scattercarpet"
                                            }
                                        ],
                                        "scattergeo": [
                                            {
                                                "marker": {
                                                    "colorbar": {
                                                        "outlinewidth": 0,
                                                        "ticks": ""
                                                    }
                                                },
                                                "type": "scattergeo"
                                            }
                                        ],
                                        "scattergl": [
                                            {
                                                "marker": {
                                                    "colorbar": {
                                                        "outlinewidth": 0,
                                                        "ticks": ""
                                                    }
                                                },
                                                "type": "scattergl"
                                            }
                                        ],
                                        "scattermapbox": [
                                            {
                                                "marker": {
                                                    "colorbar": {
                                                        "outlinewidth": 0,
                                                        "ticks": ""
                                                    }
                                                },
                                                "type": "scattermapbox"
                                            }
                                        ],
                                        "scatterpolar": [
                                            {
                                                "marker": {
                                                    "colorbar": {
                                                        "outlinewidth": 0,
                                                        "ticks": ""
                                                    }
                                                },
                                                "type": "scatterpolar"
                                            }
                                        ],
                                        "scatterpolargl": [
                                            {
                                                "marker": {
                                                    "colorbar": {
                                                        "outlinewidth": 0,
                                                        "ticks": ""
                                                    }
                                                },
                                                "type": "scatterpolargl"
                                            }
                                        ],
                                        "scatterternary": [
                                            {
                                                "marker": {
                                                    "colorbar": {
                                                        "outlinewidth": 0,
                                                        "ticks": ""
                                                    }
                                                },
                                                "type": "scatterternary"
                                            }
                                        ],
                                        "surface": [
                                            {
                                                "colorbar": {
                                                    "outlinewidth": 0,
                                                    "ticks": ""
                                                },
                                                "colorscale": [
                                                    [
                                                        0,
                                                        "#0d0887"
                                                    ],
                                                    [
                                                        0.1111111111111111,
                                                        "#46039f"
                                                    ],
                                                    [
                                                        0.2222222222222222,
                                                        "#7201a8"
                                                    ],
                                                    [
                                                        0.3333333333333333,
                                                        "#9c179e"
                                                    ],
                                                    [
                                                        0.4444444444444444,
                                                        "#bd3786"
                                                    ],
                                                    [
                                                        0.5555555555555556,
                                                        "#d8576b"
                                                    ],
                                                    [
                                                        0.6666666666666666,
                                                        "#ed7953"
                                                    ],
                                                    [
                                                        0.7777777777777778,
                                                        "#fb9f3a"
                                                    ],
                                                    [
                                                        0.8888888888888888,
                                                        "#fdca26"
                                                    ],
                                                    [
                                                        1,
                                                        "#f0f921"
                                                    ]
                                                ],
                                                "type": "surface"
                                            }
                                        ],
                                        "table": [
                                            {
                                                "cells": {
                                                    "fill": {
                                                        "color": "#EBF0F8"
                                                    },
                                                    "line": {
                                                        "color": "white"
                                                    }
                                                },
                                                "header": {
                                                    "fill": {
                                                        "color": "#C8D4E3"
                                                    },
                                                    "line": {
                                                        "color": "white"
                                                    }
                                                },
                                                "type": "table"
                                            }
                                        ]
                                    },
                                    "layout": {
                                        "annotationdefaults": {
                                            "arrowcolor": "#2a3f5f",
                                            "arrowhead": 0,
                                            "arrowwidth": 1
                                        },
                                        "autotypenumbers": "strict",
                                        "coloraxis": {
                                            "colorbar": {
                                                "outlinewidth": 0,
                                                "ticks": ""
                                            }
                                        },
                                        "colorscale": {
                                            "diverging": [
                                                [
                                                    0,
                                                    "#8e0152"
                                                ],
                                                [
                                                    0.1,
                                                    "#c51b7d"
                                                ],
                                                [
                                                    0.2,
                                                    "#de77ae"
                                                ],
                                                [
                                                    0.3,
                                                    "#f1b6da"
                                                ],
                                                [
                                                    0.4,
                                                    "#fde0ef"
                                                ],
                                                [
                                                    0.5,
                                                    "#f7f7f7"
                                                ],
                                                [
                                                    0.6,
                                                    "#e6f5d0"
                                                ],
                                                [
                                                    0.7,
                                                    "#b8e186"
                                                ],
                                                [
                                                    0.8,
                                                    "#7fbc41"
                                                ],
                                                [
                                                    0.9,
                                                    "#4d9221"
                                                ],
                                                [
                                                    1,
                                                    "#276419"
                                                ]
                                            ],
                                            "sequential": [
                                                [
                                                    0,
                                                    "#0d0887"
                                                ],
                                                [
                                                    0.1111111111111111,
                                                    "#46039f"
                                                ],
                                                [
                                                    0.2222222222222222,
                                                    "#7201a8"
                                                ],
                                                [
                                                    0.3333333333333333,
                                                    "#9c179e"
                                                ],
                                                [
                                                    0.4444444444444444,
                                                    "#bd3786"
                                                ],
                                                [
                                                    0.5555555555555556,
                                                    "#d8576b"
                                                ],
                                                [
                                                    0.6666666666666666,
                                                    "#ed7953"
                                                ],
                                                [
                                                    0.7777777777777778,
                                                    "#fb9f3a"
                                                ],
                                                [
                                                    0.8888888888888888,
                                                    "#fdca26"
                                                ],
                                                [
                                                    1,
                                                    "#f0f921"
                                                ]
                                            ],
                                            "sequentialminus": [
                                                [
                                                    0,
                                                    "#0d0887"
                                                ],
                                                [
                                                    0.1111111111111111,
                                                    "#46039f"
                                                ],
                                                [
                                                    0.2222222222222222,
                                                    "#7201a8"
                                                ],
                                                [
                                                    0.3333333333333333,
                                                    "#9c179e"
                                                ],
                                                [
                                                    0.4444444444444444,
                                                    "#bd3786"
                                                ],
                                                [
                                                    0.5555555555555556,
                                                    "#d8576b"
                                                ],
                                                [
                                                    0.6666666666666666,
                                                    "#ed7953"
                                                ],
                                                [
                                                    0.7777777777777778,
                                                    "#fb9f3a"
                                                ],
                                                [
                                                    0.8888888888888888,
                                                    "#fdca26"
                                                ],
                                                [
                                                    1,
                                                    "#f0f921"
                                                ]
                                            ]
                                        },
                                        "colorway": [
                                            "#636efa",
                                            "#EF553B",
                                            "#00cc96",
                                            "#ab63fa",
                                            "#FFA15A",
                                            "#19d3f3",
                                            "#FF6692",
                                            "#B6E880",
                                            "#FF97FF",
                                            "#FECB52"
                                        ],
                                        "font": {
                                            "color": "#2a3f5f"
                                        },
                                        "geo": {
                                            "bgcolor": "white",
                                            "lakecolor": "white",
                                            "landcolor": "#E5ECF6",
                                            "showlakes": true,
                                            "showland": true,
                                            "subunitcolor": "white"
                                        },
                                        "hoverlabel": {
                                            "align": "left"
                                        },
                                        "hovermode": "closest",
                                        "mapbox": {
                                            "style": "light"
                                        },
                                        "paper_bgcolor": "white",
                                        "plot_bgcolor": "#E5ECF6",
                                        "polar": {
                                            "angularaxis": {
                                                "gridcolor": "white",
                                                "linecolor": "white",
                                                "ticks": ""
                                            },
                                            "bgcolor": "#E5ECF6",
                                            "radialaxis": {
                                                "gridcolor": "white",
                                                "linecolor": "white",
                                                "ticks": ""
                                            }
                                        },
                                        "scene": {
                                            "xaxis": {
                                                "backgroundcolor": "#E5ECF6",
                                                "gridcolor": "white",
                                                "gridwidth": 2,
                                                "linecolor": "white",
                                                "showbackground": true,
                                                "ticks": "",
                                                "zerolinecolor": "white"
                                            },
                                            "yaxis": {
                                                "backgroundcolor": "#E5ECF6",
                                                "gridcolor": "white",
                                                "gridwidth": 2,
                                                "linecolor": "white",
                                                "showbackground": true,
                                                "ticks": "",
                                                "zerolinecolor": "white"
                                            },
                                            "zaxis": {
                                                "backgroundcolor": "#E5ECF6",
                                                "gridcolor": "white",
                                                "gridwidth": 2,
                                                "linecolor": "white",
                                                "showbackground": true,
                                                "ticks": "",
                                                "zerolinecolor": "white"
                                            }
                                        },
                                        "shapedefaults": {
                                            "line": {
                                                "color": "#2a3f5f"
                                            }
                                        },
                                        "ternary": {
                                            "aaxis": {
                                                "gridcolor": "white",
                                                "linecolor": "white",
                                                "ticks": ""
                                            },
                                            "baxis": {
                                                "gridcolor": "white",
                                                "linecolor": "white",
                                                "ticks": ""
                                            },
                                            "bgcolor": "#E5ECF6",
                                            "caxis": {
                                                "gridcolor": "white",
                                                "linecolor": "white",
                                                "ticks": ""
                                            }
                                        },
                                        "title": {
                                            "x": 0.05
                                        },
                                        "xaxis": {
                                            "automargin": true,
                                            "gridcolor": "white",
                                            "linecolor": "white",
                                            "ticks": "",
                                            "title": {
                                                "standoff": 15
                                            },
                                            "zerolinecolor": "white",
                                            "zerolinewidth": 2
                                        },
                                        "yaxis": {
                                            "automargin": true,
                                            "gridcolor": "white",
                                            "linecolor": "white",
                                            "ticks": "",
                                            "title": {
                                                "standoff": 15
                                            },
                                            "zerolinecolor": "white",
                                            "zerolinewidth": 2
                                        }
                                    }
                                },
                                "title": {
                                    "text": "Forecasts vs Actuals for First 4 Time Series"
                                },
                                "width": 800,
                                "xaxis": {
                                    "anchor": "y",
                                    "domain": [
                                        0,
                                        1
                                    ],
                                    "matches": "x4",
                                    "showticklabels": false
                                },
                                "xaxis2": {
                                    "anchor": "y2",
                                    "domain": [
                                        0,
                                        1
                                    ],
                                    "matches": "x4",
                                    "showticklabels": false
                                },
                                "xaxis3": {
                                    "anchor": "y3",
                                    "domain": [
                                        0,
                                        1
                                    ],
                                    "matches": "x4",
                                    "showticklabels": false
                                },
                                "xaxis4": {
                                    "anchor": "y4",
                                    "domain": [
                                        0,
                                        1
                                    ],
                                    "title": {
                                        "text": "Timesteps"
                                    }
                                },
                                "yaxis": {
                                    "anchor": "x",
                                    "domain": [
                                        0.84375,
                                        1
                                    ]
                                },
                                "yaxis2": {
                                    "anchor": "x2",
                                    "domain": [
                                        0.5625,
                                        0.71875
                                    ]
                                },
                                "yaxis3": {
                                    "anchor": "x3",
                                    "domain": [
                                        0.28125,
                                        0.4375
                                    ]
                                },
                                "yaxis4": {
                                    "anchor": "x4",
                                    "domain": [
                                        0,
                                        0.15625
                                    ]
                                }
                            }
                        }
                    },
                    "metadata": {},
                    "output_type": "display_data"
                }
            ],
            "source": [
                "nnts.plotting.plotly_forecasts_vs_actuals(y, y_hat)"
            ]
        },
        {
            "cell_type": "markdown",
            "metadata": {},
            "source": [
                "### Forecast"
            ]
        },
        {
            "cell_type": "code",
            "execution_count": 10,
            "metadata": {},
            "outputs": [],
            "source": [
                "net = evaluator.net\n",
                "\n",
                "forecaster = nnts.torch.trainers.TorchForecaster(net)"
            ]
        },
        {
            "cell_type": "code",
            "execution_count": 11,
            "metadata": {},
            "outputs": [],
            "source": [
                "forecast = forecaster.forecast(test_dl, metadata.prediction_length, metadata.context_length)"
            ]
        },
        {
            "cell_type": "code",
            "execution_count": 12,
            "metadata": {},
            "outputs": [
                {
                    "data": {
                        "text/plain": [
                            "tensor([[[  6614.57519531],\n",
                            "         [  4157.01171875],\n",
                            "         [  3148.29980469],\n",
                            "         ...,\n",
                            "         [  4086.52294922],\n",
                            "         [  4690.41210938],\n",
                            "         [  7851.56738281]],\n",
                            "\n",
                            "        [[193461.17187500],\n",
                            "         [159843.23437500],\n",
                            "         [154183.06250000],\n",
                            "         ...,\n",
                            "         [158364.46875000],\n",
                            "         [167417.09375000],\n",
                            "         [239604.64062500]],\n",
                            "\n",
                            "        [[ 92988.10156250],\n",
                            "         [ 86258.26562500],\n",
                            "         [ 99657.33593750],\n",
                            "         ...,\n",
                            "         [128380.63281250],\n",
                            "         [134643.65625000],\n",
                            "         [114130.62500000]],\n",
                            "\n",
                            "        ...,\n",
                            "\n",
                            "        [[  7770.13916016],\n",
                            "         [ 14293.85742188],\n",
                            "         [ 10809.56445312],\n",
                            "         ...,\n",
                            "         [  7772.87597656],\n",
                            "         [  7369.18505859],\n",
                            "         [  9430.20019531]],\n",
                            "\n",
                            "        [[  8465.18261719],\n",
                            "         [  8142.86865234],\n",
                            "         [ 12949.27929688],\n",
                            "         ...,\n",
                            "         [ 16933.46289062],\n",
                            "         [ 12407.38183594],\n",
                            "         [ 11923.59863281]],\n",
                            "\n",
                            "        [[  2143.30200195],\n",
                            "         [  1794.69482422],\n",
                            "         [  2380.67602539],\n",
                            "         ...,\n",
                            "         [  2827.31079102],\n",
                            "         [  1970.02856445],\n",
                            "         [  1729.20935059]]])"
                        ]
                    },
                    "execution_count": 12,
                    "metadata": {},
                    "output_type": "execute_result"
                }
            ],
            "source": [
                "forecast"
            ]
        },
        {
            "cell_type": "code",
            "execution_count": null,
            "metadata": {},
            "outputs": [],
            "source": []
        }
    ],
    "metadata": {
        "kernelspec": {
            "display_name": "venv",
            "language": "python",
            "name": "python3"
        },
        "language_info": {
            "codemirror_mode": {
                "name": "ipython",
                "version": 3
            },
            "file_extension": ".py",
            "mimetype": "text/x-python",
            "name": "python",
            "nbconvert_exporter": "python",
            "pygments_lexer": "ipython3",
            "version": "3.11.8"
        }
    },
    "nbformat": 4,
    "nbformat_minor": 2
}
