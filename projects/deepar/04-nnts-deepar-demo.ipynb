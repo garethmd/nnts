{
    "cells": [
        {
            "cell_type": "code",
            "execution_count": 14,
            "metadata": {},
            "outputs": [
                {
                    "name": "stdout",
                    "output_type": "stream",
                    "text": [
                        "The autoreload extension is already loaded. To reload it, use:\n",
                        "  %reload_ext autoreload\n"
                    ]
                }
            ],
            "source": [
                "import gluonts\n",
                "import nnts\n",
                "import nnts.data\n",
                "import nnts.experiments.plotting\n",
                "import nnts.torch.preprocessing\n",
                "import nnts.torch.models\n",
                "import nnts.metrics\n",
                "import nnts.torch.datasets\n",
                "import nnts.loggers\n",
                "import nnts.datasets\n",
                "from nnts import utils\n",
                "import gluonts.time_feature\n",
                "import nnts.torch.utils\n",
                "import nnts.torch.trainers\n",
                "import nnts.metrics\n",
                "\n",
                "import torch\n",
                "torch.set_printoptions(precision=8, sci_mode=False)\n",
                "%load_ext autoreload\n",
                "%autoreload 2"
            ]
        },
        {
            "cell_type": "markdown",
            "metadata": {},
            "source": [
                "### Load the dataset \n",
                "You can easily load any of the Monash datasets using the `load_dataset` function."
            ]
        },
        {
            "cell_type": "code",
            "execution_count": 15,
            "metadata": {},
            "outputs": [],
            "source": [
                "df, metadata = nnts.datasets.load_dataset(\"tourism_monthly\")"
            ]
        },
        {
            "cell_type": "markdown",
            "metadata": {},
            "source": [
                "### Set the Hyperparamters \n",
                "You will need to provide an optimizer and a loss function. Other hyperparameters are optional."
            ]
        },
        {
            "cell_type": "code",
            "execution_count": 16,
            "metadata": {},
            "outputs": [],
            "source": [
                "params = utils.Hyperparams(\n",
                "    optimizer=torch.optim.Adam,\n",
                "    loss_fn=nnts.torch.models.deepar.distr_nll,\n",
                "    batch_size=32,\n",
                "    batches_per_epoch=50,\n",
                "    training_method=utils.TrainingMethod.TEACHER_FORCING,\n",
                "    model_file_path=\"logs\"\n",
                ")"
            ]
        },
        {
            "cell_type": "markdown",
            "metadata": {},
            "source": [
                "### Create covariate features\n",
                "When using a DeepAR model we recommend using lag features as covariates."
            ]
        },
        {
            "cell_type": "code",
            "execution_count": 17,
            "metadata": {},
            "outputs": [],
            "source": [
                "lag_seq = gluonts.time_feature.lag.get_lags_for_frequency(metadata.freq)\n",
                "lag_seq = [lag - 1 for lag in lag_seq if lag > 1]\n",
                "lag_processor = nnts.torch.preprocessing.LagProcessor(lag_seq)"
            ]
        },
        {
            "cell_type": "markdown",
            "metadata": {},
            "source": [
                "### Data Processing\n",
                "We specify how we want to split the data, what transformations we want to apply and how we want to batch and sample the data during training.  "
            ]
        },
        {
            "cell_type": "code",
            "execution_count": 18,
            "metadata": {},
            "outputs": [],
            "source": [
                "context_length = metadata.context_length + max(lag_seq)\n",
                "dataset_options = {\n",
                "    \"context_length\": metadata.context_length,\n",
                "    \"prediction_length\": metadata.prediction_length,\n",
                "    \"conts\": [],\n",
                "    \"lag_seq\": lag_seq,\n",
                "}\n",
                "\n",
                "trn_dl, test_dl = nnts.torch.utils.create_dataloaders(\n",
                "    df,\n",
                "    nnts.datasets.split_test_train_last_horizon,\n",
                "    context_length,\n",
                "    metadata.prediction_length,\n",
                "    Dataset=nnts.torch.datasets.TimeseriesLagsDataset,\n",
                "    dataset_options=dataset_options,\n",
                "    Sampler=nnts.torch.datasets.TimeSeriesSampler,\n",
                ")"
            ]
        },
        {
            "cell_type": "markdown",
            "metadata": {},
            "source": [
                "### Create the model\n",
                "Create a Pytorch model."
            ]
        },
        {
            "cell_type": "code",
            "execution_count": 19,
            "metadata": {},
            "outputs": [],
            "source": [
                "\n",
                "net = nnts.torch.models.DistrDeepAR(\n",
                "    nnts.torch.models.deepar.StudentTHead,\n",
                "    params,\n",
                "    nnts.torch.preprocessing.masked_mean_abs_scaling,\n",
                "    1,\n",
                "    lag_processor=lag_processor,\n",
                "    scaled_features=[],\n",
                "    context_length=metadata.context_length,\n",
                "    cat_idx=None,\n",
                "    seq_cat_idx=None,\n",
                ")\n"
            ]
        },
        {
            "cell_type": "markdown",
            "metadata": {},
            "source": [
                "### Train the model"
            ]
        },
        {
            "cell_type": "code",
            "execution_count": 20,
            "metadata": {},
            "outputs": [
                {
                    "name": "stdout",
                    "output_type": "stream",
                    "text": [
                        "DistrDeepAR(\n",
                        "  (decoder): UnrolledLSTMDecoder(\n",
                        "    (rnn): LSTM(16, 40, num_layers=2, batch_first=True, dropout=0.1)\n",
                        "  )\n",
                        "  (distribution): StudentTHead(\n",
                        "    (main): ModuleList(\n",
                        "      (0-2): 3 x Linear(in_features=40, out_features=1, bias=True)\n",
                        "    )\n",
                        "  )\n",
                        ")\n",
                        "Epoch 1 Train Loss: 9.171257019042969\n",
                        "Epoch 2 Train Loss: 8.696732521057129\n",
                        "Epoch 3 Train Loss: 8.45849323272705\n",
                        "Epoch 4 Train Loss: 8.411606788635254\n",
                        "Epoch 5 Train Loss: 8.359128952026367\n",
                        "Epoch 6 Train Loss: 8.29736614227295\n",
                        "Epoch 7 Train Loss: 8.151010513305664\n",
                        "Epoch 8 Train Loss: 8.030811309814453\n",
                        "Epoch 9 Train Loss: 7.937575817108154\n",
                        "Epoch 10 Train Loss: 7.896162509918213\n",
                        "Epoch 11 Train Loss: 7.840521812438965\n",
                        "Epoch 12 Train Loss: 7.8140106201171875\n",
                        "Epoch 13 Train Loss: 7.816997051239014\n",
                        "Epoch 14 Train Loss: 7.800825119018555\n",
                        "Epoch 15 Train Loss: 7.800720691680908\n",
                        "Epoch 16 Train Loss: 7.823911190032959\n",
                        "Epoch 17 Train Loss: 7.763418197631836\n",
                        "Epoch 18 Train Loss: 7.770650863647461\n",
                        "Epoch 19 Train Loss: 7.765244007110596\n",
                        "Epoch 20 Train Loss: 7.769421577453613\n",
                        "Epoch 21 Train Loss: 7.734954833984375\n",
                        "Epoch 22 Train Loss: 7.716393947601318\n",
                        "Epoch 23 Train Loss: 7.7026190757751465\n",
                        "Epoch 24 Train Loss: 7.716352939605713\n",
                        "Epoch 25 Train Loss: 7.70888614654541\n",
                        "Epoch 26 Train Loss: 7.7067437171936035\n",
                        "Epoch 27 Train Loss: 7.6889190673828125\n",
                        "Epoch 28 Train Loss: 7.670531749725342\n",
                        "Epoch 29 Train Loss: 7.697324275970459\n",
                        "Epoch 30 Train Loss: 7.690362453460693\n",
                        "Epoch 31 Train Loss: 7.6385345458984375\n",
                        "Epoch 32 Train Loss: 7.651374340057373\n",
                        "Epoch 33 Train Loss: 7.646403789520264\n",
                        "Epoch 34 Train Loss: 7.643774032592773\n",
                        "Epoch 35 Train Loss: 7.632939338684082\n",
                        "Epoch 36 Train Loss: 7.619814872741699\n",
                        "Epoch 37 Train Loss: 7.633378982543945\n",
                        "Epoch 38 Train Loss: 7.628198623657227\n",
                        "Epoch 39 Train Loss: 7.606619834899902\n",
                        "Epoch 40 Train Loss: 7.620434761047363\n",
                        "Epoch 41 Train Loss: 7.6212477684021\n",
                        "Epoch 42 Train Loss: 7.618142127990723\n",
                        "Epoch 43 Train Loss: 7.59055233001709\n",
                        "Epoch 44 Train Loss: 7.6302008628845215\n",
                        "Epoch 45 Train Loss: 7.574169158935547\n",
                        "Epoch 46 Train Loss: 7.594805717468262\n",
                        "Epoch 47 Train Loss: 7.586401462554932\n",
                        "Epoch 48 Train Loss: 7.579738140106201\n",
                        "Epoch 49 Train Loss: 7.577228546142578\n",
                        "Epoch 50 Train Loss: 7.581137180328369\n",
                        "Epoch 51 Train Loss: 7.557176113128662\n",
                        "Epoch 52 Train Loss: 7.5702409744262695\n",
                        "Epoch 53 Train Loss: 7.581058979034424\n",
                        "Epoch 54 Train Loss: 7.560449123382568\n",
                        "Epoch 55 Train Loss: 7.5609025955200195\n",
                        "Epoch 56 Train Loss: 7.580997943878174\n",
                        "Epoch 57 Train Loss: 7.570474624633789\n",
                        "Epoch 58 Train Loss: 7.558712005615234\n",
                        "Epoch 59 Train Loss: 7.562458038330078\n",
                        "Epoch 60 Train Loss: 7.589876174926758\n",
                        "Epoch 61 Train Loss: 7.570104598999023\n",
                        "Epoch 62 Train Loss: 7.574430465698242\n",
                        "Epoch 63 Train Loss: 7.550775051116943\n",
                        "Epoch 64 Train Loss: 7.579745292663574\n",
                        "Epoch 65 Train Loss: 7.548874378204346\n",
                        "Epoch 66 Train Loss: 7.530339241027832\n",
                        "Epoch 67 Train Loss: 7.545804023742676\n",
                        "Epoch 68 Train Loss: 7.537144184112549\n",
                        "Epoch 69 Train Loss: 7.569197177886963\n",
                        "Epoch 70 Train Loss: 7.536314010620117\n",
                        "Epoch 71 Train Loss: 7.550527572631836\n",
                        "Epoch 72 Train Loss: 7.541313648223877\n",
                        "Epoch 73 Train Loss: 7.553591251373291\n",
                        "Epoch 74 Train Loss: 7.544637680053711\n",
                        "Epoch 75 Train Loss: 7.546789646148682\n",
                        "Epoch 76 Train Loss: 7.5434250831604\n",
                        "Epoch 77 Train Loss: 7.557669639587402\n",
                        "Epoch 78 Train Loss: 7.563161849975586\n",
                        "Epoch 79 Train Loss: 7.537527561187744\n",
                        "Epoch 80 Train Loss: 7.533964157104492\n",
                        "Epoch 81 Train Loss: 7.541227340698242\n",
                        "Epoch 82 Train Loss: 7.5154709815979\n",
                        "Epoch 83 Train Loss: 7.5324273109436035\n",
                        "Epoch 84 Train Loss: 7.539447784423828\n",
                        "Epoch 85 Train Loss: 7.524680137634277\n",
                        "Epoch 86 Train Loss: 7.512027740478516\n",
                        "Epoch 87 Train Loss: 7.537747383117676\n",
                        "Epoch 88 Train Loss: 7.547003746032715\n",
                        "Epoch 89 Train Loss: 7.527151584625244\n",
                        "Epoch 90 Train Loss: 7.528248310089111\n",
                        "Epoch 91 Train Loss: 7.50172233581543\n",
                        "Epoch 92 Train Loss: 7.514293670654297\n",
                        "Epoch 93 Train Loss: 7.525262355804443\n",
                        "Epoch 94 Train Loss: 7.5265212059021\n",
                        "Epoch 95 Train Loss: 7.5232439041137695\n",
                        "Epoch 96 Train Loss: 7.528585910797119\n",
                        "Epoch 97 Train Loss: 7.531148910522461\n",
                        "Epoch 98 Train Loss: 7.532492160797119\n",
                        "Epoch 99 Train Loss: 7.533027172088623\n",
                        "Epoch 100 Train Loss: 7.5230865478515625\n",
                        "Best model loaded from logs/best_model.pt\n"
                    ]
                }
            ],
            "source": [
                "\n",
                "trner = nnts.torch.trainers.TorchEpochTrainer(\n",
                "    net,\n",
                "    params,\n",
                "    metadata\n",
                ")\n",
                "evaluator = trner.train(trn_dl)"
            ]
        },
        {
            "cell_type": "markdown",
            "metadata": {},
            "source": [
                "### Evaluate"
            ]
        },
        {
            "cell_type": "code",
            "execution_count": 11,
            "metadata": {},
            "outputs": [
                {
                    "data": {
                        "text/plain": [
                            "{'mse': 53367568.0,\n",
                            " 'abs_error': 16483498.0,\n",
                            " 'abs_target_sum': 166958480.0,\n",
                            " 'abs_target_mean': 19007.11328125,\n",
                            " 'mase': 1.4142117500305176,\n",
                            " 'mape': 0.2124391347169876,\n",
                            " 'smape': 0.18161988258361816,\n",
                            " 'nd': 0.17456156015396118,\n",
                            " 'mae': 1876.5364990234375,\n",
                            " 'rmse': 2358.773193359375,\n",
                            " 'seasonal_error': 1543.2191162109375}"
                        ]
                    },
                    "execution_count": 11,
                    "metadata": {},
                    "output_type": "execute_result"
                }
            ],
            "source": [
                "y_hat, y = evaluator.evaluate(\n",
                "    test_dl, metadata.prediction_length, metadata.context_length\n",
                ")\n",
                "\n",
                "test_metrics = nnts.metrics.calc_metrics(\n",
                "    y_hat, y, nnts.metrics.calculate_seasonal_error(trn_dl, metadata.seasonality)\n",
                ")\n",
                "test_metrics"
            ]
        },
        {
            "cell_type": "code",
            "execution_count": 22,
            "metadata": {},
            "outputs": [
                {
                    "data": {
                        "application/vnd.plotly.v1+json": {
                            "config": {
                                "plotlyServerURL": "https://plot.ly"
                            },
                            "data": [
                                {
                                    "line": {
                                        "color": "blue"
                                    },
                                    "mode": "lines",
                                    "name": "Actual 1",
                                    "type": "scatter",
                                    "x": [
                                        0,
                                        1,
                                        2,
                                        3,
                                        4,
                                        5,
                                        6,
                                        7,
                                        8,
                                        9,
                                        10,
                                        11,
                                        12,
                                        13,
                                        14,
                                        15,
                                        16,
                                        17,
                                        18,
                                        19,
                                        20,
                                        21,
                                        22,
                                        23
                                    ],
                                    "xaxis": "x",
                                    "y": [
                                        6611.115234375,
                                        4150.2392578125,
                                        2841,
                                        1813.43994140625,
                                        2261.080078125,
                                        1873.60498046875,
                                        1772.8399658203125,
                                        2049.56494140625,
                                        2932.264892578125,
                                        3113.2548828125,
                                        3461.5048828125,
                                        6265.740234375,
                                        6857.7998046875,
                                        4346.08984375,
                                        3154.72998046875,
                                        2142.2099609375,
                                        2375.72509765625,
                                        1981.1099853515625,
                                        1959.864990234375,
                                        2466.31005859375,
                                        2851.715087890625,
                                        3671.804931640625,
                                        3806.780029296875,
                                        6995.0498046875
                                    ],
                                    "yaxis": "y"
                                },
                                {
                                    "line": {
                                        "color": "orange",
                                        "dash": "dash"
                                    },
                                    "mode": "lines",
                                    "name": "Forecast 1",
                                    "type": "scatter",
                                    "x": [
                                        0,
                                        1,
                                        2,
                                        3,
                                        4,
                                        5,
                                        6,
                                        7,
                                        8,
                                        9,
                                        10,
                                        11,
                                        12,
                                        13,
                                        14,
                                        15,
                                        16,
                                        17,
                                        18,
                                        19,
                                        20,
                                        21,
                                        22,
                                        23
                                    ],
                                    "xaxis": "x",
                                    "y": [
                                        6573.83251953125,
                                        4176.48779296875,
                                        3054.93701171875,
                                        2004.0828857421875,
                                        2282.0947265625,
                                        1898.296875,
                                        1714.6595458984375,
                                        2140.38330078125,
                                        2793.139404296875,
                                        3195.203857421875,
                                        3766.54638671875,
                                        6359.91943359375,
                                        6956.404296875,
                                        4576.6298828125,
                                        3248.53857421875,
                                        2205.307861328125,
                                        2446.59521484375,
                                        2007.559326171875,
                                        1821.7978515625,
                                        2304.686767578125,
                                        2826.3544921875,
                                        3347.286376953125,
                                        3890.972412109375,
                                        6516.98046875
                                    ],
                                    "yaxis": "y"
                                },
                                {
                                    "line": {
                                        "color": "blue"
                                    },
                                    "mode": "lines",
                                    "name": "Actual 2",
                                    "type": "scatter",
                                    "x": [
                                        0,
                                        1,
                                        2,
                                        3,
                                        4,
                                        5,
                                        6,
                                        7,
                                        8,
                                        9,
                                        10,
                                        11,
                                        12,
                                        13,
                                        14,
                                        15,
                                        16,
                                        17,
                                        18,
                                        19,
                                        20,
                                        21,
                                        22,
                                        23
                                    ],
                                    "xaxis": "x2",
                                    "y": [
                                        176215.203125,
                                        160025.703125,
                                        150995.5,
                                        112002.6015625,
                                        85668.59375,
                                        107283.1015625,
                                        86953.7734375,
                                        95141.9609375,
                                        104902.6015625,
                                        117794.5,
                                        139187.5,
                                        183571.90625,
                                        185953,
                                        171384.59375,
                                        169834.5,
                                        125275.3984375,
                                        90986.6015625,
                                        100422.453125,
                                        94333.9375,
                                        109861.6953125,
                                        116636.7421875,
                                        139426.515625,
                                        161014.921875,
                                        199405.109375
                                    ],
                                    "yaxis": "y2"
                                },
                                {
                                    "line": {
                                        "color": "orange",
                                        "dash": "dash"
                                    },
                                    "mode": "lines",
                                    "name": "Forecast 2",
                                    "type": "scatter",
                                    "x": [
                                        0,
                                        1,
                                        2,
                                        3,
                                        4,
                                        5,
                                        6,
                                        7,
                                        8,
                                        9,
                                        10,
                                        11,
                                        12,
                                        13,
                                        14,
                                        15,
                                        16,
                                        17,
                                        18,
                                        19,
                                        20,
                                        21,
                                        22,
                                        23
                                    ],
                                    "xaxis": "x2",
                                    "y": [
                                        190224.515625,
                                        158863.9375,
                                        152431.203125,
                                        99797.2421875,
                                        89890.8046875,
                                        112859.5703125,
                                        91232.453125,
                                        91016.015625,
                                        109649.6640625,
                                        123477.0859375,
                                        133463.359375,
                                        184710.234375,
                                        200097.671875,
                                        171034.8125,
                                        162699.015625,
                                        116930.84375,
                                        97844.0546875,
                                        119630.1328125,
                                        99428.7578125,
                                        96358.9453125,
                                        117943.828125,
                                        130675.703125,
                                        137099.203125,
                                        198529.921875
                                    ],
                                    "yaxis": "y2"
                                },
                                {
                                    "line": {
                                        "color": "blue"
                                    },
                                    "mode": "lines",
                                    "name": "Actual 3",
                                    "type": "scatter",
                                    "x": [
                                        0,
                                        1,
                                        2,
                                        3,
                                        4,
                                        5,
                                        6,
                                        7,
                                        8,
                                        9,
                                        10,
                                        11,
                                        12,
                                        13,
                                        14,
                                        15,
                                        16,
                                        17,
                                        18,
                                        19,
                                        20,
                                        21,
                                        22,
                                        23
                                    ],
                                    "xaxis": "x3",
                                    "y": [
                                        89162,
                                        66728,
                                        104864,
                                        102253,
                                        91564,
                                        99782,
                                        100335,
                                        87455,
                                        87126,
                                        113382,
                                        109339,
                                        91099,
                                        84685,
                                        72779,
                                        106548,
                                        105057,
                                        92703,
                                        102484,
                                        101753,
                                        86872,
                                        87775,
                                        116104,
                                        108333,
                                        93932
                                    ],
                                    "yaxis": "y3"
                                },
                                {
                                    "line": {
                                        "color": "orange",
                                        "dash": "dash"
                                    },
                                    "mode": "lines",
                                    "name": "Forecast 3",
                                    "type": "scatter",
                                    "x": [
                                        0,
                                        1,
                                        2,
                                        3,
                                        4,
                                        5,
                                        6,
                                        7,
                                        8,
                                        9,
                                        10,
                                        11,
                                        12,
                                        13,
                                        14,
                                        15,
                                        16,
                                        17,
                                        18,
                                        19,
                                        20,
                                        21,
                                        22,
                                        23
                                    ],
                                    "xaxis": "x3",
                                    "y": [
                                        94926.921875,
                                        78528.9609375,
                                        98700.09375,
                                        85886.7421875,
                                        73868.21875,
                                        91722.625,
                                        101587.8125,
                                        98169.953125,
                                        102104.15625,
                                        130413.4375,
                                        123664.9375,
                                        108485.640625,
                                        103230.5703125,
                                        94882.546875,
                                        110065.7109375,
                                        85745.8203125,
                                        74848.5,
                                        94916.7109375,
                                        102547.9765625,
                                        104900.484375,
                                        109979.3203125,
                                        134267.140625,
                                        129543.828125,
                                        113791.171875
                                    ],
                                    "yaxis": "y3"
                                },
                                {
                                    "line": {
                                        "color": "blue"
                                    },
                                    "mode": "lines",
                                    "name": "Actual 4",
                                    "type": "scatter",
                                    "x": [
                                        0,
                                        1,
                                        2,
                                        3,
                                        4,
                                        5,
                                        6,
                                        7,
                                        8,
                                        9,
                                        10,
                                        11,
                                        12,
                                        13,
                                        14,
                                        15,
                                        16,
                                        17,
                                        18,
                                        19,
                                        20,
                                        21,
                                        22,
                                        23
                                    ],
                                    "xaxis": "x4",
                                    "y": [
                                        25621,
                                        19333,
                                        29124,
                                        26206,
                                        24662,
                                        20063,
                                        24784,
                                        23189,
                                        20031,
                                        31092,
                                        33325,
                                        31412,
                                        26049,
                                        22309,
                                        31849,
                                        28788,
                                        26268,
                                        21046,
                                        28506,
                                        25586,
                                        21037,
                                        33134,
                                        36748,
                                        34377
                                    ],
                                    "yaxis": "y4"
                                },
                                {
                                    "line": {
                                        "color": "orange",
                                        "dash": "dash"
                                    },
                                    "mode": "lines",
                                    "name": "Forecast 4",
                                    "type": "scatter",
                                    "x": [
                                        0,
                                        1,
                                        2,
                                        3,
                                        4,
                                        5,
                                        6,
                                        7,
                                        8,
                                        9,
                                        10,
                                        11,
                                        12,
                                        13,
                                        14,
                                        15,
                                        16,
                                        17,
                                        18,
                                        19,
                                        20,
                                        21,
                                        22,
                                        23
                                    ],
                                    "xaxis": "x4",
                                    "y": [
                                        27176.21875,
                                        24000.232421875,
                                        28591.87890625,
                                        22628.068359375,
                                        19245.208984375,
                                        20540.833984375,
                                        24213.333984375,
                                        24674.720703125,
                                        23082.49609375,
                                        32728.48828125,
                                        33386.16015625,
                                        34016.91015625,
                                        30325.02734375,
                                        28654.755859375,
                                        31647.70703125,
                                        21977.033203125,
                                        21303.27734375,
                                        22465.94140625,
                                        25952.51171875,
                                        25948.78125,
                                        25202.634765625,
                                        33420.50390625,
                                        35292.8671875,
                                        34154.25390625
                                    ],
                                    "yaxis": "y4"
                                }
                            ],
                            "layout": {
                                "annotations": [
                                    {
                                        "font": {
                                            "size": 16
                                        },
                                        "showarrow": false,
                                        "text": "Time Series 1",
                                        "x": 0.5,
                                        "xanchor": "center",
                                        "xref": "paper",
                                        "y": 1,
                                        "yanchor": "bottom",
                                        "yref": "paper"
                                    },
                                    {
                                        "font": {
                                            "size": 16
                                        },
                                        "showarrow": false,
                                        "text": "Time Series 2",
                                        "x": 0.5,
                                        "xanchor": "center",
                                        "xref": "paper",
                                        "y": 0.71875,
                                        "yanchor": "bottom",
                                        "yref": "paper"
                                    },
                                    {
                                        "font": {
                                            "size": 16
                                        },
                                        "showarrow": false,
                                        "text": "Time Series 3",
                                        "x": 0.5,
                                        "xanchor": "center",
                                        "xref": "paper",
                                        "y": 0.4375,
                                        "yanchor": "bottom",
                                        "yref": "paper"
                                    },
                                    {
                                        "font": {
                                            "size": 16
                                        },
                                        "showarrow": false,
                                        "text": "Time Series 4",
                                        "x": 0.5,
                                        "xanchor": "center",
                                        "xref": "paper",
                                        "y": 0.15625,
                                        "yanchor": "bottom",
                                        "yref": "paper"
                                    }
                                ],
                                "height": 1000,
                                "showlegend": true,
                                "template": {
                                    "data": {
                                        "bar": [
                                            {
                                                "error_x": {
                                                    "color": "#2a3f5f"
                                                },
                                                "error_y": {
                                                    "color": "#2a3f5f"
                                                },
                                                "marker": {
                                                    "line": {
                                                        "color": "#E5ECF6",
                                                        "width": 0.5
                                                    },
                                                    "pattern": {
                                                        "fillmode": "overlay",
                                                        "size": 10,
                                                        "solidity": 0.2
                                                    }
                                                },
                                                "type": "bar"
                                            }
                                        ],
                                        "barpolar": [
                                            {
                                                "marker": {
                                                    "line": {
                                                        "color": "#E5ECF6",
                                                        "width": 0.5
                                                    },
                                                    "pattern": {
                                                        "fillmode": "overlay",
                                                        "size": 10,
                                                        "solidity": 0.2
                                                    }
                                                },
                                                "type": "barpolar"
                                            }
                                        ],
                                        "carpet": [
                                            {
                                                "aaxis": {
                                                    "endlinecolor": "#2a3f5f",
                                                    "gridcolor": "white",
                                                    "linecolor": "white",
                                                    "minorgridcolor": "white",
                                                    "startlinecolor": "#2a3f5f"
                                                },
                                                "baxis": {
                                                    "endlinecolor": "#2a3f5f",
                                                    "gridcolor": "white",
                                                    "linecolor": "white",
                                                    "minorgridcolor": "white",
                                                    "startlinecolor": "#2a3f5f"
                                                },
                                                "type": "carpet"
                                            }
                                        ],
                                        "choropleth": [
                                            {
                                                "colorbar": {
                                                    "outlinewidth": 0,
                                                    "ticks": ""
                                                },
                                                "type": "choropleth"
                                            }
                                        ],
                                        "contour": [
                                            {
                                                "colorbar": {
                                                    "outlinewidth": 0,
                                                    "ticks": ""
                                                },
                                                "colorscale": [
                                                    [
                                                        0,
                                                        "#0d0887"
                                                    ],
                                                    [
                                                        0.1111111111111111,
                                                        "#46039f"
                                                    ],
                                                    [
                                                        0.2222222222222222,
                                                        "#7201a8"
                                                    ],
                                                    [
                                                        0.3333333333333333,
                                                        "#9c179e"
                                                    ],
                                                    [
                                                        0.4444444444444444,
                                                        "#bd3786"
                                                    ],
                                                    [
                                                        0.5555555555555556,
                                                        "#d8576b"
                                                    ],
                                                    [
                                                        0.6666666666666666,
                                                        "#ed7953"
                                                    ],
                                                    [
                                                        0.7777777777777778,
                                                        "#fb9f3a"
                                                    ],
                                                    [
                                                        0.8888888888888888,
                                                        "#fdca26"
                                                    ],
                                                    [
                                                        1,
                                                        "#f0f921"
                                                    ]
                                                ],
                                                "type": "contour"
                                            }
                                        ],
                                        "contourcarpet": [
                                            {
                                                "colorbar": {
                                                    "outlinewidth": 0,
                                                    "ticks": ""
                                                },
                                                "type": "contourcarpet"
                                            }
                                        ],
                                        "heatmap": [
                                            {
                                                "colorbar": {
                                                    "outlinewidth": 0,
                                                    "ticks": ""
                                                },
                                                "colorscale": [
                                                    [
                                                        0,
                                                        "#0d0887"
                                                    ],
                                                    [
                                                        0.1111111111111111,
                                                        "#46039f"
                                                    ],
                                                    [
                                                        0.2222222222222222,
                                                        "#7201a8"
                                                    ],
                                                    [
                                                        0.3333333333333333,
                                                        "#9c179e"
                                                    ],
                                                    [
                                                        0.4444444444444444,
                                                        "#bd3786"
                                                    ],
                                                    [
                                                        0.5555555555555556,
                                                        "#d8576b"
                                                    ],
                                                    [
                                                        0.6666666666666666,
                                                        "#ed7953"
                                                    ],
                                                    [
                                                        0.7777777777777778,
                                                        "#fb9f3a"
                                                    ],
                                                    [
                                                        0.8888888888888888,
                                                        "#fdca26"
                                                    ],
                                                    [
                                                        1,
                                                        "#f0f921"
                                                    ]
                                                ],
                                                "type": "heatmap"
                                            }
                                        ],
                                        "heatmapgl": [
                                            {
                                                "colorbar": {
                                                    "outlinewidth": 0,
                                                    "ticks": ""
                                                },
                                                "colorscale": [
                                                    [
                                                        0,
                                                        "#0d0887"
                                                    ],
                                                    [
                                                        0.1111111111111111,
                                                        "#46039f"
                                                    ],
                                                    [
                                                        0.2222222222222222,
                                                        "#7201a8"
                                                    ],
                                                    [
                                                        0.3333333333333333,
                                                        "#9c179e"
                                                    ],
                                                    [
                                                        0.4444444444444444,
                                                        "#bd3786"
                                                    ],
                                                    [
                                                        0.5555555555555556,
                                                        "#d8576b"
                                                    ],
                                                    [
                                                        0.6666666666666666,
                                                        "#ed7953"
                                                    ],
                                                    [
                                                        0.7777777777777778,
                                                        "#fb9f3a"
                                                    ],
                                                    [
                                                        0.8888888888888888,
                                                        "#fdca26"
                                                    ],
                                                    [
                                                        1,
                                                        "#f0f921"
                                                    ]
                                                ],
                                                "type": "heatmapgl"
                                            }
                                        ],
                                        "histogram": [
                                            {
                                                "marker": {
                                                    "pattern": {
                                                        "fillmode": "overlay",
                                                        "size": 10,
                                                        "solidity": 0.2
                                                    }
                                                },
                                                "type": "histogram"
                                            }
                                        ],
                                        "histogram2d": [
                                            {
                                                "colorbar": {
                                                    "outlinewidth": 0,
                                                    "ticks": ""
                                                },
                                                "colorscale": [
                                                    [
                                                        0,
                                                        "#0d0887"
                                                    ],
                                                    [
                                                        0.1111111111111111,
                                                        "#46039f"
                                                    ],
                                                    [
                                                        0.2222222222222222,
                                                        "#7201a8"
                                                    ],
                                                    [
                                                        0.3333333333333333,
                                                        "#9c179e"
                                                    ],
                                                    [
                                                        0.4444444444444444,
                                                        "#bd3786"
                                                    ],
                                                    [
                                                        0.5555555555555556,
                                                        "#d8576b"
                                                    ],
                                                    [
                                                        0.6666666666666666,
                                                        "#ed7953"
                                                    ],
                                                    [
                                                        0.7777777777777778,
                                                        "#fb9f3a"
                                                    ],
                                                    [
                                                        0.8888888888888888,
                                                        "#fdca26"
                                                    ],
                                                    [
                                                        1,
                                                        "#f0f921"
                                                    ]
                                                ],
                                                "type": "histogram2d"
                                            }
                                        ],
                                        "histogram2dcontour": [
                                            {
                                                "colorbar": {
                                                    "outlinewidth": 0,
                                                    "ticks": ""
                                                },
                                                "colorscale": [
                                                    [
                                                        0,
                                                        "#0d0887"
                                                    ],
                                                    [
                                                        0.1111111111111111,
                                                        "#46039f"
                                                    ],
                                                    [
                                                        0.2222222222222222,
                                                        "#7201a8"
                                                    ],
                                                    [
                                                        0.3333333333333333,
                                                        "#9c179e"
                                                    ],
                                                    [
                                                        0.4444444444444444,
                                                        "#bd3786"
                                                    ],
                                                    [
                                                        0.5555555555555556,
                                                        "#d8576b"
                                                    ],
                                                    [
                                                        0.6666666666666666,
                                                        "#ed7953"
                                                    ],
                                                    [
                                                        0.7777777777777778,
                                                        "#fb9f3a"
                                                    ],
                                                    [
                                                        0.8888888888888888,
                                                        "#fdca26"
                                                    ],
                                                    [
                                                        1,
                                                        "#f0f921"
                                                    ]
                                                ],
                                                "type": "histogram2dcontour"
                                            }
                                        ],
                                        "mesh3d": [
                                            {
                                                "colorbar": {
                                                    "outlinewidth": 0,
                                                    "ticks": ""
                                                },
                                                "type": "mesh3d"
                                            }
                                        ],
                                        "parcoords": [
                                            {
                                                "line": {
                                                    "colorbar": {
                                                        "outlinewidth": 0,
                                                        "ticks": ""
                                                    }
                                                },
                                                "type": "parcoords"
                                            }
                                        ],
                                        "pie": [
                                            {
                                                "automargin": true,
                                                "type": "pie"
                                            }
                                        ],
                                        "scatter": [
                                            {
                                                "fillpattern": {
                                                    "fillmode": "overlay",
                                                    "size": 10,
                                                    "solidity": 0.2
                                                },
                                                "type": "scatter"
                                            }
                                        ],
                                        "scatter3d": [
                                            {
                                                "line": {
                                                    "colorbar": {
                                                        "outlinewidth": 0,
                                                        "ticks": ""
                                                    }
                                                },
                                                "marker": {
                                                    "colorbar": {
                                                        "outlinewidth": 0,
                                                        "ticks": ""
                                                    }
                                                },
                                                "type": "scatter3d"
                                            }
                                        ],
                                        "scattercarpet": [
                                            {
                                                "marker": {
                                                    "colorbar": {
                                                        "outlinewidth": 0,
                                                        "ticks": ""
                                                    }
                                                },
                                                "type": "scattercarpet"
                                            }
                                        ],
                                        "scattergeo": [
                                            {
                                                "marker": {
                                                    "colorbar": {
                                                        "outlinewidth": 0,
                                                        "ticks": ""
                                                    }
                                                },
                                                "type": "scattergeo"
                                            }
                                        ],
                                        "scattergl": [
                                            {
                                                "marker": {
                                                    "colorbar": {
                                                        "outlinewidth": 0,
                                                        "ticks": ""
                                                    }
                                                },
                                                "type": "scattergl"
                                            }
                                        ],
                                        "scattermapbox": [
                                            {
                                                "marker": {
                                                    "colorbar": {
                                                        "outlinewidth": 0,
                                                        "ticks": ""
                                                    }
                                                },
                                                "type": "scattermapbox"
                                            }
                                        ],
                                        "scatterpolar": [
                                            {
                                                "marker": {
                                                    "colorbar": {
                                                        "outlinewidth": 0,
                                                        "ticks": ""
                                                    }
                                                },
                                                "type": "scatterpolar"
                                            }
                                        ],
                                        "scatterpolargl": [
                                            {
                                                "marker": {
                                                    "colorbar": {
                                                        "outlinewidth": 0,
                                                        "ticks": ""
                                                    }
                                                },
                                                "type": "scatterpolargl"
                                            }
                                        ],
                                        "scatterternary": [
                                            {
                                                "marker": {
                                                    "colorbar": {
                                                        "outlinewidth": 0,
                                                        "ticks": ""
                                                    }
                                                },
                                                "type": "scatterternary"
                                            }
                                        ],
                                        "surface": [
                                            {
                                                "colorbar": {
                                                    "outlinewidth": 0,
                                                    "ticks": ""
                                                },
                                                "colorscale": [
                                                    [
                                                        0,
                                                        "#0d0887"
                                                    ],
                                                    [
                                                        0.1111111111111111,
                                                        "#46039f"
                                                    ],
                                                    [
                                                        0.2222222222222222,
                                                        "#7201a8"
                                                    ],
                                                    [
                                                        0.3333333333333333,
                                                        "#9c179e"
                                                    ],
                                                    [
                                                        0.4444444444444444,
                                                        "#bd3786"
                                                    ],
                                                    [
                                                        0.5555555555555556,
                                                        "#d8576b"
                                                    ],
                                                    [
                                                        0.6666666666666666,
                                                        "#ed7953"
                                                    ],
                                                    [
                                                        0.7777777777777778,
                                                        "#fb9f3a"
                                                    ],
                                                    [
                                                        0.8888888888888888,
                                                        "#fdca26"
                                                    ],
                                                    [
                                                        1,
                                                        "#f0f921"
                                                    ]
                                                ],
                                                "type": "surface"
                                            }
                                        ],
                                        "table": [
                                            {
                                                "cells": {
                                                    "fill": {
                                                        "color": "#EBF0F8"
                                                    },
                                                    "line": {
                                                        "color": "white"
                                                    }
                                                },
                                                "header": {
                                                    "fill": {
                                                        "color": "#C8D4E3"
                                                    },
                                                    "line": {
                                                        "color": "white"
                                                    }
                                                },
                                                "type": "table"
                                            }
                                        ]
                                    },
                                    "layout": {
                                        "annotationdefaults": {
                                            "arrowcolor": "#2a3f5f",
                                            "arrowhead": 0,
                                            "arrowwidth": 1
                                        },
                                        "autotypenumbers": "strict",
                                        "coloraxis": {
                                            "colorbar": {
                                                "outlinewidth": 0,
                                                "ticks": ""
                                            }
                                        },
                                        "colorscale": {
                                            "diverging": [
                                                [
                                                    0,
                                                    "#8e0152"
                                                ],
                                                [
                                                    0.1,
                                                    "#c51b7d"
                                                ],
                                                [
                                                    0.2,
                                                    "#de77ae"
                                                ],
                                                [
                                                    0.3,
                                                    "#f1b6da"
                                                ],
                                                [
                                                    0.4,
                                                    "#fde0ef"
                                                ],
                                                [
                                                    0.5,
                                                    "#f7f7f7"
                                                ],
                                                [
                                                    0.6,
                                                    "#e6f5d0"
                                                ],
                                                [
                                                    0.7,
                                                    "#b8e186"
                                                ],
                                                [
                                                    0.8,
                                                    "#7fbc41"
                                                ],
                                                [
                                                    0.9,
                                                    "#4d9221"
                                                ],
                                                [
                                                    1,
                                                    "#276419"
                                                ]
                                            ],
                                            "sequential": [
                                                [
                                                    0,
                                                    "#0d0887"
                                                ],
                                                [
                                                    0.1111111111111111,
                                                    "#46039f"
                                                ],
                                                [
                                                    0.2222222222222222,
                                                    "#7201a8"
                                                ],
                                                [
                                                    0.3333333333333333,
                                                    "#9c179e"
                                                ],
                                                [
                                                    0.4444444444444444,
                                                    "#bd3786"
                                                ],
                                                [
                                                    0.5555555555555556,
                                                    "#d8576b"
                                                ],
                                                [
                                                    0.6666666666666666,
                                                    "#ed7953"
                                                ],
                                                [
                                                    0.7777777777777778,
                                                    "#fb9f3a"
                                                ],
                                                [
                                                    0.8888888888888888,
                                                    "#fdca26"
                                                ],
                                                [
                                                    1,
                                                    "#f0f921"
                                                ]
                                            ],
                                            "sequentialminus": [
                                                [
                                                    0,
                                                    "#0d0887"
                                                ],
                                                [
                                                    0.1111111111111111,
                                                    "#46039f"
                                                ],
                                                [
                                                    0.2222222222222222,
                                                    "#7201a8"
                                                ],
                                                [
                                                    0.3333333333333333,
                                                    "#9c179e"
                                                ],
                                                [
                                                    0.4444444444444444,
                                                    "#bd3786"
                                                ],
                                                [
                                                    0.5555555555555556,
                                                    "#d8576b"
                                                ],
                                                [
                                                    0.6666666666666666,
                                                    "#ed7953"
                                                ],
                                                [
                                                    0.7777777777777778,
                                                    "#fb9f3a"
                                                ],
                                                [
                                                    0.8888888888888888,
                                                    "#fdca26"
                                                ],
                                                [
                                                    1,
                                                    "#f0f921"
                                                ]
                                            ]
                                        },
                                        "colorway": [
                                            "#636efa",
                                            "#EF553B",
                                            "#00cc96",
                                            "#ab63fa",
                                            "#FFA15A",
                                            "#19d3f3",
                                            "#FF6692",
                                            "#B6E880",
                                            "#FF97FF",
                                            "#FECB52"
                                        ],
                                        "font": {
                                            "color": "#2a3f5f"
                                        },
                                        "geo": {
                                            "bgcolor": "white",
                                            "lakecolor": "white",
                                            "landcolor": "#E5ECF6",
                                            "showlakes": true,
                                            "showland": true,
                                            "subunitcolor": "white"
                                        },
                                        "hoverlabel": {
                                            "align": "left"
                                        },
                                        "hovermode": "closest",
                                        "mapbox": {
                                            "style": "light"
                                        },
                                        "paper_bgcolor": "white",
                                        "plot_bgcolor": "#E5ECF6",
                                        "polar": {
                                            "angularaxis": {
                                                "gridcolor": "white",
                                                "linecolor": "white",
                                                "ticks": ""
                                            },
                                            "bgcolor": "#E5ECF6",
                                            "radialaxis": {
                                                "gridcolor": "white",
                                                "linecolor": "white",
                                                "ticks": ""
                                            }
                                        },
                                        "scene": {
                                            "xaxis": {
                                                "backgroundcolor": "#E5ECF6",
                                                "gridcolor": "white",
                                                "gridwidth": 2,
                                                "linecolor": "white",
                                                "showbackground": true,
                                                "ticks": "",
                                                "zerolinecolor": "white"
                                            },
                                            "yaxis": {
                                                "backgroundcolor": "#E5ECF6",
                                                "gridcolor": "white",
                                                "gridwidth": 2,
                                                "linecolor": "white",
                                                "showbackground": true,
                                                "ticks": "",
                                                "zerolinecolor": "white"
                                            },
                                            "zaxis": {
                                                "backgroundcolor": "#E5ECF6",
                                                "gridcolor": "white",
                                                "gridwidth": 2,
                                                "linecolor": "white",
                                                "showbackground": true,
                                                "ticks": "",
                                                "zerolinecolor": "white"
                                            }
                                        },
                                        "shapedefaults": {
                                            "line": {
                                                "color": "#2a3f5f"
                                            }
                                        },
                                        "ternary": {
                                            "aaxis": {
                                                "gridcolor": "white",
                                                "linecolor": "white",
                                                "ticks": ""
                                            },
                                            "baxis": {
                                                "gridcolor": "white",
                                                "linecolor": "white",
                                                "ticks": ""
                                            },
                                            "bgcolor": "#E5ECF6",
                                            "caxis": {
                                                "gridcolor": "white",
                                                "linecolor": "white",
                                                "ticks": ""
                                            }
                                        },
                                        "title": {
                                            "x": 0.05
                                        },
                                        "xaxis": {
                                            "automargin": true,
                                            "gridcolor": "white",
                                            "linecolor": "white",
                                            "ticks": "",
                                            "title": {
                                                "standoff": 15
                                            },
                                            "zerolinecolor": "white",
                                            "zerolinewidth": 2
                                        },
                                        "yaxis": {
                                            "automargin": true,
                                            "gridcolor": "white",
                                            "linecolor": "white",
                                            "ticks": "",
                                            "title": {
                                                "standoff": 15
                                            },
                                            "zerolinecolor": "white",
                                            "zerolinewidth": 2
                                        }
                                    }
                                },
                                "title": {
                                    "text": "Forecasts vs Actuals for First 4 Time Series"
                                },
                                "width": 800,
                                "xaxis": {
                                    "anchor": "y",
                                    "domain": [
                                        0,
                                        1
                                    ],
                                    "matches": "x4",
                                    "showticklabels": false
                                },
                                "xaxis2": {
                                    "anchor": "y2",
                                    "domain": [
                                        0,
                                        1
                                    ],
                                    "matches": "x4",
                                    "showticklabels": false
                                },
                                "xaxis3": {
                                    "anchor": "y3",
                                    "domain": [
                                        0,
                                        1
                                    ],
                                    "matches": "x4",
                                    "showticklabels": false
                                },
                                "xaxis4": {
                                    "anchor": "y4",
                                    "domain": [
                                        0,
                                        1
                                    ],
                                    "title": {
                                        "text": "Timesteps"
                                    }
                                },
                                "yaxis": {
                                    "anchor": "x",
                                    "domain": [
                                        0.84375,
                                        1
                                    ]
                                },
                                "yaxis2": {
                                    "anchor": "x2",
                                    "domain": [
                                        0.5625,
                                        0.71875
                                    ]
                                },
                                "yaxis3": {
                                    "anchor": "x3",
                                    "domain": [
                                        0.28125,
                                        0.4375
                                    ]
                                },
                                "yaxis4": {
                                    "anchor": "x4",
                                    "domain": [
                                        0,
                                        0.15625
                                    ]
                                }
                            }
                        }
                    },
                    "metadata": {},
                    "output_type": "display_data"
                }
            ],
            "source": [
                "nnts.experiments.plotting.plotly_forecasts_vs_actuals(y, y_hat)"
            ]
        },
        {
            "cell_type": "markdown",
            "metadata": {},
            "source": [
                "### Forecast"
            ]
        },
        {
            "cell_type": "markdown",
            "metadata": {},
            "source": []
        }
    ],
    "metadata": {
        "kernelspec": {
            "display_name": "venv",
            "language": "python",
            "name": "python3"
        },
        "language_info": {
            "codemirror_mode": {
                "name": "ipython",
                "version": 3
            },
            "file_extension": ".py",
            "mimetype": "text/x-python",
            "name": "python",
            "nbconvert_exporter": "python",
            "pygments_lexer": "ipython3",
            "version": "3.11.8"
        }
    },
    "nbformat": 4,
    "nbformat_minor": 2
}
