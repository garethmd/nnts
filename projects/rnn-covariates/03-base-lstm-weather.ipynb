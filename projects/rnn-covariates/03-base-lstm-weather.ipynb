{
 "cells": [
  {
   "cell_type": "code",
   "execution_count": 1,
   "metadata": {},
   "outputs": [
    {
     "name": "stderr",
     "output_type": "stream",
     "text": [
      "/Users/garethdavies/Development/workspaces/nnts/venv/lib/python3.11/site-packages/gluonts/json.py:101: UserWarning: Using `json`-module for json-handling. Consider installing one of `orjson`, `ujson` to speed up serialization and deserialization.\n",
      "  warnings.warn(\n"
     ]
    }
   ],
   "source": [
    "import matplotlib.pyplot as plt\n",
    "import torch\n",
    "from typing import List\n",
    "import pandas as pd\n",
    "\n",
    "import nnts\n",
    "import nnts.data\n",
    "import nnts.experiments\n",
    "import nnts.models\n",
    "import nnts.torch.data.preprocessing as preprocessing\n",
    "import nnts.torch.models\n",
    "import nnts.torch.models.trainers as trainers\n",
    "import nnts.metrics\n",
    "import nnts.torch.data\n",
    "import nnts.torch.data.datasets\n",
    "import nnts.loggers\n",
    "import covs \n",
    "import scipy\n",
    "import os"
   ]
  },
  {
   "cell_type": "code",
   "execution_count": 3,
   "metadata": {},
   "outputs": [],
   "source": [
    "data_path = \"data\"\n",
    "model_name = \"seg-lstm\"\n",
    "dataset_name = \"weather\"\n",
    "results_path = \"nb-results\"\n",
    "metadata_path = os.path.join(data_path, f\"informer.json\")\n",
    "metadata = nnts.data.metadata.load(dataset_name, path=metadata_path)\n",
    "datafile_path = os.path.join(data_path, metadata.filename)\n",
    "PATH = os.path.join(results_path, model_name, metadata.dataset)\n",
    "\n",
    "df_orig = pd.read_csv(datafile_path)\n",
    "params = nnts.models.Hyperparams()\n",
    "splitter = nnts.data.PandasSplitter()\n",
    "\n",
    "nnts.loggers.makedirs_if_not_exists(PATH)"
   ]
  },
  {
   "cell_type": "code",
   "execution_count": 4,
   "metadata": {},
   "outputs": [],
   "source": [
    "df_orig = df_orig.rename({\"WetBulbCelsius\": \"y\", \"date\": \"ds\"}, axis=\"columns\")\n",
    "df_orig[\"unique_id\"] = \"T1\""
   ]
  },
  {
   "cell_type": "code",
   "execution_count": 5,
   "metadata": {},
   "outputs": [
    {
     "name": "stdout",
     "output_type": "stream",
     "text": [
      "Visibility 0.1727168973441378\n",
      "DryBulbFarenheit 0.9292496536925701\n",
      "DryBulbCelsius 0.9335993557413845\n",
      "WetBulbFarenheit 0.986069702539343\n",
      "DewPointFarenheit 0.7896582660705951\n",
      "DewPointCelsius 0.7902989845876875\n",
      "RelativeHumidity -0.20855812611334734\n",
      "WindSpeed 0.01073979632938904\n",
      "WindDirection -0.0031770345339278867\n",
      "StationPressure 0.5526030687505663\n",
      "Altimeter 0.5521352614575419\n"
     ]
    }
   ],
   "source": [
    "# print correlation with target\n",
    "cols = df_orig.columns.tolist()\n",
    "cols.remove(\"ds\")\n",
    "cols.remove(\"unique_id\")\n",
    "cols.remove(\"y\")\n",
    "for i in range(len(cols)):\n",
    "    pearson = scipy.stats.pearsonr(df_orig[\"y\"], df_orig[cols[i]])\n",
    "    print(cols[i], pearson[0])"
   ]
  },
  {
   "cell_type": "code",
   "execution_count": 6,
   "metadata": {},
   "outputs": [
    {
     "data": {
      "text/plain": [
       "[<matplotlib.lines.Line2D at 0x16ae3e550>]"
      ]
     },
     "execution_count": 6,
     "metadata": {},
     "output_type": "execute_result"
    },
    {
     "data": {
      "image/png": "[encoded data removed]",
      "text/plain": [
       "<Figure size 640x480 with 1 Axes>"
      ]
     },
     "metadata": {},
     "output_type": "display_data"
    }
   ],
   "source": [
    "#plot correlation with various leads\n",
    "pearson_list = []\n",
    "for i in range(192):\n",
    "    pearson = scipy.stats.pearsonr(\n",
    "        df_orig[\"y\"], df_orig.shift(i).bfill()[\"StationPressure\"]\n",
    "    )\n",
    "    pearson_list.append(pearson[0])\n",
    "plt.plot(pearson_list)"
   ]
  },
  {
   "cell_type": "code",
   "execution_count": 7,
   "metadata": {},
   "outputs": [],
   "source": [
    "df_orig[\"y_lead_1\"] = df_orig[\"StationPressure\"].shift(35)"
   ]
  },
  {
   "cell_type": "code",
   "execution_count": 8,
   "metadata": {},
   "outputs": [],
   "source": [
    "# split lengths as per informer\n",
    "trn_length = int(24 * 365.25 * 2)\n",
    "val_test_length = int(24 * 365.25 * (10 / 12))"
   ]
  },
  {
   "cell_type": "code",
   "execution_count": 9,
   "metadata": {},
   "outputs": [],
   "source": [
    "scenario_list: List[nnts.experiments.CovariateScenario] = []\n",
    "\n",
    "# Add the baseline scenarios\n",
    "# for seed in [42, 43, 44, 45, 46]:\n",
    "#    scenario_list.append(\n",
    "#        nnts.experiments.CovariateScenario(metadata.prediction_length, error=0.0, covariates=0, seed=seed)\n",
    "#    )\n",
    "\n",
    "\n",
    "scenario_list = [\n",
    "    nnts.experiments.CovariateScenario(\n",
    "        metadata.prediction_length, error=0.0, covariates=1, seed=42\n",
    "    ),\n",
    "    nnts.experiments.CovariateScenario(1, error=0.0, covariates=1, seed=42),\n",
    "    nnts.experiments.CovariateScenario(1, error=0.0, covariates=0, seed=42),\n",
    "]\n",
    "scenario_list = [\n",
    "    nnts.experiments.CovariateScenario(\n",
    "        metadata.prediction_length, error=0.0, covariates=0, seed=42\n",
    "    )\n",
    "]"
   ]
  },
  {
   "cell_type": "code",
   "execution_count": 10,
   "metadata": {},
   "outputs": [],
   "source": [
    "def prepare(data, scenario):\n",
    "    pearson = 0\n",
    "    conts = []\n",
    "    noise = 0\n",
    "    if scenario.covariates > 0:\n",
    "        pearson = covs.calculate_pearson(data)\n",
    "        conts.append(\"y_lead_1\")\n",
    "    data = data.dropna()\n",
    "    scenario.conts = conts\n",
    "    scenario.pearson = pearson\n",
    "    scenario.noise = noise\n",
    "    return data, scenario"
   ]
  },
  {
   "cell_type": "markdown",
   "metadata": {},
   "source": []
  },
  {
   "cell_type": "code",
   "execution_count": 13,
   "metadata": {},
   "outputs": [],
   "source": [
    "import nnts.pandas\n",
    "import nnts.torch.data.datasets\n",
    "\n",
    "splitter = nnts.pandas.FixedSizeSplitter()"
   ]
  },
  {
   "cell_type": "code",
   "execution_count": 11,
   "metadata": {},
   "outputs": [
    {
     "name": "stderr",
     "output_type": "stream",
     "text": [
      "/Users/garethdavies/Development/workspaces/nnts/nnts/torch/data/preprocessing.py:48: SettingWithCopyWarning: \n",
      "A value is trying to be set on a copy of a slice from a DataFrame.\n",
      "Try using .loc[row_indexer,col_indexer] = value instead\n",
      "\n",
      "See the caveats in the documentation: https://pandas.pydata.org/pandas-docs/stable/user_guide/indexing.html#returning-a-view-versus-a-copy\n",
      "  data[numeric_cols] = (numeric_data - self.mean) / self.std\n",
      "/Users/garethdavies/Development/workspaces/nnts/nnts/torch/data/preprocessing.py:48: SettingWithCopyWarning: \n",
      "A value is trying to be set on a copy of a slice from a DataFrame.\n",
      "Try using .loc[row_indexer,col_indexer] = value instead\n",
      "\n",
      "See the caveats in the documentation: https://pandas.pydata.org/pandas-docs/stable/user_guide/indexing.html#returning-a-view-versus-a-copy\n",
      "  data[numeric_cols] = (numeric_data - self.mean) / self.std\n"
     ]
    },
    {
     "name": "stdout",
     "output_type": "stream",
     "text": [
      "SegLSTM(\n",
      "  (decoder): SegLSTMDecoder(\n",
      "    (rnn): LSTM(24, 40, num_layers=2, batch_first=True, dropout=0.1)\n",
      "  )\n",
      "  (distribution): LinearModel(\n",
      "    (main): Sequential(\n",
      "      (0): Linear(in_features=40, out_features=40, bias=True)\n",
      "      (1): ReLU()\n",
      "      (2): Linear(in_features=40, out_features=24, bias=True)\n",
      "    )\n",
      "  )\n",
      ")\n",
      "Artifact saved to nb-results/seg-lstm/weather/cov-0-pearsn-0-pl-168-seed-42.pt\n",
      "{'train_loss': 0.3159012198448181, 'valid_loss': 0.14705714583396912, 'elapsed_time': 75.38034599972889}\n"
     ]
    },
    {
     "ename": "KeyboardInterrupt",
     "evalue": "",
     "output_type": "error",
     "traceback": [
      "\u001b[0;31m---------------------------------------------------------------------------\u001b[0m",
      "\u001b[0;31mKeyboardInterrupt\u001b[0m                         Traceback (most recent call last)",
      "Cell \u001b[0;32mIn[11], line 43\u001b[0m\n\u001b[1;32m     28\u001b[0m net \u001b[38;5;241m=\u001b[39m nnts\u001b[38;5;241m.\u001b[39mtorch\u001b[38;5;241m.\u001b[39mmodels\u001b[38;5;241m.\u001b[39mSegLSTM(\n\u001b[1;32m     29\u001b[0m     nnts\u001b[38;5;241m.\u001b[39mtorch\u001b[38;5;241m.\u001b[39mmodels\u001b[38;5;241m.\u001b[39mLinearModel,\n\u001b[1;32m     30\u001b[0m     params,\n\u001b[0;32m   (...)\u001b[0m\n\u001b[1;32m     33\u001b[0m     \u001b[38;5;241m24\u001b[39m\n\u001b[1;32m     34\u001b[0m )\n\u001b[1;32m     35\u001b[0m trner \u001b[38;5;241m=\u001b[39m trainers\u001b[38;5;241m.\u001b[39mTorchEpochTrainer(\n\u001b[1;32m     36\u001b[0m     nnts\u001b[38;5;241m.\u001b[39mmodels\u001b[38;5;241m.\u001b[39mTrainerState(), \n\u001b[1;32m     37\u001b[0m     net, \n\u001b[0;32m   (...)\u001b[0m\n\u001b[1;32m     41\u001b[0m     logger\u001b[38;5;241m=\u001b[39mlogger\n\u001b[1;32m     42\u001b[0m )\n\u001b[0;32m---> 43\u001b[0m evaluator \u001b[38;5;241m=\u001b[39m \u001b[43mtrner\u001b[49m\u001b[38;5;241;43m.\u001b[39;49m\u001b[43mtrain\u001b[49m\u001b[43m(\u001b[49m\u001b[43mtrn_dl\u001b[49m\u001b[43m,\u001b[49m\u001b[43m \u001b[49m\u001b[43mval_dl\u001b[49m\u001b[43m)\u001b[49m\n\u001b[1;32m     44\u001b[0m y_hat, y  \u001b[38;5;241m=\u001b[39m evaluator\u001b[38;5;241m.\u001b[39mevaluate(\n\u001b[1;32m     45\u001b[0m     test_dl, scenario\u001b[38;5;241m.\u001b[39mprediction_length, metadata\u001b[38;5;241m.\u001b[39mcontext_length\n\u001b[1;32m     46\u001b[0m )\n\u001b[1;32m     47\u001b[0m test_metrics \u001b[38;5;241m=\u001b[39m nnts\u001b[38;5;241m.\u001b[39mmetrics\u001b[38;5;241m.\u001b[39mcalc_metrics(\n\u001b[1;32m     48\u001b[0m     y, y_hat, metadata\u001b[38;5;241m.\u001b[39mfreq, metadata\u001b[38;5;241m.\u001b[39mseasonality\n\u001b[1;32m     49\u001b[0m )\n",
      "File \u001b[0;32m~/Development/workspaces/nnts/nnts/models/trainers.py:52\u001b[0m, in \u001b[0;36mEpochTrainer.train\u001b[0;34m(self, train_dl, valid_dl)\u001b[0m\n\u001b[1;32m     50\u001b[0m     \u001b[38;5;28mself\u001b[39m\u001b[38;5;241m.\u001b[39mstate\u001b[38;5;241m.\u001b[39mepoch \u001b[38;5;241m=\u001b[39m epoch\n\u001b[1;32m     51\u001b[0m     \u001b[38;5;28mself\u001b[39m\u001b[38;5;241m.\u001b[39m_train_epoch(train_dl)\n\u001b[0;32m---> 52\u001b[0m     \u001b[38;5;28;43mself\u001b[39;49m\u001b[38;5;241;43m.\u001b[39;49m\u001b[43m_validate_epoch\u001b[49m\u001b[43m(\u001b[49m\u001b[43mvalid_dl\u001b[49m\u001b[43m)\u001b[49m\n\u001b[1;32m     54\u001b[0m \u001b[38;5;28;01mreturn\u001b[39;00m \u001b[38;5;28mself\u001b[39m\u001b[38;5;241m.\u001b[39mcreate_evaluator()\n",
      "File \u001b[0;32m~/Development/workspaces/nnts/nnts/models/trainers.py:81\u001b[0m, in \u001b[0;36mEpochTrainer._validate_epoch\u001b[0;34m(self, valid_dl)\u001b[0m\n\u001b[1;32m     79\u001b[0m loss \u001b[38;5;241m=\u001b[39m \u001b[38;5;241m0\u001b[39m\n\u001b[1;32m     80\u001b[0m \u001b[38;5;28;01mfor\u001b[39;00m i, batch \u001b[38;5;129;01min\u001b[39;00m \u001b[38;5;28menumerate\u001b[39m(valid_dl):\n\u001b[0;32m---> 81\u001b[0m     L \u001b[38;5;241m=\u001b[39m \u001b[38;5;28;43mself\u001b[39;49m\u001b[38;5;241;43m.\u001b[39;49m\u001b[43m_validate_batch\u001b[49m\u001b[43m(\u001b[49m\u001b[43mi\u001b[49m\u001b[43m,\u001b[49m\u001b[43m \u001b[49m\u001b[43mbatch\u001b[49m\u001b[43m)\u001b[49m\n\u001b[1;32m     82\u001b[0m     loss \u001b[38;5;241m+\u001b[39m\u001b[38;5;241m=\u001b[39m L\n\u001b[1;32m     83\u001b[0m loss \u001b[38;5;241m/\u001b[39m\u001b[38;5;241m=\u001b[39m \u001b[38;5;28mlen\u001b[39m(valid_dl)\n",
      "File \u001b[0;32m~/Development/workspaces/nnts/nnts/torch/models/trainers.py:177\u001b[0m, in \u001b[0;36mTorchEpochTrainer._validate_batch\u001b[0;34m(self, i, batch)\u001b[0m\n\u001b[1;32m    175\u001b[0m \u001b[38;5;28;01mdef\u001b[39;00m \u001b[38;5;21m_validate_batch\u001b[39m(\u001b[38;5;28mself\u001b[39m, i, batch):\n\u001b[1;32m    176\u001b[0m     \u001b[38;5;28;01mwith\u001b[39;00m torch\u001b[38;5;241m.\u001b[39mno_grad():\n\u001b[0;32m--> 177\u001b[0m         y_hat, y \u001b[38;5;241m=\u001b[39m \u001b[43mvalidate\u001b[49m\u001b[43m(\u001b[49m\n\u001b[1;32m    178\u001b[0m \u001b[43m            \u001b[49m\u001b[38;5;28;43mself\u001b[39;49m\u001b[38;5;241;43m.\u001b[39;49m\u001b[43mnet\u001b[49m\u001b[43m,\u001b[49m\n\u001b[1;32m    179\u001b[0m \u001b[43m            \u001b[49m\u001b[43mbatch\u001b[49m\u001b[43m,\u001b[49m\n\u001b[1;32m    180\u001b[0m \u001b[43m            \u001b[49m\u001b[38;5;28;43mself\u001b[39;49m\u001b[38;5;241;43m.\u001b[39;49m\u001b[43mmetadata\u001b[49m\u001b[38;5;241;43m.\u001b[39;49m\u001b[43mprediction_length\u001b[49m\u001b[43m,\u001b[49m\n\u001b[1;32m    181\u001b[0m \u001b[43m            \u001b[49m\u001b[38;5;28;43mself\u001b[39;49m\u001b[38;5;241;43m.\u001b[39;49m\u001b[43mmetadata\u001b[49m\u001b[38;5;241;43m.\u001b[39;49m\u001b[43mcontext_length\u001b[49m\u001b[43m,\u001b[49m\n\u001b[1;32m    182\u001b[0m \u001b[43m        \u001b[49m\u001b[43m)\u001b[49m\n\u001b[1;32m    183\u001b[0m         L \u001b[38;5;241m=\u001b[39m F\u001b[38;5;241m.\u001b[39msmooth_l1_loss(y_hat, y)\n\u001b[1;32m    184\u001b[0m     \u001b[38;5;28;01mreturn\u001b[39;00m L\n",
      "File \u001b[0;32m~/Development/workspaces/nnts/nnts/torch/models/trainers.py:35\u001b[0m, in \u001b[0;36mvalidate\u001b[0;34m(net, batch, prediction_length, context_length)\u001b[0m\n\u001b[1;32m     33\u001b[0m \u001b[38;5;28;01mdef\u001b[39;00m \u001b[38;5;21mvalidate\u001b[39m(net, batch, prediction_length, context_length):\n\u001b[1;32m     34\u001b[0m     y \u001b[38;5;241m=\u001b[39m batch[\u001b[38;5;124m\"\u001b[39m\u001b[38;5;124mX\u001b[39m\u001b[38;5;124m\"\u001b[39m][:, context_length : context_length \u001b[38;5;241m+\u001b[39m prediction_length, \u001b[38;5;241m.\u001b[39m\u001b[38;5;241m.\u001b[39m\u001b[38;5;241m.\u001b[39m]\n\u001b[0;32m---> 35\u001b[0m     y_hat \u001b[38;5;241m=\u001b[39m \u001b[43mnet\u001b[49m\u001b[38;5;241;43m.\u001b[39;49m\u001b[43mgenerate\u001b[49m\u001b[43m(\u001b[49m\n\u001b[1;32m     36\u001b[0m \u001b[43m        \u001b[49m\u001b[43mbatch\u001b[49m\u001b[43m[\u001b[49m\u001b[38;5;124;43m\"\u001b[39;49m\u001b[38;5;124;43mX\u001b[39;49m\u001b[38;5;124;43m\"\u001b[39;49m\u001b[43m]\u001b[49m\u001b[43m[\u001b[49m\u001b[43m:\u001b[49m\u001b[43m,\u001b[49m\u001b[43m \u001b[49m\u001b[43m:\u001b[49m\u001b[43mcontext_length\u001b[49m\u001b[43m,\u001b[49m\u001b[43m \u001b[49m\u001b[38;5;241;43m.\u001b[39;49m\u001b[38;5;241;43m.\u001b[39;49m\u001b[38;5;241;43m.\u001b[39;49m\u001b[43m]\u001b[49m\u001b[43m,\u001b[49m\n\u001b[1;32m     37\u001b[0m \u001b[43m        \u001b[49m\u001b[43mbatch\u001b[49m\u001b[43m[\u001b[49m\u001b[38;5;124;43m\"\u001b[39;49m\u001b[38;5;124;43mpad_mask\u001b[39;49m\u001b[38;5;124;43m\"\u001b[39;49m\u001b[43m]\u001b[49m\u001b[43m[\u001b[49m\u001b[43m:\u001b[49m\u001b[43m,\u001b[49m\u001b[43m \u001b[49m\u001b[43m:\u001b[49m\u001b[43mcontext_length\u001b[49m\u001b[43m]\u001b[49m\u001b[43m,\u001b[49m\n\u001b[1;32m     38\u001b[0m \u001b[43m        \u001b[49m\u001b[43mprediction_length\u001b[49m\u001b[38;5;241;43m=\u001b[39;49m\u001b[43mprediction_length\u001b[49m\u001b[43m,\u001b[49m\n\u001b[1;32m     39\u001b[0m \u001b[43m        \u001b[49m\u001b[43mcontext_length\u001b[49m\u001b[38;5;241;43m=\u001b[39;49m\u001b[43mcontext_length\u001b[49m\u001b[43m,\u001b[49m\n\u001b[1;32m     40\u001b[0m \u001b[43m    \u001b[49m\u001b[43m)\u001b[49m\n\u001b[1;32m     41\u001b[0m     y_hat \u001b[38;5;241m=\u001b[39m y_hat[:, \u001b[38;5;241m-\u001b[39mprediction_length:, \u001b[38;5;241m.\u001b[39m\u001b[38;5;241m.\u001b[39m\u001b[38;5;241m.\u001b[39m]\n\u001b[1;32m     42\u001b[0m     \u001b[38;5;28;01mreturn\u001b[39;00m y_hat, y\n",
      "File \u001b[0;32m~/Development/workspaces/nnts/nnts/torch/models/seglstm.py:122\u001b[0m, in \u001b[0;36mSegLSTM.generate\u001b[0;34m(self, X, pad_mask, prediction_length, context_length)\u001b[0m\n\u001b[1;32m    120\u001b[0m \u001b[38;5;28;01mwhile\u001b[39;00m \u001b[38;5;28;01mTrue\u001b[39;00m:\n\u001b[1;32m    121\u001b[0m     pad_mask \u001b[38;5;241m=\u001b[39m pad_mask[:, \u001b[38;5;241m-\u001b[39mcontext_length \u001b[38;5;241m+\u001b[39m \u001b[38;5;241m1\u001b[39m :]\n\u001b[0;32m--> 122\u001b[0m     preds \u001b[38;5;241m=\u001b[39m \u001b[38;5;28;43mself\u001b[39;49m\u001b[38;5;241;43m.\u001b[39;49m\u001b[43mforward\u001b[49m\u001b[43m(\u001b[49m\u001b[43mX\u001b[49m\u001b[43m[\u001b[49m\u001b[43m:\u001b[49m\u001b[43m,\u001b[49m\u001b[43m \u001b[49m\u001b[38;5;241;43m-\u001b[39;49m\u001b[43mcontext_length\u001b[49m\u001b[43m \u001b[49m\u001b[38;5;241;43m+\u001b[39;49m\u001b[43m \u001b[49m\u001b[38;5;241;43m1\u001b[39;49m\u001b[43m \u001b[49m\u001b[43m:\u001b[49m\u001b[43m,\u001b[49m\u001b[43m \u001b[49m\u001b[43m:\u001b[49m\u001b[43m]\u001b[49m\u001b[43m,\u001b[49m\u001b[43m \u001b[49m\u001b[43mpad_mask\u001b[49m\u001b[43m)\u001b[49m\n\u001b[1;32m    123\u001b[0m     \u001b[38;5;66;03m# focus only on the last time step\u001b[39;00m\n\u001b[1;32m    124\u001b[0m     preds \u001b[38;5;241m=\u001b[39m preds[:, \u001b[38;5;241m-\u001b[39m\u001b[38;5;241m1\u001b[39m:, \u001b[38;5;241m-\u001b[39m\u001b[38;5;241m1\u001b[39m, :]\n",
      "File \u001b[0;32m~/Development/workspaces/nnts/nnts/torch/models/seglstm.py:99\u001b[0m, in \u001b[0;36mSegLSTM.forward\u001b[0;34m(self, X, pad_mask)\u001b[0m\n\u001b[1;32m     97\u001b[0m     x \u001b[38;5;241m=\u001b[39m X\n\u001b[1;32m     98\u001b[0m \u001b[38;5;28;01melse\u001b[39;00m:\n\u001b[0;32m---> 99\u001b[0m     target_scale \u001b[38;5;241m=\u001b[39m \u001b[38;5;28;43mself\u001b[39;49m\u001b[38;5;241;43m.\u001b[39;49m\u001b[43mscaling_fn\u001b[49m\u001b[43m(\u001b[49m\u001b[43mX\u001b[49m\u001b[43m,\u001b[49m\u001b[43m \u001b[49m\u001b[43mpad_mask\u001b[49m\u001b[43m)\u001b[49m\n\u001b[1;32m    100\u001b[0m     \u001b[38;5;66;03m# target_scale = self.scaling_fn(X[:, :, :1], pad_mask)\u001b[39;00m\n\u001b[1;32m    101\u001b[0m     x \u001b[38;5;241m=\u001b[39m X \u001b[38;5;241m/\u001b[39m target_scale\n",
      "File \u001b[0;32m~/Development/workspaces/nnts/nnts/torch/data/preprocessing.py:27\u001b[0m, in \u001b[0;36mmasked_mean_abs_scaling\u001b[0;34m(seq, mask, eps, dim)\u001b[0m\n\u001b[1;32m     23\u001b[0m \u001b[38;5;28;01mif\u001b[39;00m \u001b[38;5;28mlen\u001b[39m(mask\u001b[38;5;241m.\u001b[39mshape) \u001b[38;5;241m!=\u001b[39m \u001b[38;5;28mlen\u001b[39m(seq\u001b[38;5;241m.\u001b[39mshape):\n\u001b[1;32m     24\u001b[0m     \u001b[38;5;28;01mraise\u001b[39;00m \u001b[38;5;167;01mValueError\u001b[39;00m(\n\u001b[1;32m     25\u001b[0m         \u001b[38;5;124mf\u001b[39m\u001b[38;5;124m\"\u001b[39m\u001b[38;5;124mMask shape \u001b[39m\u001b[38;5;132;01m{\u001b[39;00mmask\u001b[38;5;241m.\u001b[39mshape\u001b[38;5;132;01m}\u001b[39;00m\u001b[38;5;124m does not match sequence shape \u001b[39m\u001b[38;5;132;01m{\u001b[39;00mseq\u001b[38;5;241m.\u001b[39mshape\u001b[38;5;132;01m}\u001b[39;00m\u001b[38;5;124m\"\u001b[39m\n\u001b[1;32m     26\u001b[0m     )\n\u001b[0;32m---> 27\u001b[0m seq_sum \u001b[38;5;241m=\u001b[39m \u001b[43m(\u001b[49m\u001b[43mseq\u001b[49m\u001b[43m \u001b[49m\u001b[38;5;241;43m*\u001b[39;49m\u001b[43m \u001b[49m\u001b[43mmask\u001b[49m\u001b[43m)\u001b[49m\u001b[38;5;241;43m.\u001b[39;49m\u001b[43mabs\u001b[49m\u001b[43m(\u001b[49m\u001b[43m)\u001b[49m\u001b[38;5;241m.\u001b[39msum(dim, keepdim\u001b[38;5;241m=\u001b[39m\u001b[38;5;28;01mTrue\u001b[39;00m)\n\u001b[1;32m     28\u001b[0m item_count \u001b[38;5;241m=\u001b[39m mask\u001b[38;5;241m.\u001b[39msum(dim, keepdim\u001b[38;5;241m=\u001b[39m\u001b[38;5;28;01mTrue\u001b[39;00m)\u001b[38;5;241m.\u001b[39mclamp(\u001b[38;5;28mmin\u001b[39m\u001b[38;5;241m=\u001b[39m\u001b[38;5;241m1\u001b[39m)\n\u001b[1;32m     29\u001b[0m scale \u001b[38;5;241m=\u001b[39m seq_sum \u001b[38;5;241m/\u001b[39m item_count\n",
      "\u001b[0;31mKeyboardInterrupt\u001b[0m: "
     ]
    }
   ],
   "source": [
    "for scenario in scenario_list:\n",
    "    nnts.torch.data.datasets.seed_everything(scenario.seed)\n",
    "    df, scenario = prepare(df_orig.copy(), scenario)\n",
    "    split_data = splitter.split(\n",
    "        df, trn_length, val_test_length, val_test_length\n",
    "    )\n",
    "    trn_dl, val_dl, test_dl = nnts.data.map_to_dataloaders(\n",
    "        split_data,\n",
    "        metadata,\n",
    "        scenario,\n",
    "        params,\n",
    "        nnts.torch.data.TorchTimeseriesDataLoaderFactory(),\n",
    "        [nnts.torch.data.preprocessing.StandardScaler()],\n",
    "    )\n",
    "    logger = nnts.loggers.ProjectRun(\n",
    "        nnts.loggers.JsonFileHandler(\n",
    "            path=PATH, filename=f\"{scenario.name}.json\"\n",
    "        ),\n",
    "        project=f\"{model_name}-{metadata.dataset}\",\n",
    "        run=scenario.name,\n",
    "        config={\n",
    "            **params.__dict__,\n",
    "            **metadata.__dict__,\n",
    "            **scenario.__dict__,\n",
    "        },\n",
    "    )\n",
    "\n",
    "    net = nnts.torch.models.SegLSTM(\n",
    "        nnts.torch.models.LinearModel,\n",
    "        params,\n",
    "        nnts.torch.data.preprocessing.masked_mean_abs_scaling,\n",
    "        scenario.covariates + 1,\n",
    "        24\n",
    "    )\n",
    "    trner = trainers.TorchEpochTrainer(\n",
    "        nnts.models.TrainerState(), \n",
    "        net, \n",
    "        params, \n",
    "        metadata, \n",
    "        os.path.join(PATH, f\"{scenario.name}.pt\"),\n",
    "        logger=logger\n",
    "    )\n",
    "    evaluator = trner.train(trn_dl, val_dl)\n",
    "    y_hat, y  = evaluator.evaluate(\n",
    "        test_dl, scenario.prediction_length, metadata.context_length\n",
    "    )\n",
    "    test_metrics = nnts.metrics.calc_metrics(\n",
    "        y, y_hat, metadata.freq, metadata.seasonality\n",
    "    )\n",
    "    logger.log(test_metrics)\n",
    "    logger.finish()"
   ]
  },
  {
   "cell_type": "code",
   "execution_count": null,
   "metadata": {},
   "outputs": [],
   "source": [
    "y_hat.shape, y.shape"
   ]
  },
  {
   "cell_type": "code",
   "execution_count": null,
   "metadata": {},
   "outputs": [],
   "source": [
    "nnts.metrics.calc_metrics(y, y_hat, metadata.freq, metadata.seasonality)"
   ]
  },
  {
   "cell_type": "code",
   "execution_count": null,
   "metadata": {},
   "outputs": [],
   "source": [
    "nnts.metrics.calc_metrics(y[:, :1, :], y_hat[:, :1, :], metadata.freq, metadata.seasonality)"
   ]
  },
  {
   "cell_type": "code",
   "execution_count": null,
   "metadata": {},
   "outputs": [],
   "source": [
    "def save_results(y_hat, y, name):\n",
    "    torch.save(y_hat, f\"{PATH}/{name}_y_hat.pt\")\n",
    "    torch.save(y, f\"{PATH}/{name}_y.pt\")\n",
    "save_results(y_hat, y, scenario.name)"
   ]
  },
  {
   "cell_type": "code",
   "execution_count": null,
   "metadata": {},
   "outputs": [],
   "source": [
    "covariate_name = f\"cov-1-pearsn-0.68-pl-{str(scenario.prediction_length)}-seed-{scenario.seed}\"\n",
    "covariate_y_hat = torch.load(f\"{PATH}/{covariate_name}_y_hat.pt\")\n",
    "covariate_y = torch.load(f\"{PATH}/{covariate_name}_y.pt\")"
   ]
  },
  {
   "cell_type": "code",
   "execution_count": null,
   "metadata": {},
   "outputs": [],
   "source": [
    "def calculate_forecast_horizon_metrics(y_hat, y, metadata, metric=\"mae\"):\n",
    "    forecast_horizon_metrics = []\n",
    "    for i in range(1, metadata.prediction_length):\n",
    "        metrics = nnts.metrics.calc_metrics(y[:, :i, :], y_hat[:, :i, :], metadata.freq, metadata.seasonality)\n",
    "        forecast_horizon_metrics.append(metrics[metric])\n",
    "    return forecast_horizon_metrics\n",
    "\n",
    "forecast_horizon_metrics = calculate_forecast_horizon_metrics(y_hat, y, metadata, \"mae\")\n",
    "covariate_forecast_horizon_metrics = calculate_forecast_horizon_metrics(covariate_y_hat, covariate_y, metadata, \"mae\")"
   ]
  },
  {
   "cell_type": "code",
   "execution_count": null,
   "metadata": {},
   "outputs": [],
   "source": [
    "import seaborn as sns\n",
    "sns.set()"
   ]
  },
  {
   "cell_type": "code",
   "execution_count": null,
   "metadata": {},
   "outputs": [],
   "source": [
    "plt.plot(forecast_horizon_metrics, label='univariate')\n",
    "plt.plot(covariate_forecast_horizon_metrics, label='covariate (0.68)')\n",
    "plt.xlabel(\"Forecast Horizon\")\n",
    "plt.ylabel(\"Error (MAE)\")\n",
    "plt.legend()\n",
    "plt.show()"
   ]
  },
  {
   "cell_type": "code",
   "execution_count": null,
   "metadata": {},
   "outputs": [],
   "source": [
    "csv_aggregator = covs.CSVFileAggregator(PATH, \"results\")\n",
    "results = csv_aggregator()"
   ]
  },
  {
   "cell_type": "code",
   "execution_count": null,
   "metadata": {},
   "outputs": [],
   "source": [
    "df.tail(metadata.prediction_length*50)['y'].plot()"
   ]
  },
  {
   "cell_type": "code",
   "execution_count": null,
   "metadata": {},
   "outputs": [],
   "source": [
    "y_hat_last = y_hat[:, :1, ...]\n",
    "y_last = y[:, :1, ...]\n",
    "df_test = df.tail(y_hat_last.shape[0])\n",
    "df_test[\"y_check\"] = y_last.squeeze()\n",
    "df_test[\"y_hat\"] = y_hat_last.squeeze()\n",
    "df_test[[\"y\", \"y_check\", \"y_hat\"]]\n",
    "df_test.set_index(\"ds\")[[\"y_check\", \"y_hat\"]].iloc[4500:4500+336].plot(figsize=(20, 10))"
   ]
  },
  {
   "cell_type": "code",
   "execution_count": null,
   "metadata": {},
   "outputs": [],
   "source": [
    "test_metrics = nnts.metrics.calc_metrics(y_last, y_hat_last, metadata.freq, metadata.seasonality)\n",
    "test_metrics"
   ]
  },
  {
   "cell_type": "code",
   "execution_count": null,
   "metadata": {},
   "outputs": [],
   "source": []
  }
 ],
 "metadata": {
  "kernelspec": {
   "display_name": "venv",
   "language": "python",
   "name": "python3"
  },
  "language_info": {
   "codemirror_mode": {
    "name": "ipython",
    "version": 3
   },
   "file_extension": ".py",
   "mimetype": "text/x-python",
   "name": "python",
   "nbconvert_exporter": "python",
   "pygments_lexer": "ipython3",
   "version": "3.11.8"
  }
 },
 "nbformat": 4,
 "nbformat_minor": 2
}
