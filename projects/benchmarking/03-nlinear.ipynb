{
    "cells": [
        {
            "cell_type": "code",
            "execution_count": 1,
            "metadata": {},
            "outputs": [],
            "source": [
                "import nnts\n",
                "import nnts.data\n",
                "import nnts.plotting\n",
                "import nnts.torch.preprocessing\n",
                "import nnts.torch.models\n",
                "import nnts.metrics\n",
                "import nnts.torch.datasets\n",
                "import nnts.loggers\n",
                "import nnts.datasets\n",
                "from nnts import utils\n",
                "import nnts.torch.utils\n",
                "import nnts.torch.trainers\n",
                "import nnts.torch\n",
                "import nnts.torch.models.dlinear\n",
                "import nnts.lags\n",
                "import torch\n",
                "torch.set_printoptions(precision=8, sci_mode=False)\n",
                "%load_ext autoreload\n",
                "%autoreload 2"
            ]
        },
        {
            "cell_type": "code",
            "execution_count": 10,
            "metadata": {},
            "outputs": [],
            "source": [
                "import nnts.torch.models.nlinear"
            ]
        },
        {
            "cell_type": "markdown",
            "metadata": {},
            "source": [
                "### Load the dataset \n",
                "You can easily load any of the Monash datasets using the `load_dataset` function."
            ]
        },
        {
            "cell_type": "code",
            "execution_count": 11,
            "metadata": {},
            "outputs": [],
            "source": [
                "df, metadata = nnts.datasets.load_dataset(\"tourism_monthly\")"
            ]
        },
        {
            "cell_type": "code",
            "execution_count": 12,
            "metadata": {},
            "outputs": [],
            "source": [
                "lag_seq = nnts.lags.get_lags_for_frequency(metadata.freq)\n",
                "lag_seq = [lag - 1 for lag in lag_seq if lag > 1]\n"
            ]
        },
        {
            "cell_type": "code",
            "execution_count": 13,
            "metadata": {},
            "outputs": [
                {
                    "data": {
                        "text/plain": [
                            "51"
                        ]
                    },
                    "execution_count": 13,
                    "metadata": {},
                    "output_type": "execute_result"
                }
            ],
            "source": [
                "metadata.context_length += max(lag_seq)\n",
                "metadata.context_length"
            ]
        },
        {
            "cell_type": "markdown",
            "metadata": {},
            "source": [
                "### Set the Hyperparamters \n",
                "You will need to provide an optimizer and a loss function. Other hyperparameters are optional."
            ]
        },
        {
            "cell_type": "code",
            "execution_count": 14,
            "metadata": {},
            "outputs": [],
            "source": [
                "params = utils.Hyperparams(\n",
                "    optimizer=torch.optim.Adam,\n",
                "    loss_fn=torch.nn.L1Loss(),\n",
                "    batch_size=32,\n",
                "    batches_per_epoch=50,\n",
                "    training_method=utils.TrainingMethod.TEACHER_FORCING,\n",
                "    model_file_path=\"logs\"\n",
                ")"
            ]
        },
        {
            "cell_type": "markdown",
            "metadata": {},
            "source": [
                "### Data Processing\n",
                "We specify how we want to split the data, what transformations we want to apply and how we want to batch and sample the data during training.  "
            ]
        },
        {
            "cell_type": "markdown",
            "metadata": {},
            "source": [
                "### Create, Train and Evaluate the model\n",
                "Create a Pytorch model."
            ]
        },
        {
            "cell_type": "code",
            "execution_count": 15,
            "metadata": {},
            "outputs": [
                {
                    "name": "stdout",
                    "output_type": "stream",
                    "text": [
                        "NLinear(\n",
                        "  (Linear): ModuleList(\n",
                        "    (0): Linear(in_features=51, out_features=24, bias=True)\n",
                        "  )\n",
                        ")\n",
                        "saving model\n",
                        "Epoch 1 Train Loss: 4612.0126953125\n",
                        "saving model\n",
                        "Epoch 2 Train Loss: 4431.8623046875\n",
                        "saving model\n",
                        "Epoch 3 Train Loss: 3911.188232421875\n",
                        "saving model\n",
                        "Epoch 4 Train Loss: 3755.31787109375\n",
                        "saving model\n",
                        "Epoch 5 Train Loss: 3266.650390625\n",
                        "saving model\n",
                        "Epoch 6 Train Loss: 2979.943115234375\n",
                        "saving model\n",
                        "Epoch 7 Train Loss: 2777.298828125\n",
                        "saving model\n",
                        "Epoch 8 Train Loss: 2751.07958984375\n",
                        "saving model\n",
                        "Epoch 9 Train Loss: 2701.814697265625\n",
                        "saving model\n",
                        "Epoch 10 Train Loss: 2482.814697265625\n",
                        "saving model\n",
                        "Epoch 11 Train Loss: 2432.57177734375\n",
                        "saving model\n",
                        "Epoch 12 Train Loss: 2223.023681640625\n",
                        "saving model\n",
                        "Epoch 13 Train Loss: 2212.460693359375\n",
                        "saving model\n",
                        "Epoch 14 Train Loss: 2083.672607421875\n",
                        "saving model\n",
                        "Epoch 15 Train Loss: 2002.1507568359375\n",
                        "Epoch 16 Train Loss: 2060.4013671875\n",
                        "Epoch 17 Train Loss: 2191.999267578125\n",
                        "Epoch 18 Train Loss: 2088.48583984375\n",
                        "saving model\n",
                        "Epoch 19 Train Loss: 1914.6778564453125\n",
                        "Epoch 20 Train Loss: 2338.323974609375\n",
                        "saving model\n",
                        "Epoch 21 Train Loss: 1746.4312744140625\n",
                        "Epoch 22 Train Loss: 1902.5880126953125\n",
                        "Epoch 23 Train Loss: 2128.73876953125\n",
                        "Epoch 24 Train Loss: 2093.581787109375\n",
                        "Epoch 25 Train Loss: 2069.936767578125\n",
                        "Epoch 26 Train Loss: 1963.2813720703125\n",
                        "Epoch 27 Train Loss: 2030.10498046875\n",
                        "Epoch 28 Train Loss: 2132.6181640625\n",
                        "Epoch 29 Train Loss: 1876.328125\n",
                        "Epoch 30 Train Loss: 1918.1055908203125\n",
                        "Epoch 31 Train Loss: 1915.8729248046875\n",
                        "Epoch 32 Train Loss: 1949.0257568359375\n",
                        "Epoch 33 Train Loss: 1894.85302734375\n",
                        "Epoch 34 Train Loss: 1846.330810546875\n",
                        "Epoch 35 Train Loss: 1890.263916015625\n",
                        "Epoch 36 Train Loss: 1803.611083984375\n",
                        "Epoch 37 Train Loss: 1819.9876708984375\n",
                        "Epoch 38 Train Loss: 1790.748779296875\n",
                        "Epoch 39 Train Loss: 1924.7528076171875\n",
                        "Epoch 40 Train Loss: 2081.413818359375\n",
                        "Epoch 41 Train Loss: 2156.13427734375\n",
                        "Epoch 42 Train Loss: 1967.2451171875\n",
                        "Epoch 43 Train Loss: 2004.1318359375\n",
                        "Epoch 44 Train Loss: 1917.54052734375\n",
                        "Epoch 45 Train Loss: 1760.6568603515625\n",
                        "Epoch 46 Train Loss: 1959.292236328125\n",
                        "Epoch 47 Train Loss: 2062.3603515625\n",
                        "Epoch 48 Train Loss: 1883.892333984375\n",
                        "Epoch 49 Train Loss: 2025.4625244140625\n",
                        "Epoch 50 Train Loss: 1792.0504150390625\n",
                        "Epoch 51 Train Loss: 1866.6153564453125\n",
                        "Epoch 52 Train Loss: 1857.318603515625\n",
                        "Epoch 53 Train Loss: 2064.83056640625\n",
                        "Epoch 54 Train Loss: 1780.1422119140625\n",
                        "Epoch 55 Train Loss: 1993.871826171875\n",
                        "Epoch 56 Train Loss: 2164.732666015625\n",
                        "Epoch 57 Train Loss: 2135.598388671875\n",
                        "Epoch 58 Train Loss: 1901.3154296875\n",
                        "Epoch 59 Train Loss: 1863.1246337890625\n",
                        "Epoch 60 Train Loss: 2179.4755859375\n",
                        "Epoch 61 Train Loss: 1881.4051513671875\n",
                        "Epoch 62 Train Loss: 1789.8896484375\n",
                        "Epoch 63 Train Loss: 2179.572265625\n",
                        "Epoch 64 Train Loss: 2106.975830078125\n",
                        "Epoch 65 Train Loss: 1857.1351318359375\n",
                        "Epoch 66 Train Loss: 1773.0140380859375\n",
                        "saving model\n",
                        "Epoch 67 Train Loss: 1715.209228515625\n",
                        "Epoch 68 Train Loss: 1925.1298828125\n",
                        "Epoch 69 Train Loss: 1940.263916015625\n",
                        "Epoch 70 Train Loss: 1794.368896484375\n",
                        "Epoch 71 Train Loss: 1764.4688720703125\n",
                        "Epoch 72 Train Loss: 1920.5887451171875\n",
                        "Epoch 73 Train Loss: 1860.4691162109375\n",
                        "Epoch 74 Train Loss: 1724.2166748046875\n",
                        "Epoch 75 Train Loss: 1803.569091796875\n",
                        "Epoch 76 Train Loss: 1902.3009033203125\n",
                        "Epoch 77 Train Loss: 1813.3309326171875\n",
                        "Epoch 78 Train Loss: 1766.199951171875\n",
                        "Epoch 79 Train Loss: 1907.649169921875\n",
                        "Epoch 80 Train Loss: 1729.3438720703125\n",
                        "Epoch 81 Train Loss: 1793.455322265625\n",
                        "Epoch 82 Train Loss: 1824.442138671875\n",
                        "Epoch 83 Train Loss: 1937.3426513671875\n",
                        "Epoch 84 Train Loss: 1935.0543212890625\n",
                        "saving model\n",
                        "Epoch 85 Train Loss: 1697.544189453125\n",
                        "Epoch 86 Train Loss: 1877.221435546875\n",
                        "Epoch 87 Train Loss: 1757.3623046875\n",
                        "Epoch 88 Train Loss: 1895.986572265625\n",
                        "Epoch 89 Train Loss: 1883.857666015625\n",
                        "Epoch 90 Train Loss: 1877.5501708984375\n",
                        "Epoch 91 Train Loss: 1974.0050048828125\n",
                        "Epoch 92 Train Loss: 2001.4351806640625\n",
                        "Epoch 93 Train Loss: 1827.1551513671875\n",
                        "Epoch 94 Train Loss: 1944.7808837890625\n",
                        "Epoch 95 Train Loss: 1739.2254638671875\n",
                        "Epoch 96 Train Loss: 1801.7454833984375\n",
                        "Epoch 97 Train Loss: 1763.125732421875\n",
                        "Epoch 98 Train Loss: 1790.064697265625\n",
                        "Epoch 99 Train Loss: 1871.608642578125\n",
                        "Epoch 100 Train Loss: 1767.7969970703125\n",
                        "Best model loaded from logs/best_model.pt\n"
                    ]
                },
                {
                    "data": {
                        "text/plain": [
                            "{'mse': 63871748.0,\n",
                            " 'abs_error': 16272740.0,\n",
                            " 'abs_target_sum': 166958480.0,\n",
                            " 'abs_target_mean': 19007.11328125,\n",
                            " 'mase': 1.4483788013458252,\n",
                            " 'mape': 0.229703888297081,\n",
                            " 'smape': 0.19521769881248474,\n",
                            " 'msmape': 0.19519780576229095,\n",
                            " 'nd': 0.17888924479484558,\n",
                            " 'mae': 1852.543212890625,\n",
                            " 'rmse': 2364.0576171875,\n",
                            " 'seasonal_error': 1543.2191162109375}"
                        ]
                    },
                    "execution_count": 15,
                    "metadata": {},
                    "output_type": "execute_result"
                }
            ],
            "source": [
                "\n",
                "nnts.torch.utils.seed_everything(42)\n",
                "dataset_options = {\n",
                "    \"context_length\": metadata.context_length,\n",
                "    \"prediction_length\": metadata.prediction_length,\n",
                "    \"conts\": [],\n",
                "}\n",
                "\n",
                "trn_dl, test_dl = nnts.torch.utils.create_dataloaders(\n",
                "    df,\n",
                "    nnts.datasets.split_test_train_last_horizon,\n",
                "    metadata.context_length,\n",
                "    metadata.prediction_length,\n",
                "    Dataset=nnts.torch.datasets.TimeseriesDataset,\n",
                "    dataset_options=dataset_options,\n",
                "    Sampler=nnts.torch.datasets.TimeSeriesSampler,\n",
                ")\n",
                "net = nnts.torch.models.nlinear.NLinear(metadata)\n",
                "\n",
                "trner = nnts.torch.trainers.TorchEpochTrainer(net, params, metadata)\n",
                "evaluator = trner.train(trn_dl)\n",
                "y_hat, y = evaluator.evaluate(\n",
                "    test_dl, metadata.prediction_length, metadata.context_length\n",
                ")\n",
                "\n",
                "test_metrics = nnts.metrics.calc_metrics(\n",
                "    y_hat, y, nnts.metrics.calculate_seasonal_error(trn_dl, metadata.seasonality)\n",
                ")\n",
                "test_metrics"
            ]
        },
        {
            "cell_type": "markdown",
            "metadata": {},
            "source": [
                "### Evaluate"
            ]
        },
        {
            "cell_type": "markdown",
            "metadata": {},
            "source": [
                "### Evaluate"
            ]
        },
        {
            "cell_type": "code",
            "execution_count": 5,
            "metadata": {},
            "outputs": [
                {
                    "data": {
                        "application/vnd.plotly.v1+json": {
                            "config": {
                                "plotlyServerURL": "https://plot.ly"
                            },
                            "data": [
                                {
                                    "line": {
                                        "color": "blue"
                                    },
                                    "mode": "lines",
                                    "name": "Actual 1",
                                    "type": "scatter",
                                    "x": [
                                        0,
                                        1,
                                        2,
                                        3,
                                        4,
                                        5,
                                        6,
                                        7,
                                        8,
                                        9,
                                        10,
                                        11,
                                        12,
                                        13,
                                        14,
                                        15,
                                        16,
                                        17,
                                        18,
                                        19,
                                        20,
                                        21,
                                        22,
                                        23
                                    ],
                                    "xaxis": "x",
                                    "y": [
                                        6611.115234375,
                                        4150.2392578125,
                                        2841,
                                        1813.43994140625,
                                        2261.080078125,
                                        1873.60498046875,
                                        1772.8399658203125,
                                        2049.56494140625,
                                        2932.264892578125,
                                        3113.2548828125,
                                        3461.5048828125,
                                        6265.740234375,
                                        6857.7998046875,
                                        4346.08984375,
                                        3154.72998046875,
                                        2142.2099609375,
                                        2375.72509765625,
                                        1981.1099853515625,
                                        1959.864990234375,
                                        2466.31005859375,
                                        2851.715087890625,
                                        3671.804931640625,
                                        3806.780029296875,
                                        6995.0498046875
                                    ],
                                    "yaxis": "y"
                                },
                                {
                                    "line": {
                                        "color": "orange",
                                        "dash": "dash"
                                    },
                                    "mode": "lines",
                                    "name": "Forecast 1",
                                    "type": "scatter",
                                    "x": [
                                        0,
                                        1,
                                        2,
                                        3,
                                        4,
                                        5,
                                        6,
                                        7,
                                        8,
                                        9,
                                        10,
                                        11,
                                        12,
                                        13,
                                        14,
                                        15,
                                        16,
                                        17,
                                        18,
                                        19,
                                        20,
                                        21,
                                        22,
                                        23
                                    ],
                                    "xaxis": "x",
                                    "y": [
                                        6743.6787109375,
                                        4233.56591796875,
                                        3005.689697265625,
                                        1925.017333984375,
                                        2273.74169921875,
                                        1737.037353515625,
                                        1606.9298095703125,
                                        1990.092041015625,
                                        2783.287353515625,
                                        3206.05859375,
                                        3722.482421875,
                                        6641.90576171875,
                                        7209.482421875,
                                        4684.291015625,
                                        3207.67333984375,
                                        2103.73681640625,
                                        2419.7578125,
                                        1801.49072265625,
                                        1745.089111328125,
                                        2227.25,
                                        2802.01171875,
                                        3465.63330078125,
                                        3856.58984375,
                                        6956.724609375
                                    ],
                                    "yaxis": "y"
                                },
                                {
                                    "line": {
                                        "color": "blue"
                                    },
                                    "mode": "lines",
                                    "name": "Actual 2",
                                    "type": "scatter",
                                    "x": [
                                        0,
                                        1,
                                        2,
                                        3,
                                        4,
                                        5,
                                        6,
                                        7,
                                        8,
                                        9,
                                        10,
                                        11,
                                        12,
                                        13,
                                        14,
                                        15,
                                        16,
                                        17,
                                        18,
                                        19,
                                        20,
                                        21,
                                        22,
                                        23
                                    ],
                                    "xaxis": "x2",
                                    "y": [
                                        176215.203125,
                                        160025.703125,
                                        150995.5,
                                        112002.6015625,
                                        85668.59375,
                                        107283.1015625,
                                        86953.7734375,
                                        95141.9609375,
                                        104902.6015625,
                                        117794.5,
                                        139187.5,
                                        183571.90625,
                                        185953,
                                        171384.59375,
                                        169834.5,
                                        125275.3984375,
                                        90986.6015625,
                                        100422.453125,
                                        94333.9375,
                                        109861.6953125,
                                        116636.7421875,
                                        139426.515625,
                                        161014.921875,
                                        199405.109375
                                    ],
                                    "yaxis": "y2"
                                },
                                {
                                    "line": {
                                        "color": "orange",
                                        "dash": "dash"
                                    },
                                    "mode": "lines",
                                    "name": "Forecast 2",
                                    "type": "scatter",
                                    "x": [
                                        0,
                                        1,
                                        2,
                                        3,
                                        4,
                                        5,
                                        6,
                                        7,
                                        8,
                                        9,
                                        10,
                                        11,
                                        12,
                                        13,
                                        14,
                                        15,
                                        16,
                                        17,
                                        18,
                                        19,
                                        20,
                                        21,
                                        22,
                                        23
                                    ],
                                    "xaxis": "x2",
                                    "y": [
                                        195667.515625,
                                        170178.203125,
                                        158012.328125,
                                        105348.203125,
                                        95634.125,
                                        105659.5078125,
                                        83942.71875,
                                        91706.625,
                                        106127.734375,
                                        124387.6484375,
                                        137123.84375,
                                        183095.703125,
                                        207855.0625,
                                        176644.796875,
                                        154861.828125,
                                        114550.65625,
                                        96510.046875,
                                        109203.265625,
                                        92349.140625,
                                        98317.0625,
                                        112650.59375,
                                        132594.6875,
                                        145614.828125,
                                        192293.03125
                                    ],
                                    "yaxis": "y2"
                                },
                                {
                                    "line": {
                                        "color": "blue"
                                    },
                                    "mode": "lines",
                                    "name": "Actual 3",
                                    "type": "scatter",
                                    "x": [
                                        0,
                                        1,
                                        2,
                                        3,
                                        4,
                                        5,
                                        6,
                                        7,
                                        8,
                                        9,
                                        10,
                                        11,
                                        12,
                                        13,
                                        14,
                                        15,
                                        16,
                                        17,
                                        18,
                                        19,
                                        20,
                                        21,
                                        22,
                                        23
                                    ],
                                    "xaxis": "x3",
                                    "y": [
                                        89162,
                                        66728,
                                        104864,
                                        102253,
                                        91564,
                                        99782,
                                        100335,
                                        87455,
                                        87126,
                                        113382,
                                        109339,
                                        91099,
                                        84685,
                                        72779,
                                        106548,
                                        105057,
                                        92703,
                                        102484,
                                        101753,
                                        86872,
                                        87775,
                                        116104,
                                        108333,
                                        93932
                                    ],
                                    "yaxis": "y3"
                                },
                                {
                                    "line": {
                                        "color": "orange",
                                        "dash": "dash"
                                    },
                                    "mode": "lines",
                                    "name": "Forecast 3",
                                    "type": "scatter",
                                    "x": [
                                        0,
                                        1,
                                        2,
                                        3,
                                        4,
                                        5,
                                        6,
                                        7,
                                        8,
                                        9,
                                        10,
                                        11,
                                        12,
                                        13,
                                        14,
                                        15,
                                        16,
                                        17,
                                        18,
                                        19,
                                        20,
                                        21,
                                        22,
                                        23
                                    ],
                                    "xaxis": "x3",
                                    "y": [
                                        85244.3359375,
                                        75413.9765625,
                                        93788.59375,
                                        78474.71875,
                                        71536.78125,
                                        84209.328125,
                                        94458.0859375,
                                        91601.921875,
                                        93275.2265625,
                                        120216.4375,
                                        110797.5859375,
                                        97962.671875,
                                        92845.953125,
                                        88890.7109375,
                                        105133.625,
                                        89725.046875,
                                        79153.6953125,
                                        90781.71875,
                                        101244.09375,
                                        100307.1328125,
                                        98316.25,
                                        131425.9375,
                                        116691.3203125,
                                        102686.703125
                                    ],
                                    "yaxis": "y3"
                                },
                                {
                                    "line": {
                                        "color": "blue"
                                    },
                                    "mode": "lines",
                                    "name": "Actual 4",
                                    "type": "scatter",
                                    "x": [
                                        0,
                                        1,
                                        2,
                                        3,
                                        4,
                                        5,
                                        6,
                                        7,
                                        8,
                                        9,
                                        10,
                                        11,
                                        12,
                                        13,
                                        14,
                                        15,
                                        16,
                                        17,
                                        18,
                                        19,
                                        20,
                                        21,
                                        22,
                                        23
                                    ],
                                    "xaxis": "x4",
                                    "y": [
                                        25621,
                                        19333,
                                        29124,
                                        26206,
                                        24662,
                                        20063,
                                        24784,
                                        23189,
                                        20031,
                                        31092,
                                        33325,
                                        31412,
                                        26049,
                                        22309,
                                        31849,
                                        28788,
                                        26268,
                                        21046,
                                        28506,
                                        25586,
                                        21037,
                                        33134,
                                        36748,
                                        34377
                                    ],
                                    "yaxis": "y4"
                                },
                                {
                                    "line": {
                                        "color": "orange",
                                        "dash": "dash"
                                    },
                                    "mode": "lines",
                                    "name": "Forecast 4",
                                    "type": "scatter",
                                    "x": [
                                        0,
                                        1,
                                        2,
                                        3,
                                        4,
                                        5,
                                        6,
                                        7,
                                        8,
                                        9,
                                        10,
                                        11,
                                        12,
                                        13,
                                        14,
                                        15,
                                        16,
                                        17,
                                        18,
                                        19,
                                        20,
                                        21,
                                        22,
                                        23
                                    ],
                                    "xaxis": "x4",
                                    "y": [
                                        25464.029296875,
                                        22281.09765625,
                                        27119.67578125,
                                        20944.94140625,
                                        19737.447265625,
                                        18934.447265625,
                                        23645.521484375,
                                        23503.49609375,
                                        21369.9375,
                                        30019.556640625,
                                        32298.40234375,
                                        30901.64453125,
                                        26527.884765625,
                                        25580.78125,
                                        29870.263671875,
                                        23798.283203125,
                                        22135.908203125,
                                        21000.88671875,
                                        25578.068359375,
                                        25526.36328125,
                                        22845.716796875,
                                        32844.953125,
                                        33681.9609375,
                                        32767.21484375
                                    ],
                                    "yaxis": "y4"
                                }
                            ],
                            "layout": {
                                "annotations": [
                                    {
                                        "font": {
                                            "size": 16
                                        },
                                        "showarrow": false,
                                        "text": "Time Series 1",
                                        "x": 0.5,
                                        "xanchor": "center",
                                        "xref": "paper",
                                        "y": 1,
                                        "yanchor": "bottom",
                                        "yref": "paper"
                                    },
                                    {
                                        "font": {
                                            "size": 16
                                        },
                                        "showarrow": false,
                                        "text": "Time Series 2",
                                        "x": 0.5,
                                        "xanchor": "center",
                                        "xref": "paper",
                                        "y": 0.71875,
                                        "yanchor": "bottom",
                                        "yref": "paper"
                                    },
                                    {
                                        "font": {
                                            "size": 16
                                        },
                                        "showarrow": false,
                                        "text": "Time Series 3",
                                        "x": 0.5,
                                        "xanchor": "center",
                                        "xref": "paper",
                                        "y": 0.4375,
                                        "yanchor": "bottom",
                                        "yref": "paper"
                                    },
                                    {
                                        "font": {
                                            "size": 16
                                        },
                                        "showarrow": false,
                                        "text": "Time Series 4",
                                        "x": 0.5,
                                        "xanchor": "center",
                                        "xref": "paper",
                                        "y": 0.15625,
                                        "yanchor": "bottom",
                                        "yref": "paper"
                                    }
                                ],
                                "height": 1000,
                                "showlegend": true,
                                "template": {
                                    "data": {
                                        "bar": [
                                            {
                                                "error_x": {
                                                    "color": "#2a3f5f"
                                                },
                                                "error_y": {
                                                    "color": "#2a3f5f"
                                                },
                                                "marker": {
                                                    "line": {
                                                        "color": "#E5ECF6",
                                                        "width": 0.5
                                                    },
                                                    "pattern": {
                                                        "fillmode": "overlay",
                                                        "size": 10,
                                                        "solidity": 0.2
                                                    }
                                                },
                                                "type": "bar"
                                            }
                                        ],
                                        "barpolar": [
                                            {
                                                "marker": {
                                                    "line": {
                                                        "color": "#E5ECF6",
                                                        "width": 0.5
                                                    },
                                                    "pattern": {
                                                        "fillmode": "overlay",
                                                        "size": 10,
                                                        "solidity": 0.2
                                                    }
                                                },
                                                "type": "barpolar"
                                            }
                                        ],
                                        "carpet": [
                                            {
                                                "aaxis": {
                                                    "endlinecolor": "#2a3f5f",
                                                    "gridcolor": "white",
                                                    "linecolor": "white",
                                                    "minorgridcolor": "white",
                                                    "startlinecolor": "#2a3f5f"
                                                },
                                                "baxis": {
                                                    "endlinecolor": "#2a3f5f",
                                                    "gridcolor": "white",
                                                    "linecolor": "white",
                                                    "minorgridcolor": "white",
                                                    "startlinecolor": "#2a3f5f"
                                                },
                                                "type": "carpet"
                                            }
                                        ],
                                        "choropleth": [
                                            {
                                                "colorbar": {
                                                    "outlinewidth": 0,
                                                    "ticks": ""
                                                },
                                                "type": "choropleth"
                                            }
                                        ],
                                        "contour": [
                                            {
                                                "colorbar": {
                                                    "outlinewidth": 0,
                                                    "ticks": ""
                                                },
                                                "colorscale": [
                                                    [
                                                        0,
                                                        "#0d0887"
                                                    ],
                                                    [
                                                        0.1111111111111111,
                                                        "#46039f"
                                                    ],
                                                    [
                                                        0.2222222222222222,
                                                        "#7201a8"
                                                    ],
                                                    [
                                                        0.3333333333333333,
                                                        "#9c179e"
                                                    ],
                                                    [
                                                        0.4444444444444444,
                                                        "#bd3786"
                                                    ],
                                                    [
                                                        0.5555555555555556,
                                                        "#d8576b"
                                                    ],
                                                    [
                                                        0.6666666666666666,
                                                        "#ed7953"
                                                    ],
                                                    [
                                                        0.7777777777777778,
                                                        "#fb9f3a"
                                                    ],
                                                    [
                                                        0.8888888888888888,
                                                        "#fdca26"
                                                    ],
                                                    [
                                                        1,
                                                        "#f0f921"
                                                    ]
                                                ],
                                                "type": "contour"
                                            }
                                        ],
                                        "contourcarpet": [
                                            {
                                                "colorbar": {
                                                    "outlinewidth": 0,
                                                    "ticks": ""
                                                },
                                                "type": "contourcarpet"
                                            }
                                        ],
                                        "heatmap": [
                                            {
                                                "colorbar": {
                                                    "outlinewidth": 0,
                                                    "ticks": ""
                                                },
                                                "colorscale": [
                                                    [
                                                        0,
                                                        "#0d0887"
                                                    ],
                                                    [
                                                        0.1111111111111111,
                                                        "#46039f"
                                                    ],
                                                    [
                                                        0.2222222222222222,
                                                        "#7201a8"
                                                    ],
                                                    [
                                                        0.3333333333333333,
                                                        "#9c179e"
                                                    ],
                                                    [
                                                        0.4444444444444444,
                                                        "#bd3786"
                                                    ],
                                                    [
                                                        0.5555555555555556,
                                                        "#d8576b"
                                                    ],
                                                    [
                                                        0.6666666666666666,
                                                        "#ed7953"
                                                    ],
                                                    [
                                                        0.7777777777777778,
                                                        "#fb9f3a"
                                                    ],
                                                    [
                                                        0.8888888888888888,
                                                        "#fdca26"
                                                    ],
                                                    [
                                                        1,
                                                        "#f0f921"
                                                    ]
                                                ],
                                                "type": "heatmap"
                                            }
                                        ],
                                        "heatmapgl": [
                                            {
                                                "colorbar": {
                                                    "outlinewidth": 0,
                                                    "ticks": ""
                                                },
                                                "colorscale": [
                                                    [
                                                        0,
                                                        "#0d0887"
                                                    ],
                                                    [
                                                        0.1111111111111111,
                                                        "#46039f"
                                                    ],
                                                    [
                                                        0.2222222222222222,
                                                        "#7201a8"
                                                    ],
                                                    [
                                                        0.3333333333333333,
                                                        "#9c179e"
                                                    ],
                                                    [
                                                        0.4444444444444444,
                                                        "#bd3786"
                                                    ],
                                                    [
                                                        0.5555555555555556,
                                                        "#d8576b"
                                                    ],
                                                    [
                                                        0.6666666666666666,
                                                        "#ed7953"
                                                    ],
                                                    [
                                                        0.7777777777777778,
                                                        "#fb9f3a"
                                                    ],
                                                    [
                                                        0.8888888888888888,
                                                        "#fdca26"
                                                    ],
                                                    [
                                                        1,
                                                        "#f0f921"
                                                    ]
                                                ],
                                                "type": "heatmapgl"
                                            }
                                        ],
                                        "histogram": [
                                            {
                                                "marker": {
                                                    "pattern": {
                                                        "fillmode": "overlay",
                                                        "size": 10,
                                                        "solidity": 0.2
                                                    }
                                                },
                                                "type": "histogram"
                                            }
                                        ],
                                        "histogram2d": [
                                            {
                                                "colorbar": {
                                                    "outlinewidth": 0,
                                                    "ticks": ""
                                                },
                                                "colorscale": [
                                                    [
                                                        0,
                                                        "#0d0887"
                                                    ],
                                                    [
                                                        0.1111111111111111,
                                                        "#46039f"
                                                    ],
                                                    [
                                                        0.2222222222222222,
                                                        "#7201a8"
                                                    ],
                                                    [
                                                        0.3333333333333333,
                                                        "#9c179e"
                                                    ],
                                                    [
                                                        0.4444444444444444,
                                                        "#bd3786"
                                                    ],
                                                    [
                                                        0.5555555555555556,
                                                        "#d8576b"
                                                    ],
                                                    [
                                                        0.6666666666666666,
                                                        "#ed7953"
                                                    ],
                                                    [
                                                        0.7777777777777778,
                                                        "#fb9f3a"
                                                    ],
                                                    [
                                                        0.8888888888888888,
                                                        "#fdca26"
                                                    ],
                                                    [
                                                        1,
                                                        "#f0f921"
                                                    ]
                                                ],
                                                "type": "histogram2d"
                                            }
                                        ],
                                        "histogram2dcontour": [
                                            {
                                                "colorbar": {
                                                    "outlinewidth": 0,
                                                    "ticks": ""
                                                },
                                                "colorscale": [
                                                    [
                                                        0,
                                                        "#0d0887"
                                                    ],
                                                    [
                                                        0.1111111111111111,
                                                        "#46039f"
                                                    ],
                                                    [
                                                        0.2222222222222222,
                                                        "#7201a8"
                                                    ],
                                                    [
                                                        0.3333333333333333,
                                                        "#9c179e"
                                                    ],
                                                    [
                                                        0.4444444444444444,
                                                        "#bd3786"
                                                    ],
                                                    [
                                                        0.5555555555555556,
                                                        "#d8576b"
                                                    ],
                                                    [
                                                        0.6666666666666666,
                                                        "#ed7953"
                                                    ],
                                                    [
                                                        0.7777777777777778,
                                                        "#fb9f3a"
                                                    ],
                                                    [
                                                        0.8888888888888888,
                                                        "#fdca26"
                                                    ],
                                                    [
                                                        1,
                                                        "#f0f921"
                                                    ]
                                                ],
                                                "type": "histogram2dcontour"
                                            }
                                        ],
                                        "mesh3d": [
                                            {
                                                "colorbar": {
                                                    "outlinewidth": 0,
                                                    "ticks": ""
                                                },
                                                "type": "mesh3d"
                                            }
                                        ],
                                        "parcoords": [
                                            {
                                                "line": {
                                                    "colorbar": {
                                                        "outlinewidth": 0,
                                                        "ticks": ""
                                                    }
                                                },
                                                "type": "parcoords"
                                            }
                                        ],
                                        "pie": [
                                            {
                                                "automargin": true,
                                                "type": "pie"
                                            }
                                        ],
                                        "scatter": [
                                            {
                                                "fillpattern": {
                                                    "fillmode": "overlay",
                                                    "size": 10,
                                                    "solidity": 0.2
                                                },
                                                "type": "scatter"
                                            }
                                        ],
                                        "scatter3d": [
                                            {
                                                "line": {
                                                    "colorbar": {
                                                        "outlinewidth": 0,
                                                        "ticks": ""
                                                    }
                                                },
                                                "marker": {
                                                    "colorbar": {
                                                        "outlinewidth": 0,
                                                        "ticks": ""
                                                    }
                                                },
                                                "type": "scatter3d"
                                            }
                                        ],
                                        "scattercarpet": [
                                            {
                                                "marker": {
                                                    "colorbar": {
                                                        "outlinewidth": 0,
                                                        "ticks": ""
                                                    }
                                                },
                                                "type": "scattercarpet"
                                            }
                                        ],
                                        "scattergeo": [
                                            {
                                                "marker": {
                                                    "colorbar": {
                                                        "outlinewidth": 0,
                                                        "ticks": ""
                                                    }
                                                },
                                                "type": "scattergeo"
                                            }
                                        ],
                                        "scattergl": [
                                            {
                                                "marker": {
                                                    "colorbar": {
                                                        "outlinewidth": 0,
                                                        "ticks": ""
                                                    }
                                                },
                                                "type": "scattergl"
                                            }
                                        ],
                                        "scattermapbox": [
                                            {
                                                "marker": {
                                                    "colorbar": {
                                                        "outlinewidth": 0,
                                                        "ticks": ""
                                                    }
                                                },
                                                "type": "scattermapbox"
                                            }
                                        ],
                                        "scatterpolar": [
                                            {
                                                "marker": {
                                                    "colorbar": {
                                                        "outlinewidth": 0,
                                                        "ticks": ""
                                                    }
                                                },
                                                "type": "scatterpolar"
                                            }
                                        ],
                                        "scatterpolargl": [
                                            {
                                                "marker": {
                                                    "colorbar": {
                                                        "outlinewidth": 0,
                                                        "ticks": ""
                                                    }
                                                },
                                                "type": "scatterpolargl"
                                            }
                                        ],
                                        "scatterternary": [
                                            {
                                                "marker": {
                                                    "colorbar": {
                                                        "outlinewidth": 0,
                                                        "ticks": ""
                                                    }
                                                },
                                                "type": "scatterternary"
                                            }
                                        ],
                                        "surface": [
                                            {
                                                "colorbar": {
                                                    "outlinewidth": 0,
                                                    "ticks": ""
                                                },
                                                "colorscale": [
                                                    [
                                                        0,
                                                        "#0d0887"
                                                    ],
                                                    [
                                                        0.1111111111111111,
                                                        "#46039f"
                                                    ],
                                                    [
                                                        0.2222222222222222,
                                                        "#7201a8"
                                                    ],
                                                    [
                                                        0.3333333333333333,
                                                        "#9c179e"
                                                    ],
                                                    [
                                                        0.4444444444444444,
                                                        "#bd3786"
                                                    ],
                                                    [
                                                        0.5555555555555556,
                                                        "#d8576b"
                                                    ],
                                                    [
                                                        0.6666666666666666,
                                                        "#ed7953"
                                                    ],
                                                    [
                                                        0.7777777777777778,
                                                        "#fb9f3a"
                                                    ],
                                                    [
                                                        0.8888888888888888,
                                                        "#fdca26"
                                                    ],
                                                    [
                                                        1,
                                                        "#f0f921"
                                                    ]
                                                ],
                                                "type": "surface"
                                            }
                                        ],
                                        "table": [
                                            {
                                                "cells": {
                                                    "fill": {
                                                        "color": "#EBF0F8"
                                                    },
                                                    "line": {
                                                        "color": "white"
                                                    }
                                                },
                                                "header": {
                                                    "fill": {
                                                        "color": "#C8D4E3"
                                                    },
                                                    "line": {
                                                        "color": "white"
                                                    }
                                                },
                                                "type": "table"
                                            }
                                        ]
                                    },
                                    "layout": {
                                        "annotationdefaults": {
                                            "arrowcolor": "#2a3f5f",
                                            "arrowhead": 0,
                                            "arrowwidth": 1
                                        },
                                        "autotypenumbers": "strict",
                                        "coloraxis": {
                                            "colorbar": {
                                                "outlinewidth": 0,
                                                "ticks": ""
                                            }
                                        },
                                        "colorscale": {
                                            "diverging": [
                                                [
                                                    0,
                                                    "#8e0152"
                                                ],
                                                [
                                                    0.1,
                                                    "#c51b7d"
                                                ],
                                                [
                                                    0.2,
                                                    "#de77ae"
                                                ],
                                                [
                                                    0.3,
                                                    "#f1b6da"
                                                ],
                                                [
                                                    0.4,
                                                    "#fde0ef"
                                                ],
                                                [
                                                    0.5,
                                                    "#f7f7f7"
                                                ],
                                                [
                                                    0.6,
                                                    "#e6f5d0"
                                                ],
                                                [
                                                    0.7,
                                                    "#b8e186"
                                                ],
                                                [
                                                    0.8,
                                                    "#7fbc41"
                                                ],
                                                [
                                                    0.9,
                                                    "#4d9221"
                                                ],
                                                [
                                                    1,
                                                    "#276419"
                                                ]
                                            ],
                                            "sequential": [
                                                [
                                                    0,
                                                    "#0d0887"
                                                ],
                                                [
                                                    0.1111111111111111,
                                                    "#46039f"
                                                ],
                                                [
                                                    0.2222222222222222,
                                                    "#7201a8"
                                                ],
                                                [
                                                    0.3333333333333333,
                                                    "#9c179e"
                                                ],
                                                [
                                                    0.4444444444444444,
                                                    "#bd3786"
                                                ],
                                                [
                                                    0.5555555555555556,
                                                    "#d8576b"
                                                ],
                                                [
                                                    0.6666666666666666,
                                                    "#ed7953"
                                                ],
                                                [
                                                    0.7777777777777778,
                                                    "#fb9f3a"
                                                ],
                                                [
                                                    0.8888888888888888,
                                                    "#fdca26"
                                                ],
                                                [
                                                    1,
                                                    "#f0f921"
                                                ]
                                            ],
                                            "sequentialminus": [
                                                [
                                                    0,
                                                    "#0d0887"
                                                ],
                                                [
                                                    0.1111111111111111,
                                                    "#46039f"
                                                ],
                                                [
                                                    0.2222222222222222,
                                                    "#7201a8"
                                                ],
                                                [
                                                    0.3333333333333333,
                                                    "#9c179e"
                                                ],
                                                [
                                                    0.4444444444444444,
                                                    "#bd3786"
                                                ],
                                                [
                                                    0.5555555555555556,
                                                    "#d8576b"
                                                ],
                                                [
                                                    0.6666666666666666,
                                                    "#ed7953"
                                                ],
                                                [
                                                    0.7777777777777778,
                                                    "#fb9f3a"
                                                ],
                                                [
                                                    0.8888888888888888,
                                                    "#fdca26"
                                                ],
                                                [
                                                    1,
                                                    "#f0f921"
                                                ]
                                            ]
                                        },
                                        "colorway": [
                                            "#636efa",
                                            "#EF553B",
                                            "#00cc96",
                                            "#ab63fa",
                                            "#FFA15A",
                                            "#19d3f3",
                                            "#FF6692",
                                            "#B6E880",
                                            "#FF97FF",
                                            "#FECB52"
                                        ],
                                        "font": {
                                            "color": "#2a3f5f"
                                        },
                                        "geo": {
                                            "bgcolor": "white",
                                            "lakecolor": "white",
                                            "landcolor": "#E5ECF6",
                                            "showlakes": true,
                                            "showland": true,
                                            "subunitcolor": "white"
                                        },
                                        "hoverlabel": {
                                            "align": "left"
                                        },
                                        "hovermode": "closest",
                                        "mapbox": {
                                            "style": "light"
                                        },
                                        "paper_bgcolor": "white",
                                        "plot_bgcolor": "#E5ECF6",
                                        "polar": {
                                            "angularaxis": {
                                                "gridcolor": "white",
                                                "linecolor": "white",
                                                "ticks": ""
                                            },
                                            "bgcolor": "#E5ECF6",
                                            "radialaxis": {
                                                "gridcolor": "white",
                                                "linecolor": "white",
                                                "ticks": ""
                                            }
                                        },
                                        "scene": {
                                            "xaxis": {
                                                "backgroundcolor": "#E5ECF6",
                                                "gridcolor": "white",
                                                "gridwidth": 2,
                                                "linecolor": "white",
                                                "showbackground": true,
                                                "ticks": "",
                                                "zerolinecolor": "white"
                                            },
                                            "yaxis": {
                                                "backgroundcolor": "#E5ECF6",
                                                "gridcolor": "white",
                                                "gridwidth": 2,
                                                "linecolor": "white",
                                                "showbackground": true,
                                                "ticks": "",
                                                "zerolinecolor": "white"
                                            },
                                            "zaxis": {
                                                "backgroundcolor": "#E5ECF6",
                                                "gridcolor": "white",
                                                "gridwidth": 2,
                                                "linecolor": "white",
                                                "showbackground": true,
                                                "ticks": "",
                                                "zerolinecolor": "white"
                                            }
                                        },
                                        "shapedefaults": {
                                            "line": {
                                                "color": "#2a3f5f"
                                            }
                                        },
                                        "ternary": {
                                            "aaxis": {
                                                "gridcolor": "white",
                                                "linecolor": "white",
                                                "ticks": ""
                                            },
                                            "baxis": {
                                                "gridcolor": "white",
                                                "linecolor": "white",
                                                "ticks": ""
                                            },
                                            "bgcolor": "#E5ECF6",
                                            "caxis": {
                                                "gridcolor": "white",
                                                "linecolor": "white",
                                                "ticks": ""
                                            }
                                        },
                                        "title": {
                                            "x": 0.05
                                        },
                                        "xaxis": {
                                            "automargin": true,
                                            "gridcolor": "white",
                                            "linecolor": "white",
                                            "ticks": "",
                                            "title": {
                                                "standoff": 15
                                            },
                                            "zerolinecolor": "white",
                                            "zerolinewidth": 2
                                        },
                                        "yaxis": {
                                            "automargin": true,
                                            "gridcolor": "white",
                                            "linecolor": "white",
                                            "ticks": "",
                                            "title": {
                                                "standoff": 15
                                            },
                                            "zerolinecolor": "white",
                                            "zerolinewidth": 2
                                        }
                                    }
                                },
                                "title": {
                                    "text": "Forecasts vs Actuals for First 4 Time Series"
                                },
                                "width": 800,
                                "xaxis": {
                                    "anchor": "y",
                                    "domain": [
                                        0,
                                        1
                                    ],
                                    "matches": "x4",
                                    "showticklabels": false
                                },
                                "xaxis2": {
                                    "anchor": "y2",
                                    "domain": [
                                        0,
                                        1
                                    ],
                                    "matches": "x4",
                                    "showticklabels": false
                                },
                                "xaxis3": {
                                    "anchor": "y3",
                                    "domain": [
                                        0,
                                        1
                                    ],
                                    "matches": "x4",
                                    "showticklabels": false
                                },
                                "xaxis4": {
                                    "anchor": "y4",
                                    "domain": [
                                        0,
                                        1
                                    ],
                                    "title": {
                                        "text": "Timesteps"
                                    }
                                },
                                "yaxis": {
                                    "anchor": "x",
                                    "domain": [
                                        0.84375,
                                        1
                                    ]
                                },
                                "yaxis2": {
                                    "anchor": "x2",
                                    "domain": [
                                        0.5625,
                                        0.71875
                                    ]
                                },
                                "yaxis3": {
                                    "anchor": "x3",
                                    "domain": [
                                        0.28125,
                                        0.4375
                                    ]
                                },
                                "yaxis4": {
                                    "anchor": "x4",
                                    "domain": [
                                        0,
                                        0.15625
                                    ]
                                }
                            }
                        }
                    },
                    "metadata": {},
                    "output_type": "display_data"
                }
            ],
            "source": [
                "nnts.plotting.plotly_forecasts_vs_actuals(y, y_hat)"
            ]
        },
        {
            "cell_type": "markdown",
            "metadata": {},
            "source": [
                "### Forecast"
            ]
        },
        {
            "cell_type": "code",
            "execution_count": 28,
            "metadata": {},
            "outputs": [],
            "source": [
                "net = evaluator.net\n",
                "\n",
                "forecaster = nnts.torch.trainers.TorchForecaster(net)"
            ]
        },
        {
            "cell_type": "code",
            "execution_count": 29,
            "metadata": {},
            "outputs": [],
            "source": [
                "forecast = forecaster.forecast(test_dl, metadata.prediction_length, metadata.context_length)"
            ]
        },
        {
            "cell_type": "code",
            "execution_count": 30,
            "metadata": {},
            "outputs": [
                {
                    "data": {
                        "text/plain": [
                            "tensor([[[  6641.45605469],\n",
                            "         [  4133.40673828],\n",
                            "         [  3067.53247070],\n",
                            "         ...,\n",
                            "         [  3548.06396484],\n",
                            "         [  4189.00341797],\n",
                            "         [  6918.93017578]],\n",
                            "\n",
                            "        [[194433.23437500],\n",
                            "         [159917.76562500],\n",
                            "         [152778.92187500],\n",
                            "         ...,\n",
                            "         [134823.09375000],\n",
                            "         [146866.96875000],\n",
                            "         [201028.07812500]],\n",
                            "\n",
                            "        [[ 95321.10937500],\n",
                            "         [ 86995.16406250],\n",
                            "         [103553.07812500],\n",
                            "         ...,\n",
                            "         [133744.62500000],\n",
                            "         [125787.48437500],\n",
                            "         [103492.85937500]],\n",
                            "\n",
                            "        ...,\n",
                            "\n",
                            "        [[  7711.12939453],\n",
                            "         [ 14208.24902344],\n",
                            "         [ 10858.39062500],\n",
                            "         ...,\n",
                            "         [  7101.75195312],\n",
                            "         [  6812.04296875],\n",
                            "         [  8448.37890625]],\n",
                            "\n",
                            "        [[  7796.66650391],\n",
                            "         [  7452.81250000],\n",
                            "         [ 11486.20019531],\n",
                            "         ...,\n",
                            "         [ 14187.00683594],\n",
                            "         [ 10841.85546875],\n",
                            "         [ 10177.20507812]],\n",
                            "\n",
                            "        [[  2008.92102051],\n",
                            "         [  1647.43176270],\n",
                            "         [  2423.51904297],\n",
                            "         ...,\n",
                            "         [  2893.02734375],\n",
                            "         [  1677.34619141],\n",
                            "         [  1458.23291016]]])"
                        ]
                    },
                    "execution_count": 30,
                    "metadata": {},
                    "output_type": "execute_result"
                }
            ],
            "source": [
                "forecast"
            ]
        },
        {
            "cell_type": "code",
            "execution_count": null,
            "metadata": {},
            "outputs": [],
            "source": []
        }
    ],
    "metadata": {
        "kernelspec": {
            "display_name": "venv",
            "language": "python",
            "name": "python3"
        },
        "language_info": {
            "codemirror_mode": {
                "name": "ipython",
                "version": 3
            },
            "file_extension": ".py",
            "mimetype": "text/x-python",
            "name": "python",
            "nbconvert_exporter": "python",
            "pygments_lexer": "ipython3",
            "version": "3.11.8"
        }
    },
    "nbformat": 4,
    "nbformat_minor": 2
}
