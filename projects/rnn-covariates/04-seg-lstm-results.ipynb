{
 "cells": [
  {
   "cell_type": "code",
   "execution_count": null,
   "metadata": {},
   "outputs": [],
   "source": [
    "import matplotlib.pyplot as plt\n",
    "import torch\n",
    "import torch.nn as nn\n",
    "from typing import List\n",
    "import pandas as pd\n",
    "import seaborn as sns\n",
    "\n",
    "import nnts\n",
    "import nnts.data\n",
    "import nnts.experiments\n",
    "import nnts.models\n",
    "import nnts.torch.models\n",
    "import nnts.metrics\n",
    "import nnts.torch.data\n",
    "import nnts.torch.data.datasets\n",
    "import nnts.loggers\n",
    "import nnts.torch.models.trainers\n",
    "import covs \n",
    "import nnts.experiments.plotting\n",
    "import metric_generator\n",
    "\n",
    "\n",
    "sns.set()\n",
    "\n",
    "%load_ext autoreload\n",
    "%autoreload 2"
   ]
  },
  {
   "cell_type": "code",
   "execution_count": null,
   "metadata": {},
   "outputs": [],
   "source": [
    "def load_metrics(path, name):\n",
    "    return torch.load(f\"{path}/{name}_metrics.pt\")"
   ]
  },
  {
   "cell_type": "code",
   "execution_count": null,
   "metadata": {},
   "outputs": [],
   "source": [
    "#PATH = f\"results/{model_name}/{metadata.dataset}\"\n",
    "ARTICLE_PATH = \"/Users/garethdavies/Development/workspaces/garethmd.github.io/articles/figures\""
   ]
  },
  {
   "cell_type": "code",
   "execution_count": null,
   "metadata": {},
   "outputs": [],
   "source": [
    "def create_scenarios(df_orig: pd.DataFrame, metadata: nnts.data.Metadata, covariates: int):\n",
    "    ''' create scenarios for a dataset with a given number of covariates'''\n",
    "    scenario_list: List[nnts.experiments.CovariateScenario] = []\n",
    "    # Models for full forecast horizon with covariates\n",
    "    scenario_list.append(\n",
    "        nnts.experiments.CovariateScenario(metadata.prediction_length, 0, covariates=0),\n",
    "    )\n",
    "    for error in covs.errors[metadata.dataset]:\n",
    "        scenario_list.append(\n",
    "            nnts.experiments.CovariateScenario(\n",
    "                metadata.prediction_length, error, covariates=covariates\n",
    "            )\n",
    "        )\n",
    "\n",
    "    scenario_list = covs.prepare_scenarios(df_orig, scenario_list)\n",
    "    selected_scenarios = [scenario_list[i] for i in [0, 1, 3, 8]]\n",
    "    return selected_scenarios"
   ]
  },
  {
   "cell_type": "code",
   "execution_count": null,
   "metadata": {},
   "outputs": [],
   "source": [
    "# plot model vs model comparison of smape as a function forecast horizon by PCC with covariates fixed\n",
    "# 5.1.2 Comparing PCC over longer forecast horizons\n",
    "for dataset_name in [\"hospital\", \"tourism\", \"traffic\", \"electricity\"]:\n",
    "    df_orig, metadata = nnts.data.load(dataset_name)\n",
    "    for covariates in [1, 2, 3]:\n",
    "        for model_name in [\"base-lstm\", \"seg-lstm\"]:\n",
    "            selected_scenarios = create_scenarios(df_orig, metadata, covariates)\n",
    "            nnts.experiments.plotting.plot_forecast_horizon_trajectories(\n",
    "                selected_scenarios,\n",
    "                metadata.dataset,\n",
    "                covariates,\n",
    "                [model_name],\n",
    "                loader_fn=load_metrics,\n",
    "                path = ARTICLE_PATH\n",
    "            )"
   ]
  },
  {
   "cell_type": "code",
   "execution_count": null,
   "metadata": {},
   "outputs": [],
   "source": [
    "# 5.1.3 Comparing base-lstm and seg-lstm performance\n",
    "for dataset_name in [\"hospital\", \"tourism\", \"traffic\", \"electricity\"]:\n",
    "    df_orig, metadata = nnts.data.load(dataset_name)\n",
    "    for covariates in [1, 2, 3]:\n",
    "        selected_scenarios = create_scenarios(df_orig, metadata, covariates)\n",
    "        nnts.experiments.plotting.plot_forecast_horizon_trajectories(\n",
    "            selected_scenarios,\n",
    "            metadata.dataset,\n",
    "            covariates,\n",
    "            [\"base-lstm\", \"seg-lstm\"],\n",
    "            loader_fn=load_metrics,\n",
    "            path=ARTICLE_PATH,\n",
    "        )"
   ]
  },
  {
   "cell_type": "code",
   "execution_count": null,
   "metadata": {},
   "outputs": [],
   "source": [
    "# 5.1.4 Comparing covariates across Forecast Horizon trajectories\n",
    "# plot model vs model comparison of smape as a function forecast horizon by covariates with PCC fixed\n",
    "for dataset_name in [\"hospital\", \"tourism\", \"traffic\", \"electricity\"]:\n",
    "    df_orig, metadata = nnts.data.load(dataset_name)\n",
    "    scenario_list: List[nnts.experiments.CovariateScenario] = []\n",
    "    covariate_list = [0, 1, 2, 3]\n",
    "    for covariates in covariate_list:\n",
    "        scenario_list.append(\n",
    "            nnts.experiments.CovariateScenario( \n",
    "                metadata.prediction_length, covs.errors[metadata.dataset][0], covariates=covariates\n",
    "            )\n",
    "        )\n",
    "    scenario_list.append(\n",
    "        nnts.experiments.CovariateScenario(\n",
    "            metadata.prediction_length, 0, covariates=3, skip=1\n",
    "        ),\n",
    "    )\n",
    "    scenario_list = covs.prepare_scenarios(df_orig, scenario_list)\n",
    "    nnts.experiments.plotting.plot_forecast_horizon_trajectories(\n",
    "        scenario_list, metadata.dataset, covariate_list, [\"base-lstm\", \"seg-lstm\"], loader_fn=load_metrics, path=ARTICLE_PATH\n",
    "    )"
   ]
  },
  {
   "cell_type": "code",
   "execution_count": null,
   "metadata": {},
   "outputs": [],
   "source": [
    "dataset_list = [\"hospital\", \"tourism\", \"traffic\", \"electricity\"]\n",
    "\n",
    "for model_name in [\"base-lstm\", \"seg-lstm\"]:\n",
    "    for scenario_covariate in [1,2,3]:\n",
    "        fig = covs.plot_pcc_charts(\n",
    "            model_name, scenario_covariate, dataset_list, path=ARTICLE_PATH\n",
    "        )"
   ]
  },
  {
   "cell_type": "code",
   "execution_count": null,
   "metadata": {},
   "outputs": [],
   "source": [
    "# Generate data for analysis - required once only after model training\n",
    "for dataset in [\"hospital\", \"tourism\", \"traffic\", \"electricity\"]:\n",
    "    model_name = \"base-lstm\"\n",
    "    df_orig, metadata = nnts.data.load(dataset)\n",
    "\n",
    "    if model_name == \"seg-lstm\":\n",
    "        metadata.context_length = (\n",
    "            metadata.prediction_length * 8 + 1\n",
    "            if metadata.dataset == \"traffic\"\n",
    "            else metadata.prediction_length * 3 + 1\n",
    "        )\n",
    "        metadata.seasonality = 8 if metadata.dataset == \"traffic\" else metadata.seasonality\n",
    "    params = nnts.models.Hyperparams()\n",
    "\n",
    "    scenario_list: List[nnts.experiments.CovariateScenario] = []\n",
    "    # Add the baseline scenarios\n",
    "    scenario_list.append(\n",
    "        nnts.experiments.CovariateScenario(\n",
    "            metadata.prediction_length, error=0.0, covariates=0\n",
    "        )\n",
    "    )\n",
    "    # Models for full forecast horizon with covariates\n",
    "    for covariates in [1, 2, 3]:\n",
    "        for error in covs.errors[metadata.dataset]:\n",
    "            scenario_list.append(\n",
    "                nnts.experiments.CovariateScenario(\n",
    "                    metadata.prediction_length, error, covariates=covariates\n",
    "                )\n",
    "            )\n",
    "    scenario_list.append(\n",
    "        nnts.experiments.CovariateScenario(\n",
    "            metadata.prediction_length, 0, covariates=3, skip=1\n",
    "        )\n",
    "    )\n",
    "    metric_generator.generate(scenario_list, df_orig, metadata, params, model_name, f\"results/{model_name}/{metadata.dataset}\")"
   ]
  },
  {
   "cell_type": "code",
   "execution_count": null,
   "metadata": {},
   "outputs": [],
   "source": [
    "run_times = []\n",
    "for model_name in [\"base-lstm\", \"seg-lstm\"]:\n",
    "    for dataset in [\"hospital\", \"tourism\", \"traffic\", \"electricity\"]:\n",
    "        csv_aggregator = covs.CSVFileAggregator(f\"results/{model_name}/{dataset}\", \"results\")\n",
    "        results = csv_aggregator()\n",
    "        df_orig, metadata = nnts.data.load(dataset)\n",
    "        run_times.append((model_name, dataset, results[\"run_time\"].sum()))\n",
    "\n",
    "run_times_df = pd.DataFrame(run_times, columns=[\"model\", \"dataset\", \"run_time\"])\n",
    "run_times_df = run_times_df.pivot(index=\"dataset\", columns=\"model\", values=\"run_time\")"
   ]
  },
  {
   "cell_type": "code",
   "execution_count": null,
   "metadata": {},
   "outputs": [],
   "source": [
    "dataset = \"electricity\"\n",
    "model_name = \"base-lstm\"\n",
    "csv_aggregator = covs.CSVFileAggregator(f'results/{model_name}/{dataset}', \"results\")\n",
    "results = csv_aggregator()\n",
    "df_orig, metadata = nnts.data.load(dataset)"
   ]
  },
  {
   "cell_type": "code",
   "execution_count": null,
   "metadata": {},
   "outputs": [],
   "source": [
    "results.loc[\n",
    "    (results[\"covariates\"] == 0)\n",
    "    & (results[\"prediction_length\"] == metadata.prediction_length),\n",
    "    [\"smape\", \"mae\", \"rmse\"],\n",
    "].agg([\"mean\", \"std\"])"
   ]
  },
  {
   "cell_type": "code",
   "execution_count": null,
   "metadata": {},
   "outputs": [],
   "source": [
    "cols = [\"dataset\", \"error\", \"pearson\", \"covariates\", \"prediction_length\", \"rmse\"]\n",
    "results.loc[\n",
    "    (results[\"covariates\"] > 0)\n",
    "    & (results[\"error\"].isin([0.000000, 0.17142857142857143, 0.6]))\n",
    "    & (results[\"skip\"] == 0),\n",
    "    cols,\n",
    "].sort_values(by=[\"covariates\", \"error\"]).pivot_table(\n",
    "    index=[\"dataset\", \"covariates\"], columns=[\"pearson\"], values=\"rmse\"\n",
    ")"
   ]
  },
  {
   "cell_type": "code",
   "execution_count": null,
   "metadata": {},
   "outputs": [],
   "source": [
    "sorted(results['error'].unique().tolist())"
   ]
  },
  {
   "cell_type": "code",
   "execution_count": null,
   "metadata": {},
   "outputs": [],
   "source": [
    "df_list = covs.add_y_hat(df, y_hat, scenario.prediction_length)\n",
    "sample_preds = covs.plot(df_list, scenario.prediction_length)"
   ]
  },
  {
   "cell_type": "code",
   "execution_count": null,
   "metadata": {},
   "outputs": [],
   "source": [
    "(\n",
    "    0.12695613503456116\n",
    "    + 0.12665991485118866\n",
    "    + 0.12529781460762024\n",
    "    + 0.12532585859298706\n",
    "    + 0.12746426463127136\n",
    ") / 5"
   ]
  },
  {
   "cell_type": "code",
   "execution_count": null,
   "metadata": {},
   "outputs": [],
   "source": []
  }
 ],
 "metadata": {
  "kernelspec": {
   "display_name": "venv",
   "language": "python",
   "name": "python3"
  },
  "language_info": {
   "codemirror_mode": {
    "name": "ipython",
    "version": 3
   },
   "file_extension": ".py",
   "mimetype": "text/x-python",
   "name": "python",
   "nbconvert_exporter": "python",
   "pygments_lexer": "ipython3",
   "version": "3.11.8"
  }
 },
 "nbformat": 4,
 "nbformat_minor": 2
}
