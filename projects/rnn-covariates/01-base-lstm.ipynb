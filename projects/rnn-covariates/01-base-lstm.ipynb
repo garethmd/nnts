{
    "cells": [
        {
            "cell_type": "code",
            "execution_count": null,
            "metadata": {},
            "outputs": [],
            "source": [
                "from typing import List\n",
                "import seaborn as sns\n",
                "import os\n",
                "\n",
                "import nnts\n",
                "import nnts.data\n",
                "from nnts import utils\n",
                "import nnts.torch.preprocessing as preprocessing\n",
                "import trainers\n",
                "import nnts.torch.models\n",
                "import nnts.metrics\n",
                "import nnts.torch.datasets\n",
                "import nnts.loggers\n",
                "import nnts.datasets\n",
                "import nnts.trainers\n",
                "import nnts.torch.utils\n",
                "import covs \n",
                "import torch.nn.functional as F\n",
                "import torch.optim\n",
                "sns.set()"
            ]
        },
        {
            "cell_type": "code",
            "execution_count": null,
            "metadata": {},
            "outputs": [],
            "source": [
                "model_name = \"base-lstm\"\n",
                "dataset_name = \"hospital\"\n",
                "results_path = \"nb-results\"\n",
                "\n",
                "df_orig, metadata = nnts.datasets.load_dataset(dataset_name)\n",
                "PATH = os.path.join(results_path, model_name, metadata.dataset)\n",
                "utils.makedirs_if_not_exists(PATH)\n",
                "params = utils.Hyperparams(optimizer=torch.optim.AdamW, loss_fn=F.smooth_l1_loss)"
            ]
        },
        {
            "cell_type": "code",
            "execution_count": null,
            "metadata": {},
            "outputs": [],
            "source": [
                "scenario_list: List[covs.CovariateScenario] = []\n",
                "\n",
                "# Add the baseline scenarios\n",
                "for seed in [42, 43, 44, 45, 46]:\n",
                "    scenario_list.append(\n",
                "        covs.CovariateScenario(metadata.prediction_length, error=0.0, covariates=0, seed=seed)\n",
                "    )\n",
                "## Models for full forecast horizon with covariates\n",
                "for covariates in [1, 2, 3]:\n",
                "    for error in covs.errors[metadata.dataset]:\n",
                "        scenario_list.append( \n",
                "            covs.CovariateScenario(\n",
                "                metadata.prediction_length, error, covariates=covariates\n",
                "            )\n",
                "        )\n",
                "\n",
                "scenario_list.append( \n",
                "    covs.CovariateScenario(\n",
                "        metadata.prediction_length, 0, covariates=3, skip=1\n",
                "    )\n",
                ")"
            ]
        },
        {
            "cell_type": "code",
            "execution_count": null,
            "metadata": {},
            "outputs": [],
            "source": [
                "for scenario in scenario_list[:1]:\n",
                "    nnts.torch.utils.seed_everything(scenario.seed)\n",
                "    df, scenario = covs.prepare(df_orig.copy(), scenario)\n",
                "    trn_dl, val_dl, test_dl = nnts.torch.utils.create_dataloaders(\n",
                "        df,\n",
                "        nnts.datasets.split_test_val_train_last_horizon,\n",
                "        metadata.context_length,\n",
                "        metadata.prediction_length,\n",
                "        Dataset=nnts.torch.datasets.TimeseriesDataset,\n",
                "        dataset_options={\n",
                "            \"context_length\": metadata.context_length,\n",
                "            \"prediction_length\": metadata.prediction_length,\n",
                "            \"conts\": scenario.conts,\n",
                "        },\n",
                "        batch_size=params.batch_size,\n",
                "    )\n",
                "\n",
                "    net = nnts.torch.models.BaseLSTM(\n",
                "        nnts.torch.models.LinearModel,\n",
                "        params,\n",
                "        preprocessing.masked_mean_abs_scaling,\n",
                "        scenario.covariates + 1,\n",
                "    )\n",
                "    logger = nnts.loggers.LocalFileRun(\n",
                "        project=f\"{model_name}-{metadata.dataset}\",\n",
                "        name=scenario.name,\n",
                "        config={\n",
                "            **params.__dict__,\n",
                "            **metadata.__dict__,\n",
                "            **scenario.__dict__,\n",
                "        },\n",
                "        path=PATH\n",
                "    )\n",
                "    trner = trainers.ValidationTorchEpochTrainer(\n",
                "        nnts.trainers.TrainerState(),\n",
                "        net,\n",
                "        params,\n",
                "        metadata,\n",
                "        os.path.join(PATH, f\"{scenario.name}.pt\"),\n",
                "        loss_fn=F.smooth_l1_loss,\n",
                "    )\n",
                "    logger.configure(trner.events)\n",
                "    evaluator = trner.train(trn_dl, val_dl)\n",
                "    handle = net.decoder.register_forward_hook(logger.log_activations)\n",
                "    y_hat, y = evaluator.evaluate(\n",
                "        test_dl, scenario.prediction_length, metadata.context_length, hooks=handle\n",
                "    )\n",
                "    handle.remove()\n",
                "    test_metrics = nnts.metrics.calc_metrics(\n",
                "        y, y_hat, nnts.metrics.calculate_seasonal_error(trn_dl, metadata.seasonality)\n",
                "    )\n",
                "    logger.log(test_metrics)\n",
                "    logger.finish()"
            ]
        },
        {
            "cell_type": "code",
            "execution_count": null,
            "metadata": {},
            "outputs": [],
            "source": [
                "scenario = scenario_list[0]\n",
                "import torch\n",
                "import nnts.torch.trainers\n",
                "import nnets.torch.utils"
            ]
        },
        {
            "cell_type": "code",
            "execution_count": null,
            "metadata": {},
            "outputs": [],
            "source": [
                "nnts.torch.utils.seed_everything(scenario.seed)\n",
                "df, scenario = covs.prepare(df_orig.copy(), scenario)\n",
                "trn_dl, val_dl, test_dl = nnts.torch.utils.create_dataloaders(\n",
                "    df,\n",
                "    nnts.datasets.split_test_val_train_last_horizon,\n",
                "    metadata.context_length,\n",
                "    metadata.prediction_length,\n",
                "    Dataset=nnts.torch.datasets.TimeseriesDataset,\n",
                "    dataset_options={\n",
                "        \"context_length\": metadata.context_length,\n",
                "        \"prediction_length\": metadata.prediction_length,\n",
                "        \"conts\": scenario.conts,\n",
                "    },\n",
                "    batch_size=params.batch_size,\n",
                ")\n",
                "net = covs.model_factory(model_name, params, scenario, metadata)\n",
                "best_state_dict = torch.load(f\"{PATH}/{scenario.name}.pt\")\n",
                "net.load_state_dict(best_state_dict)\n",
                "\n",
                "class ActivationVisualizer:\n",
                "    def __init__(self):\n",
                "        self.activations = []\n",
                "\n",
                "    def hook_handler(self, module, input, output):\n",
                "        input_0 = output[0][0]\n",
                "        self.activations.append(input_0[:, -1].detach().cpu().numpy())\n",
                "\n",
                "visualiser = ActivationVisualizer()\n",
                "handle = net.decoder.register_forward_hook(visualiser.hook_handler)\n",
                "net.eval()"
            ]
        },
        {
            "cell_type": "code",
            "execution_count": null,
            "metadata": {},
            "outputs": [],
            "source": [
                "batch = next(iter(test_dl))"
            ]
        },
        {
            "cell_type": "code",
            "execution_count": null,
            "metadata": {},
            "outputs": [],
            "source": [
                "with torch.no_grad():\n",
                "    output = nnts.torch.trainers.validate(net, batch, scenario.prediction_length, metadata.context_length)"
            ]
        },
        {
            "cell_type": "code",
            "execution_count": null,
            "metadata": {},
            "outputs": [],
            "source": [
                "handle.remove()"
            ]
        },
        {
            "cell_type": "code",
            "execution_count": null,
            "metadata": {},
            "outputs": [],
            "source": [
                "import matplotlib.pyplot as plt\n",
                "import seaborn as sns"
            ]
        },
        {
            "cell_type": "code",
            "execution_count": null,
            "metadata": {},
            "outputs": [],
            "source": [
                "plt.figure(figsize=(10, 6))\n",
                "sns.heatmap(visualiser.activations, cmap=\"coolwarm\", linewidths=0.5)\n",
                "plt.show()"
            ]
        },
        {
            "cell_type": "code",
            "execution_count": null,
            "metadata": {},
            "outputs": [],
            "source": [
                "batch[\"X\"][0, : metadata.context_length, ...].cpu().numpy(), batch[\"X\"][\n",
                "    0, - scenario.prediction_length:, ...\n",
                "].cpu().numpy()"
            ]
        },
        {
            "cell_type": "code",
            "execution_count": null,
            "metadata": {},
            "outputs": [],
            "source": [
                "output[0][0]"
            ]
        },
        {
            "cell_type": "code",
            "execution_count": null,
            "metadata": {},
            "outputs": [],
            "source": [
                "plt.figure(figsize=(10, 6))\n",
                "sns.heatmap(output[0][0], cmap=\"coolwarm\", linewidths=0.5)\n",
                "plt.show()"
            ]
        },
        {
            "cell_type": "code",
            "execution_count": null,
            "metadata": {},
            "outputs": [],
            "source": [
                "plt.figure(figsize=(10, 6))\n",
                "sns.heatmap([ v[-1:] for v in visualiser.activations], cmap=\"coolwarm\", linewidths=0.5)\n",
                "plt.show()"
            ]
        },
        {
            "cell_type": "code",
            "execution_count": null,
            "metadata": {},
            "outputs": [],
            "source": [
                "plt.figure(figsize=(10, 6))\n",
                "sns.heatmap([v[-2:] for v in visualiser.activations], cmap=\"coolwarm\", linewidths=0.5)\n",
                "plt.show()"
            ]
        },
        {
            "cell_type": "code",
            "execution_count": null,
            "metadata": {},
            "outputs": [],
            "source": [
                "import nnts.datasets\n",
                "\n",
                "\n",
                "csv_aggregator = nnts.utils.CSVFileAggregator(PATH, \"results\")\n",
                "results = csv_aggregator()"
            ]
        },
        {
            "cell_type": "code",
            "execution_count": null,
            "metadata": {},
            "outputs": [],
            "source": [
                "import nnts.experiments.plotting\n",
                "\n",
                "\n",
                "df_list = covs.add_y_hat(df, y_hat, scenario.prediction_length)\n",
                "sample_preds = nnts.experiments.plotting.plot(df_list, scenario.prediction_length)"
            ]
        },
        {
            "cell_type": "code",
            "execution_count": null,
            "metadata": {},
            "outputs": [],
            "source": [
                "univariate_results = results.loc[\n",
                "    (results[\"covariates\"] == 0)\n",
                "    & (results[\"prediction_length\"] == metadata.prediction_length),\n",
                "    [\"smape\", \"mape\", \"rmse\", \"mae\"],\n",
                "]\n",
                "\n",
                "univariate_results.mean(), univariate_results.std(), univariate_results.count()"
            ]
        },
        {
            "cell_type": "code",
            "execution_count": null,
            "metadata": {},
            "outputs": [],
            "source": [
                "cols = [\"dataset\", \"error\", \"pearson\", \"covariates\", \"prediction_length\", \"smape\"]"
            ]
        },
        {
            "cell_type": "code",
            "execution_count": null,
            "metadata": {},
            "outputs": [],
            "source": [
                "results.loc[\n",
                "    (results[\"covariates\"] > 0)\n",
                "    & (results[\"error\"].isin([0.000000, 0.4714285714285714, 1.65])),\n",
                "    cols,\n",
                "].sort_values(by=[\"covariates\", \"error\"])"
            ]
        },
        {
            "cell_type": "code",
            "execution_count": null,
            "metadata": {},
            "outputs": [],
            "source": [
                "sorted(results[\"error\"].unique().tolist())"
            ]
        },
        {
            "cell_type": "code",
            "execution_count": null,
            "metadata": {},
            "outputs": [],
            "source": []
        }
    ],
    "metadata": {
        "kernelspec": {
            "display_name": "venv",
            "language": "python",
            "name": "python3"
        },
        "language_info": {
            "codemirror_mode": {
                "name": "ipython",
                "version": 3
            },
            "file_extension": ".py",
            "mimetype": "text/x-python",
            "name": "python",
            "nbconvert_exporter": "python",
            "pygments_lexer": "ipython3",
            "version": "3.11.8"
        }
    },
    "nbformat": 4,
    "nbformat_minor": 2
}
