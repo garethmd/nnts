{
    "cells": [
        {
            "cell_type": "code",
            "execution_count": 3,
            "metadata": {},
            "outputs": [
                {
                    "name": "stdout",
                    "output_type": "stream",
                    "text": [
                        "The autoreload extension is already loaded. To reload it, use:\n",
                        "  %reload_ext autoreload\n"
                    ]
                }
            ],
            "source": [
                "import torch\n",
                "from typing import List\n",
                "import pandas as pd\n",
                "import seaborn as sns\n",
                "from functools import partial\n",
                "import os\n",
                "\n",
                "import nnts\n",
                "import nnts.data\n",
                "import nnts.experiments\n",
                "from nnts import utils, datasets\n",
                "import nnts.torch.models\n",
                "import nnts.metrics\n",
                "import nnts.torch.datasets\n",
                "import nnts.loggers\n",
                "import nnts.torch.trainers\n",
                "import nnts.datasets\n",
                "import covs \n",
                "import nnts.experiments.plotting\n",
                "import metric_generator\n",
                "import torch.optim\n",
                "import torch.nn.functional as F\n",
                "\n",
                "sns.set()\n",
                "\n",
                "%load_ext autoreload\n",
                "%autoreload 2"
            ]
        },
        {
            "cell_type": "code",
            "execution_count": 4,
            "metadata": {},
            "outputs": [],
            "source": [
                "ARTICLE_PATH = \"nb-results/figures\"\n",
                "results_path = \"results\"\n",
                "data_path = \"data\"\n",
                "utils.makedirs_if_not_exists(ARTICLE_PATH)\n",
                "def load_metrics_from_path(path, name):\n",
                "    return torch.load(os.path.join(path, f\"{name}_metrics.pt\"))\n",
                "load_metrics = partial(load_metrics_from_path, results_path)"
            ]
        },
        {
            "cell_type": "code",
            "execution_count": 4,
            "metadata": {},
            "outputs": [],
            "source": [
                "def create_scenarios(\n",
                "    df_orig: pd.DataFrame, metadata: datasets.Metadata, covariates: int\n",
                "):\n",
                "    ''' create scenarios for a dataset with a given number of covariates'''\n",
                "    scenario_list: List[nnts.experiments.CovariateScenario] = []\n",
                "    # Models for full forecast horizon with covariates\n",
                "    scenario_list.append(\n",
                "        nnts.experiments.CovariateScenario(metadata.prediction_length, 0, covariates=0),\n",
                "    )\n",
                "    for error in covs.errors[metadata.dataset]:\n",
                "        scenario_list.append(\n",
                "            nnts.experiments.CovariateScenario(\n",
                "                metadata.prediction_length, error, covariates=covariates\n",
                "            )\n",
                "        )\n",
                "\n",
                "    scenario_list = covs.prepare_scenarios(df_orig, scenario_list)\n",
                "    selected_scenarios = [scenario_list[i] for i in [0, 1, 3, 8]]\n",
                "    return selected_scenarios"
            ]
        },
        {
            "cell_type": "code",
            "execution_count": 5,
            "metadata": {},
            "outputs": [
                {
                    "ename": "AttributeError",
                    "evalue": "module 'nnts.datasets' has no attribute 'LastHorizonSplitter'",
                    "output_type": "error",
                    "traceback": [
                        "\u001b[0;31m---------------------------------------------------------------------------\u001b[0m",
                        "\u001b[0;31mAttributeError\u001b[0m                            Traceback (most recent call last)",
                        "Cell \u001b[0;32mIn[5], line 29\u001b[0m\n\u001b[1;32m     19\u001b[0m         scenario_list\u001b[38;5;241m.\u001b[39mappend(\n\u001b[1;32m     20\u001b[0m             nnts\u001b[38;5;241m.\u001b[39mexperiments\u001b[38;5;241m.\u001b[39mCovariateScenario(\n\u001b[1;32m     21\u001b[0m                 metadata\u001b[38;5;241m.\u001b[39mprediction_length, error, covariates\u001b[38;5;241m=\u001b[39mcovariates\n\u001b[1;32m     22\u001b[0m             )\n\u001b[1;32m     23\u001b[0m         )\n\u001b[1;32m     24\u001b[0m scenario_list\u001b[38;5;241m.\u001b[39mappend(\n\u001b[1;32m     25\u001b[0m     nnts\u001b[38;5;241m.\u001b[39mexperiments\u001b[38;5;241m.\u001b[39mCovariateScenario(\n\u001b[1;32m     26\u001b[0m         metadata\u001b[38;5;241m.\u001b[39mprediction_length, \u001b[38;5;241m0\u001b[39m, covariates\u001b[38;5;241m=\u001b[39m\u001b[38;5;241m3\u001b[39m, skip\u001b[38;5;241m=\u001b[39m\u001b[38;5;241m1\u001b[39m\n\u001b[1;32m     27\u001b[0m     )\n\u001b[1;32m     28\u001b[0m )\n\u001b[0;32m---> 29\u001b[0m \u001b[43mmetric_generator\u001b[49m\u001b[38;5;241;43m.\u001b[39;49m\u001b[43mgenerate\u001b[49m\u001b[43m(\u001b[49m\u001b[43mscenario_list\u001b[49m\u001b[43m,\u001b[49m\u001b[43m \u001b[49m\u001b[43mdf_orig\u001b[49m\u001b[43m,\u001b[49m\u001b[43m \u001b[49m\u001b[43mmetadata\u001b[49m\u001b[43m,\u001b[49m\u001b[43m \u001b[49m\u001b[43mparams\u001b[49m\u001b[43m,\u001b[49m\u001b[43m \u001b[49m\u001b[43mmodel_name\u001b[49m\u001b[43m,\u001b[49m\u001b[43m \u001b[49m\u001b[43mos\u001b[49m\u001b[38;5;241;43m.\u001b[39;49m\u001b[43mpath\u001b[49m\u001b[38;5;241;43m.\u001b[39;49m\u001b[43mjoin\u001b[49m\u001b[43m(\u001b[49m\u001b[43mresults_path\u001b[49m\u001b[43m,\u001b[49m\u001b[43m \u001b[49m\u001b[43mmodel_name\u001b[49m\u001b[43m,\u001b[49m\u001b[43m \u001b[49m\u001b[43mdataset\u001b[49m\u001b[43m)\u001b[49m\u001b[43m)\u001b[49m\n",
                        "File \u001b[0;32m~/Development/workspaces/nnts/projects/rnn-covariates/metric_generator.py:46\u001b[0m, in \u001b[0;36mgenerate\u001b[0;34m(scenario_list, df_orig, metadata, params, model_name, path)\u001b[0m\n\u001b[1;32m     44\u001b[0m nnts\u001b[38;5;241m.\u001b[39mtorch\u001b[38;5;241m.\u001b[39mdatasets\u001b[38;5;241m.\u001b[39mseed_everything(scenario\u001b[38;5;241m.\u001b[39mseed)\n\u001b[1;32m     45\u001b[0m df, scenario \u001b[38;5;241m=\u001b[39m covs\u001b[38;5;241m.\u001b[39mprepare(df_orig\u001b[38;5;241m.\u001b[39mcopy(), scenario\u001b[38;5;241m.\u001b[39mcopy())\n\u001b[0;32m---> 46\u001b[0m splitter \u001b[38;5;241m=\u001b[39m \u001b[43mnnts\u001b[49m\u001b[38;5;241;43m.\u001b[39;49m\u001b[43mdatasets\u001b[49m\u001b[38;5;241;43m.\u001b[39;49m\u001b[43mLastHorizonSplitter\u001b[49m()\n\u001b[1;32m     47\u001b[0m split_data \u001b[38;5;241m=\u001b[39m splitter(df, metadata\u001b[38;5;241m.\u001b[39mcontext_length, metadata\u001b[38;5;241m.\u001b[39mprediction_length)\n\u001b[1;32m     48\u001b[0m _, _, test_dl \u001b[38;5;241m=\u001b[39m nnts\u001b[38;5;241m.\u001b[39mdata\u001b[38;5;241m.\u001b[39mcreate_trn_val_test_dataloaders(\n\u001b[1;32m     49\u001b[0m     split_data,\n\u001b[1;32m     50\u001b[0m     metadata,\n\u001b[0;32m   (...)\u001b[0m\n\u001b[1;32m     53\u001b[0m     nnts\u001b[38;5;241m.\u001b[39mtorch\u001b[38;5;241m.\u001b[39mdata\u001b[38;5;241m.\u001b[39mTorchTimeseriesDataLoaderFactory(),\n\u001b[1;32m     54\u001b[0m )\n",
                        "\u001b[0;31mAttributeError\u001b[0m: module 'nnts.datasets' has no attribute 'LastHorizonSplitter'"
                    ]
                }
            ],
            "source": [
                "# Generate data for analysis - required once only after model training\n",
                "for model_name in ['base-lstm', 'seg-lstm']:\n",
                "    for dataset in [\"hospital\", \"tourism\", \"traffic\", \"electricity\"]:        \n",
                "        df_orig, metadata = nnts.datasets.load(\n",
                "            dataset, data_path, f\"{model_name}-monash.json\"\n",
                "        )\n",
                "        params = utils.Hyperparams(optimizer=torch.optim.AdamW, loss_fn=F.smooth_l1_loss)\n",
                "\n",
                "        scenario_list: List[nnts.experiments.CovariateScenario] = []\n",
                "        # Add the baseline scenarios\n",
                "        scenario_list.append(\n",
                "            nnts.experiments.CovariateScenario(\n",
                "                metadata.prediction_length, error=0.0, covariates=0\n",
                "            )\n",
                "        )\n",
                "        # Models for full forecast horizon with covariates\n",
                "        for covariates in [1, 2, 3]:\n",
                "            for error in covs.errors[metadata.dataset]:\n",
                "                scenario_list.append(\n",
                "                    nnts.experiments.CovariateScenario(\n",
                "                        metadata.prediction_length, error, covariates=covariates\n",
                "                    )\n",
                "                )\n",
                "        scenario_list.append(\n",
                "            nnts.experiments.CovariateScenario(\n",
                "                metadata.prediction_length, 0, covariates=3, skip=1\n",
                "            )\n",
                "        )\n",
                "        metric_generator.generate(scenario_list, df_orig, metadata, params, model_name, os.path.join(results_path, model_name, dataset))"
            ]
        },
        {
            "cell_type": "code",
            "execution_count": null,
            "metadata": {},
            "outputs": [],
            "source": [
                "# plot model vs model comparison of smape as a function forecast horizon by PCC with covariates fixed\n",
                "# 5.1.2 Comparing PCC over longer forecast horizons\n",
                "for dataset_name in [\"hospital\", \"tourism\", \"traffic\", \"electricity\"]:\n",
                "    df_orig, *_ = nnts.datasets.read_tsf(os.path.join(data_path, covs.file_map[dataset_name]))\n",
                "    for covariates in [1, 2, 3]:\n",
                "        for model_name in [\"base-lstm\", \"seg-lstm\"]:\n",
                "            metadata = datasets.load_metadata(dataset_name, path=os.path.join(data_path, f'{model_name}-monash.json'))\n",
                "            selected_scenarios = create_scenarios(df_orig, metadata, covariates)\n",
                "            nnts.experiments.plotting.plot_forecast_horizon_trajectories(\n",
                "                selected_scenarios,\n",
                "                metadata.dataset,\n",
                "                covariates,\n",
                "                [model_name],\n",
                "                loader_fn=load_metrics,\n",
                "                path = ARTICLE_PATH\n",
                "            )"
            ]
        },
        {
            "cell_type": "code",
            "execution_count": null,
            "metadata": {},
            "outputs": [],
            "source": [
                "# 5.1.3 Comparing base-lstm and seg-lstm performance\n",
                "for dataset_name in [\"hospital\", \"tourism\", \"traffic\", \"electricity\"]:\n",
                "    df_orig, metadata = nnts.datasets.load(\n",
                "        dataset_name, data_path, metadata_filename='base-lstm-monash.json'\n",
                "    )\n",
                "    for covariates in [1, 2, 3]:\n",
                "        selected_scenarios = create_scenarios(df_orig, metadata, covariates)\n",
                "        nnts.experiments.plotting.plot_forecast_horizon_trajectories(\n",
                "            selected_scenarios,\n",
                "            metadata.dataset,\n",
                "            covariates,\n",
                "            [\"base-lstm\", \"seg-lstm\"],\n",
                "            loader_fn=load_metrics,\n",
                "            path=ARTICLE_PATH,\n",
                "        )"
            ]
        },
        {
            "cell_type": "code",
            "execution_count": null,
            "metadata": {},
            "outputs": [],
            "source": [
                "# 5.1.4 Comparing covariates across Forecast Horizon trajectories\n",
                "# plot model vs model comparison of smape as a function forecast horizon by covariates with PCC fixed\n",
                "for dataset_name in [\"hospital\", \"tourism\", \"traffic\", \"electricity\"]:\n",
                "    df_orig, metadata = nnts.datasets.load(\n",
                "        dataset_name, data_path, \"base-lstm-monash.json\"\n",
                "    )\n",
                "    scenario_list: List[nnts.experiments.CovariateScenario] = []\n",
                "    covariate_list = [0, 1, 2, 3]\n",
                "    for covariates in covariate_list:\n",
                "        scenario_list.append(\n",
                "            nnts.experiments.CovariateScenario( \n",
                "                metadata.prediction_length, covs.errors[dataset_name][0], covariates=covariates\n",
                "            )\n",
                "        )\n",
                "    scenario_list.append(\n",
                "        nnts.experiments.CovariateScenario(\n",
                "            metadata.prediction_length, 0, covariates=3, skip=1\n",
                "        ),\n",
                "    )\n",
                "    scenario_list = covs.prepare_scenarios(df_orig, scenario_list)\n",
                "    nnts.experiments.plotting.plot_forecast_horizon_trajectories(\n",
                "        scenario_list, dataset_name, covariate_list, [\"base-lstm\", \"seg-lstm\"], loader_fn=load_metrics, path=ARTICLE_PATH\n",
                "    )"
            ]
        },
        {
            "cell_type": "code",
            "execution_count": null,
            "metadata": {},
            "outputs": [],
            "source": [
                "dataset_list = [\"hospital\", \"tourism\", \"traffic\", \"electricity\"]\n",
                "\n",
                "for model_name in [\"base-lstm\", \"seg-lstm\"]:\n",
                "    for scenario_covariate in [1,2,3]:\n",
                "        fig = covs.plot_pcc_charts(\n",
                "            model_name, scenario_covariate, dataset_list, path=ARTICLE_PATH, results_path=results_path, data_path=data_path\n",
                "        )"
            ]
        },
        {
            "cell_type": "code",
            "execution_count": null,
            "metadata": {},
            "outputs": [],
            "source": [
                "run_times = []\n",
                "for model_name in [\"base-lstm\", \"seg-lstm\"]:\n",
                "    for dataset in [\"hospital\", \"tourism\", \"traffic\", \"electricity\"]:\n",
                "        csv_aggregator = nnts.datasets.CSVFileAggregator(f\"{results_path}/{model_name}/{dataset}\", \"results\")\n",
                "        results = csv_aggregator()\n",
                "        df_orig, metadata = nnts.datasets.load(\n",
                "            dataset,\n",
                "            data_path,\n",
                "            metadata_filename=f\"{model_name}-monash.json\",\n",
                "        )\n",
                "        run_times.append((model_name, dataset, results[\"run_time\"].sum()))\n",
                "\n",
                "run_times_df = pd.DataFrame(run_times, columns=[\"model\", \"dataset\", \"run_time\"])\n",
                "run_times_df = run_times_df.pivot(index=\"dataset\", columns=\"model\", values=\"run_time\")"
            ]
        },
        {
            "cell_type": "code",
            "execution_count": null,
            "metadata": {},
            "outputs": [],
            "source": [
                "dataset = \"electricity\"\n",
                "model_name = \"seg-lstm\"\n",
                "csv_aggregator = nnts.datasets.CSVFileAggregator(f'{results_path}/{model_name}/{dataset}', \"results\")\n",
                "results = csv_aggregator()\n",
                "df_orig, metadata = nnts.datasets.load(\n",
                "    dataset, data_path, metadata_filename=f\"{model_name}-monash.json\"\n",
                ")"
            ]
        },
        {
            "cell_type": "code",
            "execution_count": null,
            "metadata": {},
            "outputs": [],
            "source": [
                "results.loc[\n",
                "    (results[\"covariates\"] == 0)\n",
                "    & (results[\"prediction_length\"] == metadata.prediction_length),\n",
                "    [\"smape\", \"mae\", \"rmse\"],\n",
                "].agg([\"mean\", \"std\"])"
            ]
        },
        {
            "cell_type": "code",
            "execution_count": null,
            "metadata": {},
            "outputs": [],
            "source": [
                "cols = [\"dataset\", \"error\", \"pearson\", \"covariates\", \"prediction_length\", \"rmse\"]\n",
                "results.loc[\n",
                "    (results[\"covariates\"] > 0)\n",
                "    & (results[\"error\"].isin([0.000000, 0.17142857142857143, 0.6]))\n",
                "    & (results[\"skip\"] == 0),\n",
                "    cols,\n",
                "].sort_values(by=[\"covariates\", \"error\"]).pivot_table(\n",
                "    index=[\"dataset\", \"covariates\"], columns=[\"pearson\"], values=\"rmse\"\n",
                ")"
            ]
        },
        {
            "cell_type": "code",
            "execution_count": null,
            "metadata": {},
            "outputs": [],
            "source": [
                "sorted(results['error'].unique().tolist())"
            ]
        },
        {
            "cell_type": "code",
            "execution_count": null,
            "metadata": {},
            "outputs": [],
            "source": []
        }
    ],
    "metadata": {
        "kernelspec": {
            "display_name": "venv",
            "language": "python",
            "name": "python3"
        },
        "language_info": {
            "codemirror_mode": {
                "name": "ipython",
                "version": 3
            },
            "file_extension": ".py",
            "mimetype": "text/x-python",
            "name": "python",
            "nbconvert_exporter": "python",
            "pygments_lexer": "ipython3",
            "version": "3.11.8"
        }
    },
    "nbformat": 4,
    "nbformat_minor": 2
}
