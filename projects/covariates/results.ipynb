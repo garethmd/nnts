{
 "cells": [
  {
   "cell_type": "code",
   "execution_count": 48,
   "metadata": {},
   "outputs": [
    {
     "name": "stdout",
     "output_type": "stream",
     "text": [
      "smape     0.180477\n",
      "mape      0.195354\n",
      "rmse     24.193123\n",
      "mae      19.954617\n",
      "dtype: float64\n"
     ]
    }
   ],
   "source": [
    "import pandas as pd\n",
    "import nnts\n",
    "import nnts.models\n",
    "import nnts.data\n",
    "\n",
    "dataset = \"hospital\"\n",
    "df_orig, metadata = nnts.data.load(dataset)\n",
    "model_name = \"seg-lstm\"\n",
    "PATH = f\"results/{model_name}/{metadata.dataset}\"\n",
    "\n",
    "results = pd.read_csv(f\"{PATH}/results.csv\")\n",
    "\n",
    "results_mean = results.loc[\n",
    "    (results[\"covariates\"] == 0)\n",
    "    & (results[\"prediction_length\"] == metadata.prediction_length),\n",
    "    [\"smape\", \"mape\", \"rmse\", \"mae\"],\n",
    "].mean()\n",
    "print(results_mean)"
   ]
  },
  {
   "cell_type": "code",
   "execution_count": 38,
   "metadata": {},
   "outputs": [],
   "source": [
    "results.to_csv(\n",
    "    f\"/Users/garethdavies/Development/workspaces/garethmd.github.io/articles/tables/{dataset}_{model_name}.csv\", index=False\n",
    ")"
   ]
  },
  {
   "cell_type": "code",
   "execution_count": 39,
   "metadata": {},
   "outputs": [],
   "source": [
    "import os, shutil"
   ]
  },
  {
   "cell_type": "code",
   "execution_count": 40,
   "metadata": {},
   "outputs": [],
   "source": [
    "for metric in [\"smape\", \"mape\", \"rmse\", \"mae\"]:\n",
    "    source_file = f\"{PATH}/{metric}.png\"\n",
    "    shutil.copy(\n",
    "        source_file,\n",
    "        f\"/Users/garethdavies/Development/workspaces/garethmd.github.io/articles/figures/{dataset}-{model_name}-{metric}.png\",\n",
    "    )"
   ]
  },
  {
   "cell_type": "code",
   "execution_count": null,
   "metadata": {},
   "outputs": [],
   "source": []
  }
 ],
 "metadata": {
  "kernelspec": {
   "display_name": "venv",
   "language": "python",
   "name": "python3"
  },
  "language_info": {
   "codemirror_mode": {
    "name": "ipython",
    "version": 3
   },
   "file_extension": ".py",
   "mimetype": "text/x-python",
   "name": "python",
   "nbconvert_exporter": "python",
   "pygments_lexer": "ipython3",
   "version": "3.11.8"
  }
 },
 "nbformat": 4,
 "nbformat_minor": 2
}
